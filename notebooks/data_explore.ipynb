{
 "cells": [
  {
   "cell_type": "markdown",
   "metadata": {},
   "source": [
    "## load data"
   ]
  },
  {
   "cell_type": "code",
   "execution_count": 1,
   "metadata": {},
   "outputs": [],
   "source": [
    "import os\n",
    "from ezc3d import c3d\n",
    "import pandas as pd\n",
    "from lisa.config import PILOT_DATA_DIR\n",
    "import numpy as np\n",
    "\n",
    "filename = 'Walk1_7ms 5decline02'\n",
    "file = os.path.join(PILOT_DATA_DIR, filename + '.c3d')"
   ]
  },
  {
   "cell_type": "code",
   "execution_count": 18,
   "metadata": {},
   "outputs": [],
   "source": [
    "c = c3d(file)\n",
    "points = c['data']['analogs']"
   ]
  },
  {
   "cell_type": "code",
   "execution_count": 19,
   "metadata": {},
   "outputs": [
    {
     "data": {
      "text/plain": [
       "(1, 122, 30000)"
      ]
     },
     "execution_count": 19,
     "metadata": {},
     "output_type": "execute_result"
    }
   ],
   "source": [
    "points.shape"
   ]
  },
  {
   "cell_type": "code",
   "execution_count": 22,
   "metadata": {},
   "outputs": [
    {
     "data": {
      "text/plain": [
       "200.0"
      ]
     },
     "execution_count": 22,
     "metadata": {},
     "output_type": "execute_result"
    }
   ],
   "source": [
    "c[\"header\"][\"points\"][\"frame_rate\"]"
   ]
  },
  {
   "cell_type": "code",
   "execution_count": 21,
   "metadata": {},
   "outputs": [
    {
     "data": {
      "text/plain": [
       "array([0.0000e+00, 1.0000e-03, 2.0000e-03, ..., 2.9997e+01, 2.9998e+01,\n",
       "       2.9999e+01])"
      ]
     },
     "execution_count": 21,
     "metadata": {},
     "output_type": "execute_result"
    }
   ],
   "source": [
    "frame_rate = c['parameters']['ANALOG']['RATE']['value'][0]\n",
    "\n",
    "num_frames = c['data']['analogs'].shape[2]\n",
    "\n",
    "time_data = np.arange(num_frames) / frame_rate\n",
    "\n",
    "time_data"
   ]
  },
  {
   "cell_type": "code",
   "execution_count": 25,
   "metadata": {},
   "outputs": [
    {
     "name": "stdout",
     "output_type": "stream",
     "text": [
      "Force.Fx1: 1\n",
      "Force.Fy1: 1\n",
      "Force.Fz1: 1\n",
      "Moment.Mx1: 1\n",
      "Moment.My1: 1\n",
      "Moment.Mz1: 1\n",
      "Force.Fx2: 1\n",
      "Force.Fy2: 1\n",
      "Force.Fz2: 1\n",
      "Moment.Mx2: 1\n",
      "Moment.My2: 1\n",
      "Moment.Mz2: 1\n",
      "Angle.Pitch: 1\n",
      "Length.Sway: 1\n",
      "Velocity.Left Belt Speed: 1\n",
      "Velocity.Right Belt Speed: 1\n",
      "Electric Potential.1: 1\n",
      "Global Angle.x: 7\n",
      "Global Angle.y: 7\n",
      "Global Angle.z: 7\n",
      "HighG.x: 7\n",
      "HighG.y: 7\n",
      "HighG.z: 7\n",
      "accel.x: 7\n",
      "accel.y: 7\n",
      "accel.z: 7\n",
      "gyro.x: 7\n",
      "gyro.y: 7\n",
      "gyro.z: 7\n",
      "mag.x: 7\n",
      "mag.y: 7\n",
      "mag.z: 7\n"
     ]
    }
   ],
   "source": [
    "from collections import Counter\n",
    "\n",
    "# Assuming c['parameters']['ANALOG']['LABELS']['value'] is a list\n",
    "labels_list = c['parameters']['ANALOG']['LABELS']['value']\n",
    "labels_count = Counter(labels_list)\n",
    "\n",
    "for label, count in labels_count.items():\n",
    "    print(f\"{label}: {count}\")"
   ]
  },
  {
   "cell_type": "code",
   "execution_count": 26,
   "metadata": {},
   "outputs": [],
   "source": [
    "# Dimensions of the points array\n",
    "# points.shape is (4, number_of_markers, number_of_frames)\n",
    "num_dimensions, num_markers, num_frames = points.shape\n",
    "\n",
    "# We are interested in the first three dimensions (X, Y, Z), so we ignore the residual\n",
    "points_xyz = points[:3, :, :]"
   ]
  },
  {
   "cell_type": "code",
   "execution_count": 27,
   "metadata": {},
   "outputs": [
    {
     "data": {
      "text/plain": [
       "3.8125"
      ]
     },
     "execution_count": 27,
     "metadata": {},
     "output_type": "execute_result"
    }
   ],
   "source": [
    "122/32"
   ]
  },
  {
   "cell_type": "code",
   "execution_count": 28,
   "metadata": {},
   "outputs": [
    {
     "ename": "ValueError",
     "evalue": "cannot reshape array of size 3660000 into shape (366,30000)",
     "output_type": "error",
     "traceback": [
      "\u001b[0;31m---------------------------------------------------------------------------\u001b[0m",
      "\u001b[0;31mValueError\u001b[0m                                Traceback (most recent call last)",
      "Cell \u001b[0;32mIn[28], line 2\u001b[0m\n\u001b[1;32m      1\u001b[0m \u001b[38;5;66;03m# Reshape the points array to a 2D array\u001b[39;00m\n\u001b[0;32m----> 2\u001b[0m reshaped_points \u001b[38;5;241m=\u001b[39m \u001b[43mpoints_xyz\u001b[49m\u001b[38;5;241;43m.\u001b[39;49m\u001b[43mreshape\u001b[49m\u001b[43m(\u001b[49m\u001b[38;5;241;43m3\u001b[39;49m\u001b[43m \u001b[49m\u001b[38;5;241;43m*\u001b[39;49m\u001b[43m \u001b[49m\u001b[43mnum_markers\u001b[49m\u001b[43m,\u001b[49m\u001b[43m \u001b[49m\u001b[43mnum_frames\u001b[49m\u001b[43m)\u001b[49m\u001b[38;5;241m.\u001b[39mT\n",
      "\u001b[0;31mValueError\u001b[0m: cannot reshape array of size 3660000 into shape (366,30000)"
     ]
    }
   ],
   "source": [
    "# Reshape the points array to a 2D array\n",
    "reshaped_points = points_xyz.reshape(3 * num_markers, num_frames).T"
   ]
  },
  {
   "cell_type": "code",
   "execution_count": null,
   "metadata": {},
   "outputs": [
    {
     "data": {
      "text/plain": [
       "(4000, 114)"
      ]
     },
     "execution_count": 10,
     "metadata": {},
     "output_type": "execute_result"
    }
   ],
   "source": [
    "reshaped_points.shape"
   ]
  },
  {
   "cell_type": "code",
   "execution_count": null,
   "metadata": {},
   "outputs": [],
   "source": [
    "# Create a MultiIndex for the DataFrame columns (marker, coordinate)\n",
    "markers = [f\"marker_{i+1}\" for i in range(num_markers)]\n",
    "coords = ['X', 'Y', 'Z']\n",
    "columns = pd.MultiIndex.from_product([markers, coords])"
   ]
  },
  {
   "cell_type": "code",
   "execution_count": null,
   "metadata": {},
   "outputs": [
    {
     "data": {
      "text/plain": [
       "(114,)"
      ]
     },
     "execution_count": 12,
     "metadata": {},
     "output_type": "execute_result"
    }
   ],
   "source": [
    "columns.shape"
   ]
  },
  {
   "cell_type": "code",
   "execution_count": null,
   "metadata": {},
   "outputs": [
    {
     "ename": "ValueError",
     "evalue": "Length of values (152000) does not match length of index (4000)",
     "output_type": "error",
     "traceback": [
      "\u001b[0;31m---------------------------------------------------------------------------\u001b[0m",
      "\u001b[0;31mValueError\u001b[0m                                Traceback (most recent call last)",
      "Cell \u001b[0;32mIn[13], line 11\u001b[0m\n\u001b[1;32m      9\u001b[0m \u001b[38;5;66;03m# Add frame number as the first level of the index\u001b[39;00m\n\u001b[1;32m     10\u001b[0m frame_numbers \u001b[38;5;241m=\u001b[39m np\u001b[38;5;241m.\u001b[39mrepeat(np\u001b[38;5;241m.\u001b[39marange(num_frames), num_markers)\n\u001b[0;32m---> 11\u001b[0m \u001b[43mdf\u001b[49m\u001b[43m[\u001b[49m\u001b[38;5;124;43m'\u001b[39;49m\u001b[38;5;124;43mframe\u001b[39;49m\u001b[38;5;124;43m'\u001b[39;49m\u001b[43m]\u001b[49m \u001b[38;5;241m=\u001b[39m frame_numbers\n\u001b[1;32m     12\u001b[0m df\u001b[38;5;241m.\u001b[39mset_index(\u001b[38;5;124m'\u001b[39m\u001b[38;5;124mframe\u001b[39m\u001b[38;5;124m'\u001b[39m, inplace\u001b[38;5;241m=\u001b[39m\u001b[38;5;28;01mTrue\u001b[39;00m)\n",
      "File \u001b[0;32m~/micromamba/envs/LISA/lib/python3.10/site-packages/pandas/core/frame.py:4311\u001b[0m, in \u001b[0;36mDataFrame.__setitem__\u001b[0;34m(self, key, value)\u001b[0m\n\u001b[1;32m   4308\u001b[0m     \u001b[38;5;28mself\u001b[39m\u001b[38;5;241m.\u001b[39m_setitem_array([key], value)\n\u001b[1;32m   4309\u001b[0m \u001b[38;5;28;01melse\u001b[39;00m:\n\u001b[1;32m   4310\u001b[0m     \u001b[38;5;66;03m# set column\u001b[39;00m\n\u001b[0;32m-> 4311\u001b[0m     \u001b[38;5;28;43mself\u001b[39;49m\u001b[38;5;241;43m.\u001b[39;49m\u001b[43m_set_item\u001b[49m\u001b[43m(\u001b[49m\u001b[43mkey\u001b[49m\u001b[43m,\u001b[49m\u001b[43m \u001b[49m\u001b[43mvalue\u001b[49m\u001b[43m)\u001b[49m\n",
      "File \u001b[0;32m~/micromamba/envs/LISA/lib/python3.10/site-packages/pandas/core/frame.py:4524\u001b[0m, in \u001b[0;36mDataFrame._set_item\u001b[0;34m(self, key, value)\u001b[0m\n\u001b[1;32m   4514\u001b[0m \u001b[38;5;28;01mdef\u001b[39;00m \u001b[38;5;21m_set_item\u001b[39m(\u001b[38;5;28mself\u001b[39m, key, value) \u001b[38;5;241m-\u001b[39m\u001b[38;5;241m>\u001b[39m \u001b[38;5;28;01mNone\u001b[39;00m:\n\u001b[1;32m   4515\u001b[0m \u001b[38;5;250m    \u001b[39m\u001b[38;5;124;03m\"\"\"\u001b[39;00m\n\u001b[1;32m   4516\u001b[0m \u001b[38;5;124;03m    Add series to DataFrame in specified column.\u001b[39;00m\n\u001b[1;32m   4517\u001b[0m \n\u001b[0;32m   (...)\u001b[0m\n\u001b[1;32m   4522\u001b[0m \u001b[38;5;124;03m    ensure homogeneity.\u001b[39;00m\n\u001b[1;32m   4523\u001b[0m \u001b[38;5;124;03m    \"\"\"\u001b[39;00m\n\u001b[0;32m-> 4524\u001b[0m     value, refs \u001b[38;5;241m=\u001b[39m \u001b[38;5;28;43mself\u001b[39;49m\u001b[38;5;241;43m.\u001b[39;49m\u001b[43m_sanitize_column\u001b[49m\u001b[43m(\u001b[49m\u001b[43mvalue\u001b[49m\u001b[43m)\u001b[49m\n\u001b[1;32m   4526\u001b[0m     \u001b[38;5;28;01mif\u001b[39;00m (\n\u001b[1;32m   4527\u001b[0m         key \u001b[38;5;129;01min\u001b[39;00m \u001b[38;5;28mself\u001b[39m\u001b[38;5;241m.\u001b[39mcolumns\n\u001b[1;32m   4528\u001b[0m         \u001b[38;5;129;01mand\u001b[39;00m value\u001b[38;5;241m.\u001b[39mndim \u001b[38;5;241m==\u001b[39m \u001b[38;5;241m1\u001b[39m\n\u001b[1;32m   4529\u001b[0m         \u001b[38;5;129;01mand\u001b[39;00m \u001b[38;5;129;01mnot\u001b[39;00m \u001b[38;5;28misinstance\u001b[39m(value\u001b[38;5;241m.\u001b[39mdtype, ExtensionDtype)\n\u001b[1;32m   4530\u001b[0m     ):\n\u001b[1;32m   4531\u001b[0m         \u001b[38;5;66;03m# broadcast across multiple columns if necessary\u001b[39;00m\n\u001b[1;32m   4532\u001b[0m         \u001b[38;5;28;01mif\u001b[39;00m \u001b[38;5;129;01mnot\u001b[39;00m \u001b[38;5;28mself\u001b[39m\u001b[38;5;241m.\u001b[39mcolumns\u001b[38;5;241m.\u001b[39mis_unique \u001b[38;5;129;01mor\u001b[39;00m \u001b[38;5;28misinstance\u001b[39m(\u001b[38;5;28mself\u001b[39m\u001b[38;5;241m.\u001b[39mcolumns, MultiIndex):\n",
      "File \u001b[0;32m~/micromamba/envs/LISA/lib/python3.10/site-packages/pandas/core/frame.py:5266\u001b[0m, in \u001b[0;36mDataFrame._sanitize_column\u001b[0;34m(self, value)\u001b[0m\n\u001b[1;32m   5263\u001b[0m     \u001b[38;5;28;01mreturn\u001b[39;00m _reindex_for_setitem(value, \u001b[38;5;28mself\u001b[39m\u001b[38;5;241m.\u001b[39mindex)\n\u001b[1;32m   5265\u001b[0m \u001b[38;5;28;01mif\u001b[39;00m is_list_like(value):\n\u001b[0;32m-> 5266\u001b[0m     \u001b[43mcom\u001b[49m\u001b[38;5;241;43m.\u001b[39;49m\u001b[43mrequire_length_match\u001b[49m\u001b[43m(\u001b[49m\u001b[43mvalue\u001b[49m\u001b[43m,\u001b[49m\u001b[43m \u001b[49m\u001b[38;5;28;43mself\u001b[39;49m\u001b[38;5;241;43m.\u001b[39;49m\u001b[43mindex\u001b[49m\u001b[43m)\u001b[49m\n\u001b[1;32m   5267\u001b[0m arr \u001b[38;5;241m=\u001b[39m sanitize_array(value, \u001b[38;5;28mself\u001b[39m\u001b[38;5;241m.\u001b[39mindex, copy\u001b[38;5;241m=\u001b[39m\u001b[38;5;28;01mTrue\u001b[39;00m, allow_2d\u001b[38;5;241m=\u001b[39m\u001b[38;5;28;01mTrue\u001b[39;00m)\n\u001b[1;32m   5268\u001b[0m \u001b[38;5;28;01mif\u001b[39;00m (\n\u001b[1;32m   5269\u001b[0m     \u001b[38;5;28misinstance\u001b[39m(value, Index)\n\u001b[1;32m   5270\u001b[0m     \u001b[38;5;129;01mand\u001b[39;00m value\u001b[38;5;241m.\u001b[39mdtype \u001b[38;5;241m==\u001b[39m \u001b[38;5;124m\"\u001b[39m\u001b[38;5;124mobject\u001b[39m\u001b[38;5;124m\"\u001b[39m\n\u001b[0;32m   (...)\u001b[0m\n\u001b[1;32m   5273\u001b[0m     \u001b[38;5;66;03m# TODO: Remove kludge in sanitize_array for string mode when enforcing\u001b[39;00m\n\u001b[1;32m   5274\u001b[0m     \u001b[38;5;66;03m# this deprecation\u001b[39;00m\n",
      "File \u001b[0;32m~/micromamba/envs/LISA/lib/python3.10/site-packages/pandas/core/common.py:573\u001b[0m, in \u001b[0;36mrequire_length_match\u001b[0;34m(data, index)\u001b[0m\n\u001b[1;32m    569\u001b[0m \u001b[38;5;250m\u001b[39m\u001b[38;5;124;03m\"\"\"\u001b[39;00m\n\u001b[1;32m    570\u001b[0m \u001b[38;5;124;03mCheck the length of data matches the length of the index.\u001b[39;00m\n\u001b[1;32m    571\u001b[0m \u001b[38;5;124;03m\"\"\"\u001b[39;00m\n\u001b[1;32m    572\u001b[0m \u001b[38;5;28;01mif\u001b[39;00m \u001b[38;5;28mlen\u001b[39m(data) \u001b[38;5;241m!=\u001b[39m \u001b[38;5;28mlen\u001b[39m(index):\n\u001b[0;32m--> 573\u001b[0m     \u001b[38;5;28;01mraise\u001b[39;00m \u001b[38;5;167;01mValueError\u001b[39;00m(\n\u001b[1;32m    574\u001b[0m         \u001b[38;5;124m\"\u001b[39m\u001b[38;5;124mLength of values \u001b[39m\u001b[38;5;124m\"\u001b[39m\n\u001b[1;32m    575\u001b[0m         \u001b[38;5;124mf\u001b[39m\u001b[38;5;124m\"\u001b[39m\u001b[38;5;124m(\u001b[39m\u001b[38;5;132;01m{\u001b[39;00m\u001b[38;5;28mlen\u001b[39m(data)\u001b[38;5;132;01m}\u001b[39;00m\u001b[38;5;124m) \u001b[39m\u001b[38;5;124m\"\u001b[39m\n\u001b[1;32m    576\u001b[0m         \u001b[38;5;124m\"\u001b[39m\u001b[38;5;124mdoes not match length of index \u001b[39m\u001b[38;5;124m\"\u001b[39m\n\u001b[1;32m    577\u001b[0m         \u001b[38;5;124mf\u001b[39m\u001b[38;5;124m\"\u001b[39m\u001b[38;5;124m(\u001b[39m\u001b[38;5;132;01m{\u001b[39;00m\u001b[38;5;28mlen\u001b[39m(index)\u001b[38;5;132;01m}\u001b[39;00m\u001b[38;5;124m)\u001b[39m\u001b[38;5;124m\"\u001b[39m\n\u001b[1;32m    578\u001b[0m     )\n",
      "\u001b[0;31mValueError\u001b[0m: Length of values (152000) does not match length of index (4000)"
     ]
    }
   ],
   "source": [
    "# Create a MultiIndex for the DataFrame columns (marker, coordinate)\n",
    "markers = [f\"marker_{i+1}\" for i in range(num_markers)]\n",
    "coords = ['X', 'Y', 'Z']\n",
    "columns = pd.MultiIndex.from_product([markers, coords])\n",
    "\n",
    "# Convert to DataFrame\n",
    "df = pd.DataFrame(reshaped_points, columns=columns)\n",
    "\n",
    "# Add frame number as the first level of the index\n",
    "frame_numbers = np.repeat(np.arange(num_frames), num_markers)\n",
    "df['frame'] = frame_numbers\n",
    "df.set_index('frame', inplace=True)"
   ]
  },
  {
   "cell_type": "markdown",
   "metadata": {},
   "source": [
    "## kinetics toolkit"
   ]
  },
  {
   "cell_type": "code",
   "execution_count": 30,
   "metadata": {},
   "outputs": [],
   "source": [
    "import kineticstoolkit as ktk"
   ]
  },
  {
   "cell_type": "code",
   "execution_count": 31,
   "metadata": {},
   "outputs": [
    {
     "name": "stderr",
     "output_type": "stream",
     "text": [
      "/Users/tomwilson/micromamba/envs/LISA/lib/python3.10/site-packages/kineticstoolkit/files.py:512: UserWarning: In the specified file, points are expressed in mm. They were automatically converted to meters by scaling them by 0.001. Please note that if this file also contains calculated values such as angles, powers, etc., they were also (wrongly) scaled by 0.001. Consult https://kineticstoolkit.uqam.ca/doc/api/ktk.read_c3d.html for more information. You can mute this warning by explicitely setting `convert_point_unit` to either True or False.\n",
      "  warnings.warn(\n",
      "/Users/tomwilson/micromamba/envs/LISA/lib/python3.10/site-packages/kineticstoolkit/timeseries.py:1059: UserWarning: A data info with same data_key (Global Angle.x) and info_key (Unit) already exists in ths TimeSeries. Please use overwrite=True to suppress this warning. This warning will become an error in Kinetics Toolkit 1.0.\n",
      "  warnings.warn(\n",
      "/Users/tomwilson/micromamba/envs/LISA/lib/python3.10/site-packages/kineticstoolkit/timeseries.py:1059: UserWarning: A data info with same data_key (Global Angle.y) and info_key (Unit) already exists in ths TimeSeries. Please use overwrite=True to suppress this warning. This warning will become an error in Kinetics Toolkit 1.0.\n",
      "  warnings.warn(\n",
      "/Users/tomwilson/micromamba/envs/LISA/lib/python3.10/site-packages/kineticstoolkit/timeseries.py:1059: UserWarning: A data info with same data_key (Global Angle.z) and info_key (Unit) already exists in ths TimeSeries. Please use overwrite=True to suppress this warning. This warning will become an error in Kinetics Toolkit 1.0.\n",
      "  warnings.warn(\n",
      "/Users/tomwilson/micromamba/envs/LISA/lib/python3.10/site-packages/kineticstoolkit/timeseries.py:1059: UserWarning: A data info with same data_key (HighG.x) and info_key (Unit) already exists in ths TimeSeries. Please use overwrite=True to suppress this warning. This warning will become an error in Kinetics Toolkit 1.0.\n",
      "  warnings.warn(\n",
      "/Users/tomwilson/micromamba/envs/LISA/lib/python3.10/site-packages/kineticstoolkit/timeseries.py:1059: UserWarning: A data info with same data_key (HighG.y) and info_key (Unit) already exists in ths TimeSeries. Please use overwrite=True to suppress this warning. This warning will become an error in Kinetics Toolkit 1.0.\n",
      "  warnings.warn(\n",
      "/Users/tomwilson/micromamba/envs/LISA/lib/python3.10/site-packages/kineticstoolkit/timeseries.py:1059: UserWarning: A data info with same data_key (HighG.z) and info_key (Unit) already exists in ths TimeSeries. Please use overwrite=True to suppress this warning. This warning will become an error in Kinetics Toolkit 1.0.\n",
      "  warnings.warn(\n",
      "/Users/tomwilson/micromamba/envs/LISA/lib/python3.10/site-packages/kineticstoolkit/timeseries.py:1059: UserWarning: A data info with same data_key (accel.x) and info_key (Unit) already exists in ths TimeSeries. Please use overwrite=True to suppress this warning. This warning will become an error in Kinetics Toolkit 1.0.\n",
      "  warnings.warn(\n",
      "/Users/tomwilson/micromamba/envs/LISA/lib/python3.10/site-packages/kineticstoolkit/timeseries.py:1059: UserWarning: A data info with same data_key (accel.y) and info_key (Unit) already exists in ths TimeSeries. Please use overwrite=True to suppress this warning. This warning will become an error in Kinetics Toolkit 1.0.\n",
      "  warnings.warn(\n",
      "/Users/tomwilson/micromamba/envs/LISA/lib/python3.10/site-packages/kineticstoolkit/timeseries.py:1059: UserWarning: A data info with same data_key (accel.z) and info_key (Unit) already exists in ths TimeSeries. Please use overwrite=True to suppress this warning. This warning will become an error in Kinetics Toolkit 1.0.\n",
      "  warnings.warn(\n",
      "/Users/tomwilson/micromamba/envs/LISA/lib/python3.10/site-packages/kineticstoolkit/timeseries.py:1059: UserWarning: A data info with same data_key (gyro.x) and info_key (Unit) already exists in ths TimeSeries. Please use overwrite=True to suppress this warning. This warning will become an error in Kinetics Toolkit 1.0.\n",
      "  warnings.warn(\n",
      "/Users/tomwilson/micromamba/envs/LISA/lib/python3.10/site-packages/kineticstoolkit/timeseries.py:1059: UserWarning: A data info with same data_key (gyro.y) and info_key (Unit) already exists in ths TimeSeries. Please use overwrite=True to suppress this warning. This warning will become an error in Kinetics Toolkit 1.0.\n",
      "  warnings.warn(\n",
      "/Users/tomwilson/micromamba/envs/LISA/lib/python3.10/site-packages/kineticstoolkit/timeseries.py:1059: UserWarning: A data info with same data_key (gyro.z) and info_key (Unit) already exists in ths TimeSeries. Please use overwrite=True to suppress this warning. This warning will become an error in Kinetics Toolkit 1.0.\n",
      "  warnings.warn(\n",
      "/Users/tomwilson/micromamba/envs/LISA/lib/python3.10/site-packages/kineticstoolkit/timeseries.py:1059: UserWarning: A data info with same data_key (mag.x) and info_key (Unit) already exists in ths TimeSeries. Please use overwrite=True to suppress this warning. This warning will become an error in Kinetics Toolkit 1.0.\n",
      "  warnings.warn(\n",
      "/Users/tomwilson/micromamba/envs/LISA/lib/python3.10/site-packages/kineticstoolkit/timeseries.py:1059: UserWarning: A data info with same data_key (mag.y) and info_key (Unit) already exists in ths TimeSeries. Please use overwrite=True to suppress this warning. This warning will become an error in Kinetics Toolkit 1.0.\n",
      "  warnings.warn(\n",
      "/Users/tomwilson/micromamba/envs/LISA/lib/python3.10/site-packages/kineticstoolkit/timeseries.py:1059: UserWarning: A data info with same data_key (mag.z) and info_key (Unit) already exists in ths TimeSeries. Please use overwrite=True to suppress this warning. This warning will become an error in Kinetics Toolkit 1.0.\n",
      "  warnings.warn(\n"
     ]
    },
    {
     "data": {
      "text/plain": [
       "{'Points': TimeSeries with attributes:\n",
       "          time: <array of shape (6000,)>\n",
       "          data: <dict with 43 entries>\n",
       "     time_info: {'Unit': 's'}\n",
       "     data_info: <dict with 43 entries>\n",
       "        events: [],\n",
       " 'Analogs': TimeSeries with attributes:\n",
       "          time: <array of shape (30000,)>\n",
       "          data: <dict with 32 entries>\n",
       "     time_info: {'Unit': 's'}\n",
       "     data_info: <dict with 28 entries>\n",
       "        events: []}"
      ]
     },
     "execution_count": 31,
     "metadata": {},
     "output_type": "execute_result"
    }
   ],
   "source": [
    "c3d_contents = ktk.read_c3d(file)\n",
    "\n",
    "c3d_contents"
   ]
  },
  {
   "cell_type": "code",
   "execution_count": 32,
   "metadata": {},
   "outputs": [
    {
     "data": {
      "text/plain": [
       "dict_keys(['Force.Fx1', 'Force.Fy1', 'Force.Fz1', 'Moment.Mx1', 'Moment.My1', 'Moment.Mz1', 'Force.Fx2', 'Force.Fy2', 'Force.Fz2', 'Moment.Mx2', 'Moment.My2', 'Moment.Mz2', 'Angle.Pitch', 'Length.Sway', 'Velocity.Left Belt Speed', 'Velocity.Right Belt Speed', 'Electric Potential.1', 'Global Angle.x', 'Global Angle.y', 'Global Angle.z', 'HighG.x', 'HighG.y', 'HighG.z', 'accel.x', 'accel.y', 'accel.z', 'gyro.x', 'gyro.y', 'gyro.z', 'mag.x', 'mag.y', 'mag.z'])"
      ]
     },
     "execution_count": 32,
     "metadata": {},
     "output_type": "execute_result"
    }
   ],
   "source": [
    "c3d_contents[\"Analogs\"].data.keys()"
   ]
  },
  {
   "cell_type": "code",
   "execution_count": 34,
   "metadata": {},
   "outputs": [
    {
     "data": {
      "image/png": "[encoded data removed]",
      "text/plain": [
       "<Figure size 640x480 with 1 Axes>"
      ]
     },
     "metadata": {},
     "output_type": "display_data"
    }
   ],
   "source": [
    "c3d_contents[\"Analogs\"].plot(['accel.z', 'HighG.z'])"
   ]
  },
  {
   "cell_type": "code",
   "execution_count": null,
   "metadata": {},
   "outputs": [
    {
     "data": {
      "text/plain": [
       "27"
      ]
     },
     "execution_count": 25,
     "metadata": {},
     "output_type": "execute_result"
    }
   ],
   "source": [
    "len(c3d_contents[\"Analogs\"].data.keys()) "
   ]
  },
  {
   "cell_type": "code",
   "execution_count": null,
   "metadata": {},
   "outputs": [],
   "source": [
    "c3d_contents[\"Analogs\"].plot(['Force.Fz1', 'Force.Fz2'])"
   ]
  },
  {
   "cell_type": "code",
   "execution_count": null,
   "metadata": {},
   "outputs": [
    {
     "data": {
      "image/png": "[encoded data removed]",
      "text/plain": [
       "<Figure size 640x480 with 1 Axes>"
      ]
     },
     "metadata": {},
     "output_type": "display_data"
    }
   ],
   "source": [
    "c3d_contents[\"Analogs\"].plot(['Moment.Mz1', 'Moment.Mz2'])"
   ]
  },
  {
   "cell_type": "code",
   "execution_count": null,
   "metadata": {},
   "outputs": [],
   "source": [
    "# Animation\n",
    "%matplotlib qt5\n",
    "markers = c3d_contents[\"Points\"]\n",
    "p = ktk.Player(markers)\n",
    "p.up = 'z'\n",
    "p.play()"
   ]
  },
  {
   "cell_type": "markdown",
   "metadata": {},
   "source": [
    "## Timeseries object"
   ]
  },
  {
   "cell_type": "code",
   "execution_count": null,
   "metadata": {},
   "outputs": [],
   "source": [
    "ts = c3d_contents[\"Points\"]\n",
    "\n",
    "df = ts.to_dataframe()"
   ]
  },
  {
   "cell_type": "code",
   "execution_count": null,
   "metadata": {},
   "outputs": [],
   "source": [
    "# remove 4th dimension\n",
    "for key in ts.data.keys():\n",
    "    ts.data[key] = ts.data[key][:, :3]\n"
   ]
  },
  {
   "cell_type": "code",
   "execution_count": null,
   "metadata": {},
   "outputs": [
    {
     "data": {
      "text/html": [
       "<div>\n",
       "<style scoped>\n",
       "    .dataframe tbody tr th:only-of-type {\n",
       "        vertical-align: middle;\n",
       "    }\n",
       "\n",
       "    .dataframe tbody tr th {\n",
       "        vertical-align: top;\n",
       "    }\n",
       "\n",
       "    .dataframe thead th {\n",
       "        text-align: right;\n",
       "    }\n",
       "</style>\n",
       "<table border=\"1\" class=\"dataframe\">\n",
       "  <thead>\n",
       "    <tr style=\"text-align: right;\">\n",
       "      <th></th>\n",
       "      <th>LASIS[0]</th>\n",
       "      <th>LASIS[1]</th>\n",
       "      <th>LASIS[2]</th>\n",
       "      <th>LPSIS[0]</th>\n",
       "      <th>LPSIS[1]</th>\n",
       "      <th>LPSIS[2]</th>\n",
       "      <th>RPSIS[0]</th>\n",
       "      <th>RPSIS[1]</th>\n",
       "      <th>RPSIS[2]</th>\n",
       "      <th>LLKN[0]</th>\n",
       "      <th>...</th>\n",
       "      <th>*34[2]</th>\n",
       "      <th>*35[0]</th>\n",
       "      <th>*35[1]</th>\n",
       "      <th>*35[2]</th>\n",
       "      <th>*36[0]</th>\n",
       "      <th>*36[1]</th>\n",
       "      <th>*36[2]</th>\n",
       "      <th>*37[0]</th>\n",
       "      <th>*37[1]</th>\n",
       "      <th>*37[2]</th>\n",
       "    </tr>\n",
       "  </thead>\n",
       "  <tbody>\n",
       "    <tr>\n",
       "      <th>0.000</th>\n",
       "      <td>0.138064</td>\n",
       "      <td>-0.177810</td>\n",
       "      <td>0.988160</td>\n",
       "      <td>-0.004349</td>\n",
       "      <td>-0.012974</td>\n",
       "      <td>1.014894</td>\n",
       "      <td>-0.066879</td>\n",
       "      <td>-0.019704</td>\n",
       "      <td>1.012174</td>\n",
       "      <td>0.168638</td>\n",
       "      <td>...</td>\n",
       "      <td>NaN</td>\n",
       "      <td>NaN</td>\n",
       "      <td>NaN</td>\n",
       "      <td>NaN</td>\n",
       "      <td>NaN</td>\n",
       "      <td>NaN</td>\n",
       "      <td>NaN</td>\n",
       "      <td>NaN</td>\n",
       "      <td>NaN</td>\n",
       "      <td>NaN</td>\n",
       "    </tr>\n",
       "    <tr>\n",
       "      <th>0.005</th>\n",
       "      <td>0.137377</td>\n",
       "      <td>-0.178196</td>\n",
       "      <td>0.988074</td>\n",
       "      <td>-0.004678</td>\n",
       "      <td>-0.012691</td>\n",
       "      <td>1.015613</td>\n",
       "      <td>-0.066624</td>\n",
       "      <td>-0.020409</td>\n",
       "      <td>1.013053</td>\n",
       "      <td>0.168834</td>\n",
       "      <td>...</td>\n",
       "      <td>NaN</td>\n",
       "      <td>NaN</td>\n",
       "      <td>NaN</td>\n",
       "      <td>NaN</td>\n",
       "      <td>NaN</td>\n",
       "      <td>NaN</td>\n",
       "      <td>NaN</td>\n",
       "      <td>NaN</td>\n",
       "      <td>NaN</td>\n",
       "      <td>NaN</td>\n",
       "    </tr>\n",
       "    <tr>\n",
       "      <th>0.010</th>\n",
       "      <td>0.137625</td>\n",
       "      <td>-0.179897</td>\n",
       "      <td>0.988547</td>\n",
       "      <td>-0.004836</td>\n",
       "      <td>-0.012889</td>\n",
       "      <td>1.015838</td>\n",
       "      <td>-0.066813</td>\n",
       "      <td>-0.020640</td>\n",
       "      <td>1.013551</td>\n",
       "      <td>0.168931</td>\n",
       "      <td>...</td>\n",
       "      <td>NaN</td>\n",
       "      <td>NaN</td>\n",
       "      <td>NaN</td>\n",
       "      <td>NaN</td>\n",
       "      <td>NaN</td>\n",
       "      <td>NaN</td>\n",
       "      <td>NaN</td>\n",
       "      <td>NaN</td>\n",
       "      <td>NaN</td>\n",
       "      <td>NaN</td>\n",
       "    </tr>\n",
       "    <tr>\n",
       "      <th>0.015</th>\n",
       "      <td>0.137052</td>\n",
       "      <td>-0.180237</td>\n",
       "      <td>0.988994</td>\n",
       "      <td>-0.005195</td>\n",
       "      <td>-0.013000</td>\n",
       "      <td>1.016010</td>\n",
       "      <td>-0.067198</td>\n",
       "      <td>-0.020851</td>\n",
       "      <td>1.014036</td>\n",
       "      <td>0.169155</td>\n",
       "      <td>...</td>\n",
       "      <td>NaN</td>\n",
       "      <td>NaN</td>\n",
       "      <td>NaN</td>\n",
       "      <td>NaN</td>\n",
       "      <td>NaN</td>\n",
       "      <td>NaN</td>\n",
       "      <td>NaN</td>\n",
       "      <td>NaN</td>\n",
       "      <td>NaN</td>\n",
       "      <td>NaN</td>\n",
       "    </tr>\n",
       "    <tr>\n",
       "      <th>0.020</th>\n",
       "      <td>0.136081</td>\n",
       "      <td>-0.179702</td>\n",
       "      <td>0.988756</td>\n",
       "      <td>-0.005471</td>\n",
       "      <td>-0.013389</td>\n",
       "      <td>1.015854</td>\n",
       "      <td>-0.067969</td>\n",
       "      <td>-0.020333</td>\n",
       "      <td>1.014821</td>\n",
       "      <td>0.169257</td>\n",
       "      <td>...</td>\n",
       "      <td>NaN</td>\n",
       "      <td>NaN</td>\n",
       "      <td>NaN</td>\n",
       "      <td>NaN</td>\n",
       "      <td>NaN</td>\n",
       "      <td>NaN</td>\n",
       "      <td>NaN</td>\n",
       "      <td>NaN</td>\n",
       "      <td>NaN</td>\n",
       "      <td>NaN</td>\n",
       "    </tr>\n",
       "    <tr>\n",
       "      <th>...</th>\n",
       "      <td>...</td>\n",
       "      <td>...</td>\n",
       "      <td>...</td>\n",
       "      <td>...</td>\n",
       "      <td>...</td>\n",
       "      <td>...</td>\n",
       "      <td>...</td>\n",
       "      <td>...</td>\n",
       "      <td>...</td>\n",
       "      <td>...</td>\n",
       "      <td>...</td>\n",
       "      <td>...</td>\n",
       "      <td>...</td>\n",
       "      <td>...</td>\n",
       "      <td>...</td>\n",
       "      <td>...</td>\n",
       "      <td>...</td>\n",
       "      <td>...</td>\n",
       "      <td>...</td>\n",
       "      <td>...</td>\n",
       "      <td>...</td>\n",
       "    </tr>\n",
       "    <tr>\n",
       "      <th>19.975</th>\n",
       "      <td>NaN</td>\n",
       "      <td>NaN</td>\n",
       "      <td>NaN</td>\n",
       "      <td>-0.017501</td>\n",
       "      <td>0.139397</td>\n",
       "      <td>1.072832</td>\n",
       "      <td>-0.079707</td>\n",
       "      <td>0.136859</td>\n",
       "      <td>1.070325</td>\n",
       "      <td>0.144962</td>\n",
       "      <td>...</td>\n",
       "      <td>NaN</td>\n",
       "      <td>NaN</td>\n",
       "      <td>NaN</td>\n",
       "      <td>NaN</td>\n",
       "      <td>NaN</td>\n",
       "      <td>NaN</td>\n",
       "      <td>NaN</td>\n",
       "      <td>-0.076872</td>\n",
       "      <td>0.265806</td>\n",
       "      <td>0.080603</td>\n",
       "    </tr>\n",
       "    <tr>\n",
       "      <th>19.980</th>\n",
       "      <td>0.098805</td>\n",
       "      <td>-0.040106</td>\n",
       "      <td>1.052638</td>\n",
       "      <td>-0.016709</td>\n",
       "      <td>0.139651</td>\n",
       "      <td>1.071943</td>\n",
       "      <td>-0.078920</td>\n",
       "      <td>0.137309</td>\n",
       "      <td>1.069423</td>\n",
       "      <td>0.143968</td>\n",
       "      <td>...</td>\n",
       "      <td>NaN</td>\n",
       "      <td>NaN</td>\n",
       "      <td>NaN</td>\n",
       "      <td>NaN</td>\n",
       "      <td>NaN</td>\n",
       "      <td>NaN</td>\n",
       "      <td>NaN</td>\n",
       "      <td>-0.076590</td>\n",
       "      <td>0.273608</td>\n",
       "      <td>0.081144</td>\n",
       "    </tr>\n",
       "    <tr>\n",
       "      <th>19.985</th>\n",
       "      <td>0.098902</td>\n",
       "      <td>-0.040576</td>\n",
       "      <td>1.050571</td>\n",
       "      <td>-0.015980</td>\n",
       "      <td>0.139856</td>\n",
       "      <td>1.070917</td>\n",
       "      <td>-0.078155</td>\n",
       "      <td>0.137852</td>\n",
       "      <td>1.068422</td>\n",
       "      <td>0.142934</td>\n",
       "      <td>...</td>\n",
       "      <td>NaN</td>\n",
       "      <td>NaN</td>\n",
       "      <td>NaN</td>\n",
       "      <td>NaN</td>\n",
       "      <td>NaN</td>\n",
       "      <td>NaN</td>\n",
       "      <td>NaN</td>\n",
       "      <td>-0.076307</td>\n",
       "      <td>0.281828</td>\n",
       "      <td>0.081807</td>\n",
       "    </tr>\n",
       "    <tr>\n",
       "      <th>19.990</th>\n",
       "      <td>0.098540</td>\n",
       "      <td>-0.039973</td>\n",
       "      <td>1.049810</td>\n",
       "      <td>-0.015192</td>\n",
       "      <td>0.140008</td>\n",
       "      <td>1.069827</td>\n",
       "      <td>-0.077388</td>\n",
       "      <td>0.138356</td>\n",
       "      <td>1.067396</td>\n",
       "      <td>0.141835</td>\n",
       "      <td>...</td>\n",
       "      <td>NaN</td>\n",
       "      <td>NaN</td>\n",
       "      <td>NaN</td>\n",
       "      <td>NaN</td>\n",
       "      <td>NaN</td>\n",
       "      <td>NaN</td>\n",
       "      <td>NaN</td>\n",
       "      <td>-0.076189</td>\n",
       "      <td>0.289916</td>\n",
       "      <td>0.082724</td>\n",
       "    </tr>\n",
       "    <tr>\n",
       "      <th>19.995</th>\n",
       "      <td>0.098719</td>\n",
       "      <td>-0.040451</td>\n",
       "      <td>1.048442</td>\n",
       "      <td>-0.014432</td>\n",
       "      <td>0.140203</td>\n",
       "      <td>1.068504</td>\n",
       "      <td>-0.076584</td>\n",
       "      <td>0.138728</td>\n",
       "      <td>1.066196</td>\n",
       "      <td>0.140866</td>\n",
       "      <td>...</td>\n",
       "      <td>NaN</td>\n",
       "      <td>NaN</td>\n",
       "      <td>NaN</td>\n",
       "      <td>NaN</td>\n",
       "      <td>NaN</td>\n",
       "      <td>NaN</td>\n",
       "      <td>NaN</td>\n",
       "      <td>-0.075955</td>\n",
       "      <td>0.298320</td>\n",
       "      <td>0.083848</td>\n",
       "    </tr>\n",
       "  </tbody>\n",
       "</table>\n",
       "<p>4000 rows × 114 columns</p>\n",
       "</div>"
      ],
      "text/plain": [
       "        LASIS[0]  LASIS[1]  LASIS[2]  LPSIS[0]  LPSIS[1]  LPSIS[2]  RPSIS[0]  \\\n",
       "0.000   0.138064 -0.177810  0.988160 -0.004349 -0.012974  1.014894 -0.066879   \n",
       "0.005   0.137377 -0.178196  0.988074 -0.004678 -0.012691  1.015613 -0.066624   \n",
       "0.010   0.137625 -0.179897  0.988547 -0.004836 -0.012889  1.015838 -0.066813   \n",
       "0.015   0.137052 -0.180237  0.988994 -0.005195 -0.013000  1.016010 -0.067198   \n",
       "0.020   0.136081 -0.179702  0.988756 -0.005471 -0.013389  1.015854 -0.067969   \n",
       "...          ...       ...       ...       ...       ...       ...       ...   \n",
       "19.975       NaN       NaN       NaN -0.017501  0.139397  1.072832 -0.079707   \n",
       "19.980  0.098805 -0.040106  1.052638 -0.016709  0.139651  1.071943 -0.078920   \n",
       "19.985  0.098902 -0.040576  1.050571 -0.015980  0.139856  1.070917 -0.078155   \n",
       "19.990  0.098540 -0.039973  1.049810 -0.015192  0.140008  1.069827 -0.077388   \n",
       "19.995  0.098719 -0.040451  1.048442 -0.014432  0.140203  1.068504 -0.076584   \n",
       "\n",
       "        RPSIS[1]  RPSIS[2]   LLKN[0]  ...  *34[2]  *35[0]  *35[1]  *35[2]  \\\n",
       "0.000  -0.019704  1.012174  0.168638  ...     NaN     NaN     NaN     NaN   \n",
       "0.005  -0.020409  1.013053  0.168834  ...     NaN     NaN     NaN     NaN   \n",
       "0.010  -0.020640  1.013551  0.168931  ...     NaN     NaN     NaN     NaN   \n",
       "0.015  -0.020851  1.014036  0.169155  ...     NaN     NaN     NaN     NaN   \n",
       "0.020  -0.020333  1.014821  0.169257  ...     NaN     NaN     NaN     NaN   \n",
       "...          ...       ...       ...  ...     ...     ...     ...     ...   \n",
       "19.975  0.136859  1.070325  0.144962  ...     NaN     NaN     NaN     NaN   \n",
       "19.980  0.137309  1.069423  0.143968  ...     NaN     NaN     NaN     NaN   \n",
       "19.985  0.137852  1.068422  0.142934  ...     NaN     NaN     NaN     NaN   \n",
       "19.990  0.138356  1.067396  0.141835  ...     NaN     NaN     NaN     NaN   \n",
       "19.995  0.138728  1.066196  0.140866  ...     NaN     NaN     NaN     NaN   \n",
       "\n",
       "        *36[0]  *36[1]  *36[2]    *37[0]    *37[1]    *37[2]  \n",
       "0.000      NaN     NaN     NaN       NaN       NaN       NaN  \n",
       "0.005      NaN     NaN     NaN       NaN       NaN       NaN  \n",
       "0.010      NaN     NaN     NaN       NaN       NaN       NaN  \n",
       "0.015      NaN     NaN     NaN       NaN       NaN       NaN  \n",
       "0.020      NaN     NaN     NaN       NaN       NaN       NaN  \n",
       "...        ...     ...     ...       ...       ...       ...  \n",
       "19.975     NaN     NaN     NaN -0.076872  0.265806  0.080603  \n",
       "19.980     NaN     NaN     NaN -0.076590  0.273608  0.081144  \n",
       "19.985     NaN     NaN     NaN -0.076307  0.281828  0.081807  \n",
       "19.990     NaN     NaN     NaN -0.076189  0.289916  0.082724  \n",
       "19.995     NaN     NaN     NaN -0.075955  0.298320  0.083848  \n",
       "\n",
       "[4000 rows x 114 columns]"
      ]
     },
     "execution_count": 29,
     "metadata": {},
     "output_type": "execute_result"
    }
   ],
   "source": [
    "df = ts.to_dataframe()\n",
    "df"
   ]
  },
  {
   "cell_type": "code",
   "execution_count": null,
   "metadata": {},
   "outputs": [
    {
     "data": {
      "text/plain": [
       "kineticstoolkit.timeseries.TimeSeriesDataDict"
      ]
     },
     "execution_count": 74,
     "metadata": {},
     "output_type": "execute_result"
    }
   ],
   "source": [
    "# polars can't have multi-indexed columns, but here is a demo with pandas\n",
    "# features = ts.data.keys()\n",
    "# dims = ['X', 'Y', 'Z']\n",
    "\n",
    "# type(ts.data)"
   ]
  },
  {
   "cell_type": "code",
   "execution_count": null,
   "metadata": {},
   "outputs": [
    {
     "data": {
      "text/plain": [
       "<Axes: >"
      ]
     },
     "execution_count": 30,
     "metadata": {},
     "output_type": "execute_result"
    }
   ],
   "source": [
    "# plotting\n",
    "df['LASIS[0]'].plot()"
   ]
  },
  {
   "cell_type": "markdown",
   "metadata": {},
   "source": [
    "## Polars"
   ]
  },
  {
   "cell_type": "code",
   "execution_count": null,
   "metadata": {},
   "outputs": [
    {
     "ename": "TypeError",
     "evalue": "'TimeSeries' object is not subscriptable",
     "output_type": "error",
     "traceback": [
      "\u001b[0;31m---------------------------------------------------------------------------\u001b[0m",
      "\u001b[0;31mTypeError\u001b[0m                                 Traceback (most recent call last)",
      "Cell \u001b[0;32mIn[32], line 3\u001b[0m\n\u001b[1;32m      1\u001b[0m points \u001b[38;5;241m=\u001b[39m c3d_contents[\u001b[38;5;124m\"\u001b[39m\u001b[38;5;124mPoints\u001b[39m\u001b[38;5;124m\"\u001b[39m]\n\u001b[0;32m----> 3\u001b[0m labels \u001b[38;5;241m=\u001b[39m \u001b[43mpoints\u001b[49m\u001b[43m[\u001b[49m\u001b[38;5;124;43m'\u001b[39;49m\u001b[38;5;124;43mLabels\u001b[39;49m\u001b[38;5;124;43m'\u001b[39;49m\u001b[43m]\u001b[49m\n\u001b[1;32m      5\u001b[0m \u001b[38;5;66;03m# Get the coordinates (assuming the first three rows are X, Y, Z)\u001b[39;00m\n\u001b[1;32m      6\u001b[0m coordinates \u001b[38;5;241m=\u001b[39m points[\u001b[38;5;124m'\u001b[39m\u001b[38;5;124mData\u001b[39m\u001b[38;5;124m'\u001b[39m]\n",
      "\u001b[0;31mTypeError\u001b[0m: 'TimeSeries' object is not subscriptable"
     ]
    }
   ],
   "source": [
    "points = c3d_contents[\"Points\"]\n",
    "\n",
    "labels = points['Labels']\n",
    "\n",
    "# Get the coordinates (assuming the first three rows are X, Y, Z)\n",
    "coordinates = points['Data']\n",
    "\n",
    "# Determine the number of frames and markers\n",
    "num_frames, num_markers, _ = coordinates.shape\n",
    "\n",
    "# Create a list of column names for the DataFrame (marker_coordinate)\n",
    "columns = [f\"{label}_{coord}\" for label in labels for coord in ['X', 'Y', 'Z']]"
   ]
  },
  {
   "cell_type": "markdown",
   "metadata": {},
   "source": [
    "## Explore the new sampled data with IMU device labelling"
   ]
  },
  {
   "cell_type": "code",
   "execution_count": 39,
   "metadata": {},
   "outputs": [],
   "source": [
    "from lisa.config import LABELLED_TEST_DATA_DIR\n",
    "import polars as pl\n",
    "from lisa.dataset import _find_column_names\n",
    "\n",
    "filename = 'P1_1608 Walk1_7ms'\n",
    "file = os.path.join(LABELLED_TEST_DATA_DIR, filename + '.c3d')"
   ]
  },
  {
   "cell_type": "code",
   "execution_count": 40,
   "metadata": {},
   "outputs": [
    {
     "data": {
      "text/html": [
       "<div><style>\n",
       ".dataframe > thead > tr,\n",
       ".dataframe > tbody > tr {\n",
       "  text-align: right;\n",
       "  white-space: pre-wrap;\n",
       "}\n",
       "</style>\n",
       "<small>shape: (20_000, 107)</small><table border=\"1\" class=\"dataframe\"><thead><tr><th>Right Foot Sensor.RFS</th><th>Left Foot Sensor.LFS</th><th>Global Angle_Foot_L.x</th><th>Global Angle_Foot_L.y</th><th>Global Angle_Foot_L.z</th><th>HighG_Foot_L.x</th><th>HighG_Foot_L.y</th><th>HighG_Foot_L.z</th><th>accel_Foot_L.x</th><th>accel_Foot_L.y</th><th>accel_Foot_L.z</th><th>gyro_Foot_L.x</th><th>gyro_Foot_L.y</th><th>gyro_Foot_L.z</th><th>mag_Foot_L.x</th><th>mag_Foot_L.y</th><th>mag_Foot_L.z</th><th>Global Angle_Shank_L.x</th><th>Global Angle_Shank_L.y</th><th>Global Angle_Shank_L.z</th><th>HighG_Shank_L.x</th><th>HighG_Shank_L.y</th><th>HighG_Shank_L.z</th><th>accel_Shank_L.x</th><th>accel_Shank_L.y</th><th>accel_Shank_L.z</th><th>gyro_Shank_L.x</th><th>gyro_Shank_L.y</th><th>gyro_Shank_L.z</th><th>mag_Shank_L.x</th><th>mag_Shank_L.y</th><th>mag_Shank_L.z</th><th>Global Angle_Thigh_R.x</th><th>Global Angle_Thigh_R.y</th><th>Global Angle_Thigh_R.z</th><th>HighG_Thigh_R.x</th><th>HighG_Thigh_R.y</th><th>&hellip;</th><th>accel_Thigh_L.z</th><th>gyro_Thigh_L.x</th><th>gyro_Thigh_L.y</th><th>gyro_Thigh_L.z</th><th>mag_Thigh_L.x</th><th>mag_Thigh_L.y</th><th>mag_Thigh_L.z</th><th>Global Angle_pelvis.x</th><th>Global Angle_pelvis.y</th><th>Global Angle_pelvis.z</th><th>HighG_pelvis.x</th><th>HighG_pelvis.y</th><th>HighG_pelvis.z</th><th>accel_pelvis.x</th><th>accel_pelvis.y</th><th>accel_pelvis.z</th><th>gyro_pelvis.x</th><th>gyro_pelvis.y</th><th>gyro_pelvis.z</th><th>mag_pelvis.x</th><th>mag_pelvis.y</th><th>mag_pelvis.z</th><th>Global Angle_Foot_R.x</th><th>Global Angle_Foot_R.y</th><th>Global Angle_Foot_R.z</th><th>HighG_Foot_R.x</th><th>HighG_Foot_R.y</th><th>HighG_Foot_R.z</th><th>accel_Foot_R.x</th><th>accel_Foot_R.y</th><th>accel_Foot_R.z</th><th>gyro_Foot_R.x</th><th>gyro_Foot_R.y</th><th>gyro_Foot_R.z</th><th>mag_Foot_R.x</th><th>mag_Foot_R.y</th><th>mag_Foot_R.z</th></tr><tr><td>f64</td><td>f64</td><td>f64</td><td>f64</td><td>f64</td><td>f64</td><td>f64</td><td>f64</td><td>f64</td><td>f64</td><td>f64</td><td>f64</td><td>f64</td><td>f64</td><td>f64</td><td>f64</td><td>f64</td><td>f64</td><td>f64</td><td>f64</td><td>f64</td><td>f64</td><td>f64</td><td>f64</td><td>f64</td><td>f64</td><td>f64</td><td>f64</td><td>f64</td><td>f64</td><td>f64</td><td>f64</td><td>f64</td><td>f64</td><td>f64</td><td>f64</td><td>f64</td><td>&hellip;</td><td>f64</td><td>f64</td><td>f64</td><td>f64</td><td>f64</td><td>f64</td><td>f64</td><td>f64</td><td>f64</td><td>f64</td><td>f64</td><td>f64</td><td>f64</td><td>f64</td><td>f64</td><td>f64</td><td>f64</td><td>f64</td><td>f64</td><td>f64</td><td>f64</td><td>f64</td><td>f64</td><td>f64</td><td>f64</td><td>f64</td><td>f64</td><td>f64</td><td>f64</td><td>f64</td><td>f64</td><td>f64</td><td>f64</td><td>f64</td><td>f64</td><td>f64</td><td>f64</td></tr></thead><tbody><tr><td>3.661904</td><td>1.908885</td><td>0.747913</td><td>1.414698</td><td>2.41077</td><td>23.918659</td><td>17.699808</td><td>-1.913493</td><td>7.661446</td><td>32.297779</td><td>1.000776</td><td>-2.088465</td><td>1.15659</td><td>1.5975</td><td>-0.000056</td><td>0.00004</td><td>0.000002</td><td>2.034274</td><td>1.339811</td><td>2.15361</td><td>19.6133</td><td>-11.002583</td><td>-0.478373</td><td>18.526333</td><td>-18.641254</td><td>-3.916914</td><td>-1.48248</td><td>-0.546345</td><td>4.052325</td><td>-0.000044</td><td>0.000014</td><td>-0.000017</td><td>-0.291885</td><td>-1.71113</td><td>-0.607828</td><td>13.872822</td><td>-9.567463</td><td>&hellip;</td><td>-5.416654</td><td>-1.191113</td><td>0.386095</td><td>0.09501</td><td>-0.000026</td><td>0.000056</td><td>0.000021</td><td>-1.22109</td><td>-1.074704</td><td>-1.202925</td><td>15.549099</td><td>5.145468</td><td>12.441645</td><td>14.678087</td><td>0.116677</td><td>8.908041</td><td>0.919742</td><td>-0.245697</td><td>-0.838168</td><td>-0.000057</td><td>-0.000003</td><td>0.000003</td><td>-0.792381</td><td>-1.006923</td><td>-0.555903</td><td>15.327848</td><td>-42.973961</td><td>5.750431</td><td>18.020855</td><td>-46.280937</td><td>-2.313499</td><td>4.305908</td><td>1.386873</td><td>-11.092124</td><td>-0.000013</td><td>-0.00001</td><td>0.000003</td></tr><tr><td>3.644509</td><td>1.8921</td><td>0.74788</td><td>1.413869</td><td>2.412725</td><td>23.033669</td><td>17.31711</td><td>-0.765397</td><td>7.668628</td><td>31.046329</td><td>1.431014</td><td>-2.004969</td><td>1.130391</td><td>1.558468</td><td>-0.000056</td><td>0.00004</td><td>0.000002</td><td>2.038154</td><td>1.334736</td><td>2.15405</td><td>19.015333</td><td>-10.715559</td><td>-0.765397</td><td>17.805677</td><td>-18.223467</td><td>-4.294479</td><td>-1.506815</td><td>-0.579786</td><td>4.020748</td><td>-0.000044</td><td>0.000014</td><td>-0.000017</td><td>-0.294524</td><td>-1.709979</td><td>-0.604346</td><td>14.159845</td><td>-9.065171</td><td>&hellip;</td><td>-4.219969</td><td>-1.072866</td><td>0.399389</td><td>0.11193</td><td>-0.000026</td><td>0.000056</td><td>0.000021</td><td>-1.220186</td><td>-1.075983</td><td>-1.20291</td><td>15.542416</td><td>5.186725</td><td>12.258053</td><td>14.593883</td><td>0.322021</td><td>8.922407</td><td>0.908077</td><td>-0.243308</td><td>-0.859853</td><td>-0.000057</td><td>-0.000003</td><td>0.000003</td><td>-0.782873</td><td>-1.011688</td><td>-0.563954</td><td>13.484253</td><td>-39.584946</td><td>5.266057</td><td>16.390762</td><td>-42.935081</td><td>-2.543441</td><td>4.265439</td><td>1.373026</td><td>-11.173891</td><td>-0.000013</td><td>-0.00001</td><td>0.000003</td></tr><tr><td>3.673196</td><td>1.868602</td><td>0.747848</td><td>1.413039</td><td>2.41468</td><td>22.148678</td><td>16.93441</td><td>0.382699</td><td>7.675811</td><td>29.79488</td><td>1.861252</td><td>-1.921473</td><td>1.104192</td><td>1.519435</td><td>-0.000056</td><td>0.00004</td><td>0.000002</td><td>2.042028</td><td>1.329653</td><td>2.154482</td><td>18.417368</td><td>-10.428535</td><td>-1.052421</td><td>17.085024</td><td>-17.805677</td><td>-4.672045</td><td>-1.53115</td><td>-0.613227</td><td>3.98917</td><td>-0.000044</td><td>0.000014</td><td>-0.000017</td><td>-0.297161</td><td>-1.708823</td><td>-0.600865</td><td>14.44687</td><td>-8.56288</td><td>&hellip;</td><td>-3.023283</td><td>-0.954618</td><td>0.412684</td><td>0.128849</td><td>-0.000026</td><td>0.000056</td><td>0.00002</td><td>-1.219281</td><td>-1.077261</td><td>-1.202894</td><td>15.535733</td><td>5.227983</td><td>12.074461</td><td>14.509678</td><td>0.527365</td><td>8.936774</td><td>0.896412</td><td>-0.240919</td><td>-0.881539</td><td>-0.000057</td><td>-0.000003</td><td>0.000003</td><td>-0.773341</td><td>-1.016428</td><td>-0.571992</td><td>11.640657</td><td>-36.19593</td><td>4.781682</td><td>14.760671</td><td>-39.589226</td><td>-2.773383</td><td>4.224969</td><td>1.359179</td><td>-11.255657</td><td>-0.000013</td><td>-0.000009</td><td>0.000003</td></tr><tr><td>3.632607</td><td>1.886607</td><td>0.747814</td><td>1.412207</td><td>2.416634</td><td>21.263687</td><td>16.551712</td><td>1.530794</td><td>7.682993</td><td>28.543432</td><td>2.291491</td><td>-1.837977</td><td>1.077993</td><td>1.480403</td><td>-0.000057</td><td>0.000039</td><td>0.000002</td><td>2.045894</td><td>1.324562</td><td>2.154905</td><td>17.819401</td><td>-10.141511</td><td>-1.339445</td><td>16.364368</td><td>-17.38789</td><td>-5.049611</td><td>-1.555486</td><td>-0.646668</td><td>3.957593</td><td>-0.000044</td><td>0.000014</td><td>-0.000017</td><td>-0.299796</td><td>-1.707663</td><td>-0.597384</td><td>14.733893</td><td>-8.060588</td><td>&hellip;</td><td>-1.826597</td><td>-0.83637</td><td>0.425978</td><td>0.145768</td><td>-0.000026</td><td>0.000056</td><td>0.00002</td><td>-1.218376</td><td>-1.07854</td><td>-1.202877</td><td>15.52905</td><td>5.26924</td><td>11.89087</td><td>14.425472</td><td>0.73271</td><td>8.95114</td><td>0.884747</td><td>-0.23853</td><td>-0.903225</td><td>-0.000057</td><td>-0.000004</td><td>0.000003</td><td>-0.763785</td><td>-1.021142</td><td>-0.580019</td><td>9.797062</td><td>-32.806915</td><td>4.297307</td><td>13.130579</td><td>-36.24337</td><td>-3.003325</td><td>4.184501</td><td>1.345332</td><td>-11.337423</td><td>-0.000013</td><td>-0.000009</td><td>0.000004</td></tr><tr><td>3.648477</td><td>1.936351</td><td>0.74778</td><td>1.411373</td><td>2.418588</td><td>20.378698</td><td>16.169014</td><td>2.67889</td><td>7.690176</td><td>27.291983</td><td>2.721729</td><td>-1.754481</td><td>1.051794</td><td>1.441371</td><td>-0.000057</td><td>0.000039</td><td>0.000002</td><td>2.049754</td><td>1.319464</td><td>2.15532</td><td>17.221434</td><td>-9.854487</td><td>-1.626469</td><td>15.643714</td><td>-16.970102</td><td>-5.427176</td><td>-1.579821</td><td>-0.680109</td><td>3.926016</td><td>-0.000044</td><td>0.000014</td><td>-0.000017</td><td>-0.302428</td><td>-1.706498</td><td>-0.593903</td><td>15.020918</td><td>-7.558296</td><td>&hellip;</td><td>-0.629912</td><td>-0.718123</td><td>0.439273</td><td>0.162688</td><td>-0.000026</td><td>0.000056</td><td>0.00002</td><td>-1.21747</td><td>-1.079818</td><td>-1.20286</td><td>15.522367</td><td>5.310498</td><td>11.707278</td><td>14.341268</td><td>0.938054</td><td>8.965508</td><td>0.873082</td><td>-0.236141</td><td>-0.924911</td><td>-0.000057</td><td>-0.000004</td><td>0.000004</td><td>-0.754205</td><td>-1.02583</td><td>-0.588032</td><td>7.953466</td><td>-29.417902</td><td>3.812932</td><td>11.500486</td><td>-32.897514</td><td>-3.233266</td><td>4.144032</td><td>1.331485</td><td>-11.41919</td><td>-0.000013</td><td>-0.000008</td><td>0.000004</td></tr><tr><td>&hellip;</td><td>&hellip;</td><td>&hellip;</td><td>&hellip;</td><td>&hellip;</td><td>&hellip;</td><td>&hellip;</td><td>&hellip;</td><td>&hellip;</td><td>&hellip;</td><td>&hellip;</td><td>&hellip;</td><td>&hellip;</td><td>&hellip;</td><td>&hellip;</td><td>&hellip;</td><td>&hellip;</td><td>&hellip;</td><td>&hellip;</td><td>&hellip;</td><td>&hellip;</td><td>&hellip;</td><td>&hellip;</td><td>&hellip;</td><td>&hellip;</td><td>&hellip;</td><td>&hellip;</td><td>&hellip;</td><td>&hellip;</td><td>&hellip;</td><td>&hellip;</td><td>&hellip;</td><td>&hellip;</td><td>&hellip;</td><td>&hellip;</td><td>&hellip;</td><td>&hellip;</td><td>&hellip;</td><td>&hellip;</td><td>&hellip;</td><td>&hellip;</td><td>&hellip;</td><td>&hellip;</td><td>&hellip;</td><td>&hellip;</td><td>&hellip;</td><td>&hellip;</td><td>&hellip;</td><td>&hellip;</td><td>&hellip;</td><td>&hellip;</td><td>&hellip;</td><td>&hellip;</td><td>&hellip;</td><td>&hellip;</td><td>&hellip;</td><td>&hellip;</td><td>&hellip;</td><td>&hellip;</td><td>&hellip;</td><td>&hellip;</td><td>&hellip;</td><td>&hellip;</td><td>&hellip;</td><td>&hellip;</td><td>&hellip;</td><td>&hellip;</td><td>&hellip;</td><td>&hellip;</td><td>&hellip;</td><td>&hellip;</td><td>&hellip;</td><td>&hellip;</td><td>&hellip;</td><td>&hellip;</td></tr><tr><td>3.36863</td><td>3.113719</td><td>0.051011</td><td>0.432243</td><td>0.493236</td><td>13.514042</td><td>0.0</td><td>3.348612</td><td>13.050794</td><td>-1.09415</td><td>2.091335</td><td>-0.20661</td><td>-0.18105</td><td>0.271841</td><td>-0.000009</td><td>0.00001</td><td>-0.000002</td><td>0.410714</td><td>0.431232</td><td>0.478609</td><td>4.903325</td><td>1.195933</td><td>1.674306</td><td>4.177882</td><td>-0.135272</td><td>0.092177</td><td>0.134456</td><td>-0.033015</td><td>0.542351</td><td>-0.000008</td><td>0.000006</td><td>-0.000004</td><td>-0.073846</td><td>-0.434013</td><td>-0.160549</td><td>3.109426</td><td>-0.239187</td><td>&hellip;</td><td>-1.383348</td><td>0.721969</td><td>-0.17562</td><td>-1.557622</td><td>-0.000025</td><td>0.000056</td><td>0.000025</td><td>-1.274365</td><td>-1.015007</td><td>-1.273714</td><td>15.280559</td><td>-0.271924</td><td>-0.912361</td><td>14.465921</td><td>-6.119982</td><td>-2.739788</td><td>-0.332989</td><td>0.346541</td><td>-0.835374</td><td>-0.000056</td><td>-0.000006</td><td>0.000006</td><td>-1.225926</td><td>-0.710987</td><td>-0.192104</td><td>3.379795</td><td>-11.331909</td><td>5.760244</td><td>4.06633</td><td>-15.719336</td><td>-1.243285</td><td>0.430456</td><td>0.449772</td><td>-3.6029</td><td>0.000004</td><td>-0.00003</td><td>-0.000011</td></tr><tr><td>3.404031</td><td>3.123485</td><td>0.040809</td><td>0.345794</td><td>0.394589</td><td>10.811234</td><td>0.0</td><td>2.67889</td><td>10.440635</td><td>-0.87532</td><td>1.673068</td><td>-0.165288</td><td>-0.14484</td><td>0.217473</td><td>-0.000007</td><td>0.000008</td><td>-0.000002</td><td>0.328571</td><td>0.344986</td><td>0.382887</td><td>3.92266</td><td>0.956746</td><td>1.339445</td><td>3.342306</td><td>-0.108218</td><td>0.073741</td><td>0.107565</td><td>-0.026412</td><td>0.433881</td><td>-0.000007</td><td>0.000004</td><td>-0.000003</td><td>-0.059076</td><td>-0.34721</td><td>-0.128439</td><td>2.48754</td><td>-0.191349</td><td>&hellip;</td><td>-1.241845</td><td>0.687368</td><td>-0.154293</td><td>-1.391175</td><td>-0.000023</td><td>0.00005</td><td>0.000023</td><td>-1.146738</td><td>-0.91363</td><td>-1.146803</td><td>13.78686</td><td>-0.203937</td><td>-0.867546</td><td>12.947264</td><td>-5.380857</td><td>-2.590989</td><td>-0.307517</td><td>0.310527</td><td>-0.730587</td><td>-0.00005</td><td>-0.000005</td><td>0.000005</td><td>-1.102457</td><td>-0.640854</td><td>-0.174453</td><td>3.444287</td><td>-10.061831</td><td>4.943383</td><td>3.518675</td><td>-14.089755</td><td>-1.052264</td><td>0.39123</td><td>0.408466</td><td>-3.282628</td><td>0.000003</td><td>-0.000027</td><td>-0.00001</td></tr><tr><td>3.42875</td><td>3.111278</td><td>0.030607</td><td>0.259346</td><td>0.295942</td><td>8.108425</td><td>0.0</td><td>2.009167</td><td>7.830476</td><td>-0.65649</td><td>1.254801</td><td>-0.123966</td><td>-0.10863</td><td>0.163105</td><td>-0.000006</td><td>0.000006</td><td>-0.000001</td><td>0.246428</td><td>0.258739</td><td>0.287165</td><td>2.941995</td><td>0.71756</td><td>1.004584</td><td>2.506729</td><td>-0.081163</td><td>0.055306</td><td>0.080674</td><td>-0.019809</td><td>0.325411</td><td>-0.000005</td><td>0.000003</td><td>-0.000003</td><td>-0.044307</td><td>-0.260408</td><td>-0.096329</td><td>1.865655</td><td>-0.143512</td><td>&hellip;</td><td>-0.931383</td><td>0.515526</td><td>-0.11572</td><td>-1.043381</td><td>-0.000017</td><td>0.000038</td><td>0.000017</td><td>-0.860053</td><td>-0.685222</td><td>-0.860103</td><td>10.340145</td><td>-0.152953</td><td>-0.65066</td><td>9.710447</td><td>-4.035643</td><td>-1.943241</td><td>-0.230638</td><td>0.232895</td><td>-0.54794</td><td>-0.000038</td><td>-0.000004</td><td>0.000004</td><td>-0.826843</td><td>-0.480641</td><td>-0.13084</td><td>2.583215</td><td>-7.546373</td><td>3.707537</td><td>2.639006</td><td>-10.567316</td><td>-0.789198</td><td>0.293423</td><td>0.306349</td><td>-2.461971</td><td>0.000003</td><td>-0.00002</td><td>-0.000008</td></tr><tr><td>3.399148</td><td>3.1067</td><td>0.020404</td><td>0.172897</td><td>0.197294</td><td>5.405617</td><td>0.0</td><td>1.339445</td><td>5.220317</td><td>-0.43766</td><td>0.836534</td><td>-0.082644</td><td>-0.07242</td><td>0.108736</td><td>-0.000004</td><td>0.000004</td><td>-8.4000e-7</td><td>0.164286</td><td>0.172493</td><td>0.191444</td><td>1.96133</td><td>0.478373</td><td>0.669722</td><td>1.671153</td><td>-0.054109</td><td>0.036871</td><td>0.053783</td><td>-0.013206</td><td>0.21694</td><td>-0.000003</td><td>0.000002</td><td>-0.000002</td><td>-0.029538</td><td>-0.173605</td><td>-0.06422</td><td>1.24377</td><td>-0.095675</td><td>&hellip;</td><td>-0.620922</td><td>0.343684</td><td>-0.077147</td><td>-0.695587</td><td>-0.000011</td><td>0.000025</td><td>0.000011</td><td>-0.573369</td><td>-0.456815</td><td>-0.573402</td><td>6.89343</td><td>-0.101968</td><td>-0.433773</td><td>6.473631</td><td>-2.690428</td><td>-1.295494</td><td>-0.153759</td><td>0.155264</td><td>-0.365294</td><td>-0.000025</td><td>-0.000003</td><td>0.000003</td><td>-0.551229</td><td>-0.320427</td><td>-0.087226</td><td>1.722143</td><td>-5.030915</td><td>2.471692</td><td>1.759338</td><td>-7.044878</td><td>-0.526132</td><td>0.195615</td><td>0.204233</td><td>-1.641314</td><td>0.000002</td><td>-0.000013</td><td>-0.000005</td></tr><tr><td>3.391519</td><td>3.118297</td><td>0.010202</td><td>0.086449</td><td>0.098647</td><td>2.702808</td><td>0.0</td><td>0.669722</td><td>2.610159</td><td>-0.21883</td><td>0.418267</td><td>-0.041322</td><td>-0.03621</td><td>0.054368</td><td>-0.000002</td><td>0.000002</td><td>-4.2000e-7</td><td>0.082143</td><td>0.086246</td><td>0.095722</td><td>0.980665</td><td>0.239187</td><td>0.334861</td><td>0.835576</td><td>-0.027054</td><td>0.018435</td><td>0.026891</td><td>-0.006603</td><td>0.10847</td><td>-0.000002</td><td>0.000001</td><td>-8.7000e-7</td><td>-0.014769</td><td>-0.086803</td><td>-0.03211</td><td>0.621885</td><td>-0.047837</td><td>&hellip;</td><td>-0.310461</td><td>0.171842</td><td>-0.038573</td><td>-0.347794</td><td>-0.000006</td><td>0.000013</td><td>0.000006</td><td>-0.286684</td><td>-0.228407</td><td>-0.286701</td><td>3.446715</td><td>-0.050984</td><td>-0.216887</td><td>3.236816</td><td>-1.345214</td><td>-0.647747</td><td>-0.076879</td><td>0.077632</td><td>-0.182647</td><td>-0.000013</td><td>-0.000001</td><td>0.000001</td><td>-0.275614</td><td>-0.160214</td><td>-0.043613</td><td>0.861072</td><td>-2.515458</td><td>1.235846</td><td>0.879669</td><td>-3.522439</td><td>-0.263066</td><td>0.097808</td><td>0.102116</td><td>-0.820657</td><td>8.5691e-7</td><td>-0.000007</td><td>-0.000003</td></tr></tbody></table></div>"
      ],
      "text/plain": [
       "shape: (20_000, 107)\n",
       "┌───────────┬───────────┬───────────┬───────────┬───┬───────────┬───────────┬───────────┬──────────┐\n",
       "│ Right     ┆ Left Foot ┆ Global    ┆ Global    ┆ … ┆ gyro_Foot ┆ mag_Foot_ ┆ mag_Foot_ ┆ mag_Foot │\n",
       "│ Foot Sens ┆ Sensor.LF ┆ Angle_Foo ┆ Angle_Foo ┆   ┆ _R.z      ┆ R.x       ┆ R.y       ┆ _R.z     │\n",
       "│ or.RFS    ┆ S         ┆ t_L.x     ┆ t_L.y     ┆   ┆ ---       ┆ ---       ┆ ---       ┆ ---      │\n",
       "│ ---       ┆ ---       ┆ ---       ┆ ---       ┆   ┆ f64       ┆ f64       ┆ f64       ┆ f64      │\n",
       "│ f64       ┆ f64       ┆ f64       ┆ f64       ┆   ┆           ┆           ┆           ┆          │\n",
       "╞═══════════╪═══════════╪═══════════╪═══════════╪═══╪═══════════╪═══════════╪═══════════╪══════════╡\n",
       "│ 3.661904  ┆ 1.908885  ┆ 0.747913  ┆ 1.414698  ┆ … ┆ -11.09212 ┆ -0.000013 ┆ -0.00001  ┆ 0.000003 │\n",
       "│           ┆           ┆           ┆           ┆   ┆ 4         ┆           ┆           ┆          │\n",
       "│ 3.644509  ┆ 1.8921    ┆ 0.74788   ┆ 1.413869  ┆ … ┆ -11.17389 ┆ -0.000013 ┆ -0.00001  ┆ 0.000003 │\n",
       "│           ┆           ┆           ┆           ┆   ┆ 1         ┆           ┆           ┆          │\n",
       "│ 3.673196  ┆ 1.868602  ┆ 0.747848  ┆ 1.413039  ┆ … ┆ -11.25565 ┆ -0.000013 ┆ -0.000009 ┆ 0.000003 │\n",
       "│           ┆           ┆           ┆           ┆   ┆ 7         ┆           ┆           ┆          │\n",
       "│ 3.632607  ┆ 1.886607  ┆ 0.747814  ┆ 1.412207  ┆ … ┆ -11.33742 ┆ -0.000013 ┆ -0.000009 ┆ 0.000004 │\n",
       "│           ┆           ┆           ┆           ┆   ┆ 3         ┆           ┆           ┆          │\n",
       "│ 3.648477  ┆ 1.936351  ┆ 0.74778   ┆ 1.411373  ┆ … ┆ -11.41919 ┆ -0.000013 ┆ -0.000008 ┆ 0.000004 │\n",
       "│ …         ┆ …         ┆ …         ┆ …         ┆ … ┆ …         ┆ …         ┆ …         ┆ …        │\n",
       "│ 3.36863   ┆ 3.113719  ┆ 0.051011  ┆ 0.432243  ┆ … ┆ -3.6029   ┆ 0.000004  ┆ -0.00003  ┆ -0.00001 │\n",
       "│           ┆           ┆           ┆           ┆   ┆           ┆           ┆           ┆ 1        │\n",
       "│ 3.404031  ┆ 3.123485  ┆ 0.040809  ┆ 0.345794  ┆ … ┆ -3.282628 ┆ 0.000003  ┆ -0.000027 ┆ -0.00001 │\n",
       "│ 3.42875   ┆ 3.111278  ┆ 0.030607  ┆ 0.259346  ┆ … ┆ -2.461971 ┆ 0.000003  ┆ -0.00002  ┆ -0.00000 │\n",
       "│           ┆           ┆           ┆           ┆   ┆           ┆           ┆           ┆ 8        │\n",
       "│ 3.399148  ┆ 3.1067    ┆ 0.020404  ┆ 0.172897  ┆ … ┆ -1.641314 ┆ 0.000002  ┆ -0.000013 ┆ -0.00000 │\n",
       "│           ┆           ┆           ┆           ┆   ┆           ┆           ┆           ┆ 5        │\n",
       "│ 3.391519  ┆ 3.118297  ┆ 0.010202  ┆ 0.086449  ┆ … ┆ -0.820657 ┆ 8.5691e-7 ┆ -0.000007 ┆ -0.00000 │\n",
       "│           ┆           ┆           ┆           ┆   ┆           ┆           ┆           ┆ 3        │\n",
       "└───────────┴───────────┴───────────┴───────────┴───┴───────────┴───────────┴───────────┴──────────┘"
      ]
     },
     "execution_count": 40,
     "metadata": {},
     "output_type": "execute_result"
    }
   ],
   "source": [
    "c3d_contents = c3d(file)\n",
    "\n",
    "analogs = c3d_contents[\"data\"][\"analogs\"]\n",
    "df = pl.DataFrame(analogs[0].T)\n",
    "df.columns = _find_column_names(c3d_contents)\n",
    "# to_remove = [\"Force\", \"Moment\", \"Velocity\", \"Angle.Pitch\", \"Length.Sway\", \"Sway Distance.Sway\"]\n",
    "\n",
    "# columns_to_remove = [\n",
    "#     col for col in df.columns if any(sub in col for sub in to_remove)\n",
    "# ]\n",
    "\n",
    "# df = df.drop(columns_to_remove)\n",
    "\n",
    "placement_labels = ['foot', 'shank', 'thigh', 'pelvis']\n",
    "\n",
    "filtered_columns = [col for col in df.columns if any(label in col.lower() for label in placement_labels)]\n",
    "df_filtered = df.select(filtered_columns)\n",
    "\n",
    "# Display the filtered DataFrame\n",
    "df_filtered"
   ]
  },
  {
   "cell_type": "code",
   "execution_count": 36,
   "metadata": {},
   "outputs": [
    {
     "data": {
      "text/plain": [
       "35.0"
      ]
     },
     "execution_count": 36,
     "metadata": {},
     "output_type": "execute_result"
    }
   ],
   "source": [
    "filtered_columns = [col for col in df.columns if any(label in col.lower() for label in placement_labels)]\n",
    "(len(filtered_columns)-2)/3"
   ]
  },
  {
   "cell_type": "code",
   "execution_count": 55,
   "metadata": {},
   "outputs": [],
   "source": [
    "df1 = (\n",
    "    pl.DataFrame(\n",
    "        {\n",
    "            \"id\":[0,1],\n",
    "            \"values\":[\"a\",\"b\"],\n",
    "        }\n",
    "    )\n",
    ")\n",
    "\n",
    "df2 = (\n",
    "    pl.DataFrame(\n",
    "        {\n",
    "            \"values\":[\"c\",\"d\"],\n",
    "            \"id\":[2,3],\n",
    "            \"fvfvf\":[1,2]\n",
    "        }\n",
    "    )\n",
    ")"
   ]
  },
  {
   "cell_type": "code",
   "execution_count": 56,
   "metadata": {},
   "outputs": [
    {
     "data": {
      "text/html": [
       "<div><style>\n",
       ".dataframe > thead > tr,\n",
       ".dataframe > tbody > tr {\n",
       "  text-align: right;\n",
       "  white-space: pre-wrap;\n",
       "}\n",
       "</style>\n",
       "<small>shape: (4, 2)</small><table border=\"1\" class=\"dataframe\"><thead><tr><th>id</th><th>values</th></tr><tr><td>i64</td><td>str</td></tr></thead><tbody><tr><td>0</td><td>&quot;a&quot;</td></tr><tr><td>1</td><td>&quot;b&quot;</td></tr><tr><td>2</td><td>&quot;c&quot;</td></tr><tr><td>3</td><td>&quot;d&quot;</td></tr></tbody></table></div>"
      ],
      "text/plain": [
       "shape: (4, 2)\n",
       "┌─────┬────────┐\n",
       "│ id  ┆ values │\n",
       "│ --- ┆ ---    │\n",
       "│ i64 ┆ str    │\n",
       "╞═════╪════════╡\n",
       "│ 0   ┆ a      │\n",
       "│ 1   ┆ b      │\n",
       "│ 2   ┆ c      │\n",
       "│ 3   ┆ d      │\n",
       "└─────┴────────┘"
      ]
     },
     "execution_count": 56,
     "metadata": {},
     "output_type": "execute_result"
    }
   ],
   "source": [
    "df2 = df2.select(df1.columns)\n",
    "df1.vstack(df2)"
   ]
  }
 ],
 "metadata": {
  "kernelspec": {
   "display_name": "Python 3",
   "language": "python",
   "name": "python3"
  },
  "language_info": {
   "codemirror_mode": {
    "name": "ipython",
    "version": 3
   },
   "file_extension": ".py",
   "mimetype": "text/x-python",
   "name": "python",
   "nbconvert_exporter": "python",
   "pygments_lexer": "ipython3",
   "version": "3.10.14"
  }
 },
 "nbformat": 4,
 "nbformat_minor": 2
}
