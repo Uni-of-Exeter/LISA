{
 "cells": [
  {
   "cell_type": "markdown",
   "metadata": {},
   "source": [
    "## load data"
   ]
  },
  {
   "cell_type": "code",
   "execution_count": 34,
   "metadata": {},
   "outputs": [],
   "source": [
    "import os\n",
    "from ezc3d import c3d\n",
    "import pandas as pd\n",
    "from lisa.config import RAW_DATA_DIR\n",
    "import numpy as np\n",
    "\n",
    "file = os.path.join(RAW_DATA_DIR, 'Walk2.c3d')"
   ]
  },
  {
   "cell_type": "code",
   "execution_count": 35,
   "metadata": {},
   "outputs": [],
   "source": [
    "c = c3d(file)\n",
    "points = c['data']['points']"
   ]
  },
  {
   "cell_type": "code",
   "execution_count": 7,
   "metadata": {},
   "outputs": [],
   "source": [
    "# Dimensions of the points array\n",
    "# points.shape is (4, number_of_markers, number_of_frames)\n",
    "num_dimensions, num_markers, num_frames = points.shape\n",
    "\n",
    "# We are interested in the first three dimensions (X, Y, Z), so we ignore the residual\n",
    "points_xyz = points[:3, :, :]"
   ]
  },
  {
   "cell_type": "code",
   "execution_count": 8,
   "metadata": {},
   "outputs": [
    {
     "data": {
      "text/plain": [
       "(4, 38, 4000)"
      ]
     },
     "execution_count": 8,
     "metadata": {},
     "output_type": "execute_result"
    }
   ],
   "source": [
    "points.shape"
   ]
  },
  {
   "cell_type": "code",
   "execution_count": 9,
   "metadata": {},
   "outputs": [],
   "source": [
    "# Reshape the points array to a 2D array\n",
    "reshaped_points = points_xyz.reshape(3 * num_markers, num_frames).T"
   ]
  },
  {
   "cell_type": "code",
   "execution_count": 10,
   "metadata": {},
   "outputs": [
    {
     "data": {
      "text/plain": [
       "(4000, 114)"
      ]
     },
     "execution_count": 10,
     "metadata": {},
     "output_type": "execute_result"
    }
   ],
   "source": [
    "reshaped_points.shape"
   ]
  },
  {
   "cell_type": "code",
   "execution_count": 11,
   "metadata": {},
   "outputs": [],
   "source": [
    "# Create a MultiIndex for the DataFrame columns (marker, coordinate)\n",
    "markers = [f\"marker_{i+1}\" for i in range(num_markers)]\n",
    "coords = ['X', 'Y', 'Z']\n",
    "columns = pd.MultiIndex.from_product([markers, coords])"
   ]
  },
  {
   "cell_type": "code",
   "execution_count": 12,
   "metadata": {},
   "outputs": [
    {
     "data": {
      "text/plain": [
       "(114,)"
      ]
     },
     "execution_count": 12,
     "metadata": {},
     "output_type": "execute_result"
    }
   ],
   "source": [
    "columns.shape"
   ]
  },
  {
   "cell_type": "code",
   "execution_count": 13,
   "metadata": {},
   "outputs": [
    {
     "ename": "ValueError",
     "evalue": "Length of values (152000) does not match length of index (4000)",
     "output_type": "error",
     "traceback": [
      "\u001b[0;31m---------------------------------------------------------------------------\u001b[0m",
      "\u001b[0;31mValueError\u001b[0m                                Traceback (most recent call last)",
      "Cell \u001b[0;32mIn[13], line 11\u001b[0m\n\u001b[1;32m      9\u001b[0m \u001b[38;5;66;03m# Add frame number as the first level of the index\u001b[39;00m\n\u001b[1;32m     10\u001b[0m frame_numbers \u001b[38;5;241m=\u001b[39m np\u001b[38;5;241m.\u001b[39mrepeat(np\u001b[38;5;241m.\u001b[39marange(num_frames), num_markers)\n\u001b[0;32m---> 11\u001b[0m \u001b[43mdf\u001b[49m\u001b[43m[\u001b[49m\u001b[38;5;124;43m'\u001b[39;49m\u001b[38;5;124;43mframe\u001b[39;49m\u001b[38;5;124;43m'\u001b[39;49m\u001b[43m]\u001b[49m \u001b[38;5;241m=\u001b[39m frame_numbers\n\u001b[1;32m     12\u001b[0m df\u001b[38;5;241m.\u001b[39mset_index(\u001b[38;5;124m'\u001b[39m\u001b[38;5;124mframe\u001b[39m\u001b[38;5;124m'\u001b[39m, inplace\u001b[38;5;241m=\u001b[39m\u001b[38;5;28;01mTrue\u001b[39;00m)\n",
      "File \u001b[0;32m~/micromamba/envs/LISA/lib/python3.10/site-packages/pandas/core/frame.py:4311\u001b[0m, in \u001b[0;36mDataFrame.__setitem__\u001b[0;34m(self, key, value)\u001b[0m\n\u001b[1;32m   4308\u001b[0m     \u001b[38;5;28mself\u001b[39m\u001b[38;5;241m.\u001b[39m_setitem_array([key], value)\n\u001b[1;32m   4309\u001b[0m \u001b[38;5;28;01melse\u001b[39;00m:\n\u001b[1;32m   4310\u001b[0m     \u001b[38;5;66;03m# set column\u001b[39;00m\n\u001b[0;32m-> 4311\u001b[0m     \u001b[38;5;28;43mself\u001b[39;49m\u001b[38;5;241;43m.\u001b[39;49m\u001b[43m_set_item\u001b[49m\u001b[43m(\u001b[49m\u001b[43mkey\u001b[49m\u001b[43m,\u001b[49m\u001b[43m \u001b[49m\u001b[43mvalue\u001b[49m\u001b[43m)\u001b[49m\n",
      "File \u001b[0;32m~/micromamba/envs/LISA/lib/python3.10/site-packages/pandas/core/frame.py:4524\u001b[0m, in \u001b[0;36mDataFrame._set_item\u001b[0;34m(self, key, value)\u001b[0m\n\u001b[1;32m   4514\u001b[0m \u001b[38;5;28;01mdef\u001b[39;00m \u001b[38;5;21m_set_item\u001b[39m(\u001b[38;5;28mself\u001b[39m, key, value) \u001b[38;5;241m-\u001b[39m\u001b[38;5;241m>\u001b[39m \u001b[38;5;28;01mNone\u001b[39;00m:\n\u001b[1;32m   4515\u001b[0m \u001b[38;5;250m    \u001b[39m\u001b[38;5;124;03m\"\"\"\u001b[39;00m\n\u001b[1;32m   4516\u001b[0m \u001b[38;5;124;03m    Add series to DataFrame in specified column.\u001b[39;00m\n\u001b[1;32m   4517\u001b[0m \n\u001b[0;32m   (...)\u001b[0m\n\u001b[1;32m   4522\u001b[0m \u001b[38;5;124;03m    ensure homogeneity.\u001b[39;00m\n\u001b[1;32m   4523\u001b[0m \u001b[38;5;124;03m    \"\"\"\u001b[39;00m\n\u001b[0;32m-> 4524\u001b[0m     value, refs \u001b[38;5;241m=\u001b[39m \u001b[38;5;28;43mself\u001b[39;49m\u001b[38;5;241;43m.\u001b[39;49m\u001b[43m_sanitize_column\u001b[49m\u001b[43m(\u001b[49m\u001b[43mvalue\u001b[49m\u001b[43m)\u001b[49m\n\u001b[1;32m   4526\u001b[0m     \u001b[38;5;28;01mif\u001b[39;00m (\n\u001b[1;32m   4527\u001b[0m         key \u001b[38;5;129;01min\u001b[39;00m \u001b[38;5;28mself\u001b[39m\u001b[38;5;241m.\u001b[39mcolumns\n\u001b[1;32m   4528\u001b[0m         \u001b[38;5;129;01mand\u001b[39;00m value\u001b[38;5;241m.\u001b[39mndim \u001b[38;5;241m==\u001b[39m \u001b[38;5;241m1\u001b[39m\n\u001b[1;32m   4529\u001b[0m         \u001b[38;5;129;01mand\u001b[39;00m \u001b[38;5;129;01mnot\u001b[39;00m \u001b[38;5;28misinstance\u001b[39m(value\u001b[38;5;241m.\u001b[39mdtype, ExtensionDtype)\n\u001b[1;32m   4530\u001b[0m     ):\n\u001b[1;32m   4531\u001b[0m         \u001b[38;5;66;03m# broadcast across multiple columns if necessary\u001b[39;00m\n\u001b[1;32m   4532\u001b[0m         \u001b[38;5;28;01mif\u001b[39;00m \u001b[38;5;129;01mnot\u001b[39;00m \u001b[38;5;28mself\u001b[39m\u001b[38;5;241m.\u001b[39mcolumns\u001b[38;5;241m.\u001b[39mis_unique \u001b[38;5;129;01mor\u001b[39;00m \u001b[38;5;28misinstance\u001b[39m(\u001b[38;5;28mself\u001b[39m\u001b[38;5;241m.\u001b[39mcolumns, MultiIndex):\n",
      "File \u001b[0;32m~/micromamba/envs/LISA/lib/python3.10/site-packages/pandas/core/frame.py:5266\u001b[0m, in \u001b[0;36mDataFrame._sanitize_column\u001b[0;34m(self, value)\u001b[0m\n\u001b[1;32m   5263\u001b[0m     \u001b[38;5;28;01mreturn\u001b[39;00m _reindex_for_setitem(value, \u001b[38;5;28mself\u001b[39m\u001b[38;5;241m.\u001b[39mindex)\n\u001b[1;32m   5265\u001b[0m \u001b[38;5;28;01mif\u001b[39;00m is_list_like(value):\n\u001b[0;32m-> 5266\u001b[0m     \u001b[43mcom\u001b[49m\u001b[38;5;241;43m.\u001b[39;49m\u001b[43mrequire_length_match\u001b[49m\u001b[43m(\u001b[49m\u001b[43mvalue\u001b[49m\u001b[43m,\u001b[49m\u001b[43m \u001b[49m\u001b[38;5;28;43mself\u001b[39;49m\u001b[38;5;241;43m.\u001b[39;49m\u001b[43mindex\u001b[49m\u001b[43m)\u001b[49m\n\u001b[1;32m   5267\u001b[0m arr \u001b[38;5;241m=\u001b[39m sanitize_array(value, \u001b[38;5;28mself\u001b[39m\u001b[38;5;241m.\u001b[39mindex, copy\u001b[38;5;241m=\u001b[39m\u001b[38;5;28;01mTrue\u001b[39;00m, allow_2d\u001b[38;5;241m=\u001b[39m\u001b[38;5;28;01mTrue\u001b[39;00m)\n\u001b[1;32m   5268\u001b[0m \u001b[38;5;28;01mif\u001b[39;00m (\n\u001b[1;32m   5269\u001b[0m     \u001b[38;5;28misinstance\u001b[39m(value, Index)\n\u001b[1;32m   5270\u001b[0m     \u001b[38;5;129;01mand\u001b[39;00m value\u001b[38;5;241m.\u001b[39mdtype \u001b[38;5;241m==\u001b[39m \u001b[38;5;124m\"\u001b[39m\u001b[38;5;124mobject\u001b[39m\u001b[38;5;124m\"\u001b[39m\n\u001b[0;32m   (...)\u001b[0m\n\u001b[1;32m   5273\u001b[0m     \u001b[38;5;66;03m# TODO: Remove kludge in sanitize_array for string mode when enforcing\u001b[39;00m\n\u001b[1;32m   5274\u001b[0m     \u001b[38;5;66;03m# this deprecation\u001b[39;00m\n",
      "File \u001b[0;32m~/micromamba/envs/LISA/lib/python3.10/site-packages/pandas/core/common.py:573\u001b[0m, in \u001b[0;36mrequire_length_match\u001b[0;34m(data, index)\u001b[0m\n\u001b[1;32m    569\u001b[0m \u001b[38;5;250m\u001b[39m\u001b[38;5;124;03m\"\"\"\u001b[39;00m\n\u001b[1;32m    570\u001b[0m \u001b[38;5;124;03mCheck the length of data matches the length of the index.\u001b[39;00m\n\u001b[1;32m    571\u001b[0m \u001b[38;5;124;03m\"\"\"\u001b[39;00m\n\u001b[1;32m    572\u001b[0m \u001b[38;5;28;01mif\u001b[39;00m \u001b[38;5;28mlen\u001b[39m(data) \u001b[38;5;241m!=\u001b[39m \u001b[38;5;28mlen\u001b[39m(index):\n\u001b[0;32m--> 573\u001b[0m     \u001b[38;5;28;01mraise\u001b[39;00m \u001b[38;5;167;01mValueError\u001b[39;00m(\n\u001b[1;32m    574\u001b[0m         \u001b[38;5;124m\"\u001b[39m\u001b[38;5;124mLength of values \u001b[39m\u001b[38;5;124m\"\u001b[39m\n\u001b[1;32m    575\u001b[0m         \u001b[38;5;124mf\u001b[39m\u001b[38;5;124m\"\u001b[39m\u001b[38;5;124m(\u001b[39m\u001b[38;5;132;01m{\u001b[39;00m\u001b[38;5;28mlen\u001b[39m(data)\u001b[38;5;132;01m}\u001b[39;00m\u001b[38;5;124m) \u001b[39m\u001b[38;5;124m\"\u001b[39m\n\u001b[1;32m    576\u001b[0m         \u001b[38;5;124m\"\u001b[39m\u001b[38;5;124mdoes not match length of index \u001b[39m\u001b[38;5;124m\"\u001b[39m\n\u001b[1;32m    577\u001b[0m         \u001b[38;5;124mf\u001b[39m\u001b[38;5;124m\"\u001b[39m\u001b[38;5;124m(\u001b[39m\u001b[38;5;132;01m{\u001b[39;00m\u001b[38;5;28mlen\u001b[39m(index)\u001b[38;5;132;01m}\u001b[39;00m\u001b[38;5;124m)\u001b[39m\u001b[38;5;124m\"\u001b[39m\n\u001b[1;32m    578\u001b[0m     )\n",
      "\u001b[0;31mValueError\u001b[0m: Length of values (152000) does not match length of index (4000)"
     ]
    }
   ],
   "source": [
    "# Create a MultiIndex for the DataFrame columns (marker, coordinate)\n",
    "markers = [f\"marker_{i+1}\" for i in range(num_markers)]\n",
    "coords = ['X', 'Y', 'Z']\n",
    "columns = pd.MultiIndex.from_product([markers, coords])\n",
    "\n",
    "# Convert to DataFrame\n",
    "df = pd.DataFrame(reshaped_points, columns=columns)\n",
    "\n",
    "# Add frame number as the first level of the index\n",
    "frame_numbers = np.repeat(np.arange(num_frames), num_markers)\n",
    "df['frame'] = frame_numbers\n",
    "df.set_index('frame', inplace=True)"
   ]
  },
  {
   "cell_type": "markdown",
   "metadata": {},
   "source": [
    "## kinetics toolkit"
   ]
  },
  {
   "cell_type": "code",
   "execution_count": 14,
   "metadata": {},
   "outputs": [],
   "source": [
    "import kineticstoolkit as ktk"
   ]
  },
  {
   "cell_type": "code",
   "execution_count": 15,
   "metadata": {},
   "outputs": [
    {
     "name": "stderr",
     "output_type": "stream",
     "text": [
      "/Users/tomwilson/micromamba/envs/LISA/lib/python3.10/site-packages/kineticstoolkit/files.py:512: UserWarning: In the specified file, points are expressed in mm. They were automatically converted to meters by scaling them by 0.001. Please note that if this file also contains calculated values such as angles, powers, etc., they were also (wrongly) scaled by 0.001. Consult https://kineticstoolkit.uqam.ca/doc/api/ktk.read_c3d.html for more information. You can mute this warning by explicitely setting `convert_point_unit` to either True or False.\n",
      "  warnings.warn(\n",
      "/Users/tomwilson/micromamba/envs/LISA/lib/python3.10/site-packages/kineticstoolkit/timeseries.py:1059: UserWarning: A data info with same data_key (Global Angle.x) and info_key (Unit) already exists in ths TimeSeries. Please use overwrite=True to suppress this warning. This warning will become an error in Kinetics Toolkit 1.0.\n",
      "  warnings.warn(\n",
      "/Users/tomwilson/micromamba/envs/LISA/lib/python3.10/site-packages/kineticstoolkit/timeseries.py:1059: UserWarning: A data info with same data_key (Global Angle.y) and info_key (Unit) already exists in ths TimeSeries. Please use overwrite=True to suppress this warning. This warning will become an error in Kinetics Toolkit 1.0.\n",
      "  warnings.warn(\n",
      "/Users/tomwilson/micromamba/envs/LISA/lib/python3.10/site-packages/kineticstoolkit/timeseries.py:1059: UserWarning: A data info with same data_key (Global Angle.z) and info_key (Unit) already exists in ths TimeSeries. Please use overwrite=True to suppress this warning. This warning will become an error in Kinetics Toolkit 1.0.\n",
      "  warnings.warn(\n",
      "/Users/tomwilson/micromamba/envs/LISA/lib/python3.10/site-packages/kineticstoolkit/timeseries.py:1059: UserWarning: A data info with same data_key (HighG.x) and info_key (Unit) already exists in ths TimeSeries. Please use overwrite=True to suppress this warning. This warning will become an error in Kinetics Toolkit 1.0.\n",
      "  warnings.warn(\n",
      "/Users/tomwilson/micromamba/envs/LISA/lib/python3.10/site-packages/kineticstoolkit/timeseries.py:1059: UserWarning: A data info with same data_key (HighG.y) and info_key (Unit) already exists in ths TimeSeries. Please use overwrite=True to suppress this warning. This warning will become an error in Kinetics Toolkit 1.0.\n",
      "  warnings.warn(\n",
      "/Users/tomwilson/micromamba/envs/LISA/lib/python3.10/site-packages/kineticstoolkit/timeseries.py:1059: UserWarning: A data info with same data_key (HighG.z) and info_key (Unit) already exists in ths TimeSeries. Please use overwrite=True to suppress this warning. This warning will become an error in Kinetics Toolkit 1.0.\n",
      "  warnings.warn(\n",
      "/Users/tomwilson/micromamba/envs/LISA/lib/python3.10/site-packages/kineticstoolkit/timeseries.py:1059: UserWarning: A data info with same data_key (accel.x) and info_key (Unit) already exists in ths TimeSeries. Please use overwrite=True to suppress this warning. This warning will become an error in Kinetics Toolkit 1.0.\n",
      "  warnings.warn(\n",
      "/Users/tomwilson/micromamba/envs/LISA/lib/python3.10/site-packages/kineticstoolkit/timeseries.py:1059: UserWarning: A data info with same data_key (accel.y) and info_key (Unit) already exists in ths TimeSeries. Please use overwrite=True to suppress this warning. This warning will become an error in Kinetics Toolkit 1.0.\n",
      "  warnings.warn(\n",
      "/Users/tomwilson/micromamba/envs/LISA/lib/python3.10/site-packages/kineticstoolkit/timeseries.py:1059: UserWarning: A data info with same data_key (accel.z) and info_key (Unit) already exists in ths TimeSeries. Please use overwrite=True to suppress this warning. This warning will become an error in Kinetics Toolkit 1.0.\n",
      "  warnings.warn(\n",
      "/Users/tomwilson/micromamba/envs/LISA/lib/python3.10/site-packages/kineticstoolkit/timeseries.py:1059: UserWarning: A data info with same data_key (gyro.x) and info_key (Unit) already exists in ths TimeSeries. Please use overwrite=True to suppress this warning. This warning will become an error in Kinetics Toolkit 1.0.\n",
      "  warnings.warn(\n",
      "/Users/tomwilson/micromamba/envs/LISA/lib/python3.10/site-packages/kineticstoolkit/timeseries.py:1059: UserWarning: A data info with same data_key (gyro.y) and info_key (Unit) already exists in ths TimeSeries. Please use overwrite=True to suppress this warning. This warning will become an error in Kinetics Toolkit 1.0.\n",
      "  warnings.warn(\n",
      "/Users/tomwilson/micromamba/envs/LISA/lib/python3.10/site-packages/kineticstoolkit/timeseries.py:1059: UserWarning: A data info with same data_key (gyro.z) and info_key (Unit) already exists in ths TimeSeries. Please use overwrite=True to suppress this warning. This warning will become an error in Kinetics Toolkit 1.0.\n",
      "  warnings.warn(\n",
      "/Users/tomwilson/micromamba/envs/LISA/lib/python3.10/site-packages/kineticstoolkit/timeseries.py:1059: UserWarning: A data info with same data_key (mag.x) and info_key (Unit) already exists in ths TimeSeries. Please use overwrite=True to suppress this warning. This warning will become an error in Kinetics Toolkit 1.0.\n",
      "  warnings.warn(\n",
      "/Users/tomwilson/micromamba/envs/LISA/lib/python3.10/site-packages/kineticstoolkit/timeseries.py:1059: UserWarning: A data info with same data_key (mag.y) and info_key (Unit) already exists in ths TimeSeries. Please use overwrite=True to suppress this warning. This warning will become an error in Kinetics Toolkit 1.0.\n",
      "  warnings.warn(\n",
      "/Users/tomwilson/micromamba/envs/LISA/lib/python3.10/site-packages/kineticstoolkit/timeseries.py:1059: UserWarning: A data info with same data_key (mag.z) and info_key (Unit) already exists in ths TimeSeries. Please use overwrite=True to suppress this warning. This warning will become an error in Kinetics Toolkit 1.0.\n",
      "  warnings.warn(\n"
     ]
    },
    {
     "data": {
      "text/plain": [
       "{'Points': TimeSeries with attributes:\n",
       "          time: <array of shape (4000,)>\n",
       "          data: <dict with 38 entries>\n",
       "     time_info: {'Unit': 's'}\n",
       "     data_info: <dict with 38 entries>\n",
       "        events: [],\n",
       " 'Analogs': TimeSeries with attributes:\n",
       "          time: <array of shape (20000,)>\n",
       "          data: <dict with 27 entries>\n",
       "     time_info: {'Unit': 's'}\n",
       "     data_info: <dict with 27 entries>\n",
       "        events: []}"
      ]
     },
     "execution_count": 15,
     "metadata": {},
     "output_type": "execute_result"
    }
   ],
   "source": [
    "c3d_contents = ktk.read_c3d(file)\n",
    "\n",
    "c3d_contents"
   ]
  },
  {
   "cell_type": "code",
   "execution_count": 16,
   "metadata": {},
   "outputs": [
    {
     "data": {
      "text/plain": [
       "dict_keys(['LASIS', 'LPSIS', 'RPSIS', 'LLKN', 'LMKN', 'LT4', 'LT1', 'LT2', 'LT3', 'LLM', 'LMM', 'LSK4', 'LSK1', 'LSK2', 'LSK3', 'LCALC', 'LMH5', 'LMH1', 'RLKN', 'RMKN', 'RT4', 'RT1', 'RT2', 'RT3', 'RLM', 'RMM', 'RSK1', 'RSK4', 'RSK3', 'RSK2', 'RCALC', 'RMH5', 'RMH1', 'RASIS', '*34', '*35', '*36', '*37'])"
      ]
     },
     "execution_count": 16,
     "metadata": {},
     "output_type": "execute_result"
    }
   ],
   "source": [
    "c3d_contents[\"Points\"].data.keys()"
   ]
  },
  {
   "cell_type": "code",
   "execution_count": 17,
   "metadata": {},
   "outputs": [
    {
     "data": {
      "image/png": "[encoded data removed]",
      "text/plain": [
       "<Figure size 640x480 with 1 Axes>"
      ]
     },
     "metadata": {},
     "output_type": "display_data"
    }
   ],
   "source": [
    "c3d_contents[\"Points\"].plot([\"LASIS\"])"
   ]
  },
  {
   "cell_type": "code",
   "execution_count": 25,
   "metadata": {},
   "outputs": [
    {
     "data": {
      "text/plain": [
       "27"
      ]
     },
     "execution_count": 25,
     "metadata": {},
     "output_type": "execute_result"
    }
   ],
   "source": [
    "len(c3d_contents[\"Analogs\"].data.keys()) "
   ]
  },
  {
   "cell_type": "code",
   "execution_count": 26,
   "metadata": {},
   "outputs": [],
   "source": [
    "c3d_contents[\"Analogs\"].plot(['Force.Fz1', 'Force.Fz2'])"
   ]
  },
  {
   "cell_type": "code",
   "execution_count": 20,
   "metadata": {},
   "outputs": [
    {
     "data": {
      "image/png": "[encoded data removed]",
      "text/plain": [
       "<Figure size 640x480 with 1 Axes>"
      ]
     },
     "metadata": {},
     "output_type": "display_data"
    }
   ],
   "source": [
    "c3d_contents[\"Analogs\"].plot(['Moment.Mz1', 'Moment.Mz2'])"
   ]
  },
  {
   "cell_type": "code",
   "execution_count": 36,
   "metadata": {},
   "outputs": [],
   "source": [
    "# Animation\n",
    "%matplotlib qt5\n",
    "markers = c3d_contents[\"Points\"]\n",
    "p = ktk.Player(markers)\n",
    "p.up = 'z'\n",
    "p.play()"
   ]
  },
  {
   "cell_type": "markdown",
   "metadata": {},
   "source": [
    "## Timeseries object"
   ]
  },
  {
   "cell_type": "code",
   "execution_count": 27,
   "metadata": {},
   "outputs": [],
   "source": [
    "ts = c3d_contents[\"Points\"]\n",
    "\n",
    "df = ts.to_dataframe()"
   ]
  },
  {
   "cell_type": "code",
   "execution_count": 28,
   "metadata": {},
   "outputs": [],
   "source": [
    "# remove 4th dimension\n",
    "for key in ts.data.keys():\n",
    "    ts.data[key] = ts.data[key][:, :3]\n"
   ]
  },
  {
   "cell_type": "code",
   "execution_count": 29,
   "metadata": {},
   "outputs": [
    {
     "data": {
      "text/html": [
       "<div>\n",
       "<style scoped>\n",
       "    .dataframe tbody tr th:only-of-type {\n",
       "        vertical-align: middle;\n",
       "    }\n",
       "\n",
       "    .dataframe tbody tr th {\n",
       "        vertical-align: top;\n",
       "    }\n",
       "\n",
       "    .dataframe thead th {\n",
       "        text-align: right;\n",
       "    }\n",
       "</style>\n",
       "<table border=\"1\" class=\"dataframe\">\n",
       "  <thead>\n",
       "    <tr style=\"text-align: right;\">\n",
       "      <th></th>\n",
       "      <th>LASIS[0]</th>\n",
       "      <th>LASIS[1]</th>\n",
       "      <th>LASIS[2]</th>\n",
       "      <th>LPSIS[0]</th>\n",
       "      <th>LPSIS[1]</th>\n",
       "      <th>LPSIS[2]</th>\n",
       "      <th>RPSIS[0]</th>\n",
       "      <th>RPSIS[1]</th>\n",
       "      <th>RPSIS[2]</th>\n",
       "      <th>LLKN[0]</th>\n",
       "      <th>...</th>\n",
       "      <th>*34[2]</th>\n",
       "      <th>*35[0]</th>\n",
       "      <th>*35[1]</th>\n",
       "      <th>*35[2]</th>\n",
       "      <th>*36[0]</th>\n",
       "      <th>*36[1]</th>\n",
       "      <th>*36[2]</th>\n",
       "      <th>*37[0]</th>\n",
       "      <th>*37[1]</th>\n",
       "      <th>*37[2]</th>\n",
       "    </tr>\n",
       "  </thead>\n",
       "  <tbody>\n",
       "    <tr>\n",
       "      <th>0.000</th>\n",
       "      <td>0.138064</td>\n",
       "      <td>-0.177810</td>\n",
       "      <td>0.988160</td>\n",
       "      <td>-0.004349</td>\n",
       "      <td>-0.012974</td>\n",
       "      <td>1.014894</td>\n",
       "      <td>-0.066879</td>\n",
       "      <td>-0.019704</td>\n",
       "      <td>1.012174</td>\n",
       "      <td>0.168638</td>\n",
       "      <td>...</td>\n",
       "      <td>NaN</td>\n",
       "      <td>NaN</td>\n",
       "      <td>NaN</td>\n",
       "      <td>NaN</td>\n",
       "      <td>NaN</td>\n",
       "      <td>NaN</td>\n",
       "      <td>NaN</td>\n",
       "      <td>NaN</td>\n",
       "      <td>NaN</td>\n",
       "      <td>NaN</td>\n",
       "    </tr>\n",
       "    <tr>\n",
       "      <th>0.005</th>\n",
       "      <td>0.137377</td>\n",
       "      <td>-0.178196</td>\n",
       "      <td>0.988074</td>\n",
       "      <td>-0.004678</td>\n",
       "      <td>-0.012691</td>\n",
       "      <td>1.015613</td>\n",
       "      <td>-0.066624</td>\n",
       "      <td>-0.020409</td>\n",
       "      <td>1.013053</td>\n",
       "      <td>0.168834</td>\n",
       "      <td>...</td>\n",
       "      <td>NaN</td>\n",
       "      <td>NaN</td>\n",
       "      <td>NaN</td>\n",
       "      <td>NaN</td>\n",
       "      <td>NaN</td>\n",
       "      <td>NaN</td>\n",
       "      <td>NaN</td>\n",
       "      <td>NaN</td>\n",
       "      <td>NaN</td>\n",
       "      <td>NaN</td>\n",
       "    </tr>\n",
       "    <tr>\n",
       "      <th>0.010</th>\n",
       "      <td>0.137625</td>\n",
       "      <td>-0.179897</td>\n",
       "      <td>0.988547</td>\n",
       "      <td>-0.004836</td>\n",
       "      <td>-0.012889</td>\n",
       "      <td>1.015838</td>\n",
       "      <td>-0.066813</td>\n",
       "      <td>-0.020640</td>\n",
       "      <td>1.013551</td>\n",
       "      <td>0.168931</td>\n",
       "      <td>...</td>\n",
       "      <td>NaN</td>\n",
       "      <td>NaN</td>\n",
       "      <td>NaN</td>\n",
       "      <td>NaN</td>\n",
       "      <td>NaN</td>\n",
       "      <td>NaN</td>\n",
       "      <td>NaN</td>\n",
       "      <td>NaN</td>\n",
       "      <td>NaN</td>\n",
       "      <td>NaN</td>\n",
       "    </tr>\n",
       "    <tr>\n",
       "      <th>0.015</th>\n",
       "      <td>0.137052</td>\n",
       "      <td>-0.180237</td>\n",
       "      <td>0.988994</td>\n",
       "      <td>-0.005195</td>\n",
       "      <td>-0.013000</td>\n",
       "      <td>1.016010</td>\n",
       "      <td>-0.067198</td>\n",
       "      <td>-0.020851</td>\n",
       "      <td>1.014036</td>\n",
       "      <td>0.169155</td>\n",
       "      <td>...</td>\n",
       "      <td>NaN</td>\n",
       "      <td>NaN</td>\n",
       "      <td>NaN</td>\n",
       "      <td>NaN</td>\n",
       "      <td>NaN</td>\n",
       "      <td>NaN</td>\n",
       "      <td>NaN</td>\n",
       "      <td>NaN</td>\n",
       "      <td>NaN</td>\n",
       "      <td>NaN</td>\n",
       "    </tr>\n",
       "    <tr>\n",
       "      <th>0.020</th>\n",
       "      <td>0.136081</td>\n",
       "      <td>-0.179702</td>\n",
       "      <td>0.988756</td>\n",
       "      <td>-0.005471</td>\n",
       "      <td>-0.013389</td>\n",
       "      <td>1.015854</td>\n",
       "      <td>-0.067969</td>\n",
       "      <td>-0.020333</td>\n",
       "      <td>1.014821</td>\n",
       "      <td>0.169257</td>\n",
       "      <td>...</td>\n",
       "      <td>NaN</td>\n",
       "      <td>NaN</td>\n",
       "      <td>NaN</td>\n",
       "      <td>NaN</td>\n",
       "      <td>NaN</td>\n",
       "      <td>NaN</td>\n",
       "      <td>NaN</td>\n",
       "      <td>NaN</td>\n",
       "      <td>NaN</td>\n",
       "      <td>NaN</td>\n",
       "    </tr>\n",
       "    <tr>\n",
       "      <th>...</th>\n",
       "      <td>...</td>\n",
       "      <td>...</td>\n",
       "      <td>...</td>\n",
       "      <td>...</td>\n",
       "      <td>...</td>\n",
       "      <td>...</td>\n",
       "      <td>...</td>\n",
       "      <td>...</td>\n",
       "      <td>...</td>\n",
       "      <td>...</td>\n",
       "      <td>...</td>\n",
       "      <td>...</td>\n",
       "      <td>...</td>\n",
       "      <td>...</td>\n",
       "      <td>...</td>\n",
       "      <td>...</td>\n",
       "      <td>...</td>\n",
       "      <td>...</td>\n",
       "      <td>...</td>\n",
       "      <td>...</td>\n",
       "      <td>...</td>\n",
       "    </tr>\n",
       "    <tr>\n",
       "      <th>19.975</th>\n",
       "      <td>NaN</td>\n",
       "      <td>NaN</td>\n",
       "      <td>NaN</td>\n",
       "      <td>-0.017501</td>\n",
       "      <td>0.139397</td>\n",
       "      <td>1.072832</td>\n",
       "      <td>-0.079707</td>\n",
       "      <td>0.136859</td>\n",
       "      <td>1.070325</td>\n",
       "      <td>0.144962</td>\n",
       "      <td>...</td>\n",
       "      <td>NaN</td>\n",
       "      <td>NaN</td>\n",
       "      <td>NaN</td>\n",
       "      <td>NaN</td>\n",
       "      <td>NaN</td>\n",
       "      <td>NaN</td>\n",
       "      <td>NaN</td>\n",
       "      <td>-0.076872</td>\n",
       "      <td>0.265806</td>\n",
       "      <td>0.080603</td>\n",
       "    </tr>\n",
       "    <tr>\n",
       "      <th>19.980</th>\n",
       "      <td>0.098805</td>\n",
       "      <td>-0.040106</td>\n",
       "      <td>1.052638</td>\n",
       "      <td>-0.016709</td>\n",
       "      <td>0.139651</td>\n",
       "      <td>1.071943</td>\n",
       "      <td>-0.078920</td>\n",
       "      <td>0.137309</td>\n",
       "      <td>1.069423</td>\n",
       "      <td>0.143968</td>\n",
       "      <td>...</td>\n",
       "      <td>NaN</td>\n",
       "      <td>NaN</td>\n",
       "      <td>NaN</td>\n",
       "      <td>NaN</td>\n",
       "      <td>NaN</td>\n",
       "      <td>NaN</td>\n",
       "      <td>NaN</td>\n",
       "      <td>-0.076590</td>\n",
       "      <td>0.273608</td>\n",
       "      <td>0.081144</td>\n",
       "    </tr>\n",
       "    <tr>\n",
       "      <th>19.985</th>\n",
       "      <td>0.098902</td>\n",
       "      <td>-0.040576</td>\n",
       "      <td>1.050571</td>\n",
       "      <td>-0.015980</td>\n",
       "      <td>0.139856</td>\n",
       "      <td>1.070917</td>\n",
       "      <td>-0.078155</td>\n",
       "      <td>0.137852</td>\n",
       "      <td>1.068422</td>\n",
       "      <td>0.142934</td>\n",
       "      <td>...</td>\n",
       "      <td>NaN</td>\n",
       "      <td>NaN</td>\n",
       "      <td>NaN</td>\n",
       "      <td>NaN</td>\n",
       "      <td>NaN</td>\n",
       "      <td>NaN</td>\n",
       "      <td>NaN</td>\n",
       "      <td>-0.076307</td>\n",
       "      <td>0.281828</td>\n",
       "      <td>0.081807</td>\n",
       "    </tr>\n",
       "    <tr>\n",
       "      <th>19.990</th>\n",
       "      <td>0.098540</td>\n",
       "      <td>-0.039973</td>\n",
       "      <td>1.049810</td>\n",
       "      <td>-0.015192</td>\n",
       "      <td>0.140008</td>\n",
       "      <td>1.069827</td>\n",
       "      <td>-0.077388</td>\n",
       "      <td>0.138356</td>\n",
       "      <td>1.067396</td>\n",
       "      <td>0.141835</td>\n",
       "      <td>...</td>\n",
       "      <td>NaN</td>\n",
       "      <td>NaN</td>\n",
       "      <td>NaN</td>\n",
       "      <td>NaN</td>\n",
       "      <td>NaN</td>\n",
       "      <td>NaN</td>\n",
       "      <td>NaN</td>\n",
       "      <td>-0.076189</td>\n",
       "      <td>0.289916</td>\n",
       "      <td>0.082724</td>\n",
       "    </tr>\n",
       "    <tr>\n",
       "      <th>19.995</th>\n",
       "      <td>0.098719</td>\n",
       "      <td>-0.040451</td>\n",
       "      <td>1.048442</td>\n",
       "      <td>-0.014432</td>\n",
       "      <td>0.140203</td>\n",
       "      <td>1.068504</td>\n",
       "      <td>-0.076584</td>\n",
       "      <td>0.138728</td>\n",
       "      <td>1.066196</td>\n",
       "      <td>0.140866</td>\n",
       "      <td>...</td>\n",
       "      <td>NaN</td>\n",
       "      <td>NaN</td>\n",
       "      <td>NaN</td>\n",
       "      <td>NaN</td>\n",
       "      <td>NaN</td>\n",
       "      <td>NaN</td>\n",
       "      <td>NaN</td>\n",
       "      <td>-0.075955</td>\n",
       "      <td>0.298320</td>\n",
       "      <td>0.083848</td>\n",
       "    </tr>\n",
       "  </tbody>\n",
       "</table>\n",
       "<p>4000 rows × 114 columns</p>\n",
       "</div>"
      ],
      "text/plain": [
       "        LASIS[0]  LASIS[1]  LASIS[2]  LPSIS[0]  LPSIS[1]  LPSIS[2]  RPSIS[0]  \\\n",
       "0.000   0.138064 -0.177810  0.988160 -0.004349 -0.012974  1.014894 -0.066879   \n",
       "0.005   0.137377 -0.178196  0.988074 -0.004678 -0.012691  1.015613 -0.066624   \n",
       "0.010   0.137625 -0.179897  0.988547 -0.004836 -0.012889  1.015838 -0.066813   \n",
       "0.015   0.137052 -0.180237  0.988994 -0.005195 -0.013000  1.016010 -0.067198   \n",
       "0.020   0.136081 -0.179702  0.988756 -0.005471 -0.013389  1.015854 -0.067969   \n",
       "...          ...       ...       ...       ...       ...       ...       ...   \n",
       "19.975       NaN       NaN       NaN -0.017501  0.139397  1.072832 -0.079707   \n",
       "19.980  0.098805 -0.040106  1.052638 -0.016709  0.139651  1.071943 -0.078920   \n",
       "19.985  0.098902 -0.040576  1.050571 -0.015980  0.139856  1.070917 -0.078155   \n",
       "19.990  0.098540 -0.039973  1.049810 -0.015192  0.140008  1.069827 -0.077388   \n",
       "19.995  0.098719 -0.040451  1.048442 -0.014432  0.140203  1.068504 -0.076584   \n",
       "\n",
       "        RPSIS[1]  RPSIS[2]   LLKN[0]  ...  *34[2]  *35[0]  *35[1]  *35[2]  \\\n",
       "0.000  -0.019704  1.012174  0.168638  ...     NaN     NaN     NaN     NaN   \n",
       "0.005  -0.020409  1.013053  0.168834  ...     NaN     NaN     NaN     NaN   \n",
       "0.010  -0.020640  1.013551  0.168931  ...     NaN     NaN     NaN     NaN   \n",
       "0.015  -0.020851  1.014036  0.169155  ...     NaN     NaN     NaN     NaN   \n",
       "0.020  -0.020333  1.014821  0.169257  ...     NaN     NaN     NaN     NaN   \n",
       "...          ...       ...       ...  ...     ...     ...     ...     ...   \n",
       "19.975  0.136859  1.070325  0.144962  ...     NaN     NaN     NaN     NaN   \n",
       "19.980  0.137309  1.069423  0.143968  ...     NaN     NaN     NaN     NaN   \n",
       "19.985  0.137852  1.068422  0.142934  ...     NaN     NaN     NaN     NaN   \n",
       "19.990  0.138356  1.067396  0.141835  ...     NaN     NaN     NaN     NaN   \n",
       "19.995  0.138728  1.066196  0.140866  ...     NaN     NaN     NaN     NaN   \n",
       "\n",
       "        *36[0]  *36[1]  *36[2]    *37[0]    *37[1]    *37[2]  \n",
       "0.000      NaN     NaN     NaN       NaN       NaN       NaN  \n",
       "0.005      NaN     NaN     NaN       NaN       NaN       NaN  \n",
       "0.010      NaN     NaN     NaN       NaN       NaN       NaN  \n",
       "0.015      NaN     NaN     NaN       NaN       NaN       NaN  \n",
       "0.020      NaN     NaN     NaN       NaN       NaN       NaN  \n",
       "...        ...     ...     ...       ...       ...       ...  \n",
       "19.975     NaN     NaN     NaN -0.076872  0.265806  0.080603  \n",
       "19.980     NaN     NaN     NaN -0.076590  0.273608  0.081144  \n",
       "19.985     NaN     NaN     NaN -0.076307  0.281828  0.081807  \n",
       "19.990     NaN     NaN     NaN -0.076189  0.289916  0.082724  \n",
       "19.995     NaN     NaN     NaN -0.075955  0.298320  0.083848  \n",
       "\n",
       "[4000 rows x 114 columns]"
      ]
     },
     "execution_count": 29,
     "metadata": {},
     "output_type": "execute_result"
    }
   ],
   "source": [
    "df = ts.to_dataframe()\n",
    "df"
   ]
  },
  {
   "cell_type": "code",
   "execution_count": null,
   "metadata": {},
   "outputs": [
    {
     "data": {
      "text/plain": [
       "kineticstoolkit.timeseries.TimeSeriesDataDict"
      ]
     },
     "execution_count": 74,
     "metadata": {},
     "output_type": "execute_result"
    }
   ],
   "source": [
    "# polars can't have multi-indexed columns, but here is a demo with pandas\n",
    "# features = ts.data.keys()\n",
    "# dims = ['X', 'Y', 'Z']\n",
    "\n",
    "# type(ts.data)"
   ]
  },
  {
   "cell_type": "code",
   "execution_count": 30,
   "metadata": {},
   "outputs": [
    {
     "data": {
      "text/plain": [
       "<Axes: >"
      ]
     },
     "execution_count": 30,
     "metadata": {},
     "output_type": "execute_result"
    }
   ],
   "source": [
    "# plotting\n",
    "df['LASIS[0]'].plot()"
   ]
  },
  {
   "cell_type": "markdown",
   "metadata": {},
   "source": [
    "## Polars"
   ]
  },
  {
   "cell_type": "code",
   "execution_count": 31,
   "metadata": {},
   "outputs": [],
   "source": [
    "import polars as pl"
   ]
  },
  {
   "cell_type": "code",
   "execution_count": 32,
   "metadata": {},
   "outputs": [
    {
     "ename": "TypeError",
     "evalue": "'TimeSeries' object is not subscriptable",
     "output_type": "error",
     "traceback": [
      "\u001b[0;31m---------------------------------------------------------------------------\u001b[0m",
      "\u001b[0;31mTypeError\u001b[0m                                 Traceback (most recent call last)",
      "Cell \u001b[0;32mIn[32], line 3\u001b[0m\n\u001b[1;32m      1\u001b[0m points \u001b[38;5;241m=\u001b[39m c3d_contents[\u001b[38;5;124m\"\u001b[39m\u001b[38;5;124mPoints\u001b[39m\u001b[38;5;124m\"\u001b[39m]\n\u001b[0;32m----> 3\u001b[0m labels \u001b[38;5;241m=\u001b[39m \u001b[43mpoints\u001b[49m\u001b[43m[\u001b[49m\u001b[38;5;124;43m'\u001b[39;49m\u001b[38;5;124;43mLabels\u001b[39;49m\u001b[38;5;124;43m'\u001b[39;49m\u001b[43m]\u001b[49m\n\u001b[1;32m      5\u001b[0m \u001b[38;5;66;03m# Get the coordinates (assuming the first three rows are X, Y, Z)\u001b[39;00m\n\u001b[1;32m      6\u001b[0m coordinates \u001b[38;5;241m=\u001b[39m points[\u001b[38;5;124m'\u001b[39m\u001b[38;5;124mData\u001b[39m\u001b[38;5;124m'\u001b[39m]\n",
      "\u001b[0;31mTypeError\u001b[0m: 'TimeSeries' object is not subscriptable"
     ]
    }
   ],
   "source": [
    "points = c3d_contents[\"Points\"]\n",
    "\n",
    "labels = points['Labels']\n",
    "\n",
    "# Get the coordinates (assuming the first three rows are X, Y, Z)\n",
    "coordinates = points['Data']\n",
    "\n",
    "# Determine the number of frames and markers\n",
    "num_frames, num_markers, _ = coordinates.shape\n",
    "\n",
    "# Create a list of column names for the DataFrame (marker_coordinate)\n",
    "columns = [f\"{label}_{coord}\" for label in labels for coord in ['X', 'Y', 'Z']]"
   ]
  }
 ],
 "metadata": {
  "kernelspec": {
   "display_name": "Python 3",
   "language": "python",
   "name": "python3"
  },
  "language_info": {
   "codemirror_mode": {
    "name": "ipython",
    "version": 3
   },
   "file_extension": ".py",
   "mimetype": "text/x-python",
   "name": "python",
   "nbconvert_exporter": "python",
   "pygments_lexer": "ipython3",
   "version": "3.10.14"
  }
 },
 "nbformat": 4,
 "nbformat_minor": 2
}
