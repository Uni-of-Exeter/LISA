{
 "cells": [
  {
   "cell_type": "markdown",
   "metadata": {},
   "source": [
    "## Process Analog Data"
   ]
  },
  {
   "cell_type": "code",
   "execution_count": 14,
   "metadata": {},
   "outputs": [],
   "source": [
    "import os\n",
    "from ezc3d import c3d\n",
    "from lisa.config import PILOT_DATA_DIR, INTERIM_DATA_DIR\n",
    "import polars as pl"
   ]
  },
  {
   "cell_type": "code",
   "execution_count": 65,
   "metadata": {},
   "outputs": [],
   "source": [
    "def find_column_names(c):\n",
    "    columns = c[\"parameters\"][\"ANALOG\"]['LABELS']['value']\n",
    "\n",
    "    # Step 1: Count total occurrences of each item\n",
    "    total_occurrences = {}\n",
    "    for item in columns:\n",
    "        if item in total_occurrences:\n",
    "            total_occurrences[item] += 1\n",
    "        else:\n",
    "            total_occurrences[item] = 1\n",
    "\n",
    "    modified_columns = []\n",
    "    current_counts = {}\n",
    "\n",
    "    for item in columns:\n",
    "        # Only label items that appear more than once\n",
    "        if total_occurrences[item] > 1:\n",
    "            if item in current_counts:\n",
    "                current_counts[item] += 1\n",
    "            else:\n",
    "                current_counts[item] = 1\n",
    "            modified_item = f\"D{current_counts[item]}_{item}\"\n",
    "        else:\n",
    "            # If the item appears only once, keep it as is\n",
    "            modified_item = item\n",
    "        \n",
    "        modified_columns.append(modified_item)\n",
    "\n",
    "    return modified_columns\n"
   ]
  },
  {
   "cell_type": "code",
   "execution_count": 66,
   "metadata": {},
   "outputs": [],
   "source": [
    "def drop_columns(df):\n",
    "    to_remove = ['Force', 'Moment', 'Velocity', 'Angle.Pitch', 'Length.Sway']\n",
    "\n",
    "    columns_to_remove = [col for col in df.columns if any(sub in col for sub in to_remove)]\n",
    "\n",
    "    return df.drop(columns_to_remove)"
   ]
  },
  {
   "cell_type": "code",
   "execution_count": 75,
   "metadata": {},
   "outputs": [],
   "source": [
    "\n",
    "def find_activity_category(filename, activity_categories):\n",
    "    for activity in activity_categories:\n",
    "        if activity in filename.lower():\n",
    "            return activity\n",
    "    return None  # Return None or a default value if no match is found\n"
   ]
  },
  {
   "cell_type": "code",
   "execution_count": 76,
   "metadata": {},
   "outputs": [
    {
     "name": "stdout",
     "output_type": "stream",
     "text": [
      "Walking 1_4ms01.c3d\n",
      "VerticalJump01.c3d\n",
      "Walk1_4ms 10incline01.c3d\n",
      "Jogging 2_2.c3d\n",
      "Walk1_4ms 5incline01.c3d\n",
      "Walking 1_4ms02.c3d\n",
      "VerticalJump02.c3d\n",
      "Jogging 2_5ms01.c3d\n",
      "Walking 1_7ms02.c3d\n",
      "Running3_0ms.c3d\n",
      "Walking 1_0ms.c3d\n",
      "Walk1_4ms 10decline01.c3d\n",
      "Walk1_4ms 5decline01.c3d\n",
      "Walk1_4ms01.c3d\n",
      "VerticalJump.c3d\n",
      "Jogging 2_2._ForOpensim.c3d\n",
      "Walk1_1ms.c3d\n",
      "Walk1_7ms 5decline02.c3d\n",
      "Walk1_1ms01.c3d\n",
      "Jogging 2_5ms.c3d\n",
      "Walk1_1ms 5incline.c3d\n",
      "Walk1_7ms 5incline02.c3d\n",
      "Walk1_1ms 5decline.c3d\n",
      "Walk1_1ms 10incline.c3d\n",
      "Walk1_1ms 10decline.c3d\n",
      "Walk1_4ms.c3d\n"
     ]
    }
   ],
   "source": [
    "activity_categories = ['walk', 'jog', 'run', 'jump']\n",
    "total_df = None\n",
    "\n",
    "for filename in os.listdir(PILOT_DATA_DIR):\n",
    "    # Ignore any non-c3d files or files that don't start with the activity categories, i.e. calibration files\n",
    "    if filename.endswith(\".c3d\") and any(activity in filename.lower() for activity in activity_categories):\n",
    "        print(filename)\n",
    "        file = os.path.join(PILOT_DATA_DIR, filename)\n",
    "\n",
    "        c3d_contents = c3d(file)\n",
    "\n",
    "        analogs = c3d_contents['data']['analogs']\n",
    "        df = pl.DataFrame(analogs[0].T)\n",
    "        df.columns = find_column_names(c3d_contents)\n",
    "\n",
    "        df = drop_columns(df)\n",
    "\n",
    "        df = df.with_columns(pl.lit(find_activity_category(filename, activity_categories)).alias('ACTIVITY'))\n",
    "\n",
    "        if total_df is None:\n",
    "            total_df = df   \n",
    "        else:\n",
    "            total_df = total_df.vstack(df)\n",
    "\n",
    "total_df.write_csv(INTERIM_DATA_DIR / 'pilot_data.csv')\n",
    "\n",
    "        "
   ]
  },
  {
   "cell_type": "code",
   "execution_count": 77,
   "metadata": {},
   "outputs": [
    {
     "data": {
      "text/html": [
       "<div><style>\n",
       ".dataframe > thead > tr,\n",
       ".dataframe > tbody > tr {\n",
       "  text-align: right;\n",
       "  white-space: pre-wrap;\n",
       "}\n",
       "</style>\n",
       "<small>shape: (4, 2)</small><table border=\"1\" class=\"dataframe\"><thead><tr><th>ACTIVITY</th><th>count</th></tr><tr><td>str</td><td>u32</td></tr></thead><tbody><tr><td>&quot;walk&quot;</td><td>540000</td></tr><tr><td>&quot;run&quot;</td><td>30000</td></tr><tr><td>&quot;jump&quot;</td><td>90000</td></tr><tr><td>&quot;jog&quot;</td><td>120000</td></tr></tbody></table></div>"
      ],
      "text/plain": [
       "shape: (4, 2)\n",
       "┌──────────┬────────┐\n",
       "│ ACTIVITY ┆ count  │\n",
       "│ ---      ┆ ---    │\n",
       "│ str      ┆ u32    │\n",
       "╞══════════╪════════╡\n",
       "│ walk     ┆ 540000 │\n",
       "│ run      ┆ 30000  │\n",
       "│ jump     ┆ 90000  │\n",
       "│ jog      ┆ 120000 │\n",
       "└──────────┴────────┘"
      ]
     },
     "execution_count": 77,
     "metadata": {},
     "output_type": "execute_result"
    }
   ],
   "source": [
    "total_df['ACTIVITY'].value_counts()"
   ]
  }
 ],
 "metadata": {
  "kernelspec": {
   "display_name": "Python 3",
   "language": "python",
   "name": "python3"
  },
  "language_info": {
   "codemirror_mode": {
    "name": "ipython",
    "version": 3
   },
   "file_extension": ".py",
   "mimetype": "text/x-python",
   "name": "python",
   "nbconvert_exporter": "python",
   "pygments_lexer": "ipython3",
   "version": "3.10.14"
  }
 },
 "nbformat": 4,
 "nbformat_minor": 2
}
