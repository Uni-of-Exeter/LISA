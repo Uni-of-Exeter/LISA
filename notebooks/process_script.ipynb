{
 "cells": [
  {
   "cell_type": "markdown",
   "metadata": {},
   "source": [
    "This is a slightly more evolved script for processing data than `processing_explore.ipynb`. \n",
    "Will be converted into a proper python script later."
   ]
  },
  {
   "cell_type": "code",
   "execution_count": 2,
   "metadata": {},
   "outputs": [
    {
     "name": "stderr",
     "output_type": "stream",
     "text": [
      "\u001b[32m2024-07-18 17:01:25.804\u001b[0m | \u001b[1mINFO    \u001b[0m | \u001b[36mlisa.config\u001b[0m:\u001b[36m<module>\u001b[0m:\u001b[36m13\u001b[0m - \u001b[1mPROJ_ROOT path is: /Users/tomwilson/code/LISA\u001b[0m\n"
     ]
    }
   ],
   "source": [
    "import os\n",
    "from lisa.config import PILOT_DATA_DIR\n",
    "import kineticstoolkit as ktk\n",
    "import polars as pl\n",
    "import warnings\n",
    "\n",
    "# Suppress ktk timeseries warning\n",
    "warnings.filterwarnings(\"ignore\", category=UserWarning)"
   ]
  },
  {
   "cell_type": "code",
   "execution_count": 6,
   "metadata": {},
   "outputs": [],
   "source": [
    "# Functions\n",
    "\n",
    "def c3d_to_df(c3d_contents, type='Points'):\n",
    "    pd_df = c3d_contents[type].to_dataframe()\n",
    "    return pl.from_pandas(pd_df, include_index=True)\n",
    "\n",
    "def process_time(df):\n",
    "    # Remove t dim in points data\n",
    "    columns_to_drop = [col for col in df.columns if col.endswith('[3]')]\n",
    "\n",
    "    # Drop these columns from the DataFrame\n",
    "    df = df.drop(columns_to_drop)\n",
    "\n",
    "    # Name time column\n",
    "    return df.rename(lambda col: \"TIME\" if \"None\" in col else col)\n",
    "\n",
    "def find_activity_category(filename):\n",
    "    for activity in activity_categories:\n",
    "        if filename.lower().startswith(activity):\n",
    "            return activity\n",
    "    return None  # Return None or a default value if no match is found\n",
    "\n",
    "def drop_stationary_markers(df):\n",
    "    # Remove floor markers, defined as markers labelled with '*' and no null values\n",
    "\n",
    "    # Get the count of the 'TIME' column\n",
    "    time_count = df['TIME'].count()\n",
    "\n",
    "    # Find columns that start with '*' and have the same count as the 'TIME' column\n",
    "    matching_columns = [col for col in df.columns if col.startswith('*') and df[col].count() == time_count]\n",
    "\n",
    "    print(\"Dropping columns: \" + ', '.join(matching_columns))\n",
    "\n",
    "    # Remove the identified columns from the DataFrame\n",
    "    return df.drop(matching_columns)"
   ]
  },
  {
   "cell_type": "code",
   "execution_count": 9,
   "metadata": {},
   "outputs": [
    {
     "name": "stdout",
     "output_type": "stream",
     "text": [
      "Walking 1_4ms01.c3d\n",
      "Dropping columns: *34[0], *34[1], *34[2], *35[0], *35[1], *35[2], *38[0], *38[1], *38[2], *39[0], *39[1], *39[2]\n",
      "Dropping columns: \n",
      "dict_keys(['Points', 'Analogs'])\n",
      "Walk1_4ms 10incline01.c3d\n",
      "Dropping columns: *34[0], *34[1], *34[2], *35[0], *35[1], *35[2], *37[0], *37[1], *37[2], *39[0], *39[1], *39[2]\n",
      "Dropping columns: \n",
      "dict_keys(['Points', 'Analogs'])\n",
      "Jogging 2_2.c3d\n",
      "Dropping columns: *34[0], *34[1], *34[2], *35[0], *35[1], *35[2], *37[0], *37[1], *37[2], *39[0], *39[1], *39[2]\n",
      "Dropping columns: \n",
      "dict_keys(['Points', 'Analogs'])\n",
      "Walk1_4ms 5incline01.c3d\n",
      "Dropping columns: *34[0], *34[1], *34[2], *35[0], *35[1], *35[2], *36[0], *36[1], *36[2], *37[0], *37[1], *37[2]\n",
      "Dropping columns: \n",
      "dict_keys(['Points', 'Analogs'])\n",
      "Walking 1_4ms02.c3d\n",
      "Dropping columns: *34[0], *34[1], *34[2], *35[0], *35[1], *35[2], *37[0], *37[1], *37[2], *38[0], *38[1], *38[2]\n",
      "dict_keys(['Points'])\n",
      "Jogging 2_5ms01.c3d\n",
      "Dropping columns: *34[0], *34[1], *34[2], *35[0], *35[1], *35[2], *38[0], *38[1], *38[2], *39[0], *39[1], *39[2]\n",
      "Dropping columns: \n",
      "dict_keys(['Points', 'Analogs'])\n",
      "Walking 1_7ms02.c3d\n",
      "dict_keys([])\n"
     ]
    },
    {
     "ename": "KeyError",
     "evalue": "'Points'",
     "output_type": "error",
     "traceback": [
      "\u001b[0;31m---------------------------------------------------------------------------\u001b[0m",
      "\u001b[0;31mKeyError\u001b[0m                                  Traceback (most recent call last)",
      "Cell \u001b[0;32mIn[9], line 27\u001b[0m\n\u001b[1;32m     25\u001b[0m     joined_df \u001b[38;5;241m=\u001b[39m \u001b[38;5;28mnext\u001b[39m(\u001b[38;5;28miter\u001b[39m(dfs\u001b[38;5;241m.\u001b[39mvalues()))\n\u001b[1;32m     26\u001b[0m \u001b[38;5;28;01melse\u001b[39;00m:\n\u001b[0;32m---> 27\u001b[0m     joined_df \u001b[38;5;241m=\u001b[39m \u001b[43mdfs\u001b[49m\u001b[43m[\u001b[49m\u001b[38;5;124;43m'\u001b[39;49m\u001b[38;5;124;43mPoints\u001b[39;49m\u001b[38;5;124;43m'\u001b[39;49m\u001b[43m]\u001b[49m\u001b[38;5;241m.\u001b[39mjoin(dfs[\u001b[38;5;124m'\u001b[39m\u001b[38;5;124mAnalogs\u001b[39m\u001b[38;5;124m'\u001b[39m], on\u001b[38;5;241m=\u001b[39m\u001b[38;5;124m'\u001b[39m\u001b[38;5;124mTIME\u001b[39m\u001b[38;5;124m'\u001b[39m)\n\u001b[1;32m     29\u001b[0m joined_df \u001b[38;5;241m=\u001b[39m joined_df\u001b[38;5;241m.\u001b[39mwith_columns(pl\u001b[38;5;241m.\u001b[39mlit(find_activity_category(filename))\u001b[38;5;241m.\u001b[39malias(\u001b[38;5;124m'\u001b[39m\u001b[38;5;124mACTIVITY\u001b[39m\u001b[38;5;124m'\u001b[39m))\n\u001b[1;32m     31\u001b[0m \u001b[38;5;28;01mif\u001b[39;00m total_df \u001b[38;5;129;01mis\u001b[39;00m \u001b[38;5;28;01mNone\u001b[39;00m:\n",
      "\u001b[0;31mKeyError\u001b[0m: 'Points'"
     ]
    }
   ],
   "source": [
    "activity_categories = ['walk', 'jog', 'run', 'jump']\n",
    "total_df = None\n",
    "\n",
    "# Ignore any non-c3d files or files that don't start with the activity categories, i.e. calibration files\n",
    "for filename in os.listdir(PILOT_DATA_DIR):\n",
    "    if filename.endswith(\".c3d\") and any(filename.lower().startswith(activity) for activity in activity_categories):\n",
    "        print(filename)\n",
    "        file = os.path.join(PILOT_DATA_DIR, filename)\n",
    "        # TODO check convert_point_unit doesn't affect analog data\n",
    "        c3d_contents = ktk.read_c3d(file, convert_point_unit=True)\n",
    "        dfs = {}\n",
    "\n",
    "        # TODO raise warning for missing data type\n",
    "        for key in c3d_contents.keys():\n",
    "            df = c3d_to_df(c3d_contents, key)\n",
    "            if df.is_empty():\n",
    "                break\n",
    "            else:\n",
    "                dfs[key] = df\n",
    "            dfs[key] = process_time(dfs[key])\n",
    "            dfs[key] = drop_stationary_markers(dfs[key])\n",
    "\n",
    "        print(dfs.keys())\n",
    "        if len(dfs) == 1:\n",
    "            joined_df = next(iter(dfs.values()))\n",
    "        else:\n",
    "            joined_df = dfs['Points'].join(dfs['Analogs'], on='TIME')\n",
    "            \n",
    "        joined_df = joined_df.with_columns(pl.lit(find_activity_category(filename)).alias('ACTIVITY'))\n",
    "\n",
    "        if total_df is None:\n",
    "            total_df = joined_df\n",
    "        else:\n",
    "            total_df = pl.concat([total_df, joined_df], how='diagonal')"
   ]
  },
  {
   "cell_type": "code",
   "execution_count": null,
   "metadata": {},
   "outputs": [],
   "source": [
    "# TODO move inside loop\n",
    "filename = 'Walk1_7ms 5decline02'\n",
    "file = os.path.join(PILOT_DATA_DIR, filename + '.c3d')"
   ]
  },
  {
   "cell_type": "code",
   "execution_count": null,
   "metadata": {},
   "outputs": [],
   "source": [
    "# TODO check convert_point_unit doesn't affect analog data\n",
    "c3d_contents = ktk.read_c3d(file, convert_point_unit=True)"
   ]
  },
  {
   "cell_type": "code",
   "execution_count": null,
   "metadata": {},
   "outputs": [],
   "source": [
    "point_df = c3d_to_df(c3d_contents, type='Points')\n",
    "\n",
    "point_df = process_time(point_df)"
   ]
  },
  {
   "cell_type": "code",
   "execution_count": null,
   "metadata": {},
   "outputs": [
    {
     "name": "stdout",
     "output_type": "stream",
     "text": [
      "Dropping columns: *35[0], *35[1], *35[2], *36[0], *36[1], *36[2], *38[0], *38[1], *38[2], *39[0], *39[1], *39[2]\n"
     ]
    }
   ],
   "source": [
    "# Remove floor markers\n",
    "\n",
    "# Get the count of the 'TIME' column\n",
    "time_count = point_df['TIME'].count()\n",
    "\n",
    "# Find columns that start with '*' and have the same count as the 'TIME' column\n",
    "matching_columns = [col for col in point_df.columns if col.startswith('*') and point_df[col].count() == time_count]\n",
    "\n",
    "# Remove the identified columns from the DataFrame\n",
    "point_df = point_df.drop(matching_columns)\n",
    "\n",
    "print(\"Dropping columns: \" + ', '.join(matching_columns))"
   ]
  },
  {
   "cell_type": "code",
   "execution_count": null,
   "metadata": {},
   "outputs": [],
   "source": [
    "# Analog Data\n",
    "analog_df = c3d_to_df(c3d_contents, 'Analogs')\n",
    "\n",
    "analog_df = process_time(analog_df)"
   ]
  },
  {
   "cell_type": "code",
   "execution_count": null,
   "metadata": {},
   "outputs": [],
   "source": [
    "joined_df = point_df.join(analog_df, on='TIME')\n",
    "\n",
    "joined_df = joined_df.with_columns(pl.lit(find_activity_category(filename)).alias('ACTIVITY'))"
   ]
  },
  {
   "cell_type": "code",
   "execution_count": null,
   "metadata": {},
   "outputs": [
    {
     "data": {
      "text/html": [
       "<div><style>\n",
       ".dataframe > thead > tr,\n",
       ".dataframe > tbody > tr {\n",
       "  text-align: right;\n",
       "  white-space: pre-wrap;\n",
       "}\n",
       "</style>\n",
       "<small>shape: (6_000, 151)</small><table border=\"1\" class=\"dataframe\"><thead><tr><th>TIME</th><th>RASIS[0]</th><th>RASIS[1]</th><th>RASIS[2]</th><th>LPSIS[0]</th><th>LPSIS[1]</th><th>LPSIS[2]</th><th>RPSIS[0]</th><th>RPSIS[1]</th><th>RPSIS[2]</th><th>LLKN[0]</th><th>LLKN[1]</th><th>LLKN[2]</th><th>LMKN[0]</th><th>LMKN[1]</th><th>LMKN[2]</th><th>LT4[0]</th><th>LT4[1]</th><th>LT4[2]</th><th>LT1[0]</th><th>LT1[1]</th><th>LT1[2]</th><th>LT2[0]</th><th>LT2[1]</th><th>LT2[2]</th><th>LT3[0]</th><th>LT3[1]</th><th>LT3[2]</th><th>LLM[0]</th><th>LLM[1]</th><th>LLM[2]</th><th>LMM[0]</th><th>LMM[1]</th><th>LMM[2]</th><th>LSK4[0]</th><th>LSK4[1]</th><th>LSK4[2]</th><th>&hellip;</th><th>*41[2]</th><th>*42[0]</th><th>*42[1]</th><th>*42[2]</th><th>Force.Fx1</th><th>Force.Fy1</th><th>Force.Fz1</th><th>Moment.Mx1</th><th>Moment.My1</th><th>Moment.Mz1</th><th>Force.Fx2</th><th>Force.Fy2</th><th>Force.Fz2</th><th>Moment.Mx2</th><th>Moment.My2</th><th>Moment.Mz2</th><th>Angle.Pitch</th><th>Length.Sway</th><th>Velocity.Left Belt Speed</th><th>Velocity.Right Belt Speed</th><th>Electric Potential.1</th><th>Global Angle.x</th><th>Global Angle.y</th><th>Global Angle.z</th><th>HighG.x</th><th>HighG.y</th><th>HighG.z</th><th>accel.x</th><th>accel.y</th><th>accel.z</th><th>gyro.x</th><th>gyro.y</th><th>gyro.z</th><th>mag.x</th><th>mag.y</th><th>mag.z</th><th>ACTIVITY</th></tr><tr><td>f64</td><td>f64</td><td>f64</td><td>f64</td><td>f64</td><td>f64</td><td>f64</td><td>f64</td><td>f64</td><td>f64</td><td>f64</td><td>f64</td><td>f64</td><td>f64</td><td>f64</td><td>f64</td><td>f64</td><td>f64</td><td>f64</td><td>f64</td><td>f64</td><td>f64</td><td>f64</td><td>f64</td><td>f64</td><td>f64</td><td>f64</td><td>f64</td><td>f64</td><td>f64</td><td>f64</td><td>f64</td><td>f64</td><td>f64</td><td>f64</td><td>f64</td><td>f64</td><td>&hellip;</td><td>f64</td><td>f64</td><td>f64</td><td>f64</td><td>f64</td><td>f64</td><td>f64</td><td>f64</td><td>f64</td><td>f64</td><td>f64</td><td>f64</td><td>f64</td><td>f64</td><td>f64</td><td>f64</td><td>f64</td><td>f64</td><td>f64</td><td>f64</td><td>f64</td><td>f64</td><td>f64</td><td>f64</td><td>f64</td><td>f64</td><td>f64</td><td>f64</td><td>f64</td><td>f64</td><td>f64</td><td>f64</td><td>f64</td><td>f64</td><td>f64</td><td>f64</td><td>str</td></tr></thead><tbody><tr><td>0.0</td><td>0.11687</td><td>0.052211</td><td>1.011285</td><td>-0.058818</td><td>-0.124478</td><td>1.043918</td><td>0.046019</td><td>-0.123357</td><td>1.020504</td><td>-0.169058</td><td>-0.170044</td><td>0.521349</td><td>-0.046874</td><td>-0.149174</td><td>0.485763</td><td>-0.198806</td><td>-0.06316</td><td>0.700852</td><td>-0.199652</td><td>-0.102817</td><td>0.717995</td><td>-0.194537</td><td>-0.125516</td><td>0.679364</td><td>-0.193945</td><td>-0.082802</td><td>0.659023</td><td>-0.13262</td><td>-0.353778</td><td>0.135608</td><td>-0.046265</td><td>-0.331493</td><td>0.13522</td><td>-0.178658</td><td>-0.220675</td><td>0.390667</td><td>&hellip;</td><td>null</td><td>null</td><td>null</td><td>null</td><td>6.528756</td><td>-91.64798</td><td>2.936042</td><td>-4109.524902</td><td>6912.517578</td><td>24668.763672</td><td>-48.083618</td><td>-93.193214</td><td>-527.192444</td><td>101829.046875</td><td>67925.90625</td><td>-37220.324219</td><td>0.087164</td><td>-0.002245</td><td>-1.701906</td><td>-1.710057</td><td>1.840266</td><td>-0.823135</td><td>-1.447943</td><td>-0.270271</td><td>11.95933</td><td>13.394449</td><td>4.305358</td><td>10.448297</td><td>7.469909</td><td>-0.368707</td><td>1.20345</td><td>-0.120345</td><td>1.89783</td><td>-0.000037</td><td>-0.000032</td><td>-0.000018</td><td>&quot;walk&quot;</td></tr><tr><td>0.005</td><td>0.116933</td><td>0.053743</td><td>1.009175</td><td>-0.057159</td><td>-0.124106</td><td>1.042485</td><td>0.047901</td><td>-0.123199</td><td>1.018471</td><td>-0.168631</td><td>-0.175453</td><td>0.521933</td><td>-0.046739</td><td>-0.154131</td><td>0.485563</td><td>-0.198649</td><td>-0.066872</td><td>0.700477</td><td>-0.199163</td><td>-0.106379</td><td>0.717992</td><td>-0.193917</td><td>-0.129449</td><td>0.679623</td><td>-0.19368</td><td>-0.086905</td><td>0.658816</td><td>-0.13239</td><td>-0.362851</td><td>0.137685</td><td>-0.046146</td><td>-0.34038</td><td>0.137049</td><td>-0.178374</td><td>-0.227388</td><td>0.391691</td><td>&hellip;</td><td>null</td><td>null</td><td>null</td><td>null</td><td>1.115396</td><td>-92.93515</td><td>-5.776045</td><td>-18577.65625</td><td>-3299.269775</td><td>27846.941406</td><td>-51.637466</td><td>-65.968704</td><td>-556.365112</td><td>105257.117188</td><td>72322.460938</td><td>-28604.482422</td><td>0.087175</td><td>0.000502</td><td>-1.703584</td><td>-1.710515</td><td>1.816767</td><td>-0.82814</td><td>-1.443</td><td>-0.256443</td><td>12.916076</td><td>12.676889</td><td>3.707392</td><td>11.004949</td><td>6.749254</td><td>-0.393846</td><td>1.085235</td><td>-0.132592</td><td>2.075152</td><td>-0.000037</td><td>-0.000033</td><td>-0.000017</td><td>&quot;walk&quot;</td></tr><tr><td>0.01</td><td>0.116971</td><td>0.055333</td><td>1.007031</td><td>-0.055477</td><td>-0.123684</td><td>1.040882</td><td>0.049539</td><td>-0.121951</td><td>1.016533</td><td>-0.168144</td><td>-0.180602</td><td>0.52242</td><td>-0.046573</td><td>-0.15885</td><td>0.485311</td><td>-0.198463</td><td>-0.070363</td><td>0.699866</td><td>-0.198985</td><td>-0.109617</td><td>0.717924</td><td>-0.193311</td><td>-0.133109</td><td>0.679699</td><td>-0.193386</td><td>-0.090784</td><td>0.658484</td><td>-0.132129</td><td>-0.371926</td><td>0.139835</td><td>-0.045835</td><td>-0.349312</td><td>0.138918</td><td>-0.178012</td><td>-0.233805</td><td>0.392636</td><td>&hellip;</td><td>null</td><td>null</td><td>null</td><td>null</td><td>-4.618952</td><td>-116.083069</td><td>1.594693</td><td>-19034.611328</td><td>-4402.008789</td><td>34305.824219</td><td>-46.579582</td><td>-53.796627</td><td>-533.958923</td><td>118719.671875</td><td>67957.109375</td><td>-18018.537109</td><td>0.087164</td><td>-0.001635</td><td>-1.701753</td><td>-1.708379</td><td>1.809748</td><td>-0.833109</td><td>-1.438012</td><td>-0.242622</td><td>13.872822</td><td>11.95933</td><td>3.109426</td><td>11.5616</td><td>6.0286</td><td>-0.418985</td><td>0.96702</td><td>-0.14484</td><td>2.252475</td><td>-0.000037</td><td>-0.000034</td><td>-0.000016</td><td>&quot;walk&quot;</td></tr><tr><td>0.015</td><td>0.116971</td><td>0.056952</td><td>1.004813</td><td>-0.053826</td><td>-0.123271</td><td>1.039191</td><td>0.051025</td><td>-0.119986</td><td>1.014592</td><td>-0.16775</td><td>-0.185375</td><td>0.522685</td><td>-0.046381</td><td>-0.163326</td><td>0.485026</td><td>-0.198234</td><td>-0.073594</td><td>0.699116</td><td>-0.19857</td><td>-0.112617</td><td>0.717619</td><td>-0.19271</td><td>-0.13648</td><td>0.679616</td><td>-0.193069</td><td>-0.09434</td><td>0.658008</td><td>-0.131832</td><td>-0.380933</td><td>0.142148</td><td>-0.045543</td><td>-0.358138</td><td>0.140834</td><td>-0.177182</td><td>-0.240178</td><td>0.393149</td><td>&hellip;</td><td>null</td><td>null</td><td>null</td><td>null</td><td>-11.199624</td><td>-136.352997</td><td>-7.225827</td><td>-19388.96875</td><td>142.827026</td><td>45576.074219</td><td>-52.147915</td><td>-64.919113</td><td>-547.95282</td><td>123307.953125</td><td>65428.960938</td><td>-28816.347656</td><td>0.087175</td><td>-0.001024</td><td>-1.704042</td><td>-1.710057</td><td>1.800593</td><td>-0.838044</td><td>-1.432978</td><td>-0.228808</td><td>14.829569</td><td>11.24177</td><td>2.511459</td><td>12.118252</td><td>5.307945</td><td>-0.444124</td><td>0.848805</td><td>-0.157087</td><td>2.429797</td><td>-0.000037</td><td>-0.000034</td><td>-0.000015</td><td>&quot;walk&quot;</td></tr><tr><td>0.02</td><td>0.116922</td><td>0.05862</td><td>1.002475</td><td>-0.052127</td><td>-0.122788</td><td>1.037356</td><td>0.052698</td><td>-0.119417</td><td>1.012415</td><td>-0.167307</td><td>-0.189817</td><td>0.522904</td><td>-0.046197</td><td>-0.167603</td><td>0.484684</td><td>-0.198275</td><td>-0.076514</td><td>0.697768</td><td>-0.198203</td><td>-0.115371</td><td>0.717099</td><td>-0.192168</td><td>-0.13966</td><td>0.67938</td><td>-0.192783</td><td>-0.097672</td><td>0.657435</td><td>-0.131615</td><td>-0.389881</td><td>0.144528</td><td>-0.045334</td><td>-0.366826</td><td>0.142825</td><td>-0.177276</td><td>-0.245995</td><td>0.39414</td><td>&hellip;</td><td>null</td><td>null</td><td>null</td><td>null</td><td>-8.7689</td><td>-142.142395</td><td>-8.116364</td><td>-15778.360352</td><td>-6634.066895</td><td>47910.683594</td><td>-38.673729</td><td>-91.081375</td><td>-559.519409</td><td>131793.875</td><td>66027.757812</td><td>-43677.007812</td><td>0.087148</td><td>-0.00194</td><td>-1.701295</td><td>-1.712804</td><td>1.80517</td><td>-0.842944</td><td>-1.4279</td><td>-0.215002</td><td>15.786315</td><td>10.52421</td><td>1.913493</td><td>12.674904</td><td>4.58729</td><td>-0.469264</td><td>0.73059</td><td>-0.169335</td><td>2.60712</td><td>-0.000037</td><td>-0.000035</td><td>-0.000015</td><td>&quot;walk&quot;</td></tr><tr><td>&hellip;</td><td>&hellip;</td><td>&hellip;</td><td>&hellip;</td><td>&hellip;</td><td>&hellip;</td><td>&hellip;</td><td>&hellip;</td><td>&hellip;</td><td>&hellip;</td><td>&hellip;</td><td>&hellip;</td><td>&hellip;</td><td>&hellip;</td><td>&hellip;</td><td>&hellip;</td><td>&hellip;</td><td>&hellip;</td><td>&hellip;</td><td>&hellip;</td><td>&hellip;</td><td>&hellip;</td><td>&hellip;</td><td>&hellip;</td><td>&hellip;</td><td>&hellip;</td><td>&hellip;</td><td>&hellip;</td><td>&hellip;</td><td>&hellip;</td><td>&hellip;</td><td>&hellip;</td><td>&hellip;</td><td>&hellip;</td><td>&hellip;</td><td>&hellip;</td><td>&hellip;</td><td>&hellip;</td><td>&hellip;</td><td>&hellip;</td><td>&hellip;</td><td>&hellip;</td><td>&hellip;</td><td>&hellip;</td><td>&hellip;</td><td>&hellip;</td><td>&hellip;</td><td>&hellip;</td><td>&hellip;</td><td>&hellip;</td><td>&hellip;</td><td>&hellip;</td><td>&hellip;</td><td>&hellip;</td><td>&hellip;</td><td>&hellip;</td><td>&hellip;</td><td>&hellip;</td><td>&hellip;</td><td>&hellip;</td><td>&hellip;</td><td>&hellip;</td><td>&hellip;</td><td>&hellip;</td><td>&hellip;</td><td>&hellip;</td><td>&hellip;</td><td>&hellip;</td><td>&hellip;</td><td>&hellip;</td><td>&hellip;</td><td>&hellip;</td><td>&hellip;</td><td>&hellip;</td><td>&hellip;</td></tr><tr><td>29.975</td><td>0.115971</td><td>0.38139</td><td>0.935973</td><td>-0.097947</td><td>0.235789</td><td>0.964225</td><td>0.006626</td><td>0.221889</td><td>0.955981</td><td>-0.182987</td><td>0.501043</td><td>0.445225</td><td>-0.061537</td><td>0.526013</td><td>0.424752</td><td>-0.207611</td><td>0.484186</td><td>0.653171</td><td>-0.216575</td><td>0.443147</td><td>0.642751</td><td>-0.211547</td><td>0.448459</td><td>0.598096</td><td>-0.203494</td><td>0.493706</td><td>0.608505</td><td>-0.156591</td><td>0.571855</td><td>0.029314</td><td>-0.068254</td><td>0.588515</td><td>0.040779</td><td>-0.19214</td><td>0.537592</td><td>0.311652</td><td>&hellip;</td><td>null</td><td>null</td><td>null</td><td>null</td><td>27.696417</td><td>45.110577</td><td>-441.088562</td><td>132262.671875</td><td>-40297.605469</td><td>4894.37207</td><td>-37.124329</td><td>-222.071335</td><td>-802.867249</td><td>-338846.65625</td><td>85511.765625</td><td>-20670.210938</td><td>0.087063</td><td>-0.00194</td><td>-1.701601</td><td>-1.712651</td><td>1.780146</td><td>-0.575576</td><td>-1.419757</td><td>-0.95532</td><td>110.743393</td><td>19.97208</td><td>59.437866</td><td>105.098267</td><td>84.143021</td><td>-20.448875</td><td>8.644073</td><td>-5.841791</td><td>1.947086</td><td>-0.000041</td><td>-0.000017</td><td>-0.000013</td><td>&quot;walk&quot;</td></tr><tr><td>29.98</td><td>0.115145</td><td>0.382832</td><td>0.933068</td><td>-0.098723</td><td>0.236467</td><td>0.961628</td><td>0.006037</td><td>0.222858</td><td>0.952882</td><td>-0.183567</td><td>0.501079</td><td>0.442849</td><td>-0.062063</td><td>0.52798</td><td>0.422415</td><td>-0.207958</td><td>0.485554</td><td>0.650176</td><td>-0.217465</td><td>0.444576</td><td>0.640205</td><td>-0.212078</td><td>0.449525</td><td>0.595416</td><td>-0.203787</td><td>0.495051</td><td>0.605687</td><td>-0.155826</td><td>0.568173</td><td>0.029799</td><td>-0.067798</td><td>0.585846</td><td>0.039806</td><td>-0.192088</td><td>0.537784</td><td>0.309583</td><td>&hellip;</td><td>null</td><td>null</td><td>null</td><td>null</td><td>33.161167</td><td>41.146004</td><td>-315.151642</td><td>141688.203125</td><td>-16716.666016</td><td>13585.535156</td><td>-7.156637</td><td>-351.294952</td><td>-906.770447</td><td>-411513.28125</td><td>101714.703125</td><td>-39733.472656</td><td>0.087079</td><td>-0.000719</td><td>-1.705263</td><td>-1.713109</td><td>1.67425</td><td>-0.575356</td><td>-1.444506</td><td>-0.922103</td><td>143.033585</td><td>32.529377</td><td>81.801811</td><td>136.718491</td><td>119.825005</td><td>-23.381773</td><td>12.184665</td><td>-7.081185</td><td>1.157655</td><td>-0.000041</td><td>-0.000017</td><td>-0.000013</td><td>&quot;walk&quot;</td></tr><tr><td>29.985</td><td>0.11426</td><td>0.384152</td><td>0.930443</td><td>-0.0996</td><td>0.237126</td><td>0.959361</td><td>0.005441</td><td>0.223692</td><td>0.950011</td><td>-0.184359</td><td>0.500524</td><td>0.440912</td><td>-0.061548</td><td>0.528972</td><td>0.420285</td><td>-0.209063</td><td>0.486724</td><td>0.647136</td><td>-0.218676</td><td>0.445613</td><td>0.637679</td><td>-0.212302</td><td>0.44964</td><td>0.592883</td><td>-0.203175</td><td>0.494561</td><td>0.602207</td><td>-0.155575</td><td>0.564383</td><td>0.029013</td><td>-0.068199</td><td>0.581325</td><td>0.039106</td><td>-0.192314</td><td>0.538896</td><td>0.309091</td><td>&hellip;</td><td>null</td><td>null</td><td>null</td><td>null</td><td>22.650404</td><td>13.025433</td><td>-235.730118</td><td>147595.0</td><td>-69.97657</td><td>27431.113281</td><td>4.974694</td><td>-445.505951</td><td>-1051.754639</td><td>-484400.71875</td><td>128138.242188</td><td>-82130.53125</td><td>0.087089</td><td>0.000197</td><td>-1.703279</td><td>-1.710057</td><td>1.682795</td><td>-0.431517</td><td>-1.08338</td><td>-0.691577</td><td>107.275192</td><td>24.397034</td><td>61.351357</td><td>102.538864</td><td>89.868752</td><td>-17.536329</td><td>9.138498</td><td>-5.310889</td><td>0.868241</td><td>-0.000031</td><td>-0.000013</td><td>-0.00001</td><td>&quot;walk&quot;</td></tr><tr><td>29.99</td><td>0.113419</td><td>0.385302</td><td>0.928106</td><td>-0.100178</td><td>0.237322</td><td>0.957667</td><td>0.005032</td><td>0.224194</td><td>0.947459</td><td>-0.18576</td><td>0.500062</td><td>0.440583</td><td>-0.060821</td><td>0.528443</td><td>0.419772</td><td>-0.21135</td><td>0.487359</td><td>0.644311</td><td>-0.219777</td><td>0.445895</td><td>0.635526</td><td>-0.21223</td><td>0.449058</td><td>0.590756</td><td>-0.204335</td><td>0.494405</td><td>0.599347</td><td>-0.1561</td><td>0.559674</td><td>0.027324</td><td>-0.067846</td><td>0.575238</td><td>0.039415</td><td>-0.192412</td><td>0.540746</td><td>0.310192</td><td>&hellip;</td><td>null</td><td>null</td><td>null</td><td>null</td><td>13.641051</td><td>-55.291031</td><td>-214.945801</td><td>141968.671875</td><td>-1000.665955</td><td>32162.013672</td><td>22.07365</td><td>-461.901978</td><td>-1175.640137</td><td>-538052.125</td><td>142256.953125</td><td>-111479.757812</td><td>0.087089</td><td>-0.000414</td><td>-1.703889</td><td>-1.711736</td><td>1.625727</td><td>-0.287678</td><td>-0.722253</td><td>-0.461051</td><td>71.516792</td><td>16.264688</td><td>40.900906</td><td>68.359245</td><td>59.912502</td><td>-11.690886</td><td>6.092332</td><td>-3.540592</td><td>0.578828</td><td>-0.000021</td><td>-0.000009</td><td>-0.000007</td><td>&quot;walk&quot;</td></tr><tr><td>29.995</td><td>0.11254</td><td>0.386239</td><td>0.926011</td><td>-0.100564</td><td>0.237333</td><td>0.956682</td><td>0.004648</td><td>0.224687</td><td>0.945235</td><td>-0.186827</td><td>0.500911</td><td>0.441738</td><td>-0.059593</td><td>0.527183</td><td>0.420494</td><td>-0.214477</td><td>0.487803</td><td>0.642354</td><td>-0.220649</td><td>0.445916</td><td>0.63421</td><td>-0.212775</td><td>0.448338</td><td>0.589556</td><td>-0.207173</td><td>0.494375</td><td>0.597414</td><td>-0.156227</td><td>0.552177</td><td>0.028659</td><td>-0.067947</td><td>0.56752</td><td>0.038831</td><td>-0.192478</td><td>0.542297</td><td>0.311486</td><td>&hellip;</td><td>null</td><td>null</td><td>null</td><td>null</td><td>8.919251</td><td>-76.255424</td><td>-171.838745</td><td>127759.453125</td><td>466.051727</td><td>39946.039062</td><td>19.366869</td><td>-423.57663</td><td>-1292.885986</td><td>-606022.75</td><td>153218.46875</td><td>-110981.320312</td><td>0.087041</td><td>-0.001635</td><td>-1.702821</td><td>-1.711736</td><td>1.670283</td><td>-0.143839</td><td>-0.361126</td><td>-0.230526</td><td>35.758396</td><td>8.132344</td><td>20.450453</td><td>34.179623</td><td>29.956251</td><td>-5.845443</td><td>3.046166</td><td>-1.770296</td><td>0.289414</td><td>-0.00001</td><td>-0.000004</td><td>-0.000003</td><td>&quot;walk&quot;</td></tr></tbody></table></div>"
      ],
      "text/plain": [
       "shape: (6_000, 151)\n",
       "┌────────┬──────────┬──────────┬──────────┬───┬───────────┬───────────┬───────────┬──────────┐\n",
       "│ TIME   ┆ RASIS[0] ┆ RASIS[1] ┆ RASIS[2] ┆ … ┆ mag.x     ┆ mag.y     ┆ mag.z     ┆ ACTIVITY │\n",
       "│ ---    ┆ ---      ┆ ---      ┆ ---      ┆   ┆ ---       ┆ ---       ┆ ---       ┆ ---      │\n",
       "│ f64    ┆ f64      ┆ f64      ┆ f64      ┆   ┆ f64       ┆ f64       ┆ f64       ┆ str      │\n",
       "╞════════╪══════════╪══════════╪══════════╪═══╪═══════════╪═══════════╪═══════════╪══════════╡\n",
       "│ 0.0    ┆ 0.11687  ┆ 0.052211 ┆ 1.011285 ┆ … ┆ -0.000037 ┆ -0.000032 ┆ -0.000018 ┆ walk     │\n",
       "│ 0.005  ┆ 0.116933 ┆ 0.053743 ┆ 1.009175 ┆ … ┆ -0.000037 ┆ -0.000033 ┆ -0.000017 ┆ walk     │\n",
       "│ 0.01   ┆ 0.116971 ┆ 0.055333 ┆ 1.007031 ┆ … ┆ -0.000037 ┆ -0.000034 ┆ -0.000016 ┆ walk     │\n",
       "│ 0.015  ┆ 0.116971 ┆ 0.056952 ┆ 1.004813 ┆ … ┆ -0.000037 ┆ -0.000034 ┆ -0.000015 ┆ walk     │\n",
       "│ 0.02   ┆ 0.116922 ┆ 0.05862  ┆ 1.002475 ┆ … ┆ -0.000037 ┆ -0.000035 ┆ -0.000015 ┆ walk     │\n",
       "│ …      ┆ …        ┆ …        ┆ …        ┆ … ┆ …         ┆ …         ┆ …         ┆ …        │\n",
       "│ 29.975 ┆ 0.115971 ┆ 0.38139  ┆ 0.935973 ┆ … ┆ -0.000041 ┆ -0.000017 ┆ -0.000013 ┆ walk     │\n",
       "│ 29.98  ┆ 0.115145 ┆ 0.382832 ┆ 0.933068 ┆ … ┆ -0.000041 ┆ -0.000017 ┆ -0.000013 ┆ walk     │\n",
       "│ 29.985 ┆ 0.11426  ┆ 0.384152 ┆ 0.930443 ┆ … ┆ -0.000031 ┆ -0.000013 ┆ -0.00001  ┆ walk     │\n",
       "│ 29.99  ┆ 0.113419 ┆ 0.385302 ┆ 0.928106 ┆ … ┆ -0.000021 ┆ -0.000009 ┆ -0.000007 ┆ walk     │\n",
       "│ 29.995 ┆ 0.11254  ┆ 0.386239 ┆ 0.926011 ┆ … ┆ -0.00001  ┆ -0.000004 ┆ -0.000003 ┆ walk     │\n",
       "└────────┴──────────┴──────────┴──────────┴───┴───────────┴───────────┴───────────┴──────────┘"
      ]
     },
     "execution_count": 13,
     "metadata": {},
     "output_type": "execute_result"
    }
   ],
   "source": [
    "joined_df"
   ]
  }
 ],
 "metadata": {
  "kernelspec": {
   "display_name": "Python 3",
   "language": "python",
   "name": "python3"
  },
  "language_info": {
   "codemirror_mode": {
    "name": "ipython",
    "version": 3
   },
   "file_extension": ".py",
   "mimetype": "text/x-python",
   "name": "python",
   "nbconvert_exporter": "python",
   "pygments_lexer": "ipython3",
   "version": "3.10.14"
  }
 },
 "nbformat": 4,
 "nbformat_minor": 2
}
