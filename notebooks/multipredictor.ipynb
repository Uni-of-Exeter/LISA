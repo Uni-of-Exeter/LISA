{
 "cells": [
  {
   "cell_type": "code",
   "execution_count": 1,
   "metadata": {},
   "outputs": [
    {
     "name": "stderr",
     "output_type": "stream",
     "text": [
      "\u001b[32m2024-10-14 17:11:37.128\u001b[0m | \u001b[1mINFO    \u001b[0m | \u001b[36mlisa.config\u001b[0m:\u001b[36m<module>\u001b[0m:\u001b[36m15\u001b[0m - \u001b[1mPROJ_ROOT path is: /Users/tomwilson/code/LISA\u001b[0m\n"
     ]
    }
   ],
   "source": [
    "from lisa.config import LABELLED_TEST_DATA_DIR\n",
    "from lisa.dataset import process_files\n",
    "import matplotlib.pyplot as plt\n",
    "\n",
    "\n",
    "input_path = LABELLED_TEST_DATA_DIR"
   ]
  },
  {
   "cell_type": "code",
   "execution_count": 2,
   "metadata": {},
   "outputs": [
    {
     "name": "stderr",
     "output_type": "stream",
     "text": [
      "  1%|▏         | 1/73 [00:00<00:11,  6.39it/s]"
     ]
    },
    {
     "name": "stdout",
     "output_type": "stream",
     "text": [
      "\u001b[32m2024-10-14 17:11:37.642\u001b[0m | \u001b[1mINFO    \u001b[0m | \u001b[36mlisa.dataset\u001b[0m:\u001b[36mprocess_files\u001b[0m:\u001b[36m275\u001b[0m - \u001b[1mProcessing file: P1_1608 Walk1_7ms.c3d\u001b[0m\n",
      "\u001b[32m2024-10-14 17:11:37.799\u001b[0m | \u001b[1mINFO    \u001b[0m | \u001b[36mlisa.dataset\u001b[0m:\u001b[36mprocess_files\u001b[0m:\u001b[36m275\u001b[0m - \u001b[1mProcessing file: P1_1608 Walking1_4ms_weighted_10incline.c3d\u001b[0m\n"
     ]
    },
    {
     "name": "stderr",
     "output_type": "stream",
     "text": [
      "  7%|▋         | 5/73 [00:00<00:04, 16.33it/s]"
     ]
    },
    {
     "name": "stdout",
     "output_type": "stream",
     "text": [
      "\u001b[32m2024-10-14 17:11:37.890\u001b[0m | \u001b[1mINFO    \u001b[0m | \u001b[36mlisa.dataset\u001b[0m:\u001b[36mprocess_files\u001b[0m:\u001b[36m275\u001b[0m - \u001b[1mProcessing file: P1_1608 Walking1_4ms_weighted_10decline.c3d\u001b[0m\n",
      "\u001b[32m2024-10-14 17:11:37.977\u001b[0m | \u001b[1mINFO    \u001b[0m | \u001b[36mlisa.dataset\u001b[0m:\u001b[36mprocess_files\u001b[0m:\u001b[36m275\u001b[0m - \u001b[1mProcessing file: P1_1608 Walk1_1ms.c3d\u001b[0m\n"
     ]
    },
    {
     "name": "stderr",
     "output_type": "stream",
     "text": [
      " 10%|▉         | 7/73 [00:00<00:05, 11.80it/s]"
     ]
    },
    {
     "name": "stdout",
     "output_type": "stream",
     "text": [
      "\u001b[32m2024-10-14 17:11:38.131\u001b[0m | \u001b[1mINFO    \u001b[0m | \u001b[36mlisa.dataset\u001b[0m:\u001b[36mprocess_files\u001b[0m:\u001b[36m275\u001b[0m - \u001b[1mProcessing file: P1_1608 Walking1_4ms_weighted_15incline.c3d\u001b[0m\n",
      "\u001b[32m2024-10-14 17:11:38.224\u001b[0m | \u001b[1mINFO    \u001b[0m | \u001b[36mlisa.dataset\u001b[0m:\u001b[36mprocess_files\u001b[0m:\u001b[36m275\u001b[0m - \u001b[1mProcessing file: P1_1608 Walking1_1ms_weighted_5decline.c3d\u001b[0m\n",
      "\u001b[32m2024-10-14 17:11:38.313\u001b[0m | \u001b[1mINFO    \u001b[0m | \u001b[36mlisa.dataset\u001b[0m:\u001b[36mprocess_files\u001b[0m:\u001b[36m275\u001b[0m - \u001b[1mProcessing file: P1_1608 Jogging2_5ms_weighted_5 decline.c3d\u001b[0m\n"
     ]
    },
    {
     "name": "stderr",
     "output_type": "stream",
     "text": [
      " 15%|█▌        | 11/73 [00:00<00:05, 11.58it/s]"
     ]
    },
    {
     "name": "stdout",
     "output_type": "stream",
     "text": [
      "\u001b[32m2024-10-14 17:11:38.401\u001b[0m | \u001b[1mINFO    \u001b[0m | \u001b[36mlisa.dataset\u001b[0m:\u001b[36mprocess_files\u001b[0m:\u001b[36m275\u001b[0m - \u001b[1mProcessing file: P1_1608 Walking1_1ms_weighted_15incline.c3d\u001b[0m\n",
      "\u001b[32m2024-10-14 17:11:38.487\u001b[0m | \u001b[1mINFO    \u001b[0m | \u001b[36mlisa.dataset\u001b[0m:\u001b[36mprocess_files\u001b[0m:\u001b[36m275\u001b[0m - \u001b[1mProcessing file: P1_1608 Jogging2_2ms_weighted_10 decline.c3d\u001b[0m\n",
      "\u001b[32m2024-10-14 17:11:38.575\u001b[0m | \u001b[1mINFO    \u001b[0m | \u001b[36mlisa.dataset\u001b[0m:\u001b[36mprocess_files\u001b[0m:\u001b[36m275\u001b[0m - \u001b[1mProcessing file: P1_1608 Jogging2_5ms_weighted_10incline.c3d\u001b[0m\n"
     ]
    },
    {
     "name": "stderr",
     "output_type": "stream",
     "text": [
      " 18%|█▊        | 13/73 [00:01<00:05, 10.18it/s]"
     ]
    },
    {
     "name": "stdout",
     "output_type": "stream",
     "text": [
      "\u001b[32m2024-10-14 17:11:38.663\u001b[0m | \u001b[1mINFO    \u001b[0m | \u001b[36mlisa.dataset\u001b[0m:\u001b[36mprocess_files\u001b[0m:\u001b[36m275\u001b[0m - \u001b[1mProcessing file: P1_1608 Walking1_4ms_10decline.c3d\u001b[0m\n",
      "\u001b[32m2024-10-14 17:11:38.821\u001b[0m | \u001b[1mINFO    \u001b[0m | \u001b[36mlisa.dataset\u001b[0m:\u001b[36mprocess_files\u001b[0m:\u001b[36m275\u001b[0m - \u001b[1mProcessing file: P1_1608 Vertical_Jump04.c3d\u001b[0m\n"
     ]
    },
    {
     "name": "stderr",
     "output_type": "stream",
     "text": [
      " 22%|██▏       | 16/73 [00:01<00:04, 11.52it/s]"
     ]
    },
    {
     "name": "stdout",
     "output_type": "stream",
     "text": [
      "\u001b[32m2024-10-14 17:11:38.879\u001b[0m | \u001b[1mINFO    \u001b[0m | \u001b[36mlisa.dataset\u001b[0m:\u001b[36mprocess_files\u001b[0m:\u001b[36m275\u001b[0m - \u001b[1mProcessing file: P1_1608 Walking1_4ms_10Incline.c3d\u001b[0m\n",
      "\u001b[32m2024-10-14 17:11:39.032\u001b[0m | \u001b[1mINFO    \u001b[0m | \u001b[36mlisa.dataset\u001b[0m:\u001b[36mprocess_files\u001b[0m:\u001b[36m275\u001b[0m - \u001b[1mProcessing file: P1_1608 Walk1_4ms.c3d\u001b[0m\n"
     ]
    },
    {
     "name": "stderr",
     "output_type": "stream",
     "text": [
      " 27%|██▋       | 20/73 [00:01<00:04, 11.67it/s]"
     ]
    },
    {
     "name": "stdout",
     "output_type": "stream",
     "text": [
      "\u001b[32m2024-10-14 17:11:39.193\u001b[0m | \u001b[1mINFO    \u001b[0m | \u001b[36mlisa.dataset\u001b[0m:\u001b[36mprocess_files\u001b[0m:\u001b[36m275\u001b[0m - \u001b[1mProcessing file: P1_1608 Running3_0ms_5decline.c3d\u001b[0m\n",
      "\u001b[32m2024-10-14 17:11:39.368\u001b[0m | \u001b[1mINFO    \u001b[0m | \u001b[36mlisa.dataset\u001b[0m:\u001b[36mprocess_files\u001b[0m:\u001b[36m275\u001b[0m - \u001b[1mProcessing file: P1_1608 Running3_0ms_5Incline.c3d\u001b[0m\n"
     ]
    },
    {
     "name": "stderr",
     "output_type": "stream",
     "text": [
      " 30%|███       | 22/73 [00:02<00:05,  9.20it/s]"
     ]
    },
    {
     "name": "stdout",
     "output_type": "stream",
     "text": [
      "\u001b[32m2024-10-14 17:11:39.530\u001b[0m | \u001b[1mINFO    \u001b[0m | \u001b[36mlisa.dataset\u001b[0m:\u001b[36mprocess_files\u001b[0m:\u001b[36m275\u001b[0m - \u001b[1mProcessing file: P1_1608 Walking1_7ms_weighted.c3d\u001b[0m\n",
      "\u001b[32m2024-10-14 17:11:39.698\u001b[0m | \u001b[1mINFO    \u001b[0m | \u001b[36mlisa.dataset\u001b[0m:\u001b[36mprocess_files\u001b[0m:\u001b[36m275\u001b[0m - \u001b[1mProcessing file: P1_1608 Running 3_0ms.c3d\u001b[0m\n"
     ]
    },
    {
     "name": "stderr",
     "output_type": "stream",
     "text": [
      " 33%|███▎      | 24/73 [00:02<00:06,  8.01it/s]"
     ]
    },
    {
     "name": "stdout",
     "output_type": "stream",
     "text": [
      "\u001b[32m2024-10-14 17:11:39.861\u001b[0m | \u001b[1mINFO    \u001b[0m | \u001b[36mlisa.dataset\u001b[0m:\u001b[36mprocess_files\u001b[0m:\u001b[36m275\u001b[0m - \u001b[1mProcessing file: P1_1608 Walking1_4ms_5Incline01.c3d\u001b[0m\n",
      "\u001b[32m2024-10-14 17:11:40.025\u001b[0m | \u001b[1mINFO    \u001b[0m | \u001b[36mlisa.dataset\u001b[0m:\u001b[36mprocess_files\u001b[0m:\u001b[36m275\u001b[0m - \u001b[1mProcessing file: P1_1608 Jogging2_2ms_5decline.c3d\u001b[0m\n"
     ]
    },
    {
     "name": "stderr",
     "output_type": "stream",
     "text": [
      " 36%|███▌      | 26/73 [00:02<00:05,  8.90it/s]"
     ]
    },
    {
     "name": "stdout",
     "output_type": "stream",
     "text": [
      "\u001b[32m2024-10-14 17:11:40.190\u001b[0m | \u001b[1mINFO    \u001b[0m | \u001b[36mlisa.dataset\u001b[0m:\u001b[36mprocess_files\u001b[0m:\u001b[36m275\u001b[0m - \u001b[1mProcessing file: P1_1608 Vertical_Jump03.c3d\u001b[0m\n",
      "\u001b[32m2024-10-14 17:11:40.253\u001b[0m | \u001b[1mINFO    \u001b[0m | \u001b[36mlisa.dataset\u001b[0m:\u001b[36mprocess_files\u001b[0m:\u001b[36m275\u001b[0m - \u001b[1mProcessing file: P1_1608 Jogging2_2ms_5Incline.c3d\u001b[0m\n"
     ]
    },
    {
     "name": "stderr",
     "output_type": "stream",
     "text": [
      " 38%|███▊      | 28/73 [00:02<00:04,  9.07it/s]"
     ]
    },
    {
     "name": "stdout",
     "output_type": "stream",
     "text": [
      "\u001b[32m2024-10-14 17:11:40.401\u001b[0m | \u001b[1mINFO    \u001b[0m | \u001b[36mlisa.dataset\u001b[0m:\u001b[36mprocess_files\u001b[0m:\u001b[36m275\u001b[0m - \u001b[1mProcessing file: P1_1608 Vertical_Jump02.c3d\u001b[0m\n",
      "\u001b[32m2024-10-14 17:11:40.461\u001b[0m | \u001b[1mINFO    \u001b[0m | \u001b[36mlisa.dataset\u001b[0m:\u001b[36mprocess_files\u001b[0m:\u001b[36m275\u001b[0m - \u001b[1mProcessing file: P1_1608 Jogging2_5ms_5decline.c3d\u001b[0m\n"
     ]
    },
    {
     "name": "stderr",
     "output_type": "stream",
     "text": [
      " 47%|████▋     | 34/73 [00:03<00:03, 12.03it/s]"
     ]
    },
    {
     "name": "stdout",
     "output_type": "stream",
     "text": [
      "\u001b[32m2024-10-14 17:11:40.618\u001b[0m | \u001b[1mINFO    \u001b[0m | \u001b[36mlisa.dataset\u001b[0m:\u001b[36mprocess_files\u001b[0m:\u001b[36m275\u001b[0m - \u001b[1mProcessing file: P1_1608 Walking1_1ms_weighted_10decline.c3d\u001b[0m\n",
      "\u001b[32m2024-10-14 17:11:40.711\u001b[0m | \u001b[1mINFO    \u001b[0m | \u001b[36mlisa.dataset\u001b[0m:\u001b[36mprocess_files\u001b[0m:\u001b[36m275\u001b[0m - \u001b[1mProcessing file: P1_1608 Walking1_1ms_weighted_10incline.c3d\u001b[0m\n",
      "\u001b[32m2024-10-14 17:11:40.800\u001b[0m | \u001b[1mINFO    \u001b[0m | \u001b[36mlisa.dataset\u001b[0m:\u001b[36mprocess_files\u001b[0m:\u001b[36m275\u001b[0m - \u001b[1mProcessing file: P1_1608 Jogging2_5ms_5Incline.c3d\u001b[0m\n"
     ]
    },
    {
     "name": "stderr",
     "output_type": "stream",
     "text": [
      " 49%|████▉     | 36/73 [00:03<00:03, 10.49it/s]"
     ]
    },
    {
     "name": "stdout",
     "output_type": "stream",
     "text": [
      "\u001b[32m2024-10-14 17:11:40.954\u001b[0m | \u001b[1mINFO    \u001b[0m | \u001b[36mlisa.dataset\u001b[0m:\u001b[36mprocess_files\u001b[0m:\u001b[36m275\u001b[0m - \u001b[1mProcessing file: P1_1608 Jogging2_5ms_weighted_10 decline.c3d\u001b[0m\n",
      "\u001b[32m2024-10-14 17:11:41.063\u001b[0m | \u001b[1mINFO    \u001b[0m | \u001b[36mlisa.dataset\u001b[0m:\u001b[36mprocess_files\u001b[0m:\u001b[36m275\u001b[0m - \u001b[1mProcessing file: P1_1608 Walking1_4ms_15Incline.c3d\u001b[0m\n"
     ]
    },
    {
     "name": "stderr",
     "output_type": "stream",
     "text": [
      " 52%|█████▏    | 38/73 [00:03<00:03, 10.94it/s]"
     ]
    },
    {
     "name": "stdout",
     "output_type": "stream",
     "text": [
      "\u001b[32m2024-10-14 17:11:41.224\u001b[0m | \u001b[1mINFO    \u001b[0m | \u001b[36mlisa.dataset\u001b[0m:\u001b[36mprocess_files\u001b[0m:\u001b[36m275\u001b[0m - \u001b[1mProcessing file: P1_1608 Walking1_1ms_weighted.c3d\u001b[0m\n",
      "\u001b[32m2024-10-14 17:11:41.387\u001b[0m | \u001b[1mINFO    \u001b[0m | \u001b[36mlisa.dataset\u001b[0m:\u001b[36mprocess_files\u001b[0m:\u001b[36m275\u001b[0m - \u001b[1mProcessing file: P1_1608 Jogging2_2ms_weighted_5 decline.c3d\u001b[0m\n"
     ]
    },
    {
     "name": "stderr",
     "output_type": "stream",
     "text": [
      " 55%|█████▍    | 40/73 [00:03<00:03,  9.86it/s]"
     ]
    },
    {
     "name": "stdout",
     "output_type": "stream",
     "text": [
      "\u001b[32m2024-10-14 17:11:41.479\u001b[0m | \u001b[1mINFO    \u001b[0m | \u001b[36mlisa.dataset\u001b[0m:\u001b[36mprocess_files\u001b[0m:\u001b[36m275\u001b[0m - \u001b[1mProcessing file: P1_1608Walking1_7ms_5decline.c3d\u001b[0m\n",
      "\u001b[32m2024-10-14 17:11:41.637\u001b[0m | \u001b[1mINFO    \u001b[0m | \u001b[36mlisa.dataset\u001b[0m:\u001b[36mprocess_files\u001b[0m:\u001b[36m275\u001b[0m - \u001b[1mProcessing file: P1_1608 Walking1_1ms_15Incline.c3d\u001b[0m\n"
     ]
    },
    {
     "name": "stderr",
     "output_type": "stream",
     "text": [
      " 60%|██████    | 44/73 [00:04<00:03,  9.26it/s]"
     ]
    },
    {
     "name": "stdout",
     "output_type": "stream",
     "text": [
      "\u001b[32m2024-10-14 17:11:41.803\u001b[0m | \u001b[1mINFO    \u001b[0m | \u001b[36mlisa.dataset\u001b[0m:\u001b[36mprocess_files\u001b[0m:\u001b[36m275\u001b[0m - \u001b[1mProcessing file: P1_1608 Jogging2_5ms_10decline.c3d\u001b[0m\n",
      "\u001b[32m2024-10-14 17:11:41.967\u001b[0m | \u001b[1mINFO    \u001b[0m | \u001b[36mlisa.dataset\u001b[0m:\u001b[36mprocess_files\u001b[0m:\u001b[36m275\u001b[0m - \u001b[1mProcessing file: P1_1608 Walking1_7ms_weighted_15incline.c3d\u001b[0m\n"
     ]
    },
    {
     "name": "stderr",
     "output_type": "stream",
     "text": [
      " 63%|██████▎   | 46/73 [00:04<00:03,  8.92it/s]"
     ]
    },
    {
     "name": "stdout",
     "output_type": "stream",
     "text": [
      "\u001b[32m2024-10-14 17:11:42.060\u001b[0m | \u001b[1mINFO    \u001b[0m | \u001b[36mlisa.dataset\u001b[0m:\u001b[36mprocess_files\u001b[0m:\u001b[36m275\u001b[0m - \u001b[1mProcessing file: P1_1608 Jogging2_5ms_10Incline.c3d\u001b[0m\n",
      "\u001b[32m2024-10-14 17:11:42.211\u001b[0m | \u001b[1mINFO    \u001b[0m | \u001b[36mlisa.dataset\u001b[0m:\u001b[36mprocess_files\u001b[0m:\u001b[36m275\u001b[0m - \u001b[1mProcessing file: P1_1608 Walking1_7ms_5Incline02.c3d\u001b[0m\n"
     ]
    },
    {
     "name": "stderr",
     "output_type": "stream",
     "text": [
      " 67%|██████▋   | 49/73 [00:04<00:02,  9.03it/s]"
     ]
    },
    {
     "name": "stdout",
     "output_type": "stream",
     "text": [
      "\u001b[32m2024-10-14 17:11:42.372\u001b[0m | \u001b[1mINFO    \u001b[0m | \u001b[36mlisa.dataset\u001b[0m:\u001b[36mprocess_files\u001b[0m:\u001b[36m275\u001b[0m - \u001b[1mProcessing file: P1_1608 Walking1_4ms_weighted_5decline.c3d\u001b[0m\n",
      "\u001b[32m2024-10-14 17:11:42.466\u001b[0m | \u001b[1mINFO    \u001b[0m | \u001b[36mlisa.dataset\u001b[0m:\u001b[36mprocess_files\u001b[0m:\u001b[36m275\u001b[0m - \u001b[1mProcessing file: P1_1608 Walking1_7ms_weighted_10decline.c3d\u001b[0m\n",
      "\u001b[32m2024-10-14 17:11:42.554\u001b[0m | \u001b[1mINFO    \u001b[0m | \u001b[36mlisa.dataset\u001b[0m:\u001b[36mprocess_files\u001b[0m:\u001b[36m275\u001b[0m - \u001b[1mProcessing file: P1_1608 Jogging2_2ms_10Incline.c3d\u001b[0m\n"
     ]
    },
    {
     "name": "stderr",
     "output_type": "stream",
     "text": [
      " 70%|██████▉   | 51/73 [00:05<00:02,  7.69it/s]"
     ]
    },
    {
     "name": "stdout",
     "output_type": "stream",
     "text": [
      "\u001b[32m2024-10-14 17:11:42.722\u001b[0m | \u001b[1mINFO    \u001b[0m | \u001b[36mlisa.dataset\u001b[0m:\u001b[36mprocess_files\u001b[0m:\u001b[36m275\u001b[0m - \u001b[1mProcessing file: P1_1608Walking1_1ms_5decline.c3d\u001b[0m\n",
      "\u001b[32m2024-10-14 17:11:42.883\u001b[0m | \u001b[1mINFO    \u001b[0m | \u001b[36mlisa.dataset\u001b[0m:\u001b[36mprocess_files\u001b[0m:\u001b[36m275\u001b[0m - \u001b[1mProcessing file: P1_1608 Jogging2_2ms_10decline.c3d\u001b[0m\n"
     ]
    },
    {
     "name": "stderr",
     "output_type": "stream",
     "text": [
      " 73%|███████▎  | 53/73 [00:05<00:02,  6.96it/s]"
     ]
    },
    {
     "name": "stdout",
     "output_type": "stream",
     "text": [
      "\u001b[32m2024-10-14 17:11:43.045\u001b[0m | \u001b[1mINFO    \u001b[0m | \u001b[36mlisa.dataset\u001b[0m:\u001b[36mprocess_files\u001b[0m:\u001b[36m275\u001b[0m - \u001b[1mProcessing file: P1_1608 Jogging2_2ms.c3d\u001b[0m\n",
      "\u001b[32m2024-10-14 17:11:43.207\u001b[0m | \u001b[1mINFO    \u001b[0m | \u001b[36mlisa.dataset\u001b[0m:\u001b[36mprocess_files\u001b[0m:\u001b[36m275\u001b[0m - \u001b[1mProcessing file: P1_1608 Walking1_4ms_weighted_5incline2.c3d\u001b[0m\n"
     ]
    },
    {
     "name": "stderr",
     "output_type": "stream",
     "text": [
      " 74%|███████▍  | 54/73 [00:05<00:02,  6.64it/s]"
     ]
    },
    {
     "name": "stdout",
     "output_type": "stream",
     "text": [
      "\u001b[32m2024-10-14 17:11:43.377\u001b[0m | \u001b[1mINFO    \u001b[0m | \u001b[36mlisa.dataset\u001b[0m:\u001b[36mprocess_files\u001b[0m:\u001b[36m275\u001b[0m - \u001b[1mProcessing file: P1_1608 Jogging2_5ms_weighted_5incline.c3d\u001b[0m\n",
      "\u001b[32m2024-10-14 17:11:43.472\u001b[0m | \u001b[1mINFO    \u001b[0m | \u001b[36mlisa.dataset\u001b[0m:\u001b[36mprocess_files\u001b[0m:\u001b[36m275\u001b[0m - \u001b[1mProcessing file: P1_1608 Walking1_1ms_10Incline.c3d\u001b[0m\n"
     ]
    },
    {
     "name": "stderr",
     "output_type": "stream",
     "text": [
      " 78%|███████▊  | 57/73 [00:06<00:02,  6.84it/s]"
     ]
    },
    {
     "name": "stdout",
     "output_type": "stream",
     "text": [
      "\u001b[32m2024-10-14 17:11:43.630\u001b[0m | \u001b[1mINFO    \u001b[0m | \u001b[36mlisa.dataset\u001b[0m:\u001b[36mprocess_files\u001b[0m:\u001b[36m275\u001b[0m - \u001b[1mProcessing file: P1_1608 Walking1_1ms_10decline.c3d\u001b[0m\n",
      "\u001b[32m2024-10-14 17:11:43.796\u001b[0m | \u001b[1mINFO    \u001b[0m | \u001b[36mlisa.dataset\u001b[0m:\u001b[36mprocess_files\u001b[0m:\u001b[36m275\u001b[0m - \u001b[1mProcessing file: P1_1608 Jogging2_5ms.c3d\u001b[0m\n"
     ]
    },
    {
     "name": "stderr",
     "output_type": "stream",
     "text": [
      " 81%|████████  | 59/73 [00:06<00:02,  6.55it/s]"
     ]
    },
    {
     "name": "stdout",
     "output_type": "stream",
     "text": [
      "\u001b[32m2024-10-14 17:11:43.956\u001b[0m | \u001b[1mINFO    \u001b[0m | \u001b[36mlisa.dataset\u001b[0m:\u001b[36mprocess_files\u001b[0m:\u001b[36m275\u001b[0m - \u001b[1mProcessing file: P1_1608 Walking1_7ms_weighted_10incline2.c3d\u001b[0m\n",
      "\u001b[32m2024-10-14 17:11:44.117\u001b[0m | \u001b[1mINFO    \u001b[0m | \u001b[36mlisa.dataset\u001b[0m:\u001b[36mprocess_files\u001b[0m:\u001b[36m275\u001b[0m - \u001b[1mProcessing file: P1_1608Walking1_4ms_5decline.c3d\u001b[0m\n"
     ]
    },
    {
     "name": "stderr",
     "output_type": "stream",
     "text": [
      " 84%|████████▎ | 61/73 [00:06<00:01,  7.06it/s]"
     ]
    },
    {
     "name": "stdout",
     "output_type": "stream",
     "text": [
      "\u001b[32m2024-10-14 17:11:44.280\u001b[0m | \u001b[1mINFO    \u001b[0m | \u001b[36mlisa.dataset\u001b[0m:\u001b[36mprocess_files\u001b[0m:\u001b[36m275\u001b[0m - \u001b[1mProcessing file: P1_1608 Walking1_7ms_weighted_5decline.c3d\u001b[0m\n",
      "\u001b[32m2024-10-14 17:11:44.386\u001b[0m | \u001b[1mINFO    \u001b[0m | \u001b[36mlisa.dataset\u001b[0m:\u001b[36mprocess_files\u001b[0m:\u001b[36m275\u001b[0m - \u001b[1mProcessing file: P1_1608 Running3_0ms_weighted.c3d\u001b[0m\n",
      "\u001b[32m2024-10-14 17:11:44.473\u001b[0m | \u001b[1mINFO    \u001b[0m | \u001b[36mlisa.dataset\u001b[0m:\u001b[36mprocess_files\u001b[0m:\u001b[36m275\u001b[0m - \u001b[1mProcessing file: P1_1608 Walking1_7ms_15Incline.c3d\u001b[0m\n"
     ]
    },
    {
     "name": "stderr",
     "output_type": "stream",
     "text": [
      " 88%|████████▊ | 64/73 [00:07<00:01,  7.04it/s]"
     ]
    },
    {
     "name": "stdout",
     "output_type": "stream",
     "text": [
      "\u001b[32m2024-10-14 17:11:44.629\u001b[0m | \u001b[1mINFO    \u001b[0m | \u001b[36mlisa.dataset\u001b[0m:\u001b[36mprocess_files\u001b[0m:\u001b[36m275\u001b[0m - \u001b[1mProcessing file: P1_1608 Walking1_1ms_weighted_5incline2.c3d\u001b[0m\n",
      "\u001b[32m2024-10-14 17:11:44.800\u001b[0m | \u001b[1mINFO    \u001b[0m | \u001b[36mlisa.dataset\u001b[0m:\u001b[36mprocess_files\u001b[0m:\u001b[36m275\u001b[0m - \u001b[1mProcessing file: P1_1608 Walking1_7ms_weighted_5incline.c3d\u001b[0m\n"
     ]
    },
    {
     "name": "stderr",
     "output_type": "stream",
     "text": [
      " 90%|█████████ | 66/73 [00:07<00:00,  7.19it/s]"
     ]
    },
    {
     "name": "stdout",
     "output_type": "stream",
     "text": [
      "\u001b[32m2024-10-14 17:11:44.975\u001b[0m | \u001b[1mINFO    \u001b[0m | \u001b[36mlisa.dataset\u001b[0m:\u001b[36mprocess_files\u001b[0m:\u001b[36m275\u001b[0m - \u001b[1mProcessing file: P1_1608 Jogging2_2ms_weighted.c3d\u001b[0m\n",
      "\u001b[32m2024-10-14 17:11:45.083\u001b[0m | \u001b[1mINFO    \u001b[0m | \u001b[36mlisa.dataset\u001b[0m:\u001b[36mprocess_files\u001b[0m:\u001b[36m275\u001b[0m - \u001b[1mProcessing file: P1_1608 Walking1_7ms_10Incline.c3d\u001b[0m\n"
     ]
    },
    {
     "name": "stderr",
     "output_type": "stream",
     "text": [
      " 93%|█████████▎| 68/73 [00:07<00:00,  6.69it/s]"
     ]
    },
    {
     "name": "stdout",
     "output_type": "stream",
     "text": [
      "\u001b[32m2024-10-14 17:11:45.240\u001b[0m | \u001b[1mINFO    \u001b[0m | \u001b[36mlisa.dataset\u001b[0m:\u001b[36mprocess_files\u001b[0m:\u001b[36m275\u001b[0m - \u001b[1mProcessing file: P1_1608 Walking1_7ms_10decline.c3d\u001b[0m\n",
      "\u001b[32m2024-10-14 17:11:45.403\u001b[0m | \u001b[1mINFO    \u001b[0m | \u001b[36mlisa.dataset\u001b[0m:\u001b[36mprocess_files\u001b[0m:\u001b[36m275\u001b[0m - \u001b[1mProcessing file: P1_1608 Jogging2_2ms_weighted_5incline.c3d\u001b[0m\n"
     ]
    },
    {
     "name": "stderr",
     "output_type": "stream",
     "text": [
      " 96%|█████████▌| 70/73 [00:07<00:00,  8.61it/s]"
     ]
    },
    {
     "name": "stdout",
     "output_type": "stream",
     "text": [
      "\u001b[32m2024-10-14 17:11:45.498\u001b[0m | \u001b[1mINFO    \u001b[0m | \u001b[36mlisa.dataset\u001b[0m:\u001b[36mprocess_files\u001b[0m:\u001b[36m275\u001b[0m - \u001b[1mProcessing file: P1_1608 Vertical_Jump.c3d\u001b[0m\n",
      "\u001b[32m2024-10-14 17:11:45.554\u001b[0m | \u001b[1mINFO    \u001b[0m | \u001b[36mlisa.dataset\u001b[0m:\u001b[36mprocess_files\u001b[0m:\u001b[36m275\u001b[0m - \u001b[1mProcessing file: P1_1608 Jogging2_5ms_weighted.c3d\u001b[0m\n",
      "\u001b[32m2024-10-14 17:11:45.629\u001b[0m | \u001b[1mINFO    \u001b[0m | \u001b[36mlisa.dataset\u001b[0m:\u001b[36mprocess_files\u001b[0m:\u001b[36m275\u001b[0m - \u001b[1mProcessing file: P1_1608 Walking1_1ms_5Incline.c3d\u001b[0m\n"
     ]
    },
    {
     "name": "stderr",
     "output_type": "stream",
     "text": [
      "100%|██████████| 73/73 [00:08<00:00,  8.87it/s]"
     ]
    },
    {
     "name": "stdout",
     "output_type": "stream",
     "text": [
      "\u001b[32m2024-10-14 17:11:45.782\u001b[0m | \u001b[1mINFO    \u001b[0m | \u001b[36mlisa.dataset\u001b[0m:\u001b[36mprocess_files\u001b[0m:\u001b[36m275\u001b[0m - \u001b[1mProcessing file: P1_1608 Jogging2_2ms_weighted_10incline.c3d\u001b[0m\n"
     ]
    },
    {
     "name": "stderr",
     "output_type": "stream",
     "text": [
      "\n"
     ]
    },
    {
     "data": {
      "text/html": [
       "<div><style>\n",
       ".dataframe > thead > tr,\n",
       ".dataframe > tbody > tr {\n",
       "  text-align: right;\n",
       "  white-space: pre-wrap;\n",
       "}\n",
       "</style>\n",
       "<small>shape: (981_755, 112)</small><table border=\"1\" class=\"dataframe\"><thead><tr><th>Right Foot Sensor.RFS</th><th>Left Foot Sensor.LFS</th><th>Global Angle_Foot_L.x</th><th>Global Angle_Foot_L.y</th><th>Global Angle_Foot_L.z</th><th>HighG_Foot_L.x</th><th>HighG_Foot_L.y</th><th>HighG_Foot_L.z</th><th>accel_Foot_L.x</th><th>accel_Foot_L.y</th><th>accel_Foot_L.z</th><th>gyro_Foot_L.x</th><th>gyro_Foot_L.y</th><th>gyro_Foot_L.z</th><th>mag_Foot_L.x</th><th>mag_Foot_L.y</th><th>mag_Foot_L.z</th><th>Global Angle_Shank_L.x</th><th>Global Angle_Shank_L.y</th><th>Global Angle_Shank_L.z</th><th>HighG_Shank_L.x</th><th>HighG_Shank_L.y</th><th>HighG_Shank_L.z</th><th>accel_Shank_L.x</th><th>accel_Shank_L.y</th><th>accel_Shank_L.z</th><th>gyro_Shank_L.x</th><th>gyro_Shank_L.y</th><th>gyro_Shank_L.z</th><th>mag_Shank_L.x</th><th>mag_Shank_L.y</th><th>mag_Shank_L.z</th><th>Global Angle_Thigh_R.x</th><th>Global Angle_Thigh_R.y</th><th>Global Angle_Thigh_R.z</th><th>HighG_Thigh_R.x</th><th>HighG_Thigh_R.y</th><th>&hellip;</th><th>mag_Thigh_L.y</th><th>mag_Thigh_L.z</th><th>Global Angle_pelvis.x</th><th>Global Angle_pelvis.y</th><th>Global Angle_pelvis.z</th><th>HighG_pelvis.x</th><th>HighG_pelvis.y</th><th>HighG_pelvis.z</th><th>accel_pelvis.x</th><th>accel_pelvis.y</th><th>accel_pelvis.z</th><th>gyro_pelvis.x</th><th>gyro_pelvis.y</th><th>gyro_pelvis.z</th><th>mag_pelvis.x</th><th>mag_pelvis.y</th><th>mag_pelvis.z</th><th>Global Angle_Foot_R.x</th><th>Global Angle_Foot_R.y</th><th>Global Angle_Foot_R.z</th><th>HighG_Foot_R.x</th><th>HighG_Foot_R.y</th><th>HighG_Foot_R.z</th><th>accel_Foot_R.x</th><th>accel_Foot_R.y</th><th>accel_Foot_R.z</th><th>gyro_Foot_R.x</th><th>gyro_Foot_R.y</th><th>gyro_Foot_R.z</th><th>mag_Foot_R.x</th><th>mag_Foot_R.y</th><th>mag_Foot_R.z</th><th>ACTIVITY</th><th>INCLINE</th><th>SPEED</th><th>TIME</th><th>TRIAL</th></tr><tr><td>f64</td><td>f64</td><td>f64</td><td>f64</td><td>f64</td><td>f64</td><td>f64</td><td>f64</td><td>f64</td><td>f64</td><td>f64</td><td>f64</td><td>f64</td><td>f64</td><td>f64</td><td>f64</td><td>f64</td><td>f64</td><td>f64</td><td>f64</td><td>f64</td><td>f64</td><td>f64</td><td>f64</td><td>f64</td><td>f64</td><td>f64</td><td>f64</td><td>f64</td><td>f64</td><td>f64</td><td>f64</td><td>f64</td><td>f64</td><td>f64</td><td>f64</td><td>f64</td><td>&hellip;</td><td>f64</td><td>f64</td><td>f64</td><td>f64</td><td>f64</td><td>f64</td><td>f64</td><td>f64</td><td>f64</td><td>f64</td><td>f64</td><td>f64</td><td>f64</td><td>f64</td><td>f64</td><td>f64</td><td>f64</td><td>f64</td><td>f64</td><td>f64</td><td>f64</td><td>f64</td><td>f64</td><td>f64</td><td>f64</td><td>f64</td><td>f64</td><td>f64</td><td>f64</td><td>f64</td><td>f64</td><td>f64</td><td>str</td><td>i16</td><td>f32</td><td>i64</td><td>i16</td></tr></thead><tbody><tr><td>3.661904</td><td>1.908885</td><td>0.747913</td><td>1.414698</td><td>2.41077</td><td>23.918659</td><td>17.699808</td><td>-1.913493</td><td>7.661446</td><td>32.297779</td><td>1.000776</td><td>-2.088465</td><td>1.15659</td><td>1.5975</td><td>-0.000056</td><td>0.00004</td><td>0.000002</td><td>2.034274</td><td>1.339811</td><td>2.15361</td><td>19.6133</td><td>-11.002583</td><td>-0.478373</td><td>18.526333</td><td>-18.641254</td><td>-3.916914</td><td>-1.48248</td><td>-0.546345</td><td>4.052325</td><td>-0.000044</td><td>0.000014</td><td>-0.000017</td><td>-0.291885</td><td>-1.71113</td><td>-0.607828</td><td>13.872822</td><td>-9.567463</td><td>&hellip;</td><td>0.000056</td><td>0.000021</td><td>-1.22109</td><td>-1.074704</td><td>-1.202925</td><td>15.549099</td><td>5.145468</td><td>12.441645</td><td>14.678087</td><td>0.116677</td><td>8.908041</td><td>0.919742</td><td>-0.245697</td><td>-0.838168</td><td>-0.000057</td><td>-0.000003</td><td>0.000003</td><td>-0.792381</td><td>-1.006923</td><td>-0.555903</td><td>15.327848</td><td>-42.973961</td><td>5.750431</td><td>18.020855</td><td>-46.280937</td><td>-2.313499</td><td>4.305908</td><td>1.386873</td><td>-11.092124</td><td>-0.000013</td><td>-0.00001</td><td>0.000003</td><td>&quot;walk&quot;</td><td>0</td><td>1.7</td><td>0</td><td>0</td></tr><tr><td>3.644509</td><td>1.8921</td><td>0.74788</td><td>1.413869</td><td>2.412725</td><td>23.033669</td><td>17.31711</td><td>-0.765397</td><td>7.668628</td><td>31.046329</td><td>1.431014</td><td>-2.004969</td><td>1.130391</td><td>1.558468</td><td>-0.000056</td><td>0.00004</td><td>0.000002</td><td>2.038154</td><td>1.334736</td><td>2.15405</td><td>19.015333</td><td>-10.715559</td><td>-0.765397</td><td>17.805677</td><td>-18.223467</td><td>-4.294479</td><td>-1.506815</td><td>-0.579786</td><td>4.020748</td><td>-0.000044</td><td>0.000014</td><td>-0.000017</td><td>-0.294524</td><td>-1.709979</td><td>-0.604346</td><td>14.159845</td><td>-9.065171</td><td>&hellip;</td><td>0.000056</td><td>0.000021</td><td>-1.220186</td><td>-1.075983</td><td>-1.20291</td><td>15.542416</td><td>5.186725</td><td>12.258053</td><td>14.593883</td><td>0.322021</td><td>8.922407</td><td>0.908077</td><td>-0.243308</td><td>-0.859853</td><td>-0.000057</td><td>-0.000003</td><td>0.000003</td><td>-0.782873</td><td>-1.011688</td><td>-0.563954</td><td>13.484253</td><td>-39.584946</td><td>5.266057</td><td>16.390762</td><td>-42.935081</td><td>-2.543441</td><td>4.265439</td><td>1.373026</td><td>-11.173891</td><td>-0.000013</td><td>-0.00001</td><td>0.000003</td><td>&quot;walk&quot;</td><td>0</td><td>1.7</td><td>1</td><td>0</td></tr><tr><td>3.673196</td><td>1.868602</td><td>0.747848</td><td>1.413039</td><td>2.41468</td><td>22.148678</td><td>16.93441</td><td>0.382699</td><td>7.675811</td><td>29.79488</td><td>1.861252</td><td>-1.921473</td><td>1.104192</td><td>1.519435</td><td>-0.000056</td><td>0.00004</td><td>0.000002</td><td>2.042028</td><td>1.329653</td><td>2.154482</td><td>18.417368</td><td>-10.428535</td><td>-1.052421</td><td>17.085024</td><td>-17.805677</td><td>-4.672045</td><td>-1.53115</td><td>-0.613227</td><td>3.98917</td><td>-0.000044</td><td>0.000014</td><td>-0.000017</td><td>-0.297161</td><td>-1.708823</td><td>-0.600865</td><td>14.44687</td><td>-8.56288</td><td>&hellip;</td><td>0.000056</td><td>0.00002</td><td>-1.219281</td><td>-1.077261</td><td>-1.202894</td><td>15.535733</td><td>5.227983</td><td>12.074461</td><td>14.509678</td><td>0.527365</td><td>8.936774</td><td>0.896412</td><td>-0.240919</td><td>-0.881539</td><td>-0.000057</td><td>-0.000003</td><td>0.000003</td><td>-0.773341</td><td>-1.016428</td><td>-0.571992</td><td>11.640657</td><td>-36.19593</td><td>4.781682</td><td>14.760671</td><td>-39.589226</td><td>-2.773383</td><td>4.224969</td><td>1.359179</td><td>-11.255657</td><td>-0.000013</td><td>-0.000009</td><td>0.000003</td><td>&quot;walk&quot;</td><td>0</td><td>1.7</td><td>2</td><td>0</td></tr><tr><td>3.632607</td><td>1.886607</td><td>0.747814</td><td>1.412207</td><td>2.416634</td><td>21.263687</td><td>16.551712</td><td>1.530794</td><td>7.682993</td><td>28.543432</td><td>2.291491</td><td>-1.837977</td><td>1.077993</td><td>1.480403</td><td>-0.000057</td><td>0.000039</td><td>0.000002</td><td>2.045894</td><td>1.324562</td><td>2.154905</td><td>17.819401</td><td>-10.141511</td><td>-1.339445</td><td>16.364368</td><td>-17.38789</td><td>-5.049611</td><td>-1.555486</td><td>-0.646668</td><td>3.957593</td><td>-0.000044</td><td>0.000014</td><td>-0.000017</td><td>-0.299796</td><td>-1.707663</td><td>-0.597384</td><td>14.733893</td><td>-8.060588</td><td>&hellip;</td><td>0.000056</td><td>0.00002</td><td>-1.218376</td><td>-1.07854</td><td>-1.202877</td><td>15.52905</td><td>5.26924</td><td>11.89087</td><td>14.425472</td><td>0.73271</td><td>8.95114</td><td>0.884747</td><td>-0.23853</td><td>-0.903225</td><td>-0.000057</td><td>-0.000004</td><td>0.000003</td><td>-0.763785</td><td>-1.021142</td><td>-0.580019</td><td>9.797062</td><td>-32.806915</td><td>4.297307</td><td>13.130579</td><td>-36.24337</td><td>-3.003325</td><td>4.184501</td><td>1.345332</td><td>-11.337423</td><td>-0.000013</td><td>-0.000009</td><td>0.000004</td><td>&quot;walk&quot;</td><td>0</td><td>1.7</td><td>3</td><td>0</td></tr><tr><td>3.648477</td><td>1.936351</td><td>0.74778</td><td>1.411373</td><td>2.418588</td><td>20.378698</td><td>16.169014</td><td>2.67889</td><td>7.690176</td><td>27.291983</td><td>2.721729</td><td>-1.754481</td><td>1.051794</td><td>1.441371</td><td>-0.000057</td><td>0.000039</td><td>0.000002</td><td>2.049754</td><td>1.319464</td><td>2.15532</td><td>17.221434</td><td>-9.854487</td><td>-1.626469</td><td>15.643714</td><td>-16.970102</td><td>-5.427176</td><td>-1.579821</td><td>-0.680109</td><td>3.926016</td><td>-0.000044</td><td>0.000014</td><td>-0.000017</td><td>-0.302428</td><td>-1.706498</td><td>-0.593903</td><td>15.020918</td><td>-7.558296</td><td>&hellip;</td><td>0.000056</td><td>0.00002</td><td>-1.21747</td><td>-1.079818</td><td>-1.20286</td><td>15.522367</td><td>5.310498</td><td>11.707278</td><td>14.341268</td><td>0.938054</td><td>8.965508</td><td>0.873082</td><td>-0.236141</td><td>-0.924911</td><td>-0.000057</td><td>-0.000004</td><td>0.000004</td><td>-0.754205</td><td>-1.02583</td><td>-0.588032</td><td>7.953466</td><td>-29.417902</td><td>3.812932</td><td>11.500486</td><td>-32.897514</td><td>-3.233266</td><td>4.144032</td><td>1.331485</td><td>-11.41919</td><td>-0.000013</td><td>-0.000008</td><td>0.000004</td><td>&quot;walk&quot;</td><td>0</td><td>1.7</td><td>4</td><td>0</td></tr><tr><td>&hellip;</td><td>&hellip;</td><td>&hellip;</td><td>&hellip;</td><td>&hellip;</td><td>&hellip;</td><td>&hellip;</td><td>&hellip;</td><td>&hellip;</td><td>&hellip;</td><td>&hellip;</td><td>&hellip;</td><td>&hellip;</td><td>&hellip;</td><td>&hellip;</td><td>&hellip;</td><td>&hellip;</td><td>&hellip;</td><td>&hellip;</td><td>&hellip;</td><td>&hellip;</td><td>&hellip;</td><td>&hellip;</td><td>&hellip;</td><td>&hellip;</td><td>&hellip;</td><td>&hellip;</td><td>&hellip;</td><td>&hellip;</td><td>&hellip;</td><td>&hellip;</td><td>&hellip;</td><td>&hellip;</td><td>&hellip;</td><td>&hellip;</td><td>&hellip;</td><td>&hellip;</td><td>&hellip;</td><td>&hellip;</td><td>&hellip;</td><td>&hellip;</td><td>&hellip;</td><td>&hellip;</td><td>&hellip;</td><td>&hellip;</td><td>&hellip;</td><td>&hellip;</td><td>&hellip;</td><td>&hellip;</td><td>&hellip;</td><td>&hellip;</td><td>&hellip;</td><td>&hellip;</td><td>&hellip;</td><td>&hellip;</td><td>&hellip;</td><td>&hellip;</td><td>&hellip;</td><td>&hellip;</td><td>&hellip;</td><td>&hellip;</td><td>&hellip;</td><td>&hellip;</td><td>&hellip;</td><td>&hellip;</td><td>&hellip;</td><td>&hellip;</td><td>&hellip;</td><td>&hellip;</td><td>&hellip;</td><td>&hellip;</td><td>&hellip;</td><td>&hellip;</td><td>&hellip;</td><td>&hellip;</td></tr><tr><td>2.689004</td><td>3.082591</td><td>1.473417</td><td>0.187625</td><td>1.696951</td><td>3.826985</td><td>13.394449</td><td>8.610717</td><td>2.858677</td><td>11.951855</td><td>1.900996</td><td>1.195995</td><td>4.01079</td><td>-8.570055</td><td>-0.000076</td><td>0.00002</td><td>-4.5000e-7</td><td>-1.493573</td><td>0.637117</td><td>-1.167475</td><td>-2.870239</td><td>3.826985</td><td>4.305358</td><td>-6.967127</td><td>0.560243</td><td>1.187524</td><td>-0.59214</td><td>0.08307</td><td>-8.144054</td><td>-0.000054</td><td>-0.000021</td><td>-0.000015</td><td>-0.429111</td><td>-1.153585</td><td>-0.691006</td><td>25.353779</td><td>-0.478373</td><td>&hellip;</td><td>0.000063</td><td>0.000029</td><td>-0.576003</td><td>-0.321333</td><td>-1.72601</td><td>11.908339</td><td>1.20258</td><td>5.866467</td><td>11.960382</td><td>-3.364523</td><td>4.148169</td><td>1.67249</td><td>0.434263</td><td>-0.411233</td><td>-0.000086</td><td>-0.000002</td><td>0.000028</td><td>-1.165188</td><td>-0.845003</td><td>0.237912</td><td>0.55015</td><td>-14.488265</td><td>4.155536</td><td>2.26274</td><td>-18.235706</td><td>-4.613767</td><td>-0.528527</td><td>-0.37639</td><td>-3.235383</td><td>0.000014</td><td>-0.00001</td><td>-0.000002</td><td>&quot;run&quot;</td><td>10</td><td>2.2</td><td>9995</td><td>62</td></tr><tr><td>2.717385</td><td>3.086253</td><td>1.399746</td><td>0.178244</td><td>1.612104</td><td>3.635636</td><td>12.724727</td><td>8.180181</td><td>2.715743</td><td>11.354262</td><td>1.805946</td><td>1.136195</td><td>3.81025</td><td>-8.141552</td><td>-0.000072</td><td>0.000019</td><td>-4.2750e-7</td><td>-1.418894</td><td>0.605261</td><td>-1.109102</td><td>-2.726727</td><td>3.635636</td><td>4.09009</td><td>-6.618771</td><td>0.532231</td><td>1.128148</td><td>-0.562533</td><td>0.078916</td><td>-7.736852</td><td>-0.000051</td><td>-0.00002</td><td>-0.000014</td><td>-0.407656</td><td>-1.095906</td><td>-0.656455</td><td>24.08609</td><td>-0.454455</td><td>&hellip;</td><td>0.000057</td><td>0.000026</td><td>-0.517546</td><td>-0.289856</td><td>-1.553339</td><td>10.367473</td><td>1.245458</td><td>5.224117</td><td>10.648865</td><td>-2.937966</td><td>3.809745</td><td>1.506065</td><td>0.395759</td><td>-0.374299</td><td>-0.000078</td><td>-0.000002</td><td>0.000025</td><td>-1.048141</td><td>-0.761684</td><td>0.212799</td><td>0.726982</td><td>-12.160828</td><td>3.296064</td><td>2.351414</td><td>-15.867146</td><td>-4.531639</td><td>-0.486614</td><td>-0.326642</td><td>-2.972228</td><td>0.000013</td><td>-0.000009</td><td>-0.000002</td><td>&quot;run&quot;</td><td>10</td><td>2.2</td><td>9996</td><td>62</td></tr><tr><td>2.719827</td><td>3.067332</td><td>1.326075</td><td>0.168862</td><td>1.527256</td><td>3.444287</td><td>12.055004</td><td>7.749645</td><td>2.572809</td><td>10.756669</td><td>1.710897</td><td>1.076396</td><td>3.609711</td><td>-7.713049</td><td>-0.000068</td><td>0.000018</td><td>-4.0500e-7</td><td>-1.344216</td><td>0.573405</td><td>-1.050728</td><td>-2.583215</td><td>3.444287</td><td>3.874823</td><td>-6.270414</td><td>0.504219</td><td>1.068772</td><td>-0.532926</td><td>0.074763</td><td>-7.329649</td><td>-0.000048</td><td>-0.000019</td><td>-0.000014</td><td>-0.3862</td><td>-1.038226</td><td>-0.621905</td><td>22.818401</td><td>-0.430536</td><td>&hellip;</td><td>0.000043</td><td>0.000019</td><td>-0.38816</td><td>-0.217392</td><td>-1.165004</td><td>7.775604</td><td>0.934093</td><td>3.918088</td><td>7.986649</td><td>-2.203475</td><td>2.857309</td><td>1.129549</td><td>0.29682</td><td>-0.280724</td><td>-0.000058</td><td>-0.000002</td><td>0.000019</td><td>-0.786106</td><td>-0.571263</td><td>0.159599</td><td>0.545236</td><td>-9.120621</td><td>2.472048</td><td>1.763561</td><td>-11.90036</td><td>-3.398729</td><td>-0.36496</td><td>-0.244982</td><td>-2.229171</td><td>0.00001</td><td>-0.000006</td><td>-0.000002</td><td>&quot;run&quot;</td><td>10</td><td>2.2</td><td>9997</td><td>62</td></tr><tr><td>2.720742</td><td>3.03712</td><td>1.252405</td><td>0.159481</td><td>1.442409</td><td>3.252938</td><td>11.385282</td><td>7.319109</td><td>2.429875</td><td>10.159077</td><td>1.615847</td><td>1.016596</td><td>3.409171</td><td>-7.284547</td><td>-0.000065</td><td>0.000017</td><td>-3.8250e-7</td><td>-1.269537</td><td>0.54155</td><td>-0.992354</td><td>-2.439703</td><td>3.252938</td><td>3.659555</td><td>-5.922058</td><td>0.476207</td><td>1.009395</td><td>-0.503319</td><td>0.070609</td><td>-6.922446</td><td>-0.000046</td><td>-0.000018</td><td>-0.000013</td><td>-0.364744</td><td>-0.980547</td><td>-0.587355</td><td>21.550713</td><td>-0.406617</td><td>&hellip;</td><td>0.000028</td><td>0.000013</td><td>-0.258773</td><td>-0.144928</td><td>-0.77667</td><td>5.183736</td><td>0.622729</td><td>2.612059</td><td>5.324432</td><td>-1.468983</td><td>1.904872</td><td>0.753032</td><td>0.19788</td><td>-0.187149</td><td>-0.000039</td><td>-0.000001</td><td>0.000013</td><td>-0.524071</td><td>-0.380842</td><td>0.1064</td><td>0.363491</td><td>-6.080414</td><td>1.648032</td><td>1.175707</td><td>-7.933573</td><td>-2.26582</td><td>-0.243307</td><td>-0.163321</td><td>-1.486114</td><td>0.000007</td><td>-0.000004</td><td>-0.000001</td><td>&quot;run&quot;</td><td>10</td><td>2.2</td><td>9998</td><td>62</td></tr><tr><td>2.743936</td><td>3.052989</td><td>1.178734</td><td>0.1501</td><td>1.357561</td><td>3.061588</td><td>10.715559</td><td>6.888574</td><td>2.286942</td><td>9.561483</td><td>1.520797</td><td>0.956796</td><td>3.208632</td><td>-6.856044</td><td>-0.000061</td><td>0.000016</td><td>-3.6000e-7</td><td>-1.194858</td><td>0.509694</td><td>-0.93398</td><td>-2.296191</td><td>3.061588</td><td>3.444287</td><td>-5.573701</td><td>0.448195</td><td>0.950019</td><td>-0.473712</td><td>0.066456</td><td>-6.515244</td><td>-0.000043</td><td>-0.000017</td><td>-0.000012</td><td>-0.343289</td><td>-0.922868</td><td>-0.552805</td><td>20.283024</td><td>-0.382699</td><td>&hellip;</td><td>0.000014</td><td>0.000006</td><td>-0.129387</td><td>-0.072464</td><td>-0.388335</td><td>2.591868</td><td>0.311364</td><td>1.306029</td><td>2.662216</td><td>-0.734492</td><td>0.952436</td><td>0.376516</td><td>0.09894</td><td>-0.093575</td><td>-0.000019</td><td>-5.3049e-7</td><td>0.000006</td><td>-0.262035</td><td>-0.190421</td><td>0.0532</td><td>0.181745</td><td>-3.040207</td><td>0.824016</td><td>0.587854</td><td>-3.966787</td><td>-1.13291</td><td>-0.121653</td><td>-0.081661</td><td>-0.743057</td><td>0.000003</td><td>-0.000002</td><td>-5.5300e-7</td><td>&quot;run&quot;</td><td>10</td><td>2.2</td><td>9999</td><td>62</td></tr></tbody></table></div>"
      ],
      "text/plain": [
       "shape: (981_755, 112)\n",
       "┌───────────────┬───────────────┬──────────────┬──────────────┬───┬─────────┬───────┬──────┬───────┐\n",
       "│ Right Foot    ┆ Left Foot     ┆ Global Angle ┆ Global Angle ┆ … ┆ INCLINE ┆ SPEED ┆ TIME ┆ TRIAL │\n",
       "│ Sensor.RFS    ┆ Sensor.LFS    ┆ _Foot_L.x    ┆ _Foot_L.y    ┆   ┆ ---     ┆ ---   ┆ ---  ┆ ---   │\n",
       "│ ---           ┆ ---           ┆ ---          ┆ ---          ┆   ┆ i16     ┆ f32   ┆ i64  ┆ i16   │\n",
       "│ f64           ┆ f64           ┆ f64          ┆ f64          ┆   ┆         ┆       ┆      ┆       │\n",
       "╞═══════════════╪═══════════════╪══════════════╪══════════════╪═══╪═════════╪═══════╪══════╪═══════╡\n",
       "│ 3.661904      ┆ 1.908885      ┆ 0.747913     ┆ 1.414698     ┆ … ┆ 0       ┆ 1.7   ┆ 0    ┆ 0     │\n",
       "│ 3.644509      ┆ 1.8921        ┆ 0.74788      ┆ 1.413869     ┆ … ┆ 0       ┆ 1.7   ┆ 1    ┆ 0     │\n",
       "│ 3.673196      ┆ 1.868602      ┆ 0.747848     ┆ 1.413039     ┆ … ┆ 0       ┆ 1.7   ┆ 2    ┆ 0     │\n",
       "│ 3.632607      ┆ 1.886607      ┆ 0.747814     ┆ 1.412207     ┆ … ┆ 0       ┆ 1.7   ┆ 3    ┆ 0     │\n",
       "│ 3.648477      ┆ 1.936351      ┆ 0.74778      ┆ 1.411373     ┆ … ┆ 0       ┆ 1.7   ┆ 4    ┆ 0     │\n",
       "│ …             ┆ …             ┆ …            ┆ …            ┆ … ┆ …       ┆ …     ┆ …    ┆ …     │\n",
       "│ 2.689004      ┆ 3.082591      ┆ 1.473417     ┆ 0.187625     ┆ … ┆ 10      ┆ 2.2   ┆ 9995 ┆ 62    │\n",
       "│ 2.717385      ┆ 3.086253      ┆ 1.399746     ┆ 0.178244     ┆ … ┆ 10      ┆ 2.2   ┆ 9996 ┆ 62    │\n",
       "│ 2.719827      ┆ 3.067332      ┆ 1.326075     ┆ 0.168862     ┆ … ┆ 10      ┆ 2.2   ┆ 9997 ┆ 62    │\n",
       "│ 2.720742      ┆ 3.03712       ┆ 1.252405     ┆ 0.159481     ┆ … ┆ 10      ┆ 2.2   ┆ 9998 ┆ 62    │\n",
       "│ 2.743936      ┆ 3.052989      ┆ 1.178734     ┆ 0.1501       ┆ … ┆ 10      ┆ 2.2   ┆ 9999 ┆ 62    │\n",
       "└───────────────┴───────────────┴──────────────┴──────────────┴───┴─────────┴───────┴──────┴───────┘"
      ]
     },
     "execution_count": 2,
     "metadata": {},
     "output_type": "execute_result"
    }
   ],
   "source": [
    "df = process_files(input_path, True)\n",
    "df"
   ]
  },
  {
   "cell_type": "code",
   "execution_count": 3,
   "metadata": {},
   "outputs": [
    {
     "name": "stdout",
     "output_type": "stream",
     "text": [
      "\u001b[32m2024-10-14 17:11:46.369\u001b[0m | \u001b[1mINFO    \u001b[0m | \u001b[36mlisa.features\u001b[0m:\u001b[36msliding_window\u001b[0m:\u001b[36m145\u001b[0m - \u001b[1mAggregating data...\u001b[0m\n"
     ]
    },
    {
     "data": {
      "text/html": [
       "<div><style>\n",
       ".dataframe > thead > tr,\n",
       ".dataframe > tbody > tr {\n",
       "  text-align: right;\n",
       "  white-space: pre-wrap;\n",
       "}\n",
       "</style>\n",
       "<small>shape: (932_314, 647)</small><table border=\"1\" class=\"dataframe\"><thead><tr><th>TRIAL</th><th>TIME</th><th>first_Right Foot Sensor.RFS</th><th>last_Right Foot Sensor.RFS</th><th>max_Right Foot Sensor.RFS</th><th>min_Right Foot Sensor.RFS</th><th>mean_Right Foot Sensor.RFS</th><th>std_Right Foot Sensor.RFS</th><th>first_Left Foot Sensor.LFS</th><th>last_Left Foot Sensor.LFS</th><th>max_Left Foot Sensor.LFS</th><th>min_Left Foot Sensor.LFS</th><th>mean_Left Foot Sensor.LFS</th><th>std_Left Foot Sensor.LFS</th><th>first_Global Angle_Foot_L.x</th><th>last_Global Angle_Foot_L.x</th><th>max_Global Angle_Foot_L.x</th><th>min_Global Angle_Foot_L.x</th><th>mean_Global Angle_Foot_L.x</th><th>std_Global Angle_Foot_L.x</th><th>first_Global Angle_Foot_L.y</th><th>last_Global Angle_Foot_L.y</th><th>max_Global Angle_Foot_L.y</th><th>min_Global Angle_Foot_L.y</th><th>mean_Global Angle_Foot_L.y</th><th>std_Global Angle_Foot_L.y</th><th>first_Global Angle_Foot_L.z</th><th>last_Global Angle_Foot_L.z</th><th>max_Global Angle_Foot_L.z</th><th>min_Global Angle_Foot_L.z</th><th>mean_Global Angle_Foot_L.z</th><th>std_Global Angle_Foot_L.z</th><th>first_HighG_Foot_L.x</th><th>last_HighG_Foot_L.x</th><th>max_HighG_Foot_L.x</th><th>min_HighG_Foot_L.x</th><th>mean_HighG_Foot_L.x</th><th>&hellip;</th><th>max_gyro_Foot_R.x</th><th>min_gyro_Foot_R.x</th><th>mean_gyro_Foot_R.x</th><th>std_gyro_Foot_R.x</th><th>first_gyro_Foot_R.y</th><th>last_gyro_Foot_R.y</th><th>max_gyro_Foot_R.y</th><th>min_gyro_Foot_R.y</th><th>mean_gyro_Foot_R.y</th><th>std_gyro_Foot_R.y</th><th>first_gyro_Foot_R.z</th><th>last_gyro_Foot_R.z</th><th>max_gyro_Foot_R.z</th><th>min_gyro_Foot_R.z</th><th>mean_gyro_Foot_R.z</th><th>std_gyro_Foot_R.z</th><th>first_mag_Foot_R.x</th><th>last_mag_Foot_R.x</th><th>max_mag_Foot_R.x</th><th>min_mag_Foot_R.x</th><th>mean_mag_Foot_R.x</th><th>std_mag_Foot_R.x</th><th>first_mag_Foot_R.y</th><th>last_mag_Foot_R.y</th><th>max_mag_Foot_R.y</th><th>min_mag_Foot_R.y</th><th>mean_mag_Foot_R.y</th><th>std_mag_Foot_R.y</th><th>first_mag_Foot_R.z</th><th>last_mag_Foot_R.z</th><th>max_mag_Foot_R.z</th><th>min_mag_Foot_R.z</th><th>mean_mag_Foot_R.z</th><th>std_mag_Foot_R.z</th><th>ACTIVITY</th><th>SPEED</th><th>INCLINE</th></tr><tr><td>i16</td><td>i64</td><td>f64</td><td>f64</td><td>f64</td><td>f64</td><td>f64</td><td>f64</td><td>f64</td><td>f64</td><td>f64</td><td>f64</td><td>f64</td><td>f64</td><td>f64</td><td>f64</td><td>f64</td><td>f64</td><td>f64</td><td>f64</td><td>f64</td><td>f64</td><td>f64</td><td>f64</td><td>f64</td><td>f64</td><td>f64</td><td>f64</td><td>f64</td><td>f64</td><td>f64</td><td>f64</td><td>f64</td><td>f64</td><td>f64</td><td>f64</td><td>f64</td><td>&hellip;</td><td>f64</td><td>f64</td><td>f64</td><td>f64</td><td>f64</td><td>f64</td><td>f64</td><td>f64</td><td>f64</td><td>f64</td><td>f64</td><td>f64</td><td>f64</td><td>f64</td><td>f64</td><td>f64</td><td>f64</td><td>f64</td><td>f64</td><td>f64</td><td>f64</td><td>f64</td><td>f64</td><td>f64</td><td>f64</td><td>f64</td><td>f64</td><td>f64</td><td>f64</td><td>f64</td><td>f64</td><td>f64</td><td>f64</td><td>f64</td><td>str</td><td>f64</td><td>i64</td></tr></thead><tbody><tr><td>0</td><td>499</td><td>3.661904</td><td>1.717324</td><td>3.673196</td><td>1.530252</td><td>2.424601</td><td>0.499294</td><td>1.908885</td><td>3.258983</td><td>3.883067</td><td>1.868602</td><td>2.975072</td><td>0.678755</td><td>0.747913</td><td>2.437204</td><td>2.437204</td><td>0.747172</td><td>1.052262</td><td>0.455819</td><td>1.414698</td><td>0.422787</td><td>1.414698</td><td>0.422787</td><td>1.260543</td><td>0.243123</td><td>2.41077</td><td>2.782991</td><td>2.812138</td><td>2.41077</td><td>2.562864</td><td>0.118044</td><td>23.918659</td><td>2.32011</td><td>23.918659</td><td>0.956746</td><td>5.427144</td><td>&hellip;</td><td>5.746599</td><td>-3.178707</td><td>-0.18154</td><td>2.507472</td><td>1.386873</td><td>0.423007</td><td>1.581352</td><td>-2.376107</td><td>-0.302527</td><td>0.989152</td><td>-11.092124</td><td>-0.104585</td><td>8.915559</td><td>-11.465845</td><td>1.809782</td><td>6.319938</td><td>-0.000013</td><td>0.000013</td><td>0.000033</td><td>-0.000016</td><td>0.000007</td><td>0.000017</td><td>-0.00001</td><td>-0.00002</td><td>0.000008</td><td>-0.000021</td><td>-0.00001</td><td>0.00001</td><td>0.000003</td><td>0.000002</td><td>0.000009</td><td>-0.000008</td><td>1.9267e-7</td><td>0.000005</td><td>&quot;walk&quot;</td><td>1.7</td><td>0</td></tr><tr><td>0</td><td>500</td><td>3.644509</td><td>1.716409</td><td>3.673196</td><td>1.530252</td><td>2.42071</td><td>0.497209</td><td>1.8921</td><td>3.264781</td><td>3.883067</td><td>1.868602</td><td>2.977783</td><td>0.677194</td><td>0.74788</td><td>2.443436</td><td>2.443436</td><td>0.747172</td><td>1.055653</td><td>0.459839</td><td>1.413869</td><td>0.417302</td><td>1.413869</td><td>0.417302</td><td>1.258548</td><td>0.245931</td><td>2.412725</td><td>2.781683</td><td>2.812138</td><td>2.412725</td><td>2.563605</td><td>0.118252</td><td>23.033669</td><td>2.391866</td><td>23.033669</td><td>0.956746</td><td>5.38409</td><td>&hellip;</td><td>5.746599</td><td>-3.178707</td><td>-0.189218</td><td>2.499569</td><td>1.373026</td><td>0.429679</td><td>1.581352</td><td>-2.376107</td><td>-0.304441</td><td>0.9868</td><td>-11.173891</td><td>-0.10259</td><td>8.915559</td><td>-11.465845</td><td>1.831761</td><td>6.294035</td><td>-0.000013</td><td>0.000012</td><td>0.000033</td><td>-0.000016</td><td>0.000007</td><td>0.000016</td><td>-0.00001</td><td>-0.00002</td><td>0.000008</td><td>-0.000021</td><td>-0.00001</td><td>0.00001</td><td>0.000003</td><td>0.000001</td><td>0.000009</td><td>-0.000008</td><td>1.8974e-7</td><td>0.000005</td><td>&quot;walk&quot;</td><td>1.7</td><td>0</td></tr><tr><td>0</td><td>501</td><td>3.673196</td><td>1.731362</td><td>3.673196</td><td>1.530252</td><td>2.416884</td><td>0.495129</td><td>1.868602</td><td>3.27241</td><td>3.883067</td><td>1.868602</td><td>2.980544</td><td>0.675571</td><td>0.747848</td><td>2.440579</td><td>2.443436</td><td>0.747172</td><td>1.059039</td><td>0.463783</td><td>1.413039</td><td>0.418632</td><td>1.413039</td><td>0.417302</td><td>1.256557</td><td>0.248683</td><td>2.41468</td><td>2.780426</td><td>2.812138</td><td>2.41468</td><td>2.564341</td><td>0.118455</td><td>22.148678</td><td>1.267689</td><td>22.148678</td><td>0.956746</td><td>5.340558</td><td>&hellip;</td><td>5.746599</td><td>-3.178707</td><td>-0.196797</td><td>2.491768</td><td>1.359179</td><td>0.436351</td><td>1.581352</td><td>-2.376107</td><td>-0.306315</td><td>0.984495</td><td>-11.255657</td><td>-0.100594</td><td>8.915559</td><td>-11.465845</td><td>1.853908</td><td>6.267607</td><td>-0.000013</td><td>0.000012</td><td>0.000033</td><td>-0.000016</td><td>0.000007</td><td>0.000016</td><td>-0.000009</td><td>-0.00002</td><td>0.000008</td><td>-0.000021</td><td>-0.00001</td><td>0.00001</td><td>0.000003</td><td>0.000001</td><td>0.000009</td><td>-0.000008</td><td>1.8594e-7</td><td>0.000005</td><td>&quot;walk&quot;</td><td>1.7</td><td>0</td></tr><tr><td>0</td><td>502</td><td>3.632607</td><td>1.720071</td><td>3.656716</td><td>1.530252</td><td>2.412978</td><td>0.492898</td><td>1.886607</td><td>3.310863</td><td>3.883067</td><td>1.886607</td><td>2.983428</td><td>0.67389</td><td>0.747814</td><td>2.437723</td><td>2.443436</td><td>0.747172</td><td>1.062419</td><td>0.467652</td><td>1.412207</td><td>0.419958</td><td>1.412207</td><td>0.417302</td><td>1.254571</td><td>0.251382</td><td>2.416634</td><td>2.779165</td><td>2.812138</td><td>2.416634</td><td>2.56507</td><td>0.118653</td><td>21.263687</td><td>0.143512</td><td>21.263687</td><td>0.143512</td><td>5.296548</td><td>&hellip;</td><td>5.746599</td><td>-3.178707</td><td>-0.204276</td><td>2.48407</td><td>1.345332</td><td>0.443023</td><td>1.581352</td><td>-2.376107</td><td>-0.308147</td><td>0.982239</td><td>-11.337423</td><td>-0.098599</td><td>8.915559</td><td>-11.465845</td><td>1.876222</td><td>6.240644</td><td>-0.000013</td><td>0.000012</td><td>0.000033</td><td>-0.000016</td><td>0.000008</td><td>0.000016</td><td>-0.000009</td><td>-0.00002</td><td>0.000008</td><td>-0.000021</td><td>-0.00001</td><td>0.00001</td><td>0.000004</td><td>0.000001</td><td>0.000009</td><td>-0.000008</td><td>1.8129e-7</td><td>0.000005</td><td>&quot;walk&quot;</td><td>1.7</td><td>0</td></tr><tr><td>0</td><td>503</td><td>3.648477</td><td>1.721292</td><td>3.656716</td><td>1.530252</td><td>2.409155</td><td>0.490827</td><td>1.936351</td><td>3.304454</td><td>3.883067</td><td>1.931773</td><td>2.986264</td><td>0.672247</td><td>0.74778</td><td>2.43487</td><td>2.443436</td><td>0.747172</td><td>1.065793</td><td>0.471448</td><td>1.411373</td><td>0.421281</td><td>1.411373</td><td>0.417302</td><td>1.252589</td><td>0.254029</td><td>2.418588</td><td>2.777902</td><td>2.812138</td><td>2.418588</td><td>2.565792</td><td>0.118847</td><td>20.378698</td><td>-0.980665</td><td>20.378698</td><td>-0.980665</td><td>5.252059</td><td>&hellip;</td><td>5.746599</td><td>-3.178707</td><td>-0.211674</td><td>2.47647</td><td>1.331485</td><td>0.425001</td><td>1.581352</td><td>-2.376107</td><td>-0.309988</td><td>0.979994</td><td>-11.41919</td><td>-0.093295</td><td>8.915559</td><td>-11.465845</td><td>1.89871</td><td>6.213131</td><td>-0.000013</td><td>0.000012</td><td>0.000033</td><td>-0.000016</td><td>0.000008</td><td>0.000016</td><td>-0.000008</td><td>-0.00002</td><td>0.000008</td><td>-0.000021</td><td>-0.00001</td><td>0.00001</td><td>0.000004</td><td>8.7832e-7</td><td>0.000009</td><td>-0.000008</td><td>1.7576e-7</td><td>0.000005</td><td>&quot;walk&quot;</td><td>1.7</td><td>0</td></tr><tr><td>&hellip;</td><td>&hellip;</td><td>&hellip;</td><td>&hellip;</td><td>&hellip;</td><td>&hellip;</td><td>&hellip;</td><td>&hellip;</td><td>&hellip;</td><td>&hellip;</td><td>&hellip;</td><td>&hellip;</td><td>&hellip;</td><td>&hellip;</td><td>&hellip;</td><td>&hellip;</td><td>&hellip;</td><td>&hellip;</td><td>&hellip;</td><td>&hellip;</td><td>&hellip;</td><td>&hellip;</td><td>&hellip;</td><td>&hellip;</td><td>&hellip;</td><td>&hellip;</td><td>&hellip;</td><td>&hellip;</td><td>&hellip;</td><td>&hellip;</td><td>&hellip;</td><td>&hellip;</td><td>&hellip;</td><td>&hellip;</td><td>&hellip;</td><td>&hellip;</td><td>&hellip;</td><td>&hellip;</td><td>&hellip;</td><td>&hellip;</td><td>&hellip;</td><td>&hellip;</td><td>&hellip;</td><td>&hellip;</td><td>&hellip;</td><td>&hellip;</td><td>&hellip;</td><td>&hellip;</td><td>&hellip;</td><td>&hellip;</td><td>&hellip;</td><td>&hellip;</td><td>&hellip;</td><td>&hellip;</td><td>&hellip;</td><td>&hellip;</td><td>&hellip;</td><td>&hellip;</td><td>&hellip;</td><td>&hellip;</td><td>&hellip;</td><td>&hellip;</td><td>&hellip;</td><td>&hellip;</td><td>&hellip;</td><td>&hellip;</td><td>&hellip;</td><td>&hellip;</td><td>&hellip;</td><td>&hellip;</td><td>&hellip;</td><td>&hellip;</td><td>&hellip;</td><td>&hellip;</td><td>&hellip;</td></tr><tr><td>62</td><td>9995</td><td>2.772317</td><td>2.689004</td><td>2.788796</td><td>1.669106</td><td>2.453363</td><td>0.282368</td><td>2.301036</td><td>3.082591</td><td>3.758861</td><td>2.295238</td><td>3.165864</td><td>0.335732</td><td>1.007874</td><td>1.473417</td><td>1.973143</td><td>1.006481</td><td>1.563055</td><td>0.359044</td><td>0.885926</td><td>0.187625</td><td>0.885926</td><td>-0.747236</td><td>0.078958</td><td>0.584336</td><td>1.533552</td><td>1.696951</td><td>2.055624</td><td>1.533552</td><td>1.798796</td><td>0.182085</td><td>2.941995</td><td>3.826985</td><td>18.178181</td><td>-10.045836</td><td>3.655728</td><td>&hellip;</td><td>5.532162</td><td>-4.542682</td><td>-0.887057</td><td>2.411783</td><td>-0.293728</td><td>-0.37639</td><td>2.970896</td><td>-3.715778</td><td>-0.128272</td><td>1.473108</td><td>4.027565</td><td>-3.235383</td><td>10.078404</td><td>-5.244194</td><td>2.998135</td><td>4.823859</td><td>-0.000012</td><td>0.000014</td><td>0.000026</td><td>-0.000014</td><td>0.000009</td><td>0.000012</td><td>0.000015</td><td>-0.00001</td><td>0.000016</td><td>-0.000022</td><td>-0.000012</td><td>0.000011</td><td>0.000009</td><td>-0.000002</td><td>0.000009</td><td>-0.000007</td><td>0.000002</td><td>0.000005</td><td>&quot;run&quot;</td><td>2.2</td><td>10</td></tr><tr><td>62</td><td>9996</td><td>2.779336</td><td>2.717385</td><td>2.788796</td><td>1.669106</td><td>2.453253</td><td>0.282255</td><td>2.295238</td><td>3.086253</td><td>3.758861</td><td>2.295238</td><td>3.167435</td><td>0.333508</td><td>1.007803</td><td>1.399746</td><td>1.973143</td><td>1.006481</td><td>1.563839</td><td>0.358257</td><td>0.884772</td><td>0.178244</td><td>0.884772</td><td>-0.747236</td><td>0.077543</td><td>0.583234</td><td>1.534411</td><td>1.612104</td><td>2.055624</td><td>1.534411</td><td>1.798953</td><td>0.181889</td><td>3.013751</td><td>3.635636</td><td>18.178181</td><td>-10.045836</td><td>3.657115</td><td>&hellip;</td><td>5.532162</td><td>-4.542682</td><td>-0.89004</td><td>2.410361</td><td>-0.298711</td><td>-0.326642</td><td>2.970896</td><td>-3.715778</td><td>-0.128338</td><td>1.473116</td><td>4.129798</td><td>-2.972228</td><td>10.078404</td><td>-5.244194</td><td>2.984135</td><td>4.831018</td><td>-0.000012</td><td>0.000013</td><td>0.000026</td><td>-0.000014</td><td>0.000009</td><td>0.000012</td><td>0.000015</td><td>-0.000009</td><td>0.000016</td><td>-0.000022</td><td>-0.000012</td><td>0.000011</td><td>0.000009</td><td>-0.000002</td><td>0.000009</td><td>-0.000007</td><td>0.000002</td><td>0.000005</td><td>&quot;run&quot;</td><td>2.2</td><td>10</td></tr><tr><td>62</td><td>9997</td><td>2.788796</td><td>2.719827</td><td>2.788796</td><td>1.669106</td><td>2.453134</td><td>0.28213</td><td>2.315074</td><td>3.067332</td><td>3.758861</td><td>2.315074</td><td>3.168979</td><td>0.331241</td><td>1.007732</td><td>1.326075</td><td>1.973143</td><td>1.006481</td><td>1.564475</td><td>0.357549</td><td>0.883618</td><td>0.168862</td><td>0.883618</td><td>-0.747236</td><td>0.076111</td><td>0.582126</td><td>1.535269</td><td>1.527256</td><td>2.055624</td><td>1.527256</td><td>1.798939</td><td>0.181911</td><td>3.085507</td><td>3.444287</td><td>18.178181</td><td>-10.045836</td><td>3.657976</td><td>&hellip;</td><td>5.532162</td><td>-4.542682</td><td>-0.892629</td><td>2.409097</td><td>-0.303632</td><td>-0.244982</td><td>2.970896</td><td>-3.715778</td><td>-0.12823</td><td>1.473106</td><td>4.230609</td><td>-2.229171</td><td>10.078404</td><td>-5.244194</td><td>2.971417</td><td>4.836363</td><td>-0.000012</td><td>0.00001</td><td>0.000026</td><td>-0.000014</td><td>0.000009</td><td>0.000012</td><td>0.000015</td><td>-0.000006</td><td>0.000016</td><td>-0.000022</td><td>-0.000012</td><td>0.000011</td><td>0.000009</td><td>-0.000002</td><td>0.000009</td><td>-0.000007</td><td>0.000002</td><td>0.000005</td><td>&quot;run&quot;</td><td>2.2</td><td>10</td></tr><tr><td>62</td><td>9998</td><td>2.770181</td><td>2.720742</td><td>2.782998</td><td>1.669106</td><td>2.452998</td><td>0.281984</td><td>2.321177</td><td>3.03712</td><td>3.758861</td><td>2.321177</td><td>3.170423</td><td>0.329078</td><td>1.007661</td><td>1.252405</td><td>1.973143</td><td>1.006481</td><td>1.564965</td><td>0.356953</td><td>0.882464</td><td>0.159481</td><td>0.882464</td><td>-0.747236</td><td>0.074663</td><td>0.581012</td><td>1.536126</td><td>1.442409</td><td>2.055624</td><td>1.442409</td><td>1.798753</td><td>0.182227</td><td>3.157263</td><td>3.252938</td><td>18.178181</td><td>-10.045836</td><td>3.658311</td><td>&hellip;</td><td>5.532162</td><td>-4.542682</td><td>-0.894822</td><td>2.408004</td><td>-0.308341</td><td>-0.163321</td><td>2.970896</td><td>-3.715778</td><td>-0.12795</td><td>1.473086</td><td>4.326447</td><td>-1.486114</td><td>10.078404</td><td>-5.244194</td><td>2.959984</td><td>4.840136</td><td>-0.000012</td><td>0.000007</td><td>0.000026</td><td>-0.000014</td><td>0.000009</td><td>0.000012</td><td>0.000015</td><td>-0.000004</td><td>0.000016</td><td>-0.000022</td><td>-0.000012</td><td>0.000011</td><td>0.000009</td><td>-0.000001</td><td>0.000009</td><td>-0.000007</td><td>0.000002</td><td>0.000005</td><td>&quot;run&quot;</td><td>2.2</td><td>10</td></tr><tr><td>62</td><td>9999</td><td>2.762856</td><td>2.743936</td><td>2.782998</td><td>1.669106</td><td>2.452946</td><td>0.281927</td><td>2.33369</td><td>3.052989</td><td>3.758861</td><td>2.33369</td><td>3.171887</td><td>0.326913</td><td>1.007589</td><td>1.178734</td><td>1.973143</td><td>1.006481</td><td>1.565307</td><td>0.356499</td><td>0.881309</td><td>0.1501</td><td>0.881309</td><td>-0.747236</td><td>0.073198</td><td>0.579894</td><td>1.536983</td><td>1.357561</td><td>2.055624</td><td>1.357561</td><td>1.798396</td><td>0.182917</td><td>3.229019</td><td>3.061588</td><td>18.178181</td><td>-10.045836</td><td>3.65812</td><td>&hellip;</td><td>5.532162</td><td>-4.542682</td><td>-0.896611</td><td>2.407094</td><td>-0.31305</td><td>-0.081661</td><td>2.970896</td><td>-3.715778</td><td>-0.127496</td><td>1.473065</td><td>4.422286</td><td>-0.743057</td><td>10.078404</td><td>-5.244194</td><td>2.949845</td><td>4.842577</td><td>-0.000012</td><td>0.000003</td><td>0.000026</td><td>-0.000014</td><td>0.000009</td><td>0.000012</td><td>0.000016</td><td>-0.000002</td><td>0.000016</td><td>-0.000022</td><td>-0.000012</td><td>0.000011</td><td>0.000009</td><td>-5.5300e-7</td><td>0.000009</td><td>-0.000007</td><td>0.000002</td><td>0.000005</td><td>&quot;run&quot;</td><td>2.2</td><td>10</td></tr></tbody></table></div>"
      ],
      "text/plain": [
       "shape: (932_314, 647)\n",
       "┌───────┬──────┬─────────────┬──────────────────┬───┬─────────────────┬──────────┬───────┬─────────┐\n",
       "│ TRIAL ┆ TIME ┆ first_Right ┆ last_Right Foot  ┆ … ┆ std_mag_Foot_R. ┆ ACTIVITY ┆ SPEED ┆ INCLINE │\n",
       "│ ---   ┆ ---  ┆ Foot        ┆ Sensor.RFS       ┆   ┆ z               ┆ ---      ┆ ---   ┆ ---     │\n",
       "│ i16   ┆ i64  ┆ Sensor.RFS  ┆ ---              ┆   ┆ ---             ┆ str      ┆ f64   ┆ i64     │\n",
       "│       ┆      ┆ ---         ┆ f64              ┆   ┆ f64             ┆          ┆       ┆         │\n",
       "│       ┆      ┆ f64         ┆                  ┆   ┆                 ┆          ┆       ┆         │\n",
       "╞═══════╪══════╪═════════════╪══════════════════╪═══╪═════════════════╪══════════╪═══════╪═════════╡\n",
       "│ 0     ┆ 499  ┆ 3.661904    ┆ 1.717324         ┆ … ┆ 0.000005        ┆ walk     ┆ 1.7   ┆ 0       │\n",
       "│ 0     ┆ 500  ┆ 3.644509    ┆ 1.716409         ┆ … ┆ 0.000005        ┆ walk     ┆ 1.7   ┆ 0       │\n",
       "│ 0     ┆ 501  ┆ 3.673196    ┆ 1.731362         ┆ … ┆ 0.000005        ┆ walk     ┆ 1.7   ┆ 0       │\n",
       "│ 0     ┆ 502  ┆ 3.632607    ┆ 1.720071         ┆ … ┆ 0.000005        ┆ walk     ┆ 1.7   ┆ 0       │\n",
       "│ 0     ┆ 503  ┆ 3.648477    ┆ 1.721292         ┆ … ┆ 0.000005        ┆ walk     ┆ 1.7   ┆ 0       │\n",
       "│ …     ┆ …    ┆ …           ┆ …                ┆ … ┆ …               ┆ …        ┆ …     ┆ …       │\n",
       "│ 62    ┆ 9995 ┆ 2.772317    ┆ 2.689004         ┆ … ┆ 0.000005        ┆ run      ┆ 2.2   ┆ 10      │\n",
       "│ 62    ┆ 9996 ┆ 2.779336    ┆ 2.717385         ┆ … ┆ 0.000005        ┆ run      ┆ 2.2   ┆ 10      │\n",
       "│ 62    ┆ 9997 ┆ 2.788796    ┆ 2.719827         ┆ … ┆ 0.000005        ┆ run      ┆ 2.2   ┆ 10      │\n",
       "│ 62    ┆ 9998 ┆ 2.770181    ┆ 2.720742         ┆ … ┆ 0.000005        ┆ run      ┆ 2.2   ┆ 10      │\n",
       "│ 62    ┆ 9999 ┆ 2.762856    ┆ 2.743936         ┆ … ┆ 0.000005        ┆ run      ┆ 2.2   ┆ 10      │\n",
       "└───────┴──────┴─────────────┴──────────────────┴───┴─────────────────┴──────────┴───────┴─────────┘"
      ]
     },
     "execution_count": 3,
     "metadata": {},
     "output_type": "execute_result"
    }
   ],
   "source": [
    "from lisa.features import sliding_window\n",
    "import polars as pl\n",
    "\n",
    "period = 500\n",
    "sdf = sliding_window(df, period=period, log=True)\n",
    "sdf = sdf.filter(pl.col(\"ACTIVITY\") != \"jump\")\n",
    "sdf"
   ]
  },
  {
   "cell_type": "code",
   "execution_count": 4,
   "metadata": {},
   "outputs": [
    {
     "data": {
      "text/html": [
       "<div><style>\n",
       ".dataframe > thead > tr,\n",
       ".dataframe > tbody > tr {\n",
       "  text-align: right;\n",
       "  white-space: pre-wrap;\n",
       "}\n",
       "</style>\n",
       "<small>shape: (2, 2)</small><table border=\"1\" class=\"dataframe\"><thead><tr><th>ACTIVITY</th><th>count</th></tr><tr><td>str</td><td>u32</td></tr></thead><tbody><tr><td>&quot;walk&quot;</td><td>572535</td></tr><tr><td>&quot;run&quot;</td><td>359779</td></tr></tbody></table></div>"
      ],
      "text/plain": [
       "shape: (2, 2)\n",
       "┌──────────┬────────┐\n",
       "│ ACTIVITY ┆ count  │\n",
       "│ ---      ┆ ---    │\n",
       "│ str      ┆ u32    │\n",
       "╞══════════╪════════╡\n",
       "│ walk     ┆ 572535 │\n",
       "│ run      ┆ 359779 │\n",
       "└──────────┴────────┘"
      ]
     },
     "execution_count": 4,
     "metadata": {},
     "output_type": "execute_result"
    }
   ],
   "source": [
    "sdf['ACTIVITY'].value_counts()"
   ]
  },
  {
   "cell_type": "code",
   "execution_count": 6,
   "metadata": {},
   "outputs": [],
   "source": [
    "from sklearn.model_selection import train_test_split\n",
    "\n",
    "X = sdf.select(pl.exclude([\"INCLINE\", \"SPEED\", \"ACTIVITY\", \"TRIAL\", \"TIME\"]))\n",
    "y_speed = sdf.select(\"SPEED\")\n",
    "y_incline = sdf.select(\"INCLINE\")\n",
    "\n",
    "X_train, X_test, y1_train, y1_test, y2_train, y2_test = train_test_split(X, y_speed, y_incline, test_size=0.2, random_state=42)\n"
   ]
  },
  {
   "cell_type": "code",
   "execution_count": 38,
   "metadata": {},
   "outputs": [
    {
     "data": {
      "text/html": [
       "<div><style>\n",
       ".dataframe > thead > tr,\n",
       ".dataframe > tbody > tr {\n",
       "  text-align: right;\n",
       "  white-space: pre-wrap;\n",
       "}\n",
       "</style>\n",
       "<small>shape: (6, 2)</small><table border=\"1\" class=\"dataframe\"><thead><tr><th>INCLINE</th><th>count</th></tr><tr><td>i64</td><td>u32</td></tr></thead><tbody><tr><td>-10</td><td>145010</td></tr><tr><td>-5</td><td>164511</td></tr><tr><td>0</td><td>459280</td></tr><tr><td>5</td><td>77505</td></tr><tr><td>10</td><td>57505</td></tr><tr><td>15</td><td>28503</td></tr></tbody></table></div>"
      ],
      "text/plain": [
       "shape: (6, 2)\n",
       "┌─────────┬────────┐\n",
       "│ INCLINE ┆ count  │\n",
       "│ ---     ┆ ---    │\n",
       "│ i64     ┆ u32    │\n",
       "╞═════════╪════════╡\n",
       "│ -10     ┆ 145010 │\n",
       "│ -5      ┆ 164511 │\n",
       "│ 0       ┆ 459280 │\n",
       "│ 5       ┆ 77505  │\n",
       "│ 10      ┆ 57505  │\n",
       "│ 15      ┆ 28503  │\n",
       "└─────────┴────────┘"
      ]
     },
     "execution_count": 38,
     "metadata": {},
     "output_type": "execute_result"
    }
   ],
   "source": [
    "incline_counts = sdf['INCLINE'].value_counts().sort('INCLINE')\n",
    "incline_counts"
   ]
  },
  {
   "cell_type": "code",
   "execution_count": 29,
   "metadata": {},
   "outputs": [
    {
     "data": {
      "text/html": [
       "<div><style>\n",
       ".dataframe > thead > tr,\n",
       ".dataframe > tbody > tr {\n",
       "  text-align: right;\n",
       "  white-space: pre-wrap;\n",
       "}\n",
       "</style>\n",
       "<small>shape: (6, 2)</small><table border=\"1\" class=\"dataframe\"><thead><tr><th>SPEED</th><th>count</th></tr><tr><td>f64</td><td>u32</td></tr></thead><tbody><tr><td>1.1</td><td>194012</td></tr><tr><td>1.4</td><td>174511</td></tr><tr><td>1.7</td><td>204012</td></tr><tr><td>2.2</td><td>146765</td></tr><tr><td>2.5</td><td>145010</td></tr><tr><td>3.0</td><td>68004</td></tr></tbody></table></div>"
      ],
      "text/plain": [
       "shape: (6, 2)\n",
       "┌───────┬────────┐\n",
       "│ SPEED ┆ count  │\n",
       "│ ---   ┆ ---    │\n",
       "│ f64   ┆ u32    │\n",
       "╞═══════╪════════╡\n",
       "│ 1.1   ┆ 194012 │\n",
       "│ 1.4   ┆ 174511 │\n",
       "│ 1.7   ┆ 204012 │\n",
       "│ 2.2   ┆ 146765 │\n",
       "│ 2.5   ┆ 145010 │\n",
       "│ 3.0   ┆ 68004  │\n",
       "└───────┴────────┘"
      ]
     },
     "execution_count": 29,
     "metadata": {},
     "output_type": "execute_result"
    }
   ],
   "source": [
    "speed_counts = sdf['SPEED'].value_counts().sort('SPEED')\n",
    "speed_counts"
   ]
  },
  {
   "cell_type": "code",
   "execution_count": 9,
   "metadata": {},
   "outputs": [
    {
     "name": "stdout",
     "output_type": "stream",
     "text": [
      "Predictions for y1: [[1.1501654 ]\n",
      " [1.12078074]\n",
      " [1.13502356]\n",
      " ...\n",
      " [1.41496523]\n",
      " [2.20855168]\n",
      " [2.11872001]]\n",
      "Predictions for y2: [[  0.75419596]\n",
      " [-10.2644295 ]\n",
      " [ -2.756694  ]\n",
      " ...\n",
      " [ -3.1284656 ]\n",
      " [ -0.38348836]\n",
      " [-11.11838389]]\n"
     ]
    }
   ],
   "source": [
    "from sklearn.linear_model import LinearRegression\n",
    "\n",
    "# Initialize the linear regression models\n",
    "model1 = LinearRegression(n_jobs=-1)\n",
    "model2 = LinearRegression(n_jobs=-1)\n",
    "\n",
    "# Fit the first model to predict y1\n",
    "model1.fit(X_train, y1_train)\n",
    "\n",
    "# Fit the second model to predict y2\n",
    "model2.fit(X_train, y2_train)\n",
    "\n",
    "# Make predictions for both targets\n",
    "y1_pred = model1.predict(X_test)\n",
    "y2_pred = model2.predict(X_test)\n",
    "\n",
    "# Print predictions for each target\n",
    "print(\"Predictions for y1:\", y1_pred)\n",
    "print(\"Predictions for y2:\", y2_pred)"
   ]
  },
  {
   "cell_type": "code",
   "execution_count": 44,
   "metadata": {},
   "outputs": [
    {
     "name": "stderr",
     "output_type": "stream",
     "text": [
      "/var/folders/xl/g4455wnj0w5f31hprr7rvdwm0000gp/T/ipykernel_3076/803479204.py:5: UserWarning: FigureCanvasAgg is non-interactive, and thus cannot be shown\n",
      "  regression_histogram(sdf, y1_pred, 'SPEED').show()\n"
     ]
    },
    {
     "data": {
      "image/png": "[encoded data removed]",
      "text/plain": [
       "<Figure size 640x480 with 1 Axes>"
      ]
     },
     "metadata": {},
     "output_type": "display_data"
    }
   ],
   "source": [
    "from lisa.plots import regression_histogram\n",
    "\n",
    "regression_histogram(sdf, y1_pred, 'SPEED').show()"
   ]
  },
  {
   "cell_type": "code",
   "execution_count": 11,
   "metadata": {},
   "outputs": [
    {
     "name": "stdout",
     "output_type": "stream",
     "text": [
      "Score for y1: 0.9933104221282221\n",
      "Score for y2: 0.9548134616815217\n"
     ]
    }
   ],
   "source": [
    "# Make predictions for both targets\n",
    "y1_score = model1.score(X_test, y1_test)\n",
    "y2_score = model2.score(X_test, y2_test)\n",
    "\n",
    "# Print score for each target\n",
    "print(\"Score for y1:\", y1_score)\n",
    "print(\"Score for y2:\", y2_score)"
   ]
  },
  {
   "cell_type": "markdown",
   "metadata": {},
   "source": [
    "## Random Forest"
   ]
  },
  {
   "cell_type": "code",
   "execution_count": 41,
   "metadata": {},
   "outputs": [
    {
     "name": "stderr",
     "output_type": "stream",
     "text": [
      "/Users/tomwilson/micromamba/envs/LISA/lib/python3.10/site-packages/sklearn/base.py:1473: DataConversionWarning: A column-vector y was passed when a 1d array was expected. Please change the shape of y to (n_samples,), for example using ravel().\n",
      "  return fit_method(estimator, *args, **kwargs)\n",
      "/Users/tomwilson/micromamba/envs/LISA/lib/python3.10/site-packages/sklearn/base.py:1473: DataConversionWarning: A column-vector y was passed when a 1d array was expected. Please change the shape of y to (n_samples,), for example using ravel().\n",
      "  return fit_method(estimator, *args, **kwargs)\n"
     ]
    },
    {
     "name": "stdout",
     "output_type": "stream",
     "text": [
      "Predictions for y1: [1.10000002 1.10000002 1.10000002 ... 1.39999998 2.20000005 2.20000005]\n",
      "Predictions for y2: [  0. -10.  -5. ...  -5.   0. -10.]\n"
     ]
    }
   ],
   "source": [
    "from sklearn.ensemble import RandomForestRegressor\n",
    "\n",
    "rf1 = RandomForestRegressor(n_estimators=10, random_state=42, n_jobs=-1)\n",
    "rf2 = RandomForestRegressor(n_estimators=10, random_state=42, n_jobs=-1)\n",
    "\n",
    "rf1.fit(X_train, y1_train)\n",
    "rf2.fit(X_train, y2_train)\n",
    "\n",
    "# Make predictions for both targets\n",
    "rf1_y_pred = rf1.predict(X_test)\n",
    "rf2_y_pred = rf2.predict(X_test)\n",
    "\n",
    "# Print predictions for each target\n",
    "print(\"Predictions for y1:\", rf1_y_pred)\n",
    "print(\"Predictions for y2:\", rf2_y_pred)"
   ]
  },
  {
   "cell_type": "code",
   "execution_count": 42,
   "metadata": {},
   "outputs": [
    {
     "name": "stdout",
     "output_type": "stream",
     "text": [
      "Score for y1: 0.9999940087958588\n",
      "Score for y2: 0.9999777669405079\n"
     ]
    }
   ],
   "source": [
    "# Make predictions for both targets\n",
    "rf1_y_score = rf1.score(X_test, y1_test)\n",
    "rf2_y_score = rf2.score(X_test, y2_test)\n",
    "\n",
    "# Print score for each target\n",
    "print(\"Score for y1:\", rf1_y_score)\n",
    "print(\"Score for y2:\", rf2_y_score)"
   ]
  }
 ],
 "metadata": {
  "kernelspec": {
   "display_name": "Python 3",
   "language": "python",
   "name": "python3"
  },
  "language_info": {
   "codemirror_mode": {
    "name": "ipython",
    "version": 3
   },
   "file_extension": ".py",
   "mimetype": "text/x-python",
   "name": "python",
   "nbconvert_exporter": "python",
   "pygments_lexer": "ipython3",
   "version": "3.10.14"
  }
 },
 "nbformat": 4,
 "nbformat_minor": 2
}
