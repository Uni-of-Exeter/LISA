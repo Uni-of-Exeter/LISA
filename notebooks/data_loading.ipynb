{
 "cells": [
  {
   "cell_type": "markdown",
   "metadata": {},
   "source": [
    "Pipeline to stream relevant data files from group onedrive to repo\n"
   ]
  },
  {
   "cell_type": "code",
   "execution_count": 34,
   "metadata": {},
   "outputs": [],
   "source": [
    "import os\n",
    "from lisa.config import PILOT_DATA_DIR\n",
    "\n",
    "def get_total_size(directory, file_extension=None):\n",
    "    total_size = 0\n",
    "    for dirpath, dirnames, filenames in os.walk(directory):\n",
    "        for filename in filenames:\n",
    "            if file_extension and not filename.endswith(file_extension):\n",
    "                continue\n",
    "            filepath = os.path.join(dirpath, filename)\n",
    "            total_size += os.path.getsize(filepath)\n",
    "    return total_size\n",
    "\n",
    "def human_readable_size(size, decimal_places=2):\n",
    "    for unit in ['B', 'KB', 'MB', 'GB', 'TB']:\n",
    "        if size < 1024:\n",
    "            return f\"{size:.{decimal_places}f} {unit}\"\n",
    "        size /= 1024\n"
   ]
  },
  {
   "cell_type": "code",
   "execution_count": 35,
   "metadata": {},
   "outputs": [
    {
     "name": "stdout",
     "output_type": "stream",
     "text": [
      "Total size of '/Users/tomwilson/code/LISA/data/raw/Wisdish, Sam - LISA_Study1_DataCollection/LISA 1 Pilot Data/Pilot 1/120724' is 226.89 MB\n"
     ]
    }
   ],
   "source": [
    "file_extension = \".imu\"\n",
    "total_size = get_total_size(PILOT_DATA_DIR, file_extension)\n",
    "print(f\"Total size of '{PILOT_DATA_DIR}' is {human_readable_size(total_size)}\")"
   ]
  },
  {
   "cell_type": "code",
   "execution_count": 37,
   "metadata": {},
   "outputs": [
    {
     "name": "stdout",
     "output_type": "stream",
     "text": [
      "Walking 1_4ms01.c3d\n",
      "VerticalJump01.c3d\n",
      "Walk1_4ms 10incline01.c3d\n",
      "Jogging 2_2.c3d\n",
      "Walk1_4ms 5incline01.c3d\n",
      "Walking 1_4ms02.c3d\n",
      "VerticalJump02.c3d\n",
      "Calibration.c3d\n",
      "Jogging 2_5ms01.c3d\n",
      "Pilot 1 Cal 01.c3d\n",
      "Walking 1_7ms02.c3d\n",
      "Running3_0ms.c3d\n",
      "Walking 1_0ms.c3d\n",
      "Walk1_4ms 10decline01.c3d\n",
      "Walk1_4ms 5decline01.c3d\n",
      "Walk1_4ms01.c3d\n",
      "VerticalJump.c3d\n",
      "Jogging 2_2._ForOpensim.c3d\n",
      "Walk1_1ms.c3d\n",
      "Walk1_7ms 5decline02.c3d\n",
      "Walk1_1ms01.c3d\n",
      "Jogging 2_5ms.c3d\n",
      "Walk1_1ms 5incline.c3d\n",
      "Walk1_7ms 5incline02.c3d\n",
      "Walk1_1ms 5decline.c3d\n",
      "Walk1_1ms 10incline.c3d\n",
      "Walk1_1ms 10decline.c3d\n",
      "Walk1_4ms.c3d\n",
      "28\n"
     ]
    }
   ],
   "source": [
    "num=0\n",
    "for file in os.listdir(PILOT_DATA_DIR):\n",
    "    if file.endswith(\".c3d\") and file.startswith(\"\"):\n",
    "        num+=1\n",
    "        print(file)\n",
    "\n",
    "print(num)"
   ]
  },
  {
   "cell_type": "code",
   "execution_count": 27,
   "metadata": {},
   "outputs": [
    {
     "data": {
      "text/plain": [
       "3.5"
      ]
     },
     "execution_count": 27,
     "metadata": {},
     "output_type": "execute_result"
    }
   ],
   "source": [
    "21/6"
   ]
  },
  {
   "cell_type": "code",
   "execution_count": 9,
   "metadata": {},
   "outputs": [
    {
     "name": "stdout",
     "output_type": "stream",
     "text": [
      "{'1ms 5decline'}\n",
      "{'1ms 5decline'}\n",
      "{'1ms 5decline'}\n",
      "{'1ms 5decline'}\n",
      "{'1ms 5decline'}\n",
      "{'1ms 5decline', '1ms'}\n",
      "{'1ms 5decline', '1ms', '1ms 10incline'}\n",
      "{'1ms 5decline', '1ms', '1ms 10incline'}\n",
      "{'1ms 5decline', '1ms', '1ms01', '1ms 10incline'}\n",
      "{'1ms 5decline', '1ms', '1ms01', '1ms 10incline'}\n",
      "{'1ms 10decline', '1ms01', '1ms 5decline', '1ms', '1ms 10incline'}\n",
      "{'1ms 10decline', '1ms01', '1ms 5decline', '1ms', '1ms 10incline'}\n",
      "{'1ms 10decline', '1ms01', '1ms 5decline', '1ms', '1ms 10incline'}\n",
      "{'1ms 10decline', '1ms01', '1ms 5decline', '1ms', '1ms 10incline'}\n",
      "{'1ms 10decline', '1ms01', '1ms 5decline', '1ms', '1ms 10incline'}\n",
      "{'1ms 10decline', '1ms01', '1ms 5decline', '1ms', '1ms 10incline'}\n",
      "{'1ms 10decline', '1ms01', '1ms 5decline', '1ms', '1ms 10incline'}\n",
      "{'1ms 10decline', '1ms01', '1ms 5decline', '1ms', '1ms 10incline'}\n",
      "{'1ms 10decline', '1ms01', '1ms 5decline', '1ms', '1ms 10incline'}\n",
      "{'1ms 10decline', '1ms01', '1ms 5decline', '1ms', '1ms 5incline', '1ms 10incline'}\n",
      "{'1ms 10decline', '1ms01', '1ms 5decline', '1ms', '1ms 5incline', '1ms 10incline'}\n",
      "{'1ms 10decline', '1ms01', '1ms 5decline', '1ms', '1ms 5incline', '1ms 10incline'}\n",
      "{'1ms 10decline', '1ms01', '1ms 5decline', '1ms', '1ms 5incline', '1ms 10incline'}\n",
      "{'1ms 10decline', '1ms01', '1ms 5decline', '1ms', '1ms 5incline', '1ms 10incline'}\n",
      "{'1ms 10decline', '1ms01', '1ms 5decline', '1ms', '1ms 5incline', '1ms 10incline'}\n",
      "{'1ms 10decline', '1ms01', '1ms 5decline', '1ms', '1ms 5incline', '1ms 10incline'}\n",
      "{'1ms 10decline', '1ms01', '1ms 5decline', '1ms', '1ms 5incline', '1ms 10incline'}\n",
      "{'1ms 10decline', '1ms01', '1ms 5decline', '1ms', '1ms 5incline', '1ms 10incline'}\n",
      "{'1ms 10decline', '1ms01', '1ms 5decline', '1ms', '1ms 5incline', '1ms 10incline'}\n",
      "{'1ms 10decline', '1ms01', '1ms 5decline', '1ms', '1ms 5incline', '1ms 10incline'}\n",
      "{'1ms 10decline', '1ms01', '1ms 5decline', '1ms', '1ms 5incline', '1ms 10incline'}\n",
      "{'1ms 10decline', '1ms01', '1ms 5decline', '1ms', '1ms 5incline', '1ms 10incline'}\n",
      "{'1ms 10decline', '1ms01', '1ms 5decline', '1ms', '1ms 5incline', '1ms 10incline'}\n",
      "{'1ms 10decline', '1ms01', '1ms 5decline', '1ms', '1ms 5incline', '1ms 10incline'}\n",
      "{'1ms 10decline', '1ms01', '1ms 5decline', '1ms', '1ms 5incline', '1ms 10incline'}\n",
      "{'1ms 10decline', '1ms01', '1ms 5decline', '1ms', '1ms 5incline', '1ms 10incline'}\n",
      "{'1ms 10decline', '1ms01', '1ms 5decline', '1ms', '1ms 5incline', '1ms 10incline'}\n",
      "{'1ms 10decline', '1ms01', '1ms 5decline', '1ms', '1ms 5incline', '1ms 10incline'}\n",
      "{'1ms 10decline', '1ms01', '1ms 5decline', '1ms', '1ms 5incline', '1ms 10incline'}\n",
      "{'1ms 10decline', '1ms01', '1ms 5decline', '1ms', '1ms 5incline', '1ms 10incline'}\n",
      "{'1ms 10decline', '1ms01', '1ms 5decline', '1ms', '1ms 5incline', '1ms 10incline'}\n",
      "{'1ms 10decline', '1ms01', '1ms 5decline', '1ms', '1ms 5incline', '1ms 10incline'}\n",
      "Unique numbers count: 6\n"
     ]
    }
   ],
   "source": [
    "unique_numbers = set()\n",
    "\n",
    "for file in os.listdir(PILOT_DATA_DIR):\n",
    "    if file.endswith(\".imu\") and file.startswith(\"Walk1_1ms\"):\n",
    "        # Extract the number just before '.imu'\n",
    "        number = file.split('_')[-1].split('.')[0]\n",
    "        unique_numbers.add(number)\n",
    "        print(unique_numbers)\n",
    "\n",
    "# Count the unique numbers\n",
    "count_unique_numbers = len(unique_numbers)\n",
    "print(f\"Unique numbers count: {count_unique_numbers}\")"
   ]
  }
 ],
 "metadata": {
  "kernelspec": {
   "display_name": "Python 3",
   "language": "python",
   "name": "python3"
  },
  "language_info": {
   "codemirror_mode": {
    "name": "ipython",
    "version": 3
   },
   "file_extension": ".py",
   "mimetype": "text/x-python",
   "name": "python",
   "nbconvert_exporter": "python",
   "pygments_lexer": "ipython3",
   "version": "3.10.14"
  }
 },
 "nbformat": 4,
 "nbformat_minor": 2
}
