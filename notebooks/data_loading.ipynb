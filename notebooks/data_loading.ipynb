{
 "cells": [
  {
   "cell_type": "markdown",
   "metadata": {},
   "source": [
    "Pipeline to stream relevant data files from group onedrive to repo\n"
   ]
  },
  {
   "cell_type": "code",
   "execution_count": 34,
   "metadata": {},
   "outputs": [],
   "source": [
    "import os\n",
    "from lisa.config import PILOT_DATA_DIR\n",
    "\n",
    "def get_total_size(directory, file_extension=None):\n",
    "    total_size = 0\n",
    "    for dirpath, dirnames, filenames in os.walk(directory):\n",
    "        for filename in filenames:\n",
    "            if file_extension and not filename.endswith(file_extension):\n",
    "                continue\n",
    "            filepath = os.path.join(dirpath, filename)\n",
    "            total_size += os.path.getsize(filepath)\n",
    "    return total_size\n",
    "\n",
    "def human_readable_size(size, decimal_places=2):\n",
    "    for unit in ['B', 'KB', 'MB', 'GB', 'TB']:\n",
    "        if size < 1024:\n",
    "            return f\"{size:.{decimal_places}f} {unit}\"\n",
    "        size /= 1024\n"
   ]
  },
  {
   "cell_type": "code",
   "execution_count": 35,
   "metadata": {},
   "outputs": [
    {
     "name": "stdout",
     "output_type": "stream",
     "text": [
      "Total size of '/Users/tomwilson/code/LISA/data/raw/Wisdish, Sam - LISA_Study1_DataCollection/LISA 1 Pilot Data/Pilot 1/120724' is 226.89 MB\n"
     ]
    }
   ],
   "source": [
    "file_extension = \".imu\"\n",
    "total_size = get_total_size(PILOT_DATA_DIR, file_extension)\n",
    "print(f\"Total size of '{PILOT_DATA_DIR}' is {human_readable_size(total_size)}\")"
   ]
  },
  {
   "cell_type": "code",
   "execution_count": 31,
   "metadata": {},
   "outputs": [
    {
     "name": "stdout",
     "output_type": "stream",
     "text": [
      "VerticalJump02.TS-04234.imu\n",
      "VerticalJump02.TS-04220.imu\n",
      "VerticalJump01.TS-03143.imu\n",
      "VerticalJump02.TS-04222.imu\n",
      "VerticalJump02.TS-02530.imu\n",
      "VerticalJump.TS-04184.imu\n",
      "VerticalJump02.TS-04196.imu\n",
      "VerticalJump.TS-04220.imu\n",
      "VerticalJump.TS-04234.imu\n",
      "VerticalJump.TS-04222.imu\n",
      "VerticalJump.TS-04196.imu\n",
      "VerticalJump.TS-02530.imu\n",
      "VerticalJump02.TS-04184.imu\n",
      "VerticalJump02.TS-03143.imu\n",
      "VerticalJump01.TS-04220.imu\n",
      "VerticalJump01.TS-04234.imu\n",
      "VerticalJump01.TS-02530.imu\n",
      "VerticalJump01.TS-04196.imu\n",
      "VerticalJump01.TS-04222.imu\n",
      "VerticalJump.TS-03143.imu\n",
      "VerticalJump01.TS-04184.imu\n",
      "21\n"
     ]
    }
   ],
   "source": [
    "num=0\n",
    "for file in os.listdir(PILOT_DATA_DIR):\n",
    "    if file.endswith(\".imu\") and file.startswith(\"VerticalJump\"):\n",
    "        num+=1\n",
    "        print(file)\n",
    "\n",
    "print(num)"
   ]
  },
  {
   "cell_type": "code",
   "execution_count": 27,
   "metadata": {},
   "outputs": [
    {
     "data": {
      "text/plain": [
       "3.5"
      ]
     },
     "execution_count": 27,
     "metadata": {},
     "output_type": "execute_result"
    }
   ],
   "source": [
    "21/6"
   ]
  },
  {
   "cell_type": "code",
   "execution_count": 9,
   "metadata": {},
   "outputs": [
    {
     "name": "stdout",
     "output_type": "stream",
     "text": [
      "{'1ms 5decline'}\n",
      "{'1ms 5decline'}\n",
      "{'1ms 5decline'}\n",
      "{'1ms 5decline'}\n",
      "{'1ms 5decline'}\n",
      "{'1ms 5decline', '1ms'}\n",
      "{'1ms 5decline', '1ms', '1ms 10incline'}\n",
      "{'1ms 5decline', '1ms', '1ms 10incline'}\n",
      "{'1ms 5decline', '1ms', '1ms01', '1ms 10incline'}\n",
      "{'1ms 5decline', '1ms', '1ms01', '1ms 10incline'}\n",
      "{'1ms 10decline', '1ms01', '1ms 5decline', '1ms', '1ms 10incline'}\n",
      "{'1ms 10decline', '1ms01', '1ms 5decline', '1ms', '1ms 10incline'}\n",
      "{'1ms 10decline', '1ms01', '1ms 5decline', '1ms', '1ms 10incline'}\n",
      "{'1ms 10decline', '1ms01', '1ms 5decline', '1ms', '1ms 10incline'}\n",
      "{'1ms 10decline', '1ms01', '1ms 5decline', '1ms', '1ms 10incline'}\n",
      "{'1ms 10decline', '1ms01', '1ms 5decline', '1ms', '1ms 10incline'}\n",
      "{'1ms 10decline', '1ms01', '1ms 5decline', '1ms', '1ms 10incline'}\n",
      "{'1ms 10decline', '1ms01', '1ms 5decline', '1ms', '1ms 10incline'}\n",
      "{'1ms 10decline', '1ms01', '1ms 5decline', '1ms', '1ms 10incline'}\n",
      "{'1ms 10decline', '1ms01', '1ms 5decline', '1ms', '1ms 5incline', '1ms 10incline'}\n",
      "{'1ms 10decline', '1ms01', '1ms 5decline', '1ms', '1ms 5incline', '1ms 10incline'}\n",
      "{'1ms 10decline', '1ms01', '1ms 5decline', '1ms', '1ms 5incline', '1ms 10incline'}\n",
      "{'1ms 10decline', '1ms01', '1ms 5decline', '1ms', '1ms 5incline', '1ms 10incline'}\n",
      "{'1ms 10decline', '1ms01', '1ms 5decline', '1ms', '1ms 5incline', '1ms 10incline'}\n",
      "{'1ms 10decline', '1ms01', '1ms 5decline', '1ms', '1ms 5incline', '1ms 10incline'}\n",
      "{'1ms 10decline', '1ms01', '1ms 5decline', '1ms', '1ms 5incline', '1ms 10incline'}\n",
      "{'1ms 10decline', '1ms01', '1ms 5decline', '1ms', '1ms 5incline', '1ms 10incline'}\n",
      "{'1ms 10decline', '1ms01', '1ms 5decline', '1ms', '1ms 5incline', '1ms 10incline'}\n",
      "{'1ms 10decline', '1ms01', '1ms 5decline', '1ms', '1ms 5incline', '1ms 10incline'}\n",
      "{'1ms 10decline', '1ms01', '1ms 5decline', '1ms', '1ms 5incline', '1ms 10incline'}\n",
      "{'1ms 10decline', '1ms01', '1ms 5decline', '1ms', '1ms 5incline', '1ms 10incline'}\n",
      "{'1ms 10decline', '1ms01', '1ms 5decline', '1ms', '1ms 5incline', '1ms 10incline'}\n",
      "{'1ms 10decline', '1ms01', '1ms 5decline', '1ms', '1ms 5incline', '1ms 10incline'}\n",
      "{'1ms 10decline', '1ms01', '1ms 5decline', '1ms', '1ms 5incline', '1ms 10incline'}\n",
      "{'1ms 10decline', '1ms01', '1ms 5decline', '1ms', '1ms 5incline', '1ms 10incline'}\n",
      "{'1ms 10decline', '1ms01', '1ms 5decline', '1ms', '1ms 5incline', '1ms 10incline'}\n",
      "{'1ms 10decline', '1ms01', '1ms 5decline', '1ms', '1ms 5incline', '1ms 10incline'}\n",
      "{'1ms 10decline', '1ms01', '1ms 5decline', '1ms', '1ms 5incline', '1ms 10incline'}\n",
      "{'1ms 10decline', '1ms01', '1ms 5decline', '1ms', '1ms 5incline', '1ms 10incline'}\n",
      "{'1ms 10decline', '1ms01', '1ms 5decline', '1ms', '1ms 5incline', '1ms 10incline'}\n",
      "{'1ms 10decline', '1ms01', '1ms 5decline', '1ms', '1ms 5incline', '1ms 10incline'}\n",
      "{'1ms 10decline', '1ms01', '1ms 5decline', '1ms', '1ms 5incline', '1ms 10incline'}\n",
      "Unique numbers count: 6\n"
     ]
    }
   ],
   "source": [
    "unique_numbers = set()\n",
    "\n",
    "for file in os.listdir(PILOT_DATA_DIR):\n",
    "    if file.endswith(\".imu\") and file.startswith(\"Walk1_1ms\"):\n",
    "        # Extract the number just before '.imu'\n",
    "        number = file.split('_')[-1].split('.')[0]\n",
    "        unique_numbers.add(number)\n",
    "        print(unique_numbers)\n",
    "\n",
    "# Count the unique numbers\n",
    "count_unique_numbers = len(unique_numbers)\n",
    "print(f\"Unique numbers count: {count_unique_numbers}\")"
   ]
  }
 ],
 "metadata": {
  "kernelspec": {
   "display_name": "Python 3",
   "language": "python",
   "name": "python3"
  },
  "language_info": {
   "codemirror_mode": {
    "name": "ipython",
    "version": 3
   },
   "file_extension": ".py",
   "mimetype": "text/x-python",
   "name": "python",
   "nbconvert_exporter": "python",
   "pygments_lexer": "ipython3",
   "version": "3.10.14"
  }
 },
 "nbformat": 4,
 "nbformat_minor": 2
}
