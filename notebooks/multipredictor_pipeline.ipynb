{
 "cells": [
  {
   "cell_type": "code",
   "execution_count": 7,
   "metadata": {},
   "outputs": [
    {
     "name": "stderr",
     "output_type": "stream",
     "text": [
      "\u001b[32m2024-10-28 15:40:59.998\u001b[0m | \u001b[1mINFO    \u001b[0m | \u001b[36mlisa.config\u001b[0m:\u001b[36m<module>\u001b[0m:\u001b[36m15\u001b[0m - \u001b[1mPROJ_ROOT path is: /Users/tomwilson/code/LISA\u001b[0m\n",
      "  1%|▏         | 1/73 [00:00<00:12,  5.72it/s]"
     ]
    },
    {
     "name": "stdout",
     "output_type": "stream",
     "text": [
      "\u001b[32m2024-10-28 15:41:03.350\u001b[0m | \u001b[1mINFO    \u001b[0m | \u001b[36mlisa.dataset\u001b[0m:\u001b[36mprocess_files\u001b[0m:\u001b[36m275\u001b[0m - \u001b[1mProcessing file: P1_1608 Walk1_7ms.c3d\u001b[0m\n",
      "\u001b[32m2024-10-28 15:41:03.525\u001b[0m | \u001b[1mINFO    \u001b[0m | \u001b[36mlisa.dataset\u001b[0m:\u001b[36mprocess_files\u001b[0m:\u001b[36m275\u001b[0m - \u001b[1mProcessing file: P1_1608 Walking1_4ms_weighted_10incline.c3d\u001b[0m\n"
     ]
    },
    {
     "name": "stderr",
     "output_type": "stream",
     "text": [
      "  7%|▋         | 5/73 [00:00<00:04, 15.34it/s]"
     ]
    },
    {
     "name": "stdout",
     "output_type": "stream",
     "text": [
      "\u001b[32m2024-10-28 15:41:03.621\u001b[0m | \u001b[1mINFO    \u001b[0m | \u001b[36mlisa.dataset\u001b[0m:\u001b[36mprocess_files\u001b[0m:\u001b[36m275\u001b[0m - \u001b[1mProcessing file: P1_1608 Walking1_4ms_weighted_10decline.c3d\u001b[0m\n",
      "\u001b[32m2024-10-28 15:41:03.709\u001b[0m | \u001b[1mINFO    \u001b[0m | \u001b[36mlisa.dataset\u001b[0m:\u001b[36mprocess_files\u001b[0m:\u001b[36m275\u001b[0m - \u001b[1mProcessing file: P1_1608 Walk1_1ms.c3d\u001b[0m\n"
     ]
    },
    {
     "name": "stderr",
     "output_type": "stream",
     "text": [
      " 10%|▉         | 7/73 [00:00<00:05, 11.37it/s]"
     ]
    },
    {
     "name": "stdout",
     "output_type": "stream",
     "text": [
      "\u001b[32m2024-10-28 15:41:03.863\u001b[0m | \u001b[1mINFO    \u001b[0m | \u001b[36mlisa.dataset\u001b[0m:\u001b[36mprocess_files\u001b[0m:\u001b[36m275\u001b[0m - \u001b[1mProcessing file: P1_1608 Walking1_4ms_weighted_15incline.c3d\u001b[0m\n",
      "\u001b[32m2024-10-28 15:41:03.960\u001b[0m | \u001b[1mINFO    \u001b[0m | \u001b[36mlisa.dataset\u001b[0m:\u001b[36mprocess_files\u001b[0m:\u001b[36m275\u001b[0m - \u001b[1mProcessing file: P1_1608 Walking1_1ms_weighted_5decline.c3d\u001b[0m\n",
      "\u001b[32m2024-10-28 15:41:04.052\u001b[0m | \u001b[1mINFO    \u001b[0m | \u001b[36mlisa.dataset\u001b[0m:\u001b[36mprocess_files\u001b[0m:\u001b[36m275\u001b[0m - \u001b[1mProcessing file: P1_1608 Jogging2_5ms_weighted_5 decline.c3d\u001b[0m\n"
     ]
    },
    {
     "name": "stderr",
     "output_type": "stream",
     "text": [
      " 15%|█▌        | 11/73 [00:00<00:05, 11.22it/s]"
     ]
    },
    {
     "name": "stdout",
     "output_type": "stream",
     "text": [
      "\u001b[32m2024-10-28 15:41:04.144\u001b[0m | \u001b[1mINFO    \u001b[0m | \u001b[36mlisa.dataset\u001b[0m:\u001b[36mprocess_files\u001b[0m:\u001b[36m275\u001b[0m - \u001b[1mProcessing file: P1_1608 Walking1_1ms_weighted_15incline.c3d\u001b[0m\n",
      "\u001b[32m2024-10-28 15:41:04.234\u001b[0m | \u001b[1mINFO    \u001b[0m | \u001b[36mlisa.dataset\u001b[0m:\u001b[36mprocess_files\u001b[0m:\u001b[36m275\u001b[0m - \u001b[1mProcessing file: P1_1608 Jogging2_2ms_weighted_10 decline.c3d\u001b[0m\n",
      "\u001b[32m2024-10-28 15:41:04.321\u001b[0m | \u001b[1mINFO    \u001b[0m | \u001b[36mlisa.dataset\u001b[0m:\u001b[36mprocess_files\u001b[0m:\u001b[36m275\u001b[0m - \u001b[1mProcessing file: P1_1608 Jogging2_5ms_weighted_10incline.c3d\u001b[0m\n"
     ]
    },
    {
     "name": "stderr",
     "output_type": "stream",
     "text": [
      " 18%|█▊        | 13/73 [00:01<00:06,  9.83it/s]"
     ]
    },
    {
     "name": "stdout",
     "output_type": "stream",
     "text": [
      "\u001b[32m2024-10-28 15:41:04.411\u001b[0m | \u001b[1mINFO    \u001b[0m | \u001b[36mlisa.dataset\u001b[0m:\u001b[36mprocess_files\u001b[0m:\u001b[36m275\u001b[0m - \u001b[1mProcessing file: P1_1608 Walking1_4ms_10decline.c3d\u001b[0m\n",
      "\u001b[32m2024-10-28 15:41:04.577\u001b[0m | \u001b[1mINFO    \u001b[0m | \u001b[36mlisa.dataset\u001b[0m:\u001b[36mprocess_files\u001b[0m:\u001b[36m275\u001b[0m - \u001b[1mProcessing file: P1_1608 Vertical_Jump04.c3d\u001b[0m\n"
     ]
    },
    {
     "name": "stderr",
     "output_type": "stream",
     "text": [
      " 22%|██▏       | 16/73 [00:01<00:05, 11.26it/s]"
     ]
    },
    {
     "name": "stdout",
     "output_type": "stream",
     "text": [
      "\u001b[32m2024-10-28 15:41:04.636\u001b[0m | \u001b[1mINFO    \u001b[0m | \u001b[36mlisa.dataset\u001b[0m:\u001b[36mprocess_files\u001b[0m:\u001b[36m275\u001b[0m - \u001b[1mProcessing file: P1_1608 Walking1_4ms_10Incline.c3d\u001b[0m\n",
      "\u001b[32m2024-10-28 15:41:04.788\u001b[0m | \u001b[1mINFO    \u001b[0m | \u001b[36mlisa.dataset\u001b[0m:\u001b[36mprocess_files\u001b[0m:\u001b[36m275\u001b[0m - \u001b[1mProcessing file: P1_1608 Walk1_4ms.c3d\u001b[0m\n"
     ]
    },
    {
     "name": "stderr",
     "output_type": "stream",
     "text": [
      " 27%|██▋       | 20/73 [00:01<00:04, 11.30it/s]"
     ]
    },
    {
     "name": "stdout",
     "output_type": "stream",
     "text": [
      "\u001b[32m2024-10-28 15:41:04.953\u001b[0m | \u001b[1mINFO    \u001b[0m | \u001b[36mlisa.dataset\u001b[0m:\u001b[36mprocess_files\u001b[0m:\u001b[36m275\u001b[0m - \u001b[1mProcessing file: P1_1608 Running3_0ms_5decline.c3d\u001b[0m\n",
      "\u001b[32m2024-10-28 15:41:05.137\u001b[0m | \u001b[1mINFO    \u001b[0m | \u001b[36mlisa.dataset\u001b[0m:\u001b[36mprocess_files\u001b[0m:\u001b[36m275\u001b[0m - \u001b[1mProcessing file: P1_1608 Running3_0ms_5Incline.c3d\u001b[0m\n"
     ]
    },
    {
     "name": "stderr",
     "output_type": "stream",
     "text": [
      " 30%|███       | 22/73 [00:02<00:05,  8.89it/s]"
     ]
    },
    {
     "name": "stdout",
     "output_type": "stream",
     "text": [
      "\u001b[32m2024-10-28 15:41:05.303\u001b[0m | \u001b[1mINFO    \u001b[0m | \u001b[36mlisa.dataset\u001b[0m:\u001b[36mprocess_files\u001b[0m:\u001b[36m275\u001b[0m - \u001b[1mProcessing file: P1_1608 Walking1_7ms_weighted.c3d\u001b[0m\n",
      "\u001b[32m2024-10-28 15:41:05.479\u001b[0m | \u001b[1mINFO    \u001b[0m | \u001b[36mlisa.dataset\u001b[0m:\u001b[36mprocess_files\u001b[0m:\u001b[36m275\u001b[0m - \u001b[1mProcessing file: P1_1608 Running 3_0ms.c3d\u001b[0m\n"
     ]
    },
    {
     "name": "stderr",
     "output_type": "stream",
     "text": [
      " 33%|███▎      | 24/73 [00:02<00:06,  7.64it/s]"
     ]
    },
    {
     "name": "stdout",
     "output_type": "stream",
     "text": [
      "\u001b[32m2024-10-28 15:41:05.650\u001b[0m | \u001b[1mINFO    \u001b[0m | \u001b[36mlisa.dataset\u001b[0m:\u001b[36mprocess_files\u001b[0m:\u001b[36m275\u001b[0m - \u001b[1mProcessing file: P1_1608 Walking1_4ms_5Incline01.c3d\u001b[0m\n",
      "\u001b[32m2024-10-28 15:41:05.815\u001b[0m | \u001b[1mINFO    \u001b[0m | \u001b[36mlisa.dataset\u001b[0m:\u001b[36mprocess_files\u001b[0m:\u001b[36m275\u001b[0m - \u001b[1mProcessing file: P1_1608 Jogging2_2ms_5decline.c3d\u001b[0m\n"
     ]
    },
    {
     "name": "stderr",
     "output_type": "stream",
     "text": [
      " 36%|███▌      | 26/73 [00:02<00:05,  8.68it/s]"
     ]
    },
    {
     "name": "stdout",
     "output_type": "stream",
     "text": [
      "\u001b[32m2024-10-28 15:41:05.990\u001b[0m | \u001b[1mINFO    \u001b[0m | \u001b[36mlisa.dataset\u001b[0m:\u001b[36mprocess_files\u001b[0m:\u001b[36m275\u001b[0m - \u001b[1mProcessing file: P1_1608 Vertical_Jump03.c3d\u001b[0m\n",
      "\u001b[32m2024-10-28 15:41:06.053\u001b[0m | \u001b[1mINFO    \u001b[0m | \u001b[36mlisa.dataset\u001b[0m:\u001b[36mprocess_files\u001b[0m:\u001b[36m275\u001b[0m - \u001b[1mProcessing file: P1_1608 Jogging2_2ms_5Incline.c3d\u001b[0m\n"
     ]
    },
    {
     "name": "stderr",
     "output_type": "stream",
     "text": [
      " 38%|███▊      | 28/73 [00:02<00:05,  8.75it/s]"
     ]
    },
    {
     "name": "stdout",
     "output_type": "stream",
     "text": [
      "\u001b[32m2024-10-28 15:41:06.215\u001b[0m | \u001b[1mINFO    \u001b[0m | \u001b[36mlisa.dataset\u001b[0m:\u001b[36mprocess_files\u001b[0m:\u001b[36m275\u001b[0m - \u001b[1mProcessing file: P1_1608 Vertical_Jump02.c3d\u001b[0m\n",
      "\u001b[32m2024-10-28 15:41:06.276\u001b[0m | \u001b[1mINFO    \u001b[0m | \u001b[36mlisa.dataset\u001b[0m:\u001b[36mprocess_files\u001b[0m:\u001b[36m275\u001b[0m - \u001b[1mProcessing file: P1_1608 Jogging2_5ms_5decline.c3d\u001b[0m\n"
     ]
    },
    {
     "name": "stderr",
     "output_type": "stream",
     "text": [
      " 47%|████▋     | 34/73 [00:03<00:03, 11.83it/s]"
     ]
    },
    {
     "name": "stdout",
     "output_type": "stream",
     "text": [
      "\u001b[32m2024-10-28 15:41:06.440\u001b[0m | \u001b[1mINFO    \u001b[0m | \u001b[36mlisa.dataset\u001b[0m:\u001b[36mprocess_files\u001b[0m:\u001b[36m275\u001b[0m - \u001b[1mProcessing file: P1_1608 Walking1_1ms_weighted_10decline.c3d\u001b[0m\n",
      "\u001b[32m2024-10-28 15:41:06.537\u001b[0m | \u001b[1mINFO    \u001b[0m | \u001b[36mlisa.dataset\u001b[0m:\u001b[36mprocess_files\u001b[0m:\u001b[36m275\u001b[0m - \u001b[1mProcessing file: P1_1608 Walking1_1ms_weighted_10incline.c3d\u001b[0m\n",
      "\u001b[32m2024-10-28 15:41:06.627\u001b[0m | \u001b[1mINFO    \u001b[0m | \u001b[36mlisa.dataset\u001b[0m:\u001b[36mprocess_files\u001b[0m:\u001b[36m275\u001b[0m - \u001b[1mProcessing file: P1_1608 Jogging2_5ms_5Incline.c3d\u001b[0m\n"
     ]
    },
    {
     "name": "stderr",
     "output_type": "stream",
     "text": [
      " 49%|████▉     | 36/73 [00:03<00:03, 10.41it/s]"
     ]
    },
    {
     "name": "stdout",
     "output_type": "stream",
     "text": [
      "\u001b[32m2024-10-28 15:41:06.786\u001b[0m | \u001b[1mINFO    \u001b[0m | \u001b[36mlisa.dataset\u001b[0m:\u001b[36mprocess_files\u001b[0m:\u001b[36m275\u001b[0m - \u001b[1mProcessing file: P1_1608 Jogging2_5ms_weighted_10 decline.c3d\u001b[0m\n",
      "\u001b[32m2024-10-28 15:41:06.884\u001b[0m | \u001b[1mINFO    \u001b[0m | \u001b[36mlisa.dataset\u001b[0m:\u001b[36mprocess_files\u001b[0m:\u001b[36m275\u001b[0m - \u001b[1mProcessing file: P1_1608 Walking1_4ms_15Incline.c3d\u001b[0m\n"
     ]
    },
    {
     "name": "stderr",
     "output_type": "stream",
     "text": [
      " 52%|█████▏    | 38/73 [00:03<00:03, 10.84it/s]"
     ]
    },
    {
     "name": "stdout",
     "output_type": "stream",
     "text": [
      "\u001b[32m2024-10-28 15:41:07.048\u001b[0m | \u001b[1mINFO    \u001b[0m | \u001b[36mlisa.dataset\u001b[0m:\u001b[36mprocess_files\u001b[0m:\u001b[36m275\u001b[0m - \u001b[1mProcessing file: P1_1608 Walking1_1ms_weighted.c3d\u001b[0m\n",
      "\u001b[32m2024-10-28 15:41:07.218\u001b[0m | \u001b[1mINFO    \u001b[0m | \u001b[36mlisa.dataset\u001b[0m:\u001b[36mprocess_files\u001b[0m:\u001b[36m275\u001b[0m - \u001b[1mProcessing file: P1_1608 Jogging2_2ms_weighted_5 decline.c3d\u001b[0m\n"
     ]
    },
    {
     "name": "stderr",
     "output_type": "stream",
     "text": [
      " 55%|█████▍    | 40/73 [00:04<00:03,  9.64it/s]"
     ]
    },
    {
     "name": "stdout",
     "output_type": "stream",
     "text": [
      "\u001b[32m2024-10-28 15:41:07.314\u001b[0m | \u001b[1mINFO    \u001b[0m | \u001b[36mlisa.dataset\u001b[0m:\u001b[36mprocess_files\u001b[0m:\u001b[36m275\u001b[0m - \u001b[1mProcessing file: P1_1608Walking1_7ms_5decline.c3d\u001b[0m\n",
      "\u001b[32m2024-10-28 15:41:07.479\u001b[0m | \u001b[1mINFO    \u001b[0m | \u001b[36mlisa.dataset\u001b[0m:\u001b[36mprocess_files\u001b[0m:\u001b[36m275\u001b[0m - \u001b[1mProcessing file: P1_1608 Walking1_1ms_15Incline.c3d\u001b[0m\n"
     ]
    },
    {
     "name": "stderr",
     "output_type": "stream",
     "text": [
      " 60%|██████    | 44/73 [00:04<00:03,  8.79it/s]"
     ]
    },
    {
     "name": "stdout",
     "output_type": "stream",
     "text": [
      "\u001b[32m2024-10-28 15:41:07.670\u001b[0m | \u001b[1mINFO    \u001b[0m | \u001b[36mlisa.dataset\u001b[0m:\u001b[36mprocess_files\u001b[0m:\u001b[36m275\u001b[0m - \u001b[1mProcessing file: P1_1608 Jogging2_5ms_10decline.c3d\u001b[0m\n",
      "\u001b[32m2024-10-28 15:41:07.843\u001b[0m | \u001b[1mINFO    \u001b[0m | \u001b[36mlisa.dataset\u001b[0m:\u001b[36mprocess_files\u001b[0m:\u001b[36m275\u001b[0m - \u001b[1mProcessing file: P1_1608 Walking1_7ms_weighted_15incline.c3d\u001b[0m\n"
     ]
    },
    {
     "name": "stderr",
     "output_type": "stream",
     "text": [
      " 63%|██████▎   | 46/73 [00:04<00:03,  8.48it/s]"
     ]
    },
    {
     "name": "stdout",
     "output_type": "stream",
     "text": [
      "\u001b[32m2024-10-28 15:41:07.938\u001b[0m | \u001b[1mINFO    \u001b[0m | \u001b[36mlisa.dataset\u001b[0m:\u001b[36mprocess_files\u001b[0m:\u001b[36m275\u001b[0m - \u001b[1mProcessing file: P1_1608 Jogging2_5ms_10Incline.c3d\u001b[0m\n",
      "\u001b[32m2024-10-28 15:41:08.099\u001b[0m | \u001b[1mINFO    \u001b[0m | \u001b[36mlisa.dataset\u001b[0m:\u001b[36mprocess_files\u001b[0m:\u001b[36m275\u001b[0m - \u001b[1mProcessing file: P1_1608 Walking1_7ms_5Incline02.c3d\u001b[0m\n"
     ]
    },
    {
     "name": "stderr",
     "output_type": "stream",
     "text": [
      " 67%|██████▋   | 49/73 [00:05<00:02,  8.63it/s]"
     ]
    },
    {
     "name": "stdout",
     "output_type": "stream",
     "text": [
      "\u001b[32m2024-10-28 15:41:08.265\u001b[0m | \u001b[1mINFO    \u001b[0m | \u001b[36mlisa.dataset\u001b[0m:\u001b[36mprocess_files\u001b[0m:\u001b[36m275\u001b[0m - \u001b[1mProcessing file: P1_1608 Walking1_4ms_weighted_5decline.c3d\u001b[0m\n",
      "\u001b[32m2024-10-28 15:41:08.361\u001b[0m | \u001b[1mINFO    \u001b[0m | \u001b[36mlisa.dataset\u001b[0m:\u001b[36mprocess_files\u001b[0m:\u001b[36m275\u001b[0m - \u001b[1mProcessing file: P1_1608 Walking1_7ms_weighted_10decline.c3d\u001b[0m\n",
      "\u001b[32m2024-10-28 15:41:08.454\u001b[0m | \u001b[1mINFO    \u001b[0m | \u001b[36mlisa.dataset\u001b[0m:\u001b[36mprocess_files\u001b[0m:\u001b[36m275\u001b[0m - \u001b[1mProcessing file: P1_1608 Jogging2_2ms_10Incline.c3d\u001b[0m\n"
     ]
    },
    {
     "name": "stderr",
     "output_type": "stream",
     "text": [
      " 70%|██████▉   | 51/73 [00:05<00:02,  7.47it/s]"
     ]
    },
    {
     "name": "stdout",
     "output_type": "stream",
     "text": [
      "\u001b[32m2024-10-28 15:41:08.614\u001b[0m | \u001b[1mINFO    \u001b[0m | \u001b[36mlisa.dataset\u001b[0m:\u001b[36mprocess_files\u001b[0m:\u001b[36m275\u001b[0m - \u001b[1mProcessing file: P1_1608Walking1_1ms_5decline.c3d\u001b[0m\n",
      "\u001b[32m2024-10-28 15:41:08.783\u001b[0m | \u001b[1mINFO    \u001b[0m | \u001b[36mlisa.dataset\u001b[0m:\u001b[36mprocess_files\u001b[0m:\u001b[36m275\u001b[0m - \u001b[1mProcessing file: P1_1608 Jogging2_2ms_10decline.c3d\u001b[0m\n"
     ]
    },
    {
     "name": "stderr",
     "output_type": "stream",
     "text": [
      " 73%|███████▎  | 53/73 [00:05<00:02,  6.77it/s]"
     ]
    },
    {
     "name": "stdout",
     "output_type": "stream",
     "text": [
      "\u001b[32m2024-10-28 15:41:08.954\u001b[0m | \u001b[1mINFO    \u001b[0m | \u001b[36mlisa.dataset\u001b[0m:\u001b[36mprocess_files\u001b[0m:\u001b[36m275\u001b[0m - \u001b[1mProcessing file: P1_1608 Jogging2_2ms.c3d\u001b[0m\n",
      "\u001b[32m2024-10-28 15:41:09.118\u001b[0m | \u001b[1mINFO    \u001b[0m | \u001b[36mlisa.dataset\u001b[0m:\u001b[36mprocess_files\u001b[0m:\u001b[36m275\u001b[0m - \u001b[1mProcessing file: P1_1608 Walking1_4ms_weighted_5incline2.c3d\u001b[0m\n"
     ]
    },
    {
     "name": "stderr",
     "output_type": "stream",
     "text": [
      " 75%|███████▌  | 55/73 [00:06<00:02,  7.13it/s]"
     ]
    },
    {
     "name": "stdout",
     "output_type": "stream",
     "text": [
      "\u001b[32m2024-10-28 15:41:09.293\u001b[0m | \u001b[1mINFO    \u001b[0m | \u001b[36mlisa.dataset\u001b[0m:\u001b[36mprocess_files\u001b[0m:\u001b[36m275\u001b[0m - \u001b[1mProcessing file: P1_1608 Jogging2_5ms_weighted_5incline.c3d\u001b[0m\n",
      "\u001b[32m2024-10-28 15:41:09.394\u001b[0m | \u001b[1mINFO    \u001b[0m | \u001b[36mlisa.dataset\u001b[0m:\u001b[36mprocess_files\u001b[0m:\u001b[36m275\u001b[0m - \u001b[1mProcessing file: P1_1608 Walking1_1ms_10Incline.c3d\u001b[0m\n"
     ]
    },
    {
     "name": "stderr",
     "output_type": "stream",
     "text": [
      " 78%|███████▊  | 57/73 [00:06<00:02,  6.52it/s]"
     ]
    },
    {
     "name": "stdout",
     "output_type": "stream",
     "text": [
      "\u001b[32m2024-10-28 15:41:09.552\u001b[0m | \u001b[1mINFO    \u001b[0m | \u001b[36mlisa.dataset\u001b[0m:\u001b[36mprocess_files\u001b[0m:\u001b[36m275\u001b[0m - \u001b[1mProcessing file: P1_1608 Walking1_1ms_10decline.c3d\u001b[0m\n",
      "\u001b[32m2024-10-28 15:41:09.726\u001b[0m | \u001b[1mINFO    \u001b[0m | \u001b[36mlisa.dataset\u001b[0m:\u001b[36mprocess_files\u001b[0m:\u001b[36m275\u001b[0m - \u001b[1mProcessing file: P1_1608 Jogging2_5ms.c3d\u001b[0m\n"
     ]
    },
    {
     "name": "stderr",
     "output_type": "stream",
     "text": [
      " 81%|████████  | 59/73 [00:06<00:02,  6.28it/s]"
     ]
    },
    {
     "name": "stdout",
     "output_type": "stream",
     "text": [
      "\u001b[32m2024-10-28 15:41:09.888\u001b[0m | \u001b[1mINFO    \u001b[0m | \u001b[36mlisa.dataset\u001b[0m:\u001b[36mprocess_files\u001b[0m:\u001b[36m275\u001b[0m - \u001b[1mProcessing file: P1_1608 Walking1_7ms_weighted_10incline2.c3d\u001b[0m\n",
      "\u001b[32m2024-10-28 15:41:10.055\u001b[0m | \u001b[1mINFO    \u001b[0m | \u001b[36mlisa.dataset\u001b[0m:\u001b[36mprocess_files\u001b[0m:\u001b[36m275\u001b[0m - \u001b[1mProcessing file: P1_1608Walking1_4ms_5decline.c3d\u001b[0m\n"
     ]
    },
    {
     "name": "stderr",
     "output_type": "stream",
     "text": [
      " 85%|████████▍ | 62/73 [00:07<00:01,  7.59it/s]"
     ]
    },
    {
     "name": "stdout",
     "output_type": "stream",
     "text": [
      "\u001b[32m2024-10-28 15:41:10.233\u001b[0m | \u001b[1mINFO    \u001b[0m | \u001b[36mlisa.dataset\u001b[0m:\u001b[36mprocess_files\u001b[0m:\u001b[36m275\u001b[0m - \u001b[1mProcessing file: P1_1608 Walking1_7ms_weighted_5decline.c3d\u001b[0m\n",
      "\u001b[32m2024-10-28 15:41:10.328\u001b[0m | \u001b[1mINFO    \u001b[0m | \u001b[36mlisa.dataset\u001b[0m:\u001b[36mprocess_files\u001b[0m:\u001b[36m275\u001b[0m - \u001b[1mProcessing file: P1_1608 Running3_0ms_weighted.c3d\u001b[0m\n",
      "\u001b[32m2024-10-28 15:41:10.419\u001b[0m | \u001b[1mINFO    \u001b[0m | \u001b[36mlisa.dataset\u001b[0m:\u001b[36mprocess_files\u001b[0m:\u001b[36m275\u001b[0m - \u001b[1mProcessing file: P1_1608 Walking1_7ms_15Incline.c3d\u001b[0m\n"
     ]
    },
    {
     "name": "stderr",
     "output_type": "stream",
     "text": [
      " 88%|████████▊ | 64/73 [00:07<00:01,  6.74it/s]"
     ]
    },
    {
     "name": "stdout",
     "output_type": "stream",
     "text": [
      "\u001b[32m2024-10-28 15:41:10.583\u001b[0m | \u001b[1mINFO    \u001b[0m | \u001b[36mlisa.dataset\u001b[0m:\u001b[36mprocess_files\u001b[0m:\u001b[36m275\u001b[0m - \u001b[1mProcessing file: P1_1608 Walking1_1ms_weighted_5incline2.c3d\u001b[0m\n",
      "\u001b[32m2024-10-28 15:41:10.756\u001b[0m | \u001b[1mINFO    \u001b[0m | \u001b[36mlisa.dataset\u001b[0m:\u001b[36mprocess_files\u001b[0m:\u001b[36m275\u001b[0m - \u001b[1mProcessing file: P1_1608 Walking1_7ms_weighted_5incline.c3d\u001b[0m\n"
     ]
    },
    {
     "name": "stderr",
     "output_type": "stream",
     "text": [
      " 90%|█████████ | 66/73 [00:07<00:00,  7.01it/s]"
     ]
    },
    {
     "name": "stdout",
     "output_type": "stream",
     "text": [
      "\u001b[32m2024-10-28 15:41:10.929\u001b[0m | \u001b[1mINFO    \u001b[0m | \u001b[36mlisa.dataset\u001b[0m:\u001b[36mprocess_files\u001b[0m:\u001b[36m275\u001b[0m - \u001b[1mProcessing file: P1_1608 Jogging2_2ms_weighted.c3d\u001b[0m\n",
      "\u001b[32m2024-10-28 15:41:11.039\u001b[0m | \u001b[1mINFO    \u001b[0m | \u001b[36mlisa.dataset\u001b[0m:\u001b[36mprocess_files\u001b[0m:\u001b[36m275\u001b[0m - \u001b[1mProcessing file: P1_1608 Walking1_7ms_10Incline.c3d\u001b[0m\n"
     ]
    },
    {
     "name": "stderr",
     "output_type": "stream",
     "text": [
      " 93%|█████████▎| 68/73 [00:08<00:00,  6.52it/s]"
     ]
    },
    {
     "name": "stdout",
     "output_type": "stream",
     "text": [
      "\u001b[32m2024-10-28 15:41:11.201\u001b[0m | \u001b[1mINFO    \u001b[0m | \u001b[36mlisa.dataset\u001b[0m:\u001b[36mprocess_files\u001b[0m:\u001b[36m275\u001b[0m - \u001b[1mProcessing file: P1_1608 Walking1_7ms_10decline.c3d\u001b[0m\n",
      "\u001b[32m2024-10-28 15:41:11.368\u001b[0m | \u001b[1mINFO    \u001b[0m | \u001b[36mlisa.dataset\u001b[0m:\u001b[36mprocess_files\u001b[0m:\u001b[36m275\u001b[0m - \u001b[1mProcessing file: P1_1608 Jogging2_2ms_weighted_5incline.c3d\u001b[0m\n"
     ]
    },
    {
     "name": "stderr",
     "output_type": "stream",
     "text": [
      " 96%|█████████▌| 70/73 [00:08<00:00,  8.44it/s]"
     ]
    },
    {
     "name": "stdout",
     "output_type": "stream",
     "text": [
      "\u001b[32m2024-10-28 15:41:11.465\u001b[0m | \u001b[1mINFO    \u001b[0m | \u001b[36mlisa.dataset\u001b[0m:\u001b[36mprocess_files\u001b[0m:\u001b[36m275\u001b[0m - \u001b[1mProcessing file: P1_1608 Vertical_Jump.c3d\u001b[0m\n",
      "\u001b[32m2024-10-28 15:41:11.520\u001b[0m | \u001b[1mINFO    \u001b[0m | \u001b[36mlisa.dataset\u001b[0m:\u001b[36mprocess_files\u001b[0m:\u001b[36m275\u001b[0m - \u001b[1mProcessing file: P1_1608 Jogging2_5ms_weighted.c3d\u001b[0m\n",
      "\u001b[32m2024-10-28 15:41:11.608\u001b[0m | \u001b[1mINFO    \u001b[0m | \u001b[36mlisa.dataset\u001b[0m:\u001b[36mprocess_files\u001b[0m:\u001b[36m275\u001b[0m - \u001b[1mProcessing file: P1_1608 Walking1_1ms_5Incline.c3d\u001b[0m\n"
     ]
    },
    {
     "name": "stderr",
     "output_type": "stream",
     "text": [
      "100%|██████████| 73/73 [00:08<00:00,  8.57it/s]\n"
     ]
    },
    {
     "name": "stdout",
     "output_type": "stream",
     "text": [
      "\u001b[32m2024-10-28 15:41:11.770\u001b[0m | \u001b[1mINFO    \u001b[0m | \u001b[36mlisa.dataset\u001b[0m:\u001b[36mprocess_files\u001b[0m:\u001b[36m275\u001b[0m - \u001b[1mProcessing file: P1_1608 Jogging2_2ms_weighted_10incline.c3d\u001b[0m\n"
     ]
    }
   ],
   "source": [
    "from sklearn.model_selection import train_test_split\n",
    "from lisa.config import LABELLED_TEST_DATA_DIR\n",
    "from lisa.dataset import process_files\n",
    "import matplotlib.pyplot as plt\n",
    "import polars as pl\n",
    "\n",
    "from lisa.features import sliding_window, standard_scaler\n",
    "\n",
    "period = 300\n",
    "input_path = LABELLED_TEST_DATA_DIR\n",
    "\n",
    "df = process_files(input_path, True)\n",
    "\n",
    "df = sliding_window(df, period)\n",
    "\n",
    "# X = df.select(pl.exclude([\"INCLINE\", \"SPEED\", \"ACTIVITY\", \"TRIAL\", \"TIME\"]))\n",
    "# y_activity = df.select(\"ACTIVITY\")\n",
    "# y_speed = df.select(\"SPEED\")\n",
    "# y_incline = df.select(\"INCLINE\")\n",
    "\n",
    "# X_train, X_test, y1_train, y1_test, y2_train, y2_test, y3_train, y3_test = train_test_split(X, y_activity, y_speed, y_incline, test_size=0.2, random_state=42, shuffle=False)\n",
    "\n",
    "# X_train, X_test, scaler = standard_scaler(X_train, X_test)\n"
   ]
  },
  {
   "cell_type": "code",
   "execution_count": 2,
   "metadata": {},
   "outputs": [],
   "source": [
    "def sequential_stratified_split(\n",
    "    df: pl.DataFrame,\n",
    "    train_size: float,\n",
    "    gap: int = 0,\n",
    "    feature_cols: list[str] = [\"ACTIVITY\"],\n",
    ") -> list[pl.DataFrame]:\n",
    "    \"\"\"\n",
    "    Splits the input dataframe into train and test sets.\n",
    "    The data remains sequential (not shuffled), trials are not shared between train and test sets,\n",
    "    and a gap of {gap} rows is left between the train and test sets.\n",
    "    The split attempts to keep a balanced proportion of each feature in both sets;\n",
    "    this can be checked with check_split_balance().\n",
    "\n",
    "    Args:\n",
    "        df (pl.Dataframe): The input dataframe to be split.\n",
    "        train_size (float): The proportion of rows to be included in the train set, between 0.0 and 1.0.\n",
    "        gap (int, optional): The number of rows to leave as a gap between the train and test sets. Defaults to 0.\n",
    "        feature_cols (list[str], optional): The list of feature columns to include in the split, to allow for multiple\n",
    "            y features. Defaults to ['ACTIVITY'].\n",
    "\n",
    "    Returns:\n",
    "        list: A list containing train-test split of inputs, i.e. [X_train, X_test, y1_train, y1_test, y2_train, ...].\n",
    "    \"\"\"\n",
    "\n",
    "    # Ensure train_size is between 0 and 1\n",
    "    if not (0 <= train_size <= 1):\n",
    "        raise ValueError(f\"train_size must be between 0 and 1, but got {train_size}.\")\n",
    "\n",
    "    train_df = pl.DataFrame()\n",
    "    test_df = pl.DataFrame()\n",
    "    min_n_rows = float(\"inf\")\n",
    "\n",
    "    # Check if correct columns in df\n",
    "    # if \"TRIAL\" not in df.columns:\n",
    "    #     logger.warning(\"TRIAL column not found in the dataframe.\")\n",
    "    # if \"TIME\" not in df.columns:\n",
    "    #     logger.warning(\"TIME column not found in the dataframe.\")\n",
    "\n",
    "    # Combine feature columns into a single column\n",
    "    combined_feat_name = \"_\".join(feature_cols)\n",
    "    df = df.with_columns(\n",
    "        pl.concat_str(\n",
    "            [pl.col(col).fill_null(\"\").cast(pl.Utf8) for col in feature_cols],\n",
    "            separator=\"_\",\n",
    "        ).alias(combined_feat_name)\n",
    "    )\n",
    "    # For each unique feature combination, split the data\n",
    "    for feature in df[combined_feat_name].unique(maintain_order=True):\n",
    "        feature_df = df.filter(pl.col(combined_feat_name) == feature)\n",
    "\n",
    "        n_rows = feature_df.height\n",
    "        if n_rows < min_n_rows:\n",
    "            min_n_rows = n_rows\n",
    "\n",
    "        # Determine split indices\n",
    "        train_split = int(train_size * n_rows)\n",
    "        test_split = train_split + gap\n",
    "\n",
    "        # Adjust train_split to the closest index where 'TRIAL' changes,\n",
    "        # to avoid same trial being in test and train sets\n",
    "        trial_values = feature_df[\"TRIAL\"].to_list()\n",
    "        for index in range(train_split, n_rows):\n",
    "            if trial_values[index] != trial_values[train_split]:\n",
    "                train_split = index\n",
    "                test_split = train_split + gap\n",
    "                break\n",
    "            # Account for edge case of last trial being below split threshold\n",
    "            elif trial_values[index] == max(trial_values):\n",
    "                unique_index = sorted(set(trial_values)).index(trial_values[index])\n",
    "                lower_trial = sorted(set(trial_values))[unique_index - 1]\n",
    "                train_split = max((i for i, x in enumerate(trial_values) if x == lower_trial))\n",
    "                test_split = train_split + gap\n",
    "                break\n",
    "\n",
    "        # Extract the first train_size% of rows\n",
    "        feature_train_df = feature_df[:train_split]\n",
    "\n",
    "        # Extract the next 1-train_size% of rows, leaving a gap of {gap} rows\n",
    "        feature_test_df = feature_df[test_split:]\n",
    "\n",
    "        train_df = train_df.vstack(feature_train_df)\n",
    "        test_df = test_df.vstack(feature_test_df)\n",
    "\n",
    "    # Check if gap is between 0 and min_n_rows\n",
    "    if not (0 <= gap <= min_n_rows):\n",
    "        raise ValueError(f\"Gap must be between 0 and {min_n_rows}, but got {gap}.\")\n",
    "\n",
    "    # Check if any trials are in both train and test sets\n",
    "    common_trials = train_df[\"TRIAL\"].value_counts().join(test_df[\"TRIAL\"].value_counts(), on=\"TRIAL\", how=\"inner\")\n",
    "    if not (common_trials.is_empty()):\n",
    "        raise Warning(f\"{common_trials.height} trials are in both train and test sets.\")\n",
    "\n",
    "    # Generate X data\n",
    "    splits = [\n",
    "        train_df.select(pl.exclude([\"TRIAL\", \"TIME\", combined_feat_name] + feature_cols)),\n",
    "        test_df.select(pl.exclude([\"TRIAL\", \"TIME\", combined_feat_name] + feature_cols)),\n",
    "    ]\n",
    "    # Generate y data\n",
    "    for feature in feature_cols:\n",
    "        splits.extend([train_df.select(feature), test_df.select(feature)])\n",
    "\n",
    "    return splits"
   ]
  },
  {
   "cell_type": "code",
   "execution_count": 3,
   "metadata": {},
   "outputs": [],
   "source": [
    "\n",
    "X_train, X_test, y1_train, y1_test, y2_train, y2_test, y3_train, y3_test = sequential_stratified_split(df, 0.8, period, ['ACTIVITY', 'SPEED', 'INCLINE'])"
   ]
  },
  {
   "cell_type": "code",
   "execution_count": 4,
   "metadata": {},
   "outputs": [],
   "source": [
    "X_train, X_test, scaler = standard_scaler(X_train, X_test)"
   ]
  },
  {
   "cell_type": "code",
   "execution_count": 5,
   "metadata": {},
   "outputs": [],
   "source": [
    "y3_train = y3_train.with_columns(y3_train['INCLINE'].cast(pl.Float32))"
   ]
  },
  {
   "cell_type": "code",
   "execution_count": 6,
   "metadata": {},
   "outputs": [
    {
     "data": {
      "text/plain": [
       "Schema([('INCLINE', Float32)])"
      ]
     },
     "execution_count": 6,
     "metadata": {},
     "output_type": "execute_result"
    }
   ],
   "source": [
    "y3_train.schema"
   ]
  },
  {
   "cell_type": "code",
   "execution_count": 4,
   "metadata": {},
   "outputs": [
    {
     "name": "stdout",
     "output_type": "stream",
     "text": [
      "shape: (2, 4)\n",
      "┌──────────┬────────────┬─────────────────┬──────────┐\n",
      "│ ACTIVITY ┆ proportion ┆ proportion_test ┆ diff     │\n",
      "│ ---      ┆ ---        ┆ ---             ┆ ---      │\n",
      "│ str      ┆ f64        ┆ f64             ┆ f64      │\n",
      "╞══════════╪════════════╪═════════════════╪══════════╡\n",
      "│ walk     ┆ 0.617504   ┆ 0.59635         ┆ 0.021154 │\n",
      "│ run      ┆ 0.365983   ┆ 0.383248        ┆ 0.017265 │\n",
      "└──────────┴────────────┴─────────────────┴──────────┘\n",
      "shape: (5, 4)\n",
      "┌───────┬────────────┬─────────────────┬──────────┐\n",
      "│ SPEED ┆ proportion ┆ proportion_test ┆ diff     │\n",
      "│ ---   ┆ ---        ┆ ---             ┆ ---      │\n",
      "│ f64   ┆ f64        ┆ f64             ┆ f64      │\n",
      "╞═══════╪════════════╪═════════════════╪══════════╡\n",
      "│ 1.7   ┆ 0.180827   ┆ 0.227574        ┆ 0.046746 │\n",
      "│ 1.1   ┆ 0.218339   ┆ 0.198639        ┆ 0.019699 │\n",
      "│ 1.4   ┆ 0.218339   ┆ 0.170137        ┆ 0.048201 │\n",
      "│ 2.5   ┆ 0.180823   ┆ 0.141638        ┆ 0.039185 │\n",
      "│ 3.0   ┆ 0.035264   ┆ 0.085504        ┆ 0.05024  │\n",
      "└───────┴────────────┴─────────────────┴──────────┘\n",
      "shape: (3, 4)\n",
      "┌─────────┬────────────┬─────────────────┬──────────┐\n",
      "│ INCLINE ┆ proportion ┆ proportion_test ┆ diff     │\n",
      "│ ---     ┆ ---        ┆ ---             ┆ ---      │\n",
      "│ i64     ┆ f64        ┆ f64             ┆ f64      │\n",
      "╞═════════╪════════════╪═════════════════╪══════════╡\n",
      "│ 0       ┆ 0.330715   ┆ 0.541531        ┆ 0.210816 │\n",
      "│ -5      ┆ 0.288875   ┆ 0.127601        ┆ 0.161274 │\n",
      "│ -10     ┆ 0.363898   ┆ 0.070166        ┆ 0.293732 │\n",
      "└─────────┴────────────┴─────────────────┴──────────┘\n"
     ]
    }
   ],
   "source": [
    "from lisa.features import check_split_balance\n",
    "\n",
    "\n",
    "print(check_split_balance(y1_train, y1_test, 0.01))\n",
    "print(check_split_balance(y2_train, y2_test, 0.01))\n",
    "print(check_split_balance(y3_train, y3_test, 0.01))"
   ]
  },
  {
   "cell_type": "code",
   "execution_count": 5,
   "metadata": {},
   "outputs": [
    {
     "data": {
      "text/plain": [
       "10"
      ]
     },
     "execution_count": 5,
     "metadata": {},
     "output_type": "execute_result"
    }
   ],
   "source": [
    "num_trials_incline_minus_10 = df.filter(pl.col('INCLINE') == -10).select('TRIAL').n_unique()\n",
    "num_trials_incline_minus_10"
   ]
  },
  {
   "cell_type": "code",
   "execution_count": 6,
   "metadata": {},
   "outputs": [
    {
     "data": {
      "text/html": [
       "<div><style>\n",
       ".dataframe > thead > tr,\n",
       ".dataframe > tbody > tr {\n",
       "  text-align: right;\n",
       "  white-space: pre-wrap;\n",
       "}\n",
       "</style>\n",
       "<small>shape: (3, 2)</small><table border=\"1\" class=\"dataframe\"><thead><tr><th>ACTIVITY</th><th>count</th></tr><tr><td>str</td><td>u32</td></tr></thead><tbody><tr><td>&quot;walk&quot;</td><td>579535</td></tr><tr><td>&quot;run&quot;</td><td>364579</td></tr><tr><td>&quot;jump&quot;</td><td>18804</td></tr></tbody></table></div>"
      ],
      "text/plain": [
       "shape: (3, 2)\n",
       "┌──────────┬────────┐\n",
       "│ ACTIVITY ┆ count  │\n",
       "│ ---      ┆ ---    │\n",
       "│ str      ┆ u32    │\n",
       "╞══════════╪════════╡\n",
       "│ walk     ┆ 579535 │\n",
       "│ run      ┆ 364579 │\n",
       "│ jump     ┆ 18804  │\n",
       "└──────────┴────────┘"
      ]
     },
     "execution_count": 6,
     "metadata": {},
     "output_type": "execute_result"
    }
   ],
   "source": [
    "df.filter(pl.col('TRIAL') >= 0).select('ACTIVITY').to_series().value_counts(sort=True)\n"
   ]
  },
  {
   "cell_type": "code",
   "execution_count": 7,
   "metadata": {},
   "outputs": [
    {
     "data": {
      "text/html": [
       "<div><style>\n",
       ".dataframe > thead > tr,\n",
       ".dataframe > tbody > tr {\n",
       "  text-align: right;\n",
       "  white-space: pre-wrap;\n",
       "}\n",
       "</style>\n",
       "<small>shape: (5, 647)</small><table border=\"1\" class=\"dataframe\"><thead><tr><th>TRIAL</th><th>TIME</th><th>first_Right Foot Sensor.RFS</th><th>last_Right Foot Sensor.RFS</th><th>max_Right Foot Sensor.RFS</th><th>min_Right Foot Sensor.RFS</th><th>mean_Right Foot Sensor.RFS</th><th>std_Right Foot Sensor.RFS</th><th>first_Left Foot Sensor.LFS</th><th>last_Left Foot Sensor.LFS</th><th>max_Left Foot Sensor.LFS</th><th>min_Left Foot Sensor.LFS</th><th>mean_Left Foot Sensor.LFS</th><th>std_Left Foot Sensor.LFS</th><th>first_Global Angle_Foot_L.x</th><th>last_Global Angle_Foot_L.x</th><th>max_Global Angle_Foot_L.x</th><th>min_Global Angle_Foot_L.x</th><th>mean_Global Angle_Foot_L.x</th><th>std_Global Angle_Foot_L.x</th><th>first_Global Angle_Foot_L.y</th><th>last_Global Angle_Foot_L.y</th><th>max_Global Angle_Foot_L.y</th><th>min_Global Angle_Foot_L.y</th><th>mean_Global Angle_Foot_L.y</th><th>std_Global Angle_Foot_L.y</th><th>first_Global Angle_Foot_L.z</th><th>last_Global Angle_Foot_L.z</th><th>max_Global Angle_Foot_L.z</th><th>min_Global Angle_Foot_L.z</th><th>mean_Global Angle_Foot_L.z</th><th>std_Global Angle_Foot_L.z</th><th>first_HighG_Foot_L.x</th><th>last_HighG_Foot_L.x</th><th>max_HighG_Foot_L.x</th><th>min_HighG_Foot_L.x</th><th>mean_HighG_Foot_L.x</th><th>&hellip;</th><th>max_gyro_Foot_R.x</th><th>min_gyro_Foot_R.x</th><th>mean_gyro_Foot_R.x</th><th>std_gyro_Foot_R.x</th><th>first_gyro_Foot_R.y</th><th>last_gyro_Foot_R.y</th><th>max_gyro_Foot_R.y</th><th>min_gyro_Foot_R.y</th><th>mean_gyro_Foot_R.y</th><th>std_gyro_Foot_R.y</th><th>first_gyro_Foot_R.z</th><th>last_gyro_Foot_R.z</th><th>max_gyro_Foot_R.z</th><th>min_gyro_Foot_R.z</th><th>mean_gyro_Foot_R.z</th><th>std_gyro_Foot_R.z</th><th>first_mag_Foot_R.x</th><th>last_mag_Foot_R.x</th><th>max_mag_Foot_R.x</th><th>min_mag_Foot_R.x</th><th>mean_mag_Foot_R.x</th><th>std_mag_Foot_R.x</th><th>first_mag_Foot_R.y</th><th>last_mag_Foot_R.y</th><th>max_mag_Foot_R.y</th><th>min_mag_Foot_R.y</th><th>mean_mag_Foot_R.y</th><th>std_mag_Foot_R.y</th><th>first_mag_Foot_R.z</th><th>last_mag_Foot_R.z</th><th>max_mag_Foot_R.z</th><th>min_mag_Foot_R.z</th><th>mean_mag_Foot_R.z</th><th>std_mag_Foot_R.z</th><th>ACTIVITY</th><th>SPEED</th><th>INCLINE</th></tr><tr><td>i16</td><td>i64</td><td>f64</td><td>f64</td><td>f64</td><td>f64</td><td>f64</td><td>f64</td><td>f64</td><td>f64</td><td>f64</td><td>f64</td><td>f64</td><td>f64</td><td>f64</td><td>f64</td><td>f64</td><td>f64</td><td>f64</td><td>f64</td><td>f64</td><td>f64</td><td>f64</td><td>f64</td><td>f64</td><td>f64</td><td>f64</td><td>f64</td><td>f64</td><td>f64</td><td>f64</td><td>f64</td><td>f64</td><td>f64</td><td>f64</td><td>f64</td><td>f64</td><td>&hellip;</td><td>f64</td><td>f64</td><td>f64</td><td>f64</td><td>f64</td><td>f64</td><td>f64</td><td>f64</td><td>f64</td><td>f64</td><td>f64</td><td>f64</td><td>f64</td><td>f64</td><td>f64</td><td>f64</td><td>f64</td><td>f64</td><td>f64</td><td>f64</td><td>f64</td><td>f64</td><td>f64</td><td>f64</td><td>f64</td><td>f64</td><td>f64</td><td>f64</td><td>f64</td><td>f64</td><td>f64</td><td>f64</td><td>f64</td><td>f64</td><td>str</td><td>f64</td><td>i64</td></tr></thead><tbody><tr><td>0</td><td>299</td><td>3.661904</td><td>2.485147</td><td>3.673196</td><td>2.432046</td><td>2.696399</td><td>0.34669</td><td>1.908885</td><td>3.316051</td><td>3.318797</td><td>1.868602</td><td>2.499939</td><td>0.424515</td><td>0.747913</td><td>0.877581</td><td>0.877581</td><td>0.747172</td><td>0.790992</td><td>0.039549</td><td>1.414698</td><td>1.343655</td><td>1.414698</td><td>1.343655</td><td>1.389949</td><td>0.017417</td><td>2.41077</td><td>2.55737</td><td>2.55737</td><td>2.41077</td><td>2.481752</td><td>0.031752</td><td>23.918659</td><td>4.377114</td><td>23.918659</td><td>0.956746</td><td>4.800475</td><td>&hellip;</td><td>4.305908</td><td>-3.178707</td><td>-0.892377</td><td>2.330771</td><td>1.386873</td><td>-0.828123</td><td>1.581352</td><td>-2.376107</td><td>-0.593655</td><td>1.116945</td><td>-11.092124</td><td>6.665078</td><td>8.915559</td><td>-11.465845</td><td>4.117846</td><td>6.546186</td><td>-0.000013</td><td>0.000024</td><td>0.000024</td><td>-0.000016</td><td>-0.000003</td><td>0.000012</td><td>-0.00001</td><td>-0.000018</td><td>0.000008</td><td>-0.000019</td><td>-0.000004</td><td>0.00001</td><td>0.000003</td><td>-0.000004</td><td>0.000009</td><td>-0.000004</td><td>0.000002</td><td>0.000004</td><td>&quot;walk&quot;</td><td>1.7</td><td>0</td></tr><tr><td>0</td><td>300</td><td>3.644509</td><td>2.478738</td><td>3.673196</td><td>2.432046</td><td>2.692455</td><td>0.342372</td><td>1.8921</td><td>3.321239</td><td>3.321239</td><td>1.868602</td><td>2.504647</td><td>0.425768</td><td>0.74788</td><td>0.878598</td><td>0.878598</td><td>0.747172</td><td>0.791427</td><td>0.039792</td><td>1.413869</td><td>1.343154</td><td>1.413869</td><td>1.343154</td><td>1.389711</td><td>0.017566</td><td>2.412725</td><td>2.558105</td><td>2.558105</td><td>2.412725</td><td>2.482243</td><td>0.03179</td><td>23.033669</td><td>4.305358</td><td>23.033669</td><td>0.956746</td><td>4.735097</td><td>&hellip;</td><td>4.265439</td><td>-3.178707</td><td>-0.910345</td><td>2.311259</td><td>1.373026</td><td>-0.744837</td><td>1.581352</td><td>-2.376107</td><td>-0.600761</td><td>1.111068</td><td>-11.173891</td><td>6.571081</td><td>8.915559</td><td>-11.465845</td><td>4.176724</td><td>6.488103</td><td>-0.000013</td><td>0.000024</td><td>0.000024</td><td>-0.000016</td><td>-0.000003</td><td>0.000012</td><td>-0.00001</td><td>-0.000018</td><td>0.000008</td><td>-0.000019</td><td>-0.000004</td><td>0.00001</td><td>0.000003</td><td>-0.000004</td><td>0.000009</td><td>-0.000004</td><td>0.000002</td><td>0.000004</td><td>&quot;walk&quot;</td><td>1.7</td><td>0</td></tr><tr><td>0</td><td>301</td><td>3.673196</td><td>2.463479</td><td>3.673196</td><td>2.432046</td><td>2.688519</td><td>0.338153</td><td>1.868602</td><td>3.363658</td><td>3.363658</td><td>1.868602</td><td>2.509552</td><td>0.427162</td><td>0.747848</td><td>0.879787</td><td>0.879787</td><td>0.747172</td><td>0.791867</td><td>0.040037</td><td>1.413039</td><td>1.342672</td><td>1.413039</td><td>1.342672</td><td>1.389473</td><td>0.017719</td><td>2.41468</td><td>2.558743</td><td>2.558743</td><td>2.41468</td><td>2.48273</td><td>0.031839</td><td>22.148678</td><td>4.424952</td><td>22.148678</td><td>0.956746</td><td>4.673068</td><td>&hellip;</td><td>4.224969</td><td>-3.178707</td><td>-0.928251</td><td>2.291753</td><td>1.359179</td><td>-0.661551</td><td>1.581352</td><td>-2.376107</td><td>-0.607543</td><td>1.105174</td><td>-11.255657</td><td>6.477084</td><td>8.915559</td><td>-11.465845</td><td>4.23556</td><td>6.428188</td><td>-0.000013</td><td>0.000024</td><td>0.000024</td><td>-0.000016</td><td>-0.000003</td><td>0.000012</td><td>-0.000009</td><td>-0.000018</td><td>0.000008</td><td>-0.000019</td><td>-0.000004</td><td>0.00001</td><td>0.000003</td><td>-0.000004</td><td>0.000009</td><td>-0.000004</td><td>0.000002</td><td>0.000004</td><td>&quot;walk&quot;</td><td>1.7</td><td>0</td></tr><tr><td>0</td><td>302</td><td>3.632607</td><td>2.461343</td><td>3.656716</td><td>2.432046</td><td>2.684479</td><td>0.333558</td><td>1.886607</td><td>3.339244</td><td>3.363658</td><td>1.886607</td><td>2.514454</td><td>0.428219</td><td>0.747814</td><td>0.880976</td><td>0.880976</td><td>0.747172</td><td>0.792311</td><td>0.040285</td><td>1.412207</td><td>1.34219</td><td>1.412207</td><td>1.34219</td><td>1.389237</td><td>0.017875</td><td>2.416634</td><td>2.559382</td><td>2.559382</td><td>2.416634</td><td>2.483212</td><td>0.031901</td><td>21.263687</td><td>4.544545</td><td>21.263687</td><td>0.956746</td><td>4.614388</td><td>&hellip;</td><td>4.184501</td><td>-3.178707</td><td>-0.946096</td><td>2.272252</td><td>1.345332</td><td>-0.578264</td><td>1.581352</td><td>-2.376107</td><td>-0.614001</td><td>1.099288</td><td>-11.337423</td><td>6.383088</td><td>8.915559</td><td>-11.465845</td><td>4.294356</td><td>6.366393</td><td>-0.000013</td><td>0.000024</td><td>0.000024</td><td>-0.000016</td><td>-0.000003</td><td>0.000012</td><td>-0.000009</td><td>-0.000018</td><td>0.000008</td><td>-0.000019</td><td>-0.000004</td><td>0.00001</td><td>0.000004</td><td>-0.000004</td><td>0.000009</td><td>-0.000004</td><td>0.000002</td><td>0.000005</td><td>&quot;walk&quot;</td><td>1.7</td><td>0</td></tr><tr><td>0</td><td>303</td><td>3.648477</td><td>2.490335</td><td>3.656716</td><td>2.432046</td><td>2.680672</td><td>0.329189</td><td>1.936351</td><td>3.361217</td><td>3.363658</td><td>1.931773</td><td>2.51937</td><td>0.42945</td><td>0.74778</td><td>0.882166</td><td>0.882166</td><td>0.747172</td><td>0.792759</td><td>0.040535</td><td>1.411373</td><td>1.341707</td><td>1.411373</td><td>1.341707</td><td>1.389002</td><td>0.018035</td><td>2.418588</td><td>2.56002</td><td>2.56002</td><td>2.418588</td><td>2.48369</td><td>0.031974</td><td>20.378698</td><td>4.664138</td><td>20.378698</td><td>0.956746</td><td>4.559056</td><td>&hellip;</td><td>4.144032</td><td>-3.178707</td><td>-0.964003</td><td>2.252769</td><td>1.331485</td><td>-0.501905</td><td>1.581352</td><td>-2.376107</td><td>-0.620158</td><td>1.093434</td><td>-11.41919</td><td>6.272057</td><td>8.915559</td><td>-11.465845</td><td>4.353054</td><td>6.302646</td><td>-0.000013</td><td>0.000025</td><td>0.000025</td><td>-0.000016</td><td>-0.000003</td><td>0.000012</td><td>-0.000008</td><td>-0.000018</td><td>0.000008</td><td>-0.000019</td><td>-0.000004</td><td>0.00001</td><td>0.000004</td><td>-0.000004</td><td>0.000009</td><td>-0.000004</td><td>0.000002</td><td>0.000005</td><td>&quot;walk&quot;</td><td>1.7</td><td>0</td></tr></tbody></table></div>"
      ],
      "text/plain": [
       "shape: (5, 647)\n",
       "┌───────┬──────┬─────────────┬──────────────────┬───┬─────────────────┬──────────┬───────┬─────────┐\n",
       "│ TRIAL ┆ TIME ┆ first_Right ┆ last_Right Foot  ┆ … ┆ std_mag_Foot_R. ┆ ACTIVITY ┆ SPEED ┆ INCLINE │\n",
       "│ ---   ┆ ---  ┆ Foot        ┆ Sensor.RFS       ┆   ┆ z               ┆ ---      ┆ ---   ┆ ---     │\n",
       "│ i16   ┆ i64  ┆ Sensor.RFS  ┆ ---              ┆   ┆ ---             ┆ str      ┆ f64   ┆ i64     │\n",
       "│       ┆      ┆ ---         ┆ f64              ┆   ┆ f64             ┆          ┆       ┆         │\n",
       "│       ┆      ┆ f64         ┆                  ┆   ┆                 ┆          ┆       ┆         │\n",
       "╞═══════╪══════╪═════════════╪══════════════════╪═══╪═════════════════╪══════════╪═══════╪═════════╡\n",
       "│ 0     ┆ 299  ┆ 3.661904    ┆ 2.485147         ┆ … ┆ 0.000004        ┆ walk     ┆ 1.7   ┆ 0       │\n",
       "│ 0     ┆ 300  ┆ 3.644509    ┆ 2.478738         ┆ … ┆ 0.000004        ┆ walk     ┆ 1.7   ┆ 0       │\n",
       "│ 0     ┆ 301  ┆ 3.673196    ┆ 2.463479         ┆ … ┆ 0.000004        ┆ walk     ┆ 1.7   ┆ 0       │\n",
       "│ 0     ┆ 302  ┆ 3.632607    ┆ 2.461343         ┆ … ┆ 0.000005        ┆ walk     ┆ 1.7   ┆ 0       │\n",
       "│ 0     ┆ 303  ┆ 3.648477    ┆ 2.490335         ┆ … ┆ 0.000005        ┆ walk     ┆ 1.7   ┆ 0       │\n",
       "└───────┴──────┴─────────────┴──────────────────┴───┴─────────────────┴──────────┴───────┴─────────┘"
      ]
     },
     "execution_count": 7,
     "metadata": {},
     "output_type": "execute_result"
    }
   ],
   "source": [
    "df.head()"
   ]
  },
  {
   "cell_type": "code",
   "execution_count": 8,
   "metadata": {},
   "outputs": [
    {
     "data": {
      "text/plain": [
       "array(['walk', 'walk', 'walk', ..., 'walk', 'walk', 'walk'], dtype='<U4')"
      ]
     },
     "execution_count": 8,
     "metadata": {},
     "output_type": "execute_result"
    }
   ],
   "source": [
    "# Predict activity\n",
    "\n",
    "from lisa.modeling.logistic_regression import logistic_regression\n",
    "\n",
    "\n",
    "activity_model = logistic_regression(X_train, y1_train)\n",
    "\n",
    "y1_pred = activity_model.predict(X_test)\n",
    "\n",
    "y1_pred"
   ]
  },
  {
   "cell_type": "code",
   "execution_count": 9,
   "metadata": {},
   "outputs": [
    {
     "data": {
      "text/html": [
       "<style>#sk-container-id-1 {\n",
       "  /* Definition of color scheme common for light and dark mode */\n",
       "  --sklearn-color-text: black;\n",
       "  --sklearn-color-line: gray;\n",
       "  /* Definition of color scheme for unfitted estimators */\n",
       "  --sklearn-color-unfitted-level-0: #fff5e6;\n",
       "  --sklearn-color-unfitted-level-1: #f6e4d2;\n",
       "  --sklearn-color-unfitted-level-2: #ffe0b3;\n",
       "  --sklearn-color-unfitted-level-3: chocolate;\n",
       "  /* Definition of color scheme for fitted estimators */\n",
       "  --sklearn-color-fitted-level-0: #f0f8ff;\n",
       "  --sklearn-color-fitted-level-1: #d4ebff;\n",
       "  --sklearn-color-fitted-level-2: #b3dbfd;\n",
       "  --sklearn-color-fitted-level-3: cornflowerblue;\n",
       "\n",
       "  /* Specific color for light theme */\n",
       "  --sklearn-color-text-on-default-background: var(--sg-text-color, var(--theme-code-foreground, var(--jp-content-font-color1, black)));\n",
       "  --sklearn-color-background: var(--sg-background-color, var(--theme-background, var(--jp-layout-color0, white)));\n",
       "  --sklearn-color-border-box: var(--sg-text-color, var(--theme-code-foreground, var(--jp-content-font-color1, black)));\n",
       "  --sklearn-color-icon: #696969;\n",
       "\n",
       "  @media (prefers-color-scheme: dark) {\n",
       "    /* Redefinition of color scheme for dark theme */\n",
       "    --sklearn-color-text-on-default-background: var(--sg-text-color, var(--theme-code-foreground, var(--jp-content-font-color1, white)));\n",
       "    --sklearn-color-background: var(--sg-background-color, var(--theme-background, var(--jp-layout-color0, #111)));\n",
       "    --sklearn-color-border-box: var(--sg-text-color, var(--theme-code-foreground, var(--jp-content-font-color1, white)));\n",
       "    --sklearn-color-icon: #878787;\n",
       "  }\n",
       "}\n",
       "\n",
       "#sk-container-id-1 {\n",
       "  color: var(--sklearn-color-text);\n",
       "}\n",
       "\n",
       "#sk-container-id-1 pre {\n",
       "  padding: 0;\n",
       "}\n",
       "\n",
       "#sk-container-id-1 input.sk-hidden--visually {\n",
       "  border: 0;\n",
       "  clip: rect(1px 1px 1px 1px);\n",
       "  clip: rect(1px, 1px, 1px, 1px);\n",
       "  height: 1px;\n",
       "  margin: -1px;\n",
       "  overflow: hidden;\n",
       "  padding: 0;\n",
       "  position: absolute;\n",
       "  width: 1px;\n",
       "}\n",
       "\n",
       "#sk-container-id-1 div.sk-dashed-wrapped {\n",
       "  border: 1px dashed var(--sklearn-color-line);\n",
       "  margin: 0 0.4em 0.5em 0.4em;\n",
       "  box-sizing: border-box;\n",
       "  padding-bottom: 0.4em;\n",
       "  background-color: var(--sklearn-color-background);\n",
       "}\n",
       "\n",
       "#sk-container-id-1 div.sk-container {\n",
       "  /* jupyter's `normalize.less` sets `[hidden] { display: none; }`\n",
       "     but bootstrap.min.css set `[hidden] { display: none !important; }`\n",
       "     so we also need the `!important` here to be able to override the\n",
       "     default hidden behavior on the sphinx rendered scikit-learn.org.\n",
       "     See: https://github.com/scikit-learn/scikit-learn/issues/21755 */\n",
       "  display: inline-block !important;\n",
       "  position: relative;\n",
       "}\n",
       "\n",
       "#sk-container-id-1 div.sk-text-repr-fallback {\n",
       "  display: none;\n",
       "}\n",
       "\n",
       "div.sk-parallel-item,\n",
       "div.sk-serial,\n",
       "div.sk-item {\n",
       "  /* draw centered vertical line to link estimators */\n",
       "  background-image: linear-gradient(var(--sklearn-color-text-on-default-background), var(--sklearn-color-text-on-default-background));\n",
       "  background-size: 2px 100%;\n",
       "  background-repeat: no-repeat;\n",
       "  background-position: center center;\n",
       "}\n",
       "\n",
       "/* Parallel-specific style estimator block */\n",
       "\n",
       "#sk-container-id-1 div.sk-parallel-item::after {\n",
       "  content: \"\";\n",
       "  width: 100%;\n",
       "  border-bottom: 2px solid var(--sklearn-color-text-on-default-background);\n",
       "  flex-grow: 1;\n",
       "}\n",
       "\n",
       "#sk-container-id-1 div.sk-parallel {\n",
       "  display: flex;\n",
       "  align-items: stretch;\n",
       "  justify-content: center;\n",
       "  background-color: var(--sklearn-color-background);\n",
       "  position: relative;\n",
       "}\n",
       "\n",
       "#sk-container-id-1 div.sk-parallel-item {\n",
       "  display: flex;\n",
       "  flex-direction: column;\n",
       "}\n",
       "\n",
       "#sk-container-id-1 div.sk-parallel-item:first-child::after {\n",
       "  align-self: flex-end;\n",
       "  width: 50%;\n",
       "}\n",
       "\n",
       "#sk-container-id-1 div.sk-parallel-item:last-child::after {\n",
       "  align-self: flex-start;\n",
       "  width: 50%;\n",
       "}\n",
       "\n",
       "#sk-container-id-1 div.sk-parallel-item:only-child::after {\n",
       "  width: 0;\n",
       "}\n",
       "\n",
       "/* Serial-specific style estimator block */\n",
       "\n",
       "#sk-container-id-1 div.sk-serial {\n",
       "  display: flex;\n",
       "  flex-direction: column;\n",
       "  align-items: center;\n",
       "  background-color: var(--sklearn-color-background);\n",
       "  padding-right: 1em;\n",
       "  padding-left: 1em;\n",
       "}\n",
       "\n",
       "\n",
       "/* Toggleable style: style used for estimator/Pipeline/ColumnTransformer box that is\n",
       "clickable and can be expanded/collapsed.\n",
       "- Pipeline and ColumnTransformer use this feature and define the default style\n",
       "- Estimators will overwrite some part of the style using the `sk-estimator` class\n",
       "*/\n",
       "\n",
       "/* Pipeline and ColumnTransformer style (default) */\n",
       "\n",
       "#sk-container-id-1 div.sk-toggleable {\n",
       "  /* Default theme specific background. It is overwritten whether we have a\n",
       "  specific estimator or a Pipeline/ColumnTransformer */\n",
       "  background-color: var(--sklearn-color-background);\n",
       "}\n",
       "\n",
       "/* Toggleable label */\n",
       "#sk-container-id-1 label.sk-toggleable__label {\n",
       "  cursor: pointer;\n",
       "  display: block;\n",
       "  width: 100%;\n",
       "  margin-bottom: 0;\n",
       "  padding: 0.5em;\n",
       "  box-sizing: border-box;\n",
       "  text-align: center;\n",
       "}\n",
       "\n",
       "#sk-container-id-1 label.sk-toggleable__label-arrow:before {\n",
       "  /* Arrow on the left of the label */\n",
       "  content: \"▸\";\n",
       "  float: left;\n",
       "  margin-right: 0.25em;\n",
       "  color: var(--sklearn-color-icon);\n",
       "}\n",
       "\n",
       "#sk-container-id-1 label.sk-toggleable__label-arrow:hover:before {\n",
       "  color: var(--sklearn-color-text);\n",
       "}\n",
       "\n",
       "/* Toggleable content - dropdown */\n",
       "\n",
       "#sk-container-id-1 div.sk-toggleable__content {\n",
       "  max-height: 0;\n",
       "  max-width: 0;\n",
       "  overflow: hidden;\n",
       "  text-align: left;\n",
       "  /* unfitted */\n",
       "  background-color: var(--sklearn-color-unfitted-level-0);\n",
       "}\n",
       "\n",
       "#sk-container-id-1 div.sk-toggleable__content.fitted {\n",
       "  /* fitted */\n",
       "  background-color: var(--sklearn-color-fitted-level-0);\n",
       "}\n",
       "\n",
       "#sk-container-id-1 div.sk-toggleable__content pre {\n",
       "  margin: 0.2em;\n",
       "  border-radius: 0.25em;\n",
       "  color: var(--sklearn-color-text);\n",
       "  /* unfitted */\n",
       "  background-color: var(--sklearn-color-unfitted-level-0);\n",
       "}\n",
       "\n",
       "#sk-container-id-1 div.sk-toggleable__content.fitted pre {\n",
       "  /* unfitted */\n",
       "  background-color: var(--sklearn-color-fitted-level-0);\n",
       "}\n",
       "\n",
       "#sk-container-id-1 input.sk-toggleable__control:checked~div.sk-toggleable__content {\n",
       "  /* Expand drop-down */\n",
       "  max-height: 200px;\n",
       "  max-width: 100%;\n",
       "  overflow: auto;\n",
       "}\n",
       "\n",
       "#sk-container-id-1 input.sk-toggleable__control:checked~label.sk-toggleable__label-arrow:before {\n",
       "  content: \"▾\";\n",
       "}\n",
       "\n",
       "/* Pipeline/ColumnTransformer-specific style */\n",
       "\n",
       "#sk-container-id-1 div.sk-label input.sk-toggleable__control:checked~label.sk-toggleable__label {\n",
       "  color: var(--sklearn-color-text);\n",
       "  background-color: var(--sklearn-color-unfitted-level-2);\n",
       "}\n",
       "\n",
       "#sk-container-id-1 div.sk-label.fitted input.sk-toggleable__control:checked~label.sk-toggleable__label {\n",
       "  background-color: var(--sklearn-color-fitted-level-2);\n",
       "}\n",
       "\n",
       "/* Estimator-specific style */\n",
       "\n",
       "/* Colorize estimator box */\n",
       "#sk-container-id-1 div.sk-estimator input.sk-toggleable__control:checked~label.sk-toggleable__label {\n",
       "  /* unfitted */\n",
       "  background-color: var(--sklearn-color-unfitted-level-2);\n",
       "}\n",
       "\n",
       "#sk-container-id-1 div.sk-estimator.fitted input.sk-toggleable__control:checked~label.sk-toggleable__label {\n",
       "  /* fitted */\n",
       "  background-color: var(--sklearn-color-fitted-level-2);\n",
       "}\n",
       "\n",
       "#sk-container-id-1 div.sk-label label.sk-toggleable__label,\n",
       "#sk-container-id-1 div.sk-label label {\n",
       "  /* The background is the default theme color */\n",
       "  color: var(--sklearn-color-text-on-default-background);\n",
       "}\n",
       "\n",
       "/* On hover, darken the color of the background */\n",
       "#sk-container-id-1 div.sk-label:hover label.sk-toggleable__label {\n",
       "  color: var(--sklearn-color-text);\n",
       "  background-color: var(--sklearn-color-unfitted-level-2);\n",
       "}\n",
       "\n",
       "/* Label box, darken color on hover, fitted */\n",
       "#sk-container-id-1 div.sk-label.fitted:hover label.sk-toggleable__label.fitted {\n",
       "  color: var(--sklearn-color-text);\n",
       "  background-color: var(--sklearn-color-fitted-level-2);\n",
       "}\n",
       "\n",
       "/* Estimator label */\n",
       "\n",
       "#sk-container-id-1 div.sk-label label {\n",
       "  font-family: monospace;\n",
       "  font-weight: bold;\n",
       "  display: inline-block;\n",
       "  line-height: 1.2em;\n",
       "}\n",
       "\n",
       "#sk-container-id-1 div.sk-label-container {\n",
       "  text-align: center;\n",
       "}\n",
       "\n",
       "/* Estimator-specific */\n",
       "#sk-container-id-1 div.sk-estimator {\n",
       "  font-family: monospace;\n",
       "  border: 1px dotted var(--sklearn-color-border-box);\n",
       "  border-radius: 0.25em;\n",
       "  box-sizing: border-box;\n",
       "  margin-bottom: 0.5em;\n",
       "  /* unfitted */\n",
       "  background-color: var(--sklearn-color-unfitted-level-0);\n",
       "}\n",
       "\n",
       "#sk-container-id-1 div.sk-estimator.fitted {\n",
       "  /* fitted */\n",
       "  background-color: var(--sklearn-color-fitted-level-0);\n",
       "}\n",
       "\n",
       "/* on hover */\n",
       "#sk-container-id-1 div.sk-estimator:hover {\n",
       "  /* unfitted */\n",
       "  background-color: var(--sklearn-color-unfitted-level-2);\n",
       "}\n",
       "\n",
       "#sk-container-id-1 div.sk-estimator.fitted:hover {\n",
       "  /* fitted */\n",
       "  background-color: var(--sklearn-color-fitted-level-2);\n",
       "}\n",
       "\n",
       "/* Specification for estimator info (e.g. \"i\" and \"?\") */\n",
       "\n",
       "/* Common style for \"i\" and \"?\" */\n",
       "\n",
       ".sk-estimator-doc-link,\n",
       "a:link.sk-estimator-doc-link,\n",
       "a:visited.sk-estimator-doc-link {\n",
       "  float: right;\n",
       "  font-size: smaller;\n",
       "  line-height: 1em;\n",
       "  font-family: monospace;\n",
       "  background-color: var(--sklearn-color-background);\n",
       "  border-radius: 1em;\n",
       "  height: 1em;\n",
       "  width: 1em;\n",
       "  text-decoration: none !important;\n",
       "  margin-left: 1ex;\n",
       "  /* unfitted */\n",
       "  border: var(--sklearn-color-unfitted-level-1) 1pt solid;\n",
       "  color: var(--sklearn-color-unfitted-level-1);\n",
       "}\n",
       "\n",
       ".sk-estimator-doc-link.fitted,\n",
       "a:link.sk-estimator-doc-link.fitted,\n",
       "a:visited.sk-estimator-doc-link.fitted {\n",
       "  /* fitted */\n",
       "  border: var(--sklearn-color-fitted-level-1) 1pt solid;\n",
       "  color: var(--sklearn-color-fitted-level-1);\n",
       "}\n",
       "\n",
       "/* On hover */\n",
       "div.sk-estimator:hover .sk-estimator-doc-link:hover,\n",
       ".sk-estimator-doc-link:hover,\n",
       "div.sk-label-container:hover .sk-estimator-doc-link:hover,\n",
       ".sk-estimator-doc-link:hover {\n",
       "  /* unfitted */\n",
       "  background-color: var(--sklearn-color-unfitted-level-3);\n",
       "  color: var(--sklearn-color-background);\n",
       "  text-decoration: none;\n",
       "}\n",
       "\n",
       "div.sk-estimator.fitted:hover .sk-estimator-doc-link.fitted:hover,\n",
       ".sk-estimator-doc-link.fitted:hover,\n",
       "div.sk-label-container:hover .sk-estimator-doc-link.fitted:hover,\n",
       ".sk-estimator-doc-link.fitted:hover {\n",
       "  /* fitted */\n",
       "  background-color: var(--sklearn-color-fitted-level-3);\n",
       "  color: var(--sklearn-color-background);\n",
       "  text-decoration: none;\n",
       "}\n",
       "\n",
       "/* Span, style for the box shown on hovering the info icon */\n",
       ".sk-estimator-doc-link span {\n",
       "  display: none;\n",
       "  z-index: 9999;\n",
       "  position: relative;\n",
       "  font-weight: normal;\n",
       "  right: .2ex;\n",
       "  padding: .5ex;\n",
       "  margin: .5ex;\n",
       "  width: min-content;\n",
       "  min-width: 20ex;\n",
       "  max-width: 50ex;\n",
       "  color: var(--sklearn-color-text);\n",
       "  box-shadow: 2pt 2pt 4pt #999;\n",
       "  /* unfitted */\n",
       "  background: var(--sklearn-color-unfitted-level-0);\n",
       "  border: .5pt solid var(--sklearn-color-unfitted-level-3);\n",
       "}\n",
       "\n",
       ".sk-estimator-doc-link.fitted span {\n",
       "  /* fitted */\n",
       "  background: var(--sklearn-color-fitted-level-0);\n",
       "  border: var(--sklearn-color-fitted-level-3);\n",
       "}\n",
       "\n",
       ".sk-estimator-doc-link:hover span {\n",
       "  display: block;\n",
       "}\n",
       "\n",
       "/* \"?\"-specific style due to the `<a>` HTML tag */\n",
       "\n",
       "#sk-container-id-1 a.estimator_doc_link {\n",
       "  float: right;\n",
       "  font-size: 1rem;\n",
       "  line-height: 1em;\n",
       "  font-family: monospace;\n",
       "  background-color: var(--sklearn-color-background);\n",
       "  border-radius: 1rem;\n",
       "  height: 1rem;\n",
       "  width: 1rem;\n",
       "  text-decoration: none;\n",
       "  /* unfitted */\n",
       "  color: var(--sklearn-color-unfitted-level-1);\n",
       "  border: var(--sklearn-color-unfitted-level-1) 1pt solid;\n",
       "}\n",
       "\n",
       "#sk-container-id-1 a.estimator_doc_link.fitted {\n",
       "  /* fitted */\n",
       "  border: var(--sklearn-color-fitted-level-1) 1pt solid;\n",
       "  color: var(--sklearn-color-fitted-level-1);\n",
       "}\n",
       "\n",
       "/* On hover */\n",
       "#sk-container-id-1 a.estimator_doc_link:hover {\n",
       "  /* unfitted */\n",
       "  background-color: var(--sklearn-color-unfitted-level-3);\n",
       "  color: var(--sklearn-color-background);\n",
       "  text-decoration: none;\n",
       "}\n",
       "\n",
       "#sk-container-id-1 a.estimator_doc_link.fitted:hover {\n",
       "  /* fitted */\n",
       "  background-color: var(--sklearn-color-fitted-level-3);\n",
       "}\n",
       "</style><div id=\"sk-container-id-1\" class=\"sk-top-container\"><div class=\"sk-text-repr-fallback\"><pre>LinearRegression(n_jobs=-1)</pre><b>In a Jupyter environment, please rerun this cell to show the HTML representation or trust the notebook. <br />On GitHub, the HTML representation is unable to render, please try loading this page with nbviewer.org.</b></div><div class=\"sk-container\" hidden><div class=\"sk-item\"><div class=\"sk-estimator fitted sk-toggleable\"><input class=\"sk-toggleable__control sk-hidden--visually\" id=\"sk-estimator-id-1\" type=\"checkbox\" checked><label for=\"sk-estimator-id-1\" class=\"sk-toggleable__label fitted sk-toggleable__label-arrow fitted\">&nbsp;&nbsp;LinearRegression<a class=\"sk-estimator-doc-link fitted\" rel=\"noreferrer\" target=\"_blank\" href=\"https://scikit-learn.org/1.5/modules/generated/sklearn.linear_model.LinearRegression.html\">?<span>Documentation for LinearRegression</span></a><span class=\"sk-estimator-doc-link fitted\">i<span>Fitted</span></span></label><div class=\"sk-toggleable__content fitted\"><pre>LinearRegression(n_jobs=-1)</pre></div> </div></div></div></div>"
      ],
      "text/plain": [
       "LinearRegression(n_jobs=-1)"
      ]
     },
     "execution_count": 9,
     "metadata": {},
     "output_type": "execute_result"
    }
   ],
   "source": [
    "from sklearn.linear_model import LinearRegression\n",
    "\n",
    "# Initialize the linear regression models\n",
    "speed_model = LinearRegression(n_jobs=-1)\n",
    "incline_model = LinearRegression(n_jobs=-1)\n",
    "\n",
    "# Fit the first model to predict y2\n",
    "\n",
    "# Filter out the rows with null values in y2. This should be the same as in y3\n",
    "non_null_mask = y2_train.to_series(0).is_not_null()\n",
    "X_train_filtered = X_train.filter(non_null_mask)\n",
    "y2_train_filtered = y2_train.filter(non_null_mask)\n",
    "\n",
    "# Fit the first model to predict y2\n",
    "speed_model.fit(X_train_filtered, y2_train_filtered)"
   ]
  },
  {
   "cell_type": "code",
   "execution_count": 10,
   "metadata": {},
   "outputs": [
    {
     "name": "stdout",
     "output_type": "stream",
     "text": [
      "Score for y2: 0.9596453516627356\n"
     ]
    }
   ],
   "source": [
    "# Make predictions for both targets\n",
    "\n",
    "non_null_mask2 = y2_test.to_series(0).is_not_null()\n",
    "X_test_filtered = X_test.filter(non_null_mask2)\n",
    "y2_test_filtered = y2_test.filter(non_null_mask2)\n",
    "\n",
    "y2_score = speed_model.score(X_test_filtered, y2_test_filtered)\n",
    "\n",
    "print(\"Score for y2:\", y2_score)"
   ]
  },
  {
   "cell_type": "code",
   "execution_count": 11,
   "metadata": {},
   "outputs": [
    {
     "name": "stdout",
     "output_type": "stream",
     "text": [
      "Score for y3: 0.21451733752045854\n"
     ]
    }
   ],
   "source": [
    "y3_train_filtered = y3_train.filter(non_null_mask)\n",
    "\n",
    "incline_model.fit(X_train_filtered, y3_train_filtered)\n",
    "\n",
    "y3_test_filtered = y3_test.filter(non_null_mask2)\n",
    "\n",
    "y3_score = incline_model.score(X_test_filtered, y3_test_filtered)\n",
    "\n",
    "print(\"Score for y3:\", y3_score)"
   ]
  },
  {
   "cell_type": "code",
   "execution_count": 12,
   "metadata": {},
   "outputs": [],
   "source": [
    "y2_pred = speed_model.predict(X_test_filtered)\n",
    "y3_pred = incline_model.predict(X_test_filtered)"
   ]
  },
  {
   "cell_type": "code",
   "execution_count": 13,
   "metadata": {},
   "outputs": [
    {
     "name": "stderr",
     "output_type": "stream",
     "text": [
      "/var/folders/xl/g4455wnj0w5f31hprr7rvdwm0000gp/T/ipykernel_40981/518685232.py:4: UserWarning: FigureCanvasAgg is non-interactive, and thus cannot be shown\n",
      "  regression_histogram(df, y2_pred, 'SPEED').show()\n"
     ]
    },
    {
     "data": {
      "image/png": "[encoded data removed]",
      "text/plain": [
       "<Figure size 640x480 with 1 Axes>"
      ]
     },
     "metadata": {},
     "output_type": "display_data"
    }
   ],
   "source": [
    "from lisa.plots import regression_histogram\n",
    "\n",
    "\n",
    "regression_histogram(df, y2_pred, 'SPEED').show()"
   ]
  },
  {
   "cell_type": "code",
   "execution_count": 14,
   "metadata": {},
   "outputs": [
    {
     "name": "stderr",
     "output_type": "stream",
     "text": [
      "/var/folders/xl/g4455wnj0w5f31hprr7rvdwm0000gp/T/ipykernel_40981/4109552853.py:1: UserWarning: FigureCanvasAgg is non-interactive, and thus cannot be shown\n",
      "  regression_histogram(df, y3_pred, 'INCLINE').show()\n"
     ]
    },
    {
     "data": {
      "image/png": "[encoded data removed]",
      "text/plain": [
       "<Figure size 640x480 with 1 Axes>"
      ]
     },
     "metadata": {},
     "output_type": "display_data"
    }
   ],
   "source": [
    "regression_histogram(df, y3_pred, 'INCLINE').show()"
   ]
  }
 ],
 "metadata": {
  "kernelspec": {
   "display_name": "Python 3",
   "language": "python",
   "name": "python3"
  },
  "language_info": {
   "codemirror_mode": {
    "name": "ipython",
    "version": 3
   },
   "file_extension": ".py",
   "mimetype": "text/x-python",
   "name": "python",
   "nbconvert_exporter": "python",
   "pygments_lexer": "ipython3",
   "version": "3.10.14"
  }
 },
 "nbformat": 4,
 "nbformat_minor": 2
}
