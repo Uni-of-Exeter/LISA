{
 "cells": [
  {
   "cell_type": "markdown",
   "metadata": {},
   "source": [
    "run the terminal command `mlflow server --host 127.0.0.1 --port 8080 \n",
    "`\n",
    "<br><br> Experiment to add window_size as a param"
   ]
  },
  {
   "cell_type": "code",
   "execution_count": 1,
   "metadata": {},
   "outputs": [],
   "source": [
    "import mlflow\n",
    "\n",
    "mlflow.set_tracking_uri(uri=\"http://127:8080\")\n"
   ]
  },
  {
   "cell_type": "code",
   "execution_count": 2,
   "metadata": {},
   "outputs": [
    {
     "name": "stderr",
     "output_type": "stream",
     "text": [
      "\u001b[32m2024-09-04 16:52:27.638\u001b[0m | \u001b[1mINFO    \u001b[0m | \u001b[36mlisa.config\u001b[0m:\u001b[36m<module>\u001b[0m:\u001b[36m15\u001b[0m - \u001b[1mPROJ_ROOT path is: /Users/tomwilson/code/LISA\u001b[0m\n"
     ]
    },
    {
     "name": "stdout",
     "output_type": "stream",
     "text": [
      "\u001b[32m2024-09-04 16:52:33.048\u001b[0m | \u001b[1mINFO    \u001b[0m | \u001b[36mlisa.features\u001b[0m:\u001b[36msliding_window\u001b[0m:\u001b[36m134\u001b[0m - \u001b[1mAggregating data...\u001b[0m\n"
     ]
    },
    {
     "name": "stderr",
     "output_type": "stream",
     "text": [
      "/Users/tomwilson/micromamba/envs/LISA/lib/python3.10/site-packages/_distutils_hack/__init__.py:31: UserWarning: Setuptools is replacing distutils. Support for replacing an already imported distutils is deprecated. In the future, this condition will fail. Register concerns at https://github.com/pypa/setuptools/issues/new?template=distutils-deprecation.yml\n",
      "  warnings.warn(\n"
     ]
    }
   ],
   "source": [
    "from pathlib import Path\n",
    "\n",
    "import numpy as np\n",
    "import polars as pl\n",
    "from mlflow.models import infer_signature\n",
    "from sklearn import metrics\n",
    "\n",
    "from lisa.config import INTERIM_DATA_DIR, PLOTS_DIR\n",
    "from lisa.features import sliding_window, standard_scaler, train_test_split\n",
    "from lisa.modeling import random_forest\n",
    "from lisa import evaluate\n",
    "\n",
    "import os\n",
    "# ensure that mlruns are saved in the correct directory\n",
    "os.chdir(\"..\")\n",
    "\n",
    "input_path: Path = INTERIM_DATA_DIR / \"labelled_test_data.csv\"\n",
    "\n",
    "original_df = pl.read_csv(input_path)\n",
    "\n",
    "mlflow.set_tracking_uri(uri=\"http://127.0.0.1:8080\")\n",
    "\n",
    "# Create a new MLflow Experiment\n",
    "mlflow.set_experiment(\"RF Test\")\n",
    "\n",
    "# Start an MLflow run\n",
    "with mlflow.start_run() as parent_run:\n",
    "    windows = np.arange(150, 250, 100)\n",
    "\n",
    "    for window in windows:\n",
    "        with mlflow.start_run(nested=True, run_name=f\"Window_{window}\"):\n",
    "\n",
    "            df = sliding_window(original_df, period=window, log=True)\n",
    "\n",
    "            X_train, X_test, y_train, y_test = train_test_split(\n",
    "                df, train_size=0.8, gap=window\n",
    "            )\n",
    "\n",
    "            scaled_X_train, scaled_X_test, scaler = standard_scaler(X_train, X_test)\n",
    "\n",
    "            params = {\"n_estimators\": 100, \"max_depth\": 128}\n",
    "\n",
    "            model = random_forest.random_forest_classifier(\n",
    "                scaled_X_train, y_train.to_numpy().ravel(), **params\n",
    "            )\n",
    "\n",
    "            accuracy = metrics.accuracy_score(y_test, model.predict(scaled_X_test))\n",
    "            labels = df[\"ACTIVITY\"].unique(maintain_order=True)\n",
    "            plot_path = PLOTS_DIR / \"confusion_matrix.png\"\n",
    "            cm = evaluate.confusion_matrix(model, labels, scaled_X_test, y_test, plot_path)\n",
    "            \n",
    "            # Log the hyperparameters\n",
    "            params[\"window\"] = window\n",
    "            mlflow.log_params(params)\n",
    "\n",
    "            # Log metrics\n",
    "            mlflow.log_metric(\"accuracy\", accuracy)\n",
    "            mlflow.log_artifact(plot_path)\n",
    "\n",
    "            # Set a tag that we can use to remind ourselves what this run was for\n",
    "            mlflow.set_tag(\"Training Info\", \"Basic RF model for labelled test data\")\n",
    "\n",
    "            # Infer the model signature\n",
    "            signature = infer_signature(\n",
    "                scaled_X_train, model.predict(scaled_X_train)\n",
    "            )\n",
    "\n",
    "            # Log the model\n",
    "            mlflow.sklearn.log_model(\n",
    "                sk_model=model,\n",
    "                artifact_path=\"rf_model\",\n",
    "                signature=signature,\n",
    "                input_example=scaled_X_train,\n",
    "            )"
   ]
  }
 ],
 "metadata": {
  "kernelspec": {
   "display_name": "Python 3",
   "language": "python",
   "name": "python3"
  },
  "language_info": {
   "codemirror_mode": {
    "name": "ipython",
    "version": 3
   },
   "file_extension": ".py",
   "mimetype": "text/x-python",
   "name": "python",
   "nbconvert_exporter": "python",
   "pygments_lexer": "ipython3",
   "version": "3.10.14"
  }
 },
 "nbformat": 4,
 "nbformat_minor": 2
}
