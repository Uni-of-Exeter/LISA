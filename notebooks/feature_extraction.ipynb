{
 "cells": [
  {
   "cell_type": "markdown",
   "metadata": {},
   "source": [
    "## Sliding window for feature extraction"
   ]
  },
  {
   "cell_type": "code",
   "execution_count": 10,
   "metadata": {},
   "outputs": [],
   "source": [
    "# Load data\n",
    "\n",
    "from lisa.config import INTERIM_DATA_DIR\n",
    "import polars as pl\n",
    "\n",
    "df = pl.read_csv(INTERIM_DATA_DIR / \"pilot_data.csv\")"
   ]
  },
  {
   "cell_type": "code",
   "execution_count": 2,
   "metadata": {},
   "outputs": [
    {
     "data": {
      "text/html": [
       "<div><style>\n",
       ".dataframe > thead > tr,\n",
       ".dataframe > tbody > tr {\n",
       "  text-align: right;\n",
       "  white-space: pre-wrap;\n",
       "}\n",
       "</style>\n",
       "<small>shape: (624_995, 109)</small><table border=\"1\" class=\"dataframe\"><thead><tr><th>Electric Potential.1</th><th>D1_Global Angle.x</th><th>D1_Global Angle.y</th><th>D1_Global Angle.z</th><th>D1_HighG.x</th><th>D1_HighG.y</th><th>D1_HighG.z</th><th>D1_accel.x</th><th>D1_accel.y</th><th>D1_accel.z</th><th>D1_gyro.x</th><th>D1_gyro.y</th><th>D1_gyro.z</th><th>D1_mag.x</th><th>D1_mag.y</th><th>D1_mag.z</th><th>D2_Global Angle.x</th><th>D2_Global Angle.y</th><th>D2_Global Angle.z</th><th>D2_HighG.x</th><th>D2_HighG.y</th><th>D2_HighG.z</th><th>D2_accel.x</th><th>D2_accel.y</th><th>D2_accel.z</th><th>D2_gyro.x</th><th>D2_gyro.y</th><th>D2_gyro.z</th><th>D2_mag.x</th><th>D2_mag.y</th><th>D2_mag.z</th><th>D3_Global Angle.x</th><th>D3_Global Angle.y</th><th>D3_Global Angle.z</th><th>D3_HighG.x</th><th>D3_HighG.y</th><th>D3_HighG.z</th><th>&hellip;</th><th>D5_gyro.z</th><th>D5_mag.x</th><th>D5_mag.y</th><th>D5_mag.z</th><th>D6_Global Angle.x</th><th>D6_Global Angle.y</th><th>D6_Global Angle.z</th><th>D6_HighG.x</th><th>D6_HighG.y</th><th>D6_HighG.z</th><th>D6_accel.x</th><th>D6_accel.y</th><th>D6_accel.z</th><th>D6_gyro.x</th><th>D6_gyro.y</th><th>D6_gyro.z</th><th>D6_mag.x</th><th>D6_mag.y</th><th>D6_mag.z</th><th>D7_Global Angle.x</th><th>D7_Global Angle.y</th><th>D7_Global Angle.z</th><th>D7_HighG.x</th><th>D7_HighG.y</th><th>D7_HighG.z</th><th>D7_accel.x</th><th>D7_accel.y</th><th>D7_accel.z</th><th>D7_gyro.x</th><th>D7_gyro.y</th><th>D7_gyro.z</th><th>D7_mag.x</th><th>D7_mag.y</th><th>D7_mag.z</th><th>ACTIVITY</th><th>TIME</th><th>TRIAL</th></tr><tr><td>f64</td><td>f64</td><td>f64</td><td>f64</td><td>f64</td><td>f64</td><td>f64</td><td>f64</td><td>f64</td><td>f64</td><td>f64</td><td>f64</td><td>f64</td><td>f64</td><td>f64</td><td>f64</td><td>f64</td><td>f64</td><td>f64</td><td>f64</td><td>f64</td><td>f64</td><td>f64</td><td>f64</td><td>f64</td><td>f64</td><td>f64</td><td>f64</td><td>f64</td><td>f64</td><td>f64</td><td>f64</td><td>f64</td><td>f64</td><td>f64</td><td>f64</td><td>f64</td><td>&hellip;</td><td>f64</td><td>f64</td><td>f64</td><td>f64</td><td>f64</td><td>f64</td><td>f64</td><td>f64</td><td>f64</td><td>f64</td><td>f64</td><td>f64</td><td>f64</td><td>f64</td><td>f64</td><td>f64</td><td>f64</td><td>f64</td><td>f64</td><td>f64</td><td>f64</td><td>f64</td><td>f64</td><td>f64</td><td>f64</td><td>f64</td><td>f64</td><td>f64</td><td>f64</td><td>f64</td><td>f64</td><td>f64</td><td>f64</td><td>f64</td><td>str</td><td>i64</td><td>i64</td></tr></thead><tbody><tr><td>3.131464</td><td>2.257107</td><td>0.021965</td><td>1.961349</td><td>12.916076</td><td>4.066172</td><td>10.763396</td><td>9.356541</td><td>-0.857124</td><td>-1.098939</td><td>-1.188007</td><td>-0.150697</td><td>-1.811033</td><td>-0.000017</td><td>0.000014</td><td>0.000005</td><td>2.327128</td><td>0.058121</td><td>2.065824</td><td>5.979665</td><td>3.109426</td><td>-0.239187</td><td>9.514557</td><td>-3.660734</td><td>-1.910573</td><td>-1.339237</td><td>0.363165</td><td>-1.159252</td><td>-0.000036</td><td>-0.000002</td><td>-0.000032</td><td>-1.230088</td><td>0.088267</td><td>-0.717407</td><td>1.674306</td><td>-5.501291</td><td>13.394449</td><td>&hellip;</td><td>-7.013557</td><td>-0.00007</td><td>0.000023</td><td>-0.000008</td><td>0.827088</td><td>-1.046932</td><td>1.374667</td><td>8.371531</td><td>5.022918</td><td>0.0</td><td>7.517794</td><td>-0.792481</td><td>1.149217</td><td>-0.643793</td><td>-0.025027</td><td>-0.041535</td><td>-0.000044</td><td>-0.000007</td><td>0.000042</td><td>-0.443208</td><td>-1.639701</td><td>-0.324574</td><td>12.916076</td><td>-3.109426</td><td>0.71756</td><td>10.122684</td><td>-8.62152</td><td>-3.761291</td><td>0.141645</td><td>1.775887</td><td>-6.670628</td><td>-0.000041</td><td>-0.000028</td><td>-0.000018</td><td>&quot;walk&quot;</td><td>0</td><td>0</td></tr><tr><td>3.130854</td><td>2.255623</td><td>0.022602</td><td>1.959735</td><td>12.868238</td><td>3.994416</td><td>10.643803</td><td>9.407297</td><td>-0.951456</td><td>-1.162385</td><td>-1.187528</td><td>-0.142124</td><td>-1.802672</td><td>-0.000017</td><td>0.000014</td><td>0.000005</td><td>2.325831</td><td>0.057856</td><td>2.065244</td><td>5.716559</td><td>2.894158</td><td>0.023919</td><td>9.535626</td><td>-3.789303</td><td>-1.832522</td><td>-1.328108</td><td>0.357414</td><td>-1.169956</td><td>-0.000036</td><td>-0.000002</td><td>-0.000032</td><td>-1.230326</td><td>0.087594</td><td>-0.717567</td><td>1.746062</td><td>-5.52521</td><td>13.203099</td><td>&hellip;</td><td>-7.013717</td><td>-0.00007</td><td>0.000023</td><td>-0.000008</td><td>0.826731</td><td>-1.047273</td><td>1.374304</td><td>8.347612</td><td>4.903325</td><td>0.0</td><td>7.533116</td><td>-0.810916</td><td>1.130542</td><td>-0.648745</td><td>-0.029447</td><td>-0.043345</td><td>-0.000044</td><td>-0.000007</td><td>0.000042</td><td>-0.437664</td><td>-1.639763</td><td>-0.328927</td><td>12.963913</td><td>-3.085507</td><td>0.837153</td><td>10.204566</td><td>-8.503486</td><td>-3.630328</td><td>0.233022</td><td>1.775089</td><td>-6.670681</td><td>-0.000041</td><td>-0.000028</td><td>-0.000018</td><td>&quot;walk&quot;</td><td>1</td><td>0</td></tr><tr><td>3.118952</td><td>2.254139</td><td>0.023239</td><td>1.958121</td><td>12.820401</td><td>3.92266</td><td>10.52421</td><td>9.458055</td><td>-1.045787</td><td>-1.225831</td><td>-1.187049</td><td>-0.133551</td><td>-1.794312</td><td>-0.000017</td><td>0.000014</td><td>0.000005</td><td>2.324534</td><td>0.057592</td><td>2.064664</td><td>5.453454</td><td>2.67889</td><td>0.287024</td><td>9.556695</td><td>-3.917872</td><td>-1.754471</td><td>-1.316979</td><td>0.351663</td><td>-1.180659</td><td>-0.000036</td><td>-0.000002</td><td>-0.000032</td><td>-1.230563</td><td>0.086922</td><td>-0.717726</td><td>1.817818</td><td>-5.549129</td><td>13.01175</td><td>&hellip;</td><td>-7.013877</td><td>-0.00007</td><td>0.000023</td><td>-0.000008</td><td>0.826374</td><td>-1.047614</td><td>1.373941</td><td>8.323693</td><td>4.783731</td><td>0.0</td><td>7.548439</td><td>-0.829351</td><td>1.111867</td><td>-0.653697</td><td>-0.033867</td><td>-0.045156</td><td>-0.000044</td><td>-0.000007</td><td>0.000042</td><td>-0.432118</td><td>-1.639814</td><td>-0.333277</td><td>13.01175</td><td>-3.061588</td><td>0.956746</td><td>10.286448</td><td>-8.385452</td><td>-3.499365</td><td>0.324399</td><td>1.77429</td><td>-6.670734</td><td>-0.000041</td><td>-0.000028</td><td>-0.000018</td><td>&quot;walk&quot;</td><td>2</td><td>0</td></tr><tr><td>3.168391</td><td>2.252655</td><td>0.023875</td><td>1.956507</td><td>12.772564</td><td>3.850904</td><td>10.404616</td><td>9.508811</td><td>-1.140119</td><td>-1.289278</td><td>-1.18657</td><td>-0.124978</td><td>-1.785952</td><td>-0.000017</td><td>0.000014</td><td>0.000005</td><td>2.323237</td><td>0.057327</td><td>2.064084</td><td>5.190349</td><td>2.463622</td><td>0.550129</td><td>9.577765</td><td>-4.04644</td><td>-1.67642</td><td>-1.30585</td><td>0.345912</td><td>-1.191362</td><td>-0.000036</td><td>-0.000002</td><td>-0.000032</td><td>-1.230801</td><td>0.08625</td><td>-0.717886</td><td>1.889574</td><td>-5.573048</td><td>12.820401</td><td>&hellip;</td><td>-7.014037</td><td>-0.000069</td><td>0.000023</td><td>-0.000008</td><td>0.826017</td><td>-1.047956</td><td>1.373578</td><td>8.299774</td><td>4.664138</td><td>0.0</td><td>7.563762</td><td>-0.847787</td><td>1.093192</td><td>-0.658649</td><td>-0.038287</td><td>-0.046966</td><td>-0.000044</td><td>-0.000007</td><td>0.000042</td><td>-0.42657</td><td>-1.639852</td><td>-0.337624</td><td>13.059587</td><td>-3.03767</td><td>1.07634</td><td>10.36833</td><td>-8.267418</td><td>-3.368402</td><td>0.415776</td><td>1.773491</td><td>-6.670787</td><td>-0.000041</td><td>-0.000027</td><td>-0.000018</td><td>&quot;walk&quot;</td><td>3</td><td>0</td></tr><tr><td>3.146418</td><td>2.25117</td><td>0.02451</td><td>1.954893</td><td>12.724727</td><td>3.779148</td><td>10.285023</td><td>9.559568</td><td>-1.23445</td><td>-1.352724</td><td>-1.18609</td><td>-0.116404</td><td>-1.777591</td><td>-0.000017</td><td>0.000014</td><td>0.000005</td><td>2.32194</td><td>0.057063</td><td>2.063504</td><td>4.927244</td><td>2.248354</td><td>0.813234</td><td>9.598833</td><td>-4.175009</td><td>-1.598369</td><td>-1.29472</td><td>0.340161</td><td>-1.202065</td><td>-0.000036</td><td>-0.000002</td><td>-0.000032</td><td>-1.231038</td><td>0.085578</td><td>-0.718045</td><td>1.96133</td><td>-5.596966</td><td>12.629051</td><td>&hellip;</td><td>-7.014196</td><td>-0.000069</td><td>0.000023</td><td>-0.000008</td><td>0.825661</td><td>-1.048297</td><td>1.373214</td><td>8.275856</td><td>4.544545</td><td>0.0</td><td>7.579085</td><td>-0.866222</td><td>1.074518</td><td>-0.663601</td><td>-0.042707</td><td>-0.048777</td><td>-0.000044</td><td>-0.000007</td><td>0.000042</td><td>-0.42102</td><td>-1.639879</td><td>-0.341968</td><td>13.107425</td><td>-3.013751</td><td>1.195933</td><td>10.450212</td><td>-8.149384</td><td>-3.237439</td><td>0.507153</td><td>1.772692</td><td>-6.67084</td><td>-0.000041</td><td>-0.000027</td><td>-0.000018</td><td>&quot;walk&quot;</td><td>4</td><td>0</td></tr><tr><td>&hellip;</td><td>&hellip;</td><td>&hellip;</td><td>&hellip;</td><td>&hellip;</td><td>&hellip;</td><td>&hellip;</td><td>&hellip;</td><td>&hellip;</td><td>&hellip;</td><td>&hellip;</td><td>&hellip;</td><td>&hellip;</td><td>&hellip;</td><td>&hellip;</td><td>&hellip;</td><td>&hellip;</td><td>&hellip;</td><td>&hellip;</td><td>&hellip;</td><td>&hellip;</td><td>&hellip;</td><td>&hellip;</td><td>&hellip;</td><td>&hellip;</td><td>&hellip;</td><td>&hellip;</td><td>&hellip;</td><td>&hellip;</td><td>&hellip;</td><td>&hellip;</td><td>&hellip;</td><td>&hellip;</td><td>&hellip;</td><td>&hellip;</td><td>&hellip;</td><td>&hellip;</td><td>&hellip;</td><td>&hellip;</td><td>&hellip;</td><td>&hellip;</td><td>&hellip;</td><td>&hellip;</td><td>&hellip;</td><td>&hellip;</td><td>&hellip;</td><td>&hellip;</td><td>&hellip;</td><td>&hellip;</td><td>&hellip;</td><td>&hellip;</td><td>&hellip;</td><td>&hellip;</td><td>&hellip;</td><td>&hellip;</td><td>&hellip;</td><td>&hellip;</td><td>&hellip;</td><td>&hellip;</td><td>&hellip;</td><td>&hellip;</td><td>&hellip;</td><td>&hellip;</td><td>&hellip;</td><td>&hellip;</td><td>&hellip;</td><td>&hellip;</td><td>&hellip;</td><td>&hellip;</td><td>&hellip;</td><td>&hellip;</td><td>&hellip;</td><td>&hellip;</td><td>&hellip;</td><td>&hellip;</td></tr><tr><td>3.378046</td><td>-2.639098</td><td>-0.30227</td><td>-2.142515</td><td>19.6133</td><td>-1.913493</td><td>11.002583</td><td>14.058752</td><td>-8.623915</td><td>-1.867477</td><td>0.548475</td><td>0.712485</td><td>1.472895</td><td>-0.000012</td><td>0.000016</td><td>0.000007</td><td>2.007618</td><td>1.19672</td><td>2.081368</td><td>24.397032</td><td>-8.610717</td><td>-4.305358</td><td>26.03455</td><td>-15.246277</td><td>-4.951209</td><td>-1.43349</td><td>-0.49842</td><td>-4.69878</td><td>-0.000027</td><td>0.000012</td><td>-0.00003</td><td>-0.711587</td><td>-1.088879</td><td>0.172072</td><td>3.826985</td><td>-27.745644</td><td>1.913493</td><td>&hellip;</td><td>5.470905</td><td>-0.000069</td><td>0.00003</td><td>0.000006</td><td>0.902246</td><td>-1.098763</td><td>1.132243</td><td>18.178181</td><td>-4.783731</td><td>15.307941</td><td>15.279796</td><td>-9.801862</td><td>10.419566</td><td>1.12251</td><td>-0.71568</td><td>-0.80727</td><td>-0.000047</td><td>-0.000008</td><td>0.000038</td><td>-0.527699</td><td>-1.584396</td><td>-0.723438</td><td>23.440285</td><td>0.0</td><td>10.52421</td><td>31.057585</td><td>7.441179</td><td>13.340492</td><td>-8.612655</td><td>0.71781</td><td>2.733855</td><td>-0.000042</td><td>-0.000017</td><td>-0.000012</td><td>&quot;walk&quot;</td><td>19995</td><td>24</td></tr><tr><td>3.365534</td><td>-2.750089</td><td>-0.314983</td><td>-2.232622</td><td>18.632635</td><td>-1.817818</td><td>10.452454</td><td>13.355814</td><td>-8.192719</td><td>-1.774103</td><td>0.521051</td><td>0.676861</td><td>1.39925</td><td>-0.000012</td><td>0.000016</td><td>0.000007</td><td>1.907237</td><td>1.136883</td><td>1.9773</td><td>23.177179</td><td>-8.180181</td><td>-4.09009</td><td>24.732822</td><td>-14.483963</td><td>-4.703649</td><td>-1.361815</td><td>-0.473499</td><td>-4.463841</td><td>-0.000025</td><td>0.000011</td><td>-0.000029</td><td>-0.676008</td><td>-1.034435</td><td>0.163468</td><td>3.635636</td><td>-26.358362</td><td>1.817818</td><td>&hellip;</td><td>5.19736</td><td>-0.000065</td><td>0.000028</td><td>0.000006</td><td>0.857134</td><td>-1.043825</td><td>1.075631</td><td>17.269272</td><td>-4.544545</td><td>14.542544</td><td>14.515806</td><td>-9.311769</td><td>9.898588</td><td>1.066384</td><td>-0.679896</td><td>-0.766906</td><td>-0.000044</td><td>-0.000007</td><td>0.000036</td><td>-0.501314</td><td>-1.505176</td><td>-0.687266</td><td>22.26827</td><td>0.0</td><td>9.997999</td><td>29.504705</td><td>7.06912</td><td>12.673468</td><td>-8.182022</td><td>0.681919</td><td>2.597162</td><td>-0.00004</td><td>-0.000016</td><td>-0.000012</td><td>&quot;walk&quot;</td><td>19996</td><td>24</td></tr><tr><td>3.373469</td><td>-2.861077</td><td>-0.327695</td><td>-2.322726</td><td>17.65197</td><td>-1.722143</td><td>9.902325</td><td>12.652877</td><td>-7.761523</td><td>-1.68073</td><td>0.493627</td><td>0.641236</td><td>1.325605</td><td>-0.000011</td><td>0.000015</td><td>0.000006</td><td>1.806856</td><td>1.077047</td><td>1.873232</td><td>21.957329</td><td>-7.749645</td><td>-3.874823</td><td>23.431095</td><td>-13.721649</td><td>-4.456088</td><td>-1.290141</td><td>-0.448578</td><td>-4.228902</td><td>-0.000024</td><td>0.000011</td><td>-0.000027</td><td>-0.640428</td><td>-0.979991</td><td>0.154865</td><td>3.444287</td><td>-24.971079</td><td>1.722143</td><td>&hellip;</td><td>4.923814</td><td>-0.000062</td><td>0.000027</td><td>0.000005</td><td>0.812022</td><td>-0.988887</td><td>1.019019</td><td>16.360363</td><td>-4.305358</td><td>13.777147</td><td>13.751816</td><td>-8.821675</td><td>9.377609</td><td>1.010259</td><td>-0.644112</td><td>-0.726543</td><td>-0.000042</td><td>-0.000007</td><td>0.000034</td><td>-0.474929</td><td>-1.425956</td><td>-0.651094</td><td>21.096256</td><td>0.0</td><td>9.471789</td><td>27.951826</td><td>6.697061</td><td>12.006443</td><td>-7.751389</td><td>0.646029</td><td>2.460469</td><td>-0.000038</td><td>-0.000015</td><td>-0.000011</td><td>&quot;walk&quot;</td><td>19997</td><td>24</td></tr><tr><td>3.359736</td><td>-2.972065</td><td>-0.340407</td><td>-2.41283</td><td>16.671305</td><td>-1.626469</td><td>9.352195</td><td>11.94994</td><td>-7.330328</td><td>-1.587356</td><td>0.466204</td><td>0.605612</td><td>1.251961</td><td>-0.00001</td><td>0.000014</td><td>0.000006</td><td>1.706475</td><td>1.017211</td><td>1.769163</td><td>20.737476</td><td>-7.319109</td><td>-3.659555</td><td>22.129368</td><td>-12.959335</td><td>-4.208528</td><td>-1.218466</td><td>-0.423657</td><td>-3.993963</td><td>-0.000023</td><td>0.00001</td><td>-0.000026</td><td>-0.604849</td><td>-0.925547</td><td>0.146261</td><td>3.252938</td><td>-23.583797</td><td>1.626469</td><td>&hellip;</td><td>4.650269</td><td>-0.000058</td><td>0.000025</td><td>0.000005</td><td>0.766909</td><td>-0.933949</td><td>0.962407</td><td>15.451453</td><td>-4.066172</td><td>13.01175</td><td>12.987826</td><td>-8.331582</td><td>8.856631</td><td>0.954133</td><td>-0.608328</td><td>-0.68618</td><td>-0.00004</td><td>-0.000006</td><td>0.000032</td><td>-0.448544</td><td>-1.346737</td><td>-0.614922</td><td>19.924242</td><td>0.0</td><td>8.945579</td><td>26.398947</td><td>6.325002</td><td>11.339418</td><td>-7.320756</td><td>0.610138</td><td>2.323777</td><td>-0.000036</td><td>-0.000015</td><td>-0.00001</td><td>&quot;walk&quot;</td><td>19998</td><td>24</td></tr><tr><td>3.363703</td><td>1.775825</td><td>0.203395</td><td>1.441679</td><td>15.69064</td><td>-1.530794</td><td>8.802066</td><td>11.247002</td><td>-6.899132</td><td>-1.493982</td><td>0.43878</td><td>0.569988</td><td>1.178316</td><td>-0.00001</td><td>0.000013</td><td>0.000006</td><td>1.606094</td><td>0.957376</td><td>1.665095</td><td>19.517626</td><td>-6.888574</td><td>-3.444287</td><td>20.827641</td><td>-12.197021</td><td>-3.960967</td><td>-1.146792</td><td>-0.398736</td><td>-3.759024</td><td>-0.000021</td><td>0.000009</td><td>-0.000024</td><td>-0.56927</td><td>-0.871103</td><td>0.137658</td><td>3.061588</td><td>-22.196514</td><td>1.530794</td><td>&hellip;</td><td>4.376724</td><td>-0.000055</td><td>0.000024</td><td>0.000005</td><td>0.721797</td><td>-0.879011</td><td>0.905795</td><td>14.542544</td><td>-3.826985</td><td>12.246353</td><td>12.223837</td><td>-7.841489</td><td>8.335653</td><td>0.898008</td><td>-0.572544</td><td>-0.645816</td><td>-0.000037</td><td>-0.000006</td><td>0.00003</td><td>-0.422159</td><td>-1.267516</td><td>-0.57875</td><td>18.752228</td><td>0.0</td><td>8.419368</td><td>24.846067</td><td>5.952943</td><td>10.672394</td><td>-6.890124</td><td>0.574248</td><td>2.187084</td><td>-0.000033</td><td>-0.000014</td><td>-0.00001</td><td>&quot;walk&quot;</td><td>19999</td><td>24</td></tr></tbody></table></div>"
      ],
      "text/plain": [
       "shape: (624_995, 109)\n",
       "┌─────────────┬─────────────┬─────────────┬─────────────┬───┬───────────┬──────────┬───────┬───────┐\n",
       "│ Electric    ┆ D1_Global   ┆ D1_Global   ┆ D1_Global   ┆ … ┆ D7_mag.z  ┆ ACTIVITY ┆ TIME  ┆ TRIAL │\n",
       "│ Potential.1 ┆ Angle.x     ┆ Angle.y     ┆ Angle.z     ┆   ┆ ---       ┆ ---      ┆ ---   ┆ ---   │\n",
       "│ ---         ┆ ---         ┆ ---         ┆ ---         ┆   ┆ f64       ┆ str      ┆ i64   ┆ i64   │\n",
       "│ f64         ┆ f64         ┆ f64         ┆ f64         ┆   ┆           ┆          ┆       ┆       │\n",
       "╞═════════════╪═════════════╪═════════════╪═════════════╪═══╪═══════════╪══════════╪═══════╪═══════╡\n",
       "│ 3.131464    ┆ 2.257107    ┆ 0.021965    ┆ 1.961349    ┆ … ┆ -0.000018 ┆ walk     ┆ 0     ┆ 0     │\n",
       "│ 3.130854    ┆ 2.255623    ┆ 0.022602    ┆ 1.959735    ┆ … ┆ -0.000018 ┆ walk     ┆ 1     ┆ 0     │\n",
       "│ 3.118952    ┆ 2.254139    ┆ 0.023239    ┆ 1.958121    ┆ … ┆ -0.000018 ┆ walk     ┆ 2     ┆ 0     │\n",
       "│ 3.168391    ┆ 2.252655    ┆ 0.023875    ┆ 1.956507    ┆ … ┆ -0.000018 ┆ walk     ┆ 3     ┆ 0     │\n",
       "│ 3.146418    ┆ 2.25117     ┆ 0.02451     ┆ 1.954893    ┆ … ┆ -0.000018 ┆ walk     ┆ 4     ┆ 0     │\n",
       "│ …           ┆ …           ┆ …           ┆ …           ┆ … ┆ …         ┆ …        ┆ …     ┆ …     │\n",
       "│ 3.378046    ┆ -2.639098   ┆ -0.30227    ┆ -2.142515   ┆ … ┆ -0.000012 ┆ walk     ┆ 19995 ┆ 24    │\n",
       "│ 3.365534    ┆ -2.750089   ┆ -0.314983   ┆ -2.232622   ┆ … ┆ -0.000012 ┆ walk     ┆ 19996 ┆ 24    │\n",
       "│ 3.373469    ┆ -2.861077   ┆ -0.327695   ┆ -2.322726   ┆ … ┆ -0.000011 ┆ walk     ┆ 19997 ┆ 24    │\n",
       "│ 3.359736    ┆ -2.972065   ┆ -0.340407   ┆ -2.41283    ┆ … ┆ -0.00001  ┆ walk     ┆ 19998 ┆ 24    │\n",
       "│ 3.363703    ┆ 1.775825    ┆ 0.203395    ┆ 1.441679    ┆ … ┆ -0.00001  ┆ walk     ┆ 19999 ┆ 24    │\n",
       "└─────────────┴─────────────┴─────────────┴─────────────┴───┴───────────┴──────────┴───────┴───────┘"
      ]
     },
     "execution_count": 2,
     "metadata": {},
     "output_type": "execute_result"
    }
   ],
   "source": [
    "df"
   ]
  },
  {
   "cell_type": "code",
   "execution_count": 11,
   "metadata": {},
   "outputs": [
    {
     "data": {
      "text/html": [
       "<div><style>\n",
       ".dataframe > thead > tr,\n",
       ".dataframe > tbody > tr {\n",
       "  text-align: right;\n",
       "  white-space: pre-wrap;\n",
       "}\n",
       "</style>\n",
       "<small>shape: (624_995, 109)</small><table border=\"1\" class=\"dataframe\"><thead><tr><th>Electric Potential.1</th><th>ACTIVITY</th><th>TIME</th><th>TRIAL</th><th>D4_accel_r</th><th>D4_accel_theta</th><th>D4_accel_phi</th><th>D1_gyro_r</th><th>D1_gyro_theta</th><th>D1_gyro_phi</th><th>D7_mag_r</th><th>D7_mag_theta</th><th>D7_mag_phi</th><th>D3_gyro_r</th><th>D3_gyro_theta</th><th>D3_gyro_phi</th><th>D1_mag_r</th><th>D1_mag_theta</th><th>D1_mag_phi</th><th>D6_mag_r</th><th>D6_mag_theta</th><th>D6_mag_phi</th><th>D5_Global Angle_r</th><th>D5_Global Angle_theta</th><th>D5_Global Angle_phi</th><th>D7_accel_r</th><th>D7_accel_theta</th><th>D7_accel_phi</th><th>D5_HighG_r</th><th>D5_HighG_theta</th><th>D5_HighG_phi</th><th>D1_Global Angle_r</th><th>D1_Global Angle_theta</th><th>D1_Global Angle_phi</th><th>D2_accel_r</th><th>D2_accel_theta</th><th>D2_accel_phi</th><th>&hellip;</th><th>D5_gyro_phi</th><th>D6_HighG_r</th><th>D6_HighG_theta</th><th>D6_HighG_phi</th><th>D7_gyro_r</th><th>D7_gyro_theta</th><th>D7_gyro_phi</th><th>D5_accel_r</th><th>D5_accel_theta</th><th>D5_accel_phi</th><th>D2_Global Angle_r</th><th>D2_Global Angle_theta</th><th>D2_Global Angle_phi</th><th>D4_Global Angle_r</th><th>D4_Global Angle_theta</th><th>D4_Global Angle_phi</th><th>D2_HighG_r</th><th>D2_HighG_theta</th><th>D2_HighG_phi</th><th>D2_gyro_r</th><th>D2_gyro_theta</th><th>D2_gyro_phi</th><th>D4_gyro_r</th><th>D4_gyro_theta</th><th>D4_gyro_phi</th><th>D1_HighG_r</th><th>D1_HighG_theta</th><th>D1_HighG_phi</th><th>D4_mag_r</th><th>D4_mag_theta</th><th>D4_mag_phi</th><th>D3_HighG_r</th><th>D3_HighG_theta</th><th>D3_HighG_phi</th><th>D5_mag_r</th><th>D5_mag_theta</th><th>D5_mag_phi</th></tr><tr><td>f64</td><td>str</td><td>i64</td><td>i64</td><td>f64</td><td>f64</td><td>f64</td><td>f64</td><td>f64</td><td>f64</td><td>f64</td><td>f64</td><td>f64</td><td>f64</td><td>f64</td><td>f64</td><td>f64</td><td>f64</td><td>f64</td><td>f64</td><td>f64</td><td>f64</td><td>f64</td><td>f64</td><td>f64</td><td>f64</td><td>f64</td><td>f64</td><td>f64</td><td>f64</td><td>f64</td><td>f64</td><td>f64</td><td>f64</td><td>f64</td><td>f64</td><td>f64</td><td>&hellip;</td><td>f64</td><td>f64</td><td>f64</td><td>f64</td><td>f64</td><td>f64</td><td>f64</td><td>f64</td><td>f64</td><td>f64</td><td>f64</td><td>f64</td><td>f64</td><td>f64</td><td>f64</td><td>f64</td><td>f64</td><td>f64</td><td>f64</td><td>f64</td><td>f64</td><td>f64</td><td>f64</td><td>f64</td><td>f64</td><td>f64</td><td>f64</td><td>f64</td><td>f64</td><td>f64</td><td>f64</td><td>f64</td><td>f64</td><td>f64</td><td>f64</td><td>f64</td><td>f64</td></tr></thead><tbody><tr><td>3.131464</td><td>&quot;walk&quot;</td><td>0</td><td>0</td><td>7.193248</td><td>-0.985694</td><td>1.734957</td><td>2.171154</td><td>-3.015418</td><td>2.557356</td><td>0.000053</td><td>-2.549406</td><td>1.915505</td><td>0.948698</td><td>-2.668797</td><td>2.458637</td><td>0.000023</td><td>2.477546</td><td>1.332323</td><td>0.000061</td><td>-2.989964</td><td>0.817285</td><td>1.710883</td><td>-0.747409</td><td>2.104835</td><td>13.818345</td><td>-0.705482</td><td>1.84647</td><td>36.926257</td><td>1.048211</td><td>1.206537</td><td>2.990302</td><td>0.009731</td><td>0.855417</td><td>10.371984</td><td>-0.367292</td><td>1.756059</td><td>&hellip;</td><td>2.904312</td><td>9.762798</td><td>0.540419</td><td>1.570796</td><td>6.904427</td><td>1.491205</td><td>2.880613</td><td>29.716292</td><td>1.068443</td><td>1.30419</td><td>3.112319</td><td>0.02497</td><td>0.844966</td><td>1.758207</td><td>-1.597638</td><td>1.886214</td><td>6.744044</td><td>0.479519</td><td>1.60627</td><td>1.808124</td><td>2.876788</td><td>2.266773</td><td>1.209237</td><td>-1.572559</td><td>1.530272</td><td>17.297672</td><td>0.304992</td><td>0.899189</td><td>0.000055</td><td>2.57464</td><td>1.205583</td><td>14.576652</td><td>-1.275355</td><td>0.40552</td><td>0.000074</td><td>2.826273</td><td>1.672127</td></tr><tr><td>3.130854</td><td>&quot;walk&quot;</td><td>1</td><td>0</td><td>7.136747</td><td>-0.977274</td><td>1.716403</td><td>2.163342</td><td>-3.022478</td><td>2.555813</td><td>0.000053</td><td>-2.551748</td><td>1.914703</td><td>0.956314</td><td>-2.659906</td><td>2.462444</td><td>0.000023</td><td>2.473896</td><td>1.331168</td><td>0.000061</td><td>-2.989888</td><td>0.816412</td><td>1.7159</td><td>-0.743237</td><td>2.106745</td><td>13.77032</td><td>-0.69472</td><td>1.837584</td><td>37.078535</td><td>1.038303</td><td>1.208792</td><td>2.988128</td><td>0.01002</td><td>0.855501</td><td>10.423297</td><td>-0.378249</td><td>1.747525</td><td>&hellip;</td><td>2.906472</td><td>9.681179</td><td>0.531098</td><td>1.570796</td><td>6.906752</td><td>1.440269</td><td>2.879386</td><td>30.051863</td><td>1.057026</td><td>1.306545</td><td>3.11096</td><td>0.02487</td><td>0.844827</td><td>1.759439</td><td>-1.597835</td><td>1.8859</td><td>6.407478</td><td>0.468656</td><td>1.567063</td><td>1.805661</td><td>2.878706</td><td>2.27567</td><td>1.214441</td><td>-1.56939</td><td>1.504978</td><td>17.170832</td><td>0.300979</td><td>0.90221</td><td>0.000055</td><td>2.574595</td><td>1.206284</td><td>14.418686</td><td>-1.26471</td><td>0.413566</td><td>0.000074</td><td>2.823516</td><td>1.673962</td></tr><tr><td>3.118952</td><td>&quot;walk&quot;</td><td>2</td><td>0</td><td>7.083242</td><td>-0.968769</td><td>1.697551</td><td>2.155569</td><td>-3.029557</td><td>2.554235</td><td>0.000053</td><td>-2.554093</td><td>1.913898</td><td>0.963973</td><td>-2.651074</td><td>2.466153</td><td>0.000023</td><td>2.47026</td><td>1.330022</td><td>0.000061</td><td>-2.989812</td><td>0.81554</td><td>1.720933</td><td>-0.739074</td><td>2.108639</td><td>13.724881</td><td>-0.683937</td><td>1.828608</td><td>37.234153</td><td>1.028494</td><td>1.211061</td><td>2.985954</td><td>0.010309</td><td>0.855585</td><td>10.47656</td><td>-0.389064</td><td>1.739055</td><td>&hellip;</td><td>2.908634</td><td>9.600414</td><td>0.521618</td><td>1.570796</td><td>6.910284</td><td>1.389961</td><td>2.877517</td><td>30.391164</td><td>1.045876</td><td>1.308879</td><td>3.1096</td><td>0.024771</td><td>0.844688</td><td>1.760671</td><td>-1.598032</td><td>1.885585</td><td>6.08268</td><td>0.456605</td><td>1.523592</td><td>1.803346</td><td>2.880658</td><td>2.284588</td><td>1.220427</td><td>-1.56624</td><td>1.479916</td><td>17.044323</td><td>0.296925</td><td>0.905285</td><td>0.000055</td><td>2.574551</td><td>1.206982</td><td>14.26194</td><td>-1.254227</td><td>0.421831</td><td>0.000074</td><td>2.820746</td><td>1.675804</td></tr><tr><td>3.168391</td><td>&quot;walk&quot;</td><td>3</td><td>0</td><td>7.032803</td><td>-0.96018</td><td>1.678411</td><td>2.147834</td><td>-3.036653</td><td>2.552622</td><td>0.000053</td><td>-2.556442</td><td>1.913089</td><td>0.971675</td><td>-2.642302</td><td>2.469766</td><td>0.000023</td><td>2.466639</td><td>1.328883</td><td>0.000061</td><td>-2.989736</td><td>0.814668</td><td>1.725983</td><td>-0.73492</td><td>2.110518</td><td>13.682054</td><td>-0.673137</td><td>1.819545</td><td>37.393072</td><td>1.018783</td><td>1.213341</td><td>2.98378</td><td>0.010598</td><td>0.855668</td><td>10.531744</td><td>-0.399737</td><td>1.730654</td><td>&hellip;</td><td>2.910797</td><td>9.520527</td><td>0.511979</td><td>1.570796</td><td>6.915023</td><td>1.340516</td><td>2.875024</td><td>30.734071</td><td>1.034987</td><td>1.311192</td><td>3.108241</td><td>0.024671</td><td>0.844549</td><td>1.761903</td><td>-1.598229</td><td>1.885271</td><td>5.771637</td><td>0.443166</td><td>1.475335</td><td>1.801178</td><td>2.882646</td><td>2.293527</td><td>1.227184</td><td>-1.563108</td><td>1.455116</td><td>16.918153</td><td>0.292831</td><td>0.908414</td><td>0.000055</td><td>2.574508</td><td>1.207678</td><td>14.106454</td><td>-1.243904</td><td>0.43032</td><td>0.000074</td><td>2.817965</td><td>1.677653</td></tr><tr><td>3.146418</td><td>&quot;walk&quot;</td><td>4</td><td>0</td><td>6.985497</td><td>-0.951507</td><td>1.658995</td><td>2.140138</td><td>-3.043765</td><td>2.550974</td><td>0.000053</td><td>-2.558796</td><td>1.912277</td><td>0.979418</td><td>-2.633591</td><td>2.473285</td><td>0.000023</td><td>2.463033</td><td>1.327753</td><td>0.000061</td><td>-2.989659</td><td>0.813797</td><td>1.731048</td><td>-0.730775</td><td>2.112381</td><td>13.641862</td><td>-0.66232</td><td>1.810399</td><td>37.555249</td><td>1.009173</td><td>1.215633</td><td>2.981606</td><td>0.010887</td><td>0.855752</td><td>10.588819</td><td>-0.410268</td><td>1.722324</td><td>&hellip;</td><td>2.912961</td><td>9.44154</td><td>0.502177</td><td>1.570796</td><td>6.920965</td><td>1.292148</td><td>2.871926</td><td>31.080466</td><td>1.024352</td><td>1.313482</td><td>3.106881</td><td>0.024571</td><td>0.84441</td><td>1.763136</td><td>-1.598425</td><td>1.884957</td><td>5.476694</td><td>0.428089</td><td>1.421755</td><td>1.799159</td><td>2.88467</td><td>2.302484</td><td>1.234698</td><td>-1.559994</td><td>1.430603</td><td>16.792329</td><td>0.288695</td><td>0.911598</td><td>0.000055</td><td>2.574464</td><td>1.208371</td><td>13.952268</td><td>-1.233741</td><td>0.439038</td><td>0.000074</td><td>2.815171</td><td>1.679508</td></tr><tr><td>&hellip;</td><td>&hellip;</td><td>&hellip;</td><td>&hellip;</td><td>&hellip;</td><td>&hellip;</td><td>&hellip;</td><td>&hellip;</td><td>&hellip;</td><td>&hellip;</td><td>&hellip;</td><td>&hellip;</td><td>&hellip;</td><td>&hellip;</td><td>&hellip;</td><td>&hellip;</td><td>&hellip;</td><td>&hellip;</td><td>&hellip;</td><td>&hellip;</td><td>&hellip;</td><td>&hellip;</td><td>&hellip;</td><td>&hellip;</td><td>&hellip;</td><td>&hellip;</td><td>&hellip;</td><td>&hellip;</td><td>&hellip;</td><td>&hellip;</td><td>&hellip;</td><td>&hellip;</td><td>&hellip;</td><td>&hellip;</td><td>&hellip;</td><td>&hellip;</td><td>&hellip;</td><td>&hellip;</td><td>&hellip;</td><td>&hellip;</td><td>&hellip;</td><td>&hellip;</td><td>&hellip;</td><td>&hellip;</td><td>&hellip;</td><td>&hellip;</td><td>&hellip;</td><td>&hellip;</td><td>&hellip;</td><td>&hellip;</td><td>&hellip;</td><td>&hellip;</td><td>&hellip;</td><td>&hellip;</td><td>&hellip;</td><td>&hellip;</td><td>&hellip;</td><td>&hellip;</td><td>&hellip;</td><td>&hellip;</td><td>&hellip;</td><td>&hellip;</td><td>&hellip;</td><td>&hellip;</td><td>&hellip;</td><td>&hellip;</td><td>&hellip;</td><td>&hellip;</td><td>&hellip;</td><td>&hellip;</td><td>&hellip;</td><td>&hellip;</td><td>&hellip;</td><td>&hellip;</td><td>&hellip;</td></tr><tr><td>3.378046</td><td>&quot;walk&quot;</td><td>19995</td><td>24</td><td>42.501231</td><td>-0.105025</td><td>1.627046</td><td>1.725653</td><td>0.91474</td><td>0.548075</td><td>0.000047</td><td>-2.753693</td><td>1.836438</td><td>9.604735</td><td>2.323094</td><td>3.117899</td><td>0.000022</td><td>2.215764</td><td>1.232425</td><td>0.000061</td><td>-2.982185</td><td>0.892186</td><td>1.808696</td><td>-0.74919</td><td>2.146797</td><td>34.610886</td><td>0.23516</td><td>1.175109</td><td>45.859</td><td>0.89421</td><td>1.082171</td><td>3.412709</td><td>-3.027554</td><td>2.249526</td><td>30.573865</td><td>-0.529777</td><td>1.733455</td><td>&hellip;</td><td>0.478018</td><td>24.24177</td><td>-0.257324</td><td>0.887349</td><td>9.064603</td><td>3.058441</td><td>1.264429</td><td>32.723702</td><td>0.829262</td><td>1.366718</td><td>3.129659</td><td>0.537539</td><td>0.84324</td><td>1.890312</td><td>-1.790269</td><td>1.954078</td><td>26.227766</td><td>-0.339293</td><td>1.735695</td><td>4.937798</td><td>-2.806971</td><td>2.829178</td><td>4.205097</td><td>-0.234432</td><td>1.08717</td><td>22.569888</td><td>-0.097253</td><td>1.061584</td><td>0.000053</td><td>2.566845</td><td>1.253345</td><td>28.073618</td><td>-1.43373</td><td>1.502584</td><td>0.000075</td><td>2.732746</td><td>1.49265</td></tr><tr><td>3.365534</td><td>&quot;walk&quot;</td><td>19996</td><td>24</td><td>40.376171</td><td>-0.105025</td><td>1.627046</td><td>1.639371</td><td>0.91474</td><td>0.548075</td><td>0.000045</td><td>-2.753693</td><td>1.836438</td><td>9.124499</td><td>2.323094</td><td>3.117899</td><td>0.000021</td><td>2.215764</td><td>1.232425</td><td>0.000058</td><td>-2.982185</td><td>0.892186</td><td>1.718262</td><td>-0.74919</td><td>2.146797</td><td>32.880342</td><td>0.23516</td><td>1.175109</td><td>43.566049</td><td>0.89421</td><td>1.082171</td><td>3.556235</td><td>-3.027554</td><td>2.249526</td><td>29.045172</td><td>-0.529777</td><td>1.733455</td><td>&hellip;</td><td>0.478018</td><td>23.029682</td><td>-0.257324</td><td>0.887349</td><td>8.611373</td><td>3.058441</td><td>1.264429</td><td>31.087517</td><td>0.829262</td><td>1.366718</td><td>2.973175</td><td>0.537539</td><td>0.84324</td><td>1.795796</td><td>-1.790269</td><td>1.954078</td><td>24.916377</td><td>-0.339293</td><td>1.735695</td><td>4.690908</td><td>-2.806971</td><td>2.829178</td><td>3.994842</td><td>-0.234432</td><td>1.08717</td><td>21.441393</td><td>-0.097253</td><td>1.061584</td><td>0.00005</td><td>2.566845</td><td>1.253345</td><td>26.669938</td><td>-1.43373</td><td>1.502584</td><td>0.000071</td><td>2.732746</td><td>1.49265</td></tr><tr><td>3.373469</td><td>&quot;walk&quot;</td><td>19997</td><td>24</td><td>38.251107</td><td>-0.105025</td><td>1.627046</td><td>1.553088</td><td>0.91474</td><td>0.548075</td><td>0.000042</td><td>-2.753693</td><td>1.836438</td><td>8.644262</td><td>2.323094</td><td>3.117899</td><td>0.00002</td><td>2.215764</td><td>1.232425</td><td>0.000055</td><td>-2.982185</td><td>0.892186</td><td>1.627827</td><td>-0.74919</td><td>2.146797</td><td>31.149797</td><td>0.23516</td><td>1.175109</td><td>41.2731</td><td>0.89421</td><td>1.082171</td><td>3.699757</td><td>-3.027554</td><td>2.249526</td><td>27.516479</td><td>-0.529777</td><td>1.733455</td><td>&hellip;</td><td>0.478018</td><td>21.817593</td><td>-0.257324</td><td>0.887349</td><td>8.158143</td><td>3.058441</td><td>1.264429</td><td>29.451332</td><td>0.829262</td><td>1.366718</td><td>2.816693</td><td>0.537539</td><td>0.84324</td><td>1.701281</td><td>-1.790269</td><td>1.954078</td><td>23.60499</td><td>-0.339293</td><td>1.735695</td><td>4.444018</td><td>-2.806971</td><td>2.829178</td><td>3.784587</td><td>-0.234432</td><td>1.08717</td><td>20.312899</td><td>-0.097253</td><td>1.061584</td><td>0.000048</td><td>2.566845</td><td>1.253345</td><td>25.266256</td><td>-1.43373</td><td>1.502584</td><td>0.000067</td><td>2.732746</td><td>1.49265</td></tr><tr><td>3.359736</td><td>&quot;walk&quot;</td><td>19998</td><td>24</td><td>36.126047</td><td>-0.105025</td><td>1.627046</td><td>1.466805</td><td>0.91474</td><td>0.548075</td><td>0.00004</td><td>-2.753693</td><td>1.836438</td><td>8.164025</td><td>2.323094</td><td>3.117899</td><td>0.000018</td><td>2.215764</td><td>1.232425</td><td>0.000052</td><td>-2.982185</td><td>0.892186</td><td>1.537392</td><td>-0.74919</td><td>2.146797</td><td>29.419253</td><td>0.23516</td><td>1.175109</td><td>38.98015</td><td>0.89421</td><td>1.082171</td><td>3.84328</td><td>-3.027554</td><td>2.249526</td><td>25.987786</td><td>-0.529777</td><td>1.733455</td><td>&hellip;</td><td>0.478018</td><td>20.605504</td><td>-0.257324</td><td>0.887349</td><td>7.704913</td><td>3.058441</td><td>1.264429</td><td>27.815146</td><td>0.829262</td><td>1.366718</td><td>2.66021</td><td>0.537539</td><td>0.84324</td><td>1.606765</td><td>-1.790269</td><td>1.954078</td><td>22.293601</td><td>-0.339293</td><td>1.735695</td><td>4.197128</td><td>-2.806971</td><td>2.829178</td><td>3.574332</td><td>-0.234432</td><td>1.08717</td><td>19.184404</td><td>-0.097253</td><td>1.061584</td><td>0.000045</td><td>2.566845</td><td>1.253345</td><td>23.862575</td><td>-1.43373</td><td>1.502584</td><td>0.000064</td><td>2.732746</td><td>1.49265</td></tr><tr><td>3.363703</td><td>&quot;walk&quot;</td><td>19999</td><td>24</td><td>34.000984</td><td>-0.105025</td><td>1.627046</td><td>1.380523</td><td>0.91474</td><td>0.548075</td><td>0.000037</td><td>-2.753693</td><td>1.836438</td><td>7.683788</td><td>2.323094</td><td>3.117899</td><td>0.000017</td><td>2.215764</td><td>1.232425</td><td>0.000049</td><td>-2.982185</td><td>0.892186</td><td>1.446957</td><td>-0.74919</td><td>2.146797</td><td>27.688709</td><td>0.23516</td><td>1.175109</td><td>36.6872</td><td>0.89421</td><td>1.082171</td><td>2.29638</td><td>0.114039</td><td>0.892066</td><td>24.459092</td><td>-0.529777</td><td>1.733455</td><td>&hellip;</td><td>0.478018</td><td>19.393416</td><td>-0.257324</td><td>0.887349</td><td>7.251683</td><td>3.058441</td><td>1.264429</td><td>26.178962</td><td>0.829262</td><td>1.366718</td><td>2.503727</td><td>0.537539</td><td>0.84324</td><td>1.512249</td><td>-1.790269</td><td>1.954078</td><td>20.982213</td><td>-0.339293</td><td>1.735695</td><td>3.950239</td><td>-2.806971</td><td>2.829178</td><td>3.364077</td><td>-0.234432</td><td>1.08717</td><td>18.05591</td><td>-0.097253</td><td>1.061584</td><td>0.000042</td><td>2.566845</td><td>1.253345</td><td>22.458893</td><td>-1.43373</td><td>1.502584</td><td>0.00006</td><td>2.732746</td><td>1.49265</td></tr></tbody></table></div>"
      ],
      "text/plain": [
       "shape: (624_995, 109)\n",
       "┌──────────────┬──────────┬───────┬───────┬───┬──────────────┬──────────┬─────────────┬────────────┐\n",
       "│ Electric     ┆ ACTIVITY ┆ TIME  ┆ TRIAL ┆ … ┆ D3_HighG_phi ┆ D5_mag_r ┆ D5_mag_thet ┆ D5_mag_phi │\n",
       "│ Potential.1  ┆ ---      ┆ ---   ┆ ---   ┆   ┆ ---          ┆ ---      ┆ a           ┆ ---        │\n",
       "│ ---          ┆ str      ┆ i64   ┆ i64   ┆   ┆ f64          ┆ f64      ┆ ---         ┆ f64        │\n",
       "│ f64          ┆          ┆       ┆       ┆   ┆              ┆          ┆ f64         ┆            │\n",
       "╞══════════════╪══════════╪═══════╪═══════╪═══╪══════════════╪══════════╪═════════════╪════════════╡\n",
       "│ 3.131464     ┆ walk     ┆ 0     ┆ 0     ┆ … ┆ 0.40552      ┆ 0.000074 ┆ 2.826273    ┆ 1.672127   │\n",
       "│ 3.130854     ┆ walk     ┆ 1     ┆ 0     ┆ … ┆ 0.413566     ┆ 0.000074 ┆ 2.823516    ┆ 1.673962   │\n",
       "│ 3.118952     ┆ walk     ┆ 2     ┆ 0     ┆ … ┆ 0.421831     ┆ 0.000074 ┆ 2.820746    ┆ 1.675804   │\n",
       "│ 3.168391     ┆ walk     ┆ 3     ┆ 0     ┆ … ┆ 0.43032      ┆ 0.000074 ┆ 2.817965    ┆ 1.677653   │\n",
       "│ 3.146418     ┆ walk     ┆ 4     ┆ 0     ┆ … ┆ 0.439038     ┆ 0.000074 ┆ 2.815171    ┆ 1.679508   │\n",
       "│ …            ┆ …        ┆ …     ┆ …     ┆ … ┆ …            ┆ …        ┆ …           ┆ …          │\n",
       "│ 3.378046     ┆ walk     ┆ 19995 ┆ 24    ┆ … ┆ 1.502584     ┆ 0.000075 ┆ 2.732746    ┆ 1.49265    │\n",
       "│ 3.365534     ┆ walk     ┆ 19996 ┆ 24    ┆ … ┆ 1.502584     ┆ 0.000071 ┆ 2.732746    ┆ 1.49265    │\n",
       "│ 3.373469     ┆ walk     ┆ 19997 ┆ 24    ┆ … ┆ 1.502584     ┆ 0.000067 ┆ 2.732746    ┆ 1.49265    │\n",
       "│ 3.359736     ┆ walk     ┆ 19998 ┆ 24    ┆ … ┆ 1.502584     ┆ 0.000064 ┆ 2.732746    ┆ 1.49265    │\n",
       "│ 3.363703     ┆ walk     ┆ 19999 ┆ 24    ┆ … ┆ 1.502584     ┆ 0.00006  ┆ 2.732746    ┆ 1.49265    │\n",
       "└──────────────┴──────────┴───────┴───────┴───┴──────────────┴──────────┴─────────────┴────────────┘"
      ]
     },
     "execution_count": 11,
     "metadata": {},
     "output_type": "execute_result"
    }
   ],
   "source": [
    "import numpy as np\n",
    "\n",
    "features = set([col.split('.')[0] for col in df.columns if '.x' in col])\n",
    "\n",
    "columns_to_drop = []\n",
    "\n",
    "# For each feature, compute spherical coordinates\n",
    "for feature in features:\n",
    "    x_col = f\"{feature}.x\"\n",
    "    y_col = f\"{feature}.y\"\n",
    "    z_col = f\"{feature}.z\"\n",
    "    \n",
    "    # Calculate radius r\n",
    "    r_col = f\"{feature}_r\"\n",
    "    df = df.with_columns(\n",
    "        (pl.col(x_col)**2 + pl.col(y_col)**2 + pl.col(z_col)**2).sqrt().alias(r_col)\n",
    "    )\n",
    "    \n",
    "    # Calculate azimuthal angle θ\n",
    "    theta_col = f\"{feature}_theta\"\n",
    "    df = df.with_columns(\n",
    "        np.arctan2(pl.col(y_col), pl.col(x_col)).alias(theta_col)\n",
    "    )\n",
    "    \n",
    "    # Calculate polar angle φ\n",
    "    phi_col = f\"{feature}_phi\"\n",
    "    df = df.with_columns(\n",
    "        np.arccos(pl.col(z_col) / pl.col(r_col)).alias(phi_col)\n",
    "    )\n",
    "\n",
    "    columns_to_drop.extend([x_col, y_col, z_col])\n",
    "\n",
    "df = df.drop(columns_to_drop)\n",
    "\n",
    "df\n"
   ]
  },
  {
   "cell_type": "code",
   "execution_count": 3,
   "metadata": {},
   "outputs": [],
   "source": [
    "# sliding window\n",
    "\n",
    "rolling = df.rolling(index_column=\"TIME\", period=\"300i\", group_by=\"TRIAL\")\n",
    "rdf = rolling.agg(\n",
    "        [\n",
    "\n",
    "        pl.when(pl.len() >= 5).then(pl.mean(\"Electric Potential.1\")).alias(\"mean_a\"),\n",
    "\n",
    "        pl.when(pl.len() >= 5).then(pl.min(\"Electric Potential.1\")).alias(\"min_a\"),\n",
    "\n",
    "        pl.when(pl.len() >= 5).then(pl.max(\"Electric Potential.1\")).alias(\"max_a\"),\n",
    "\n",
    "    ]\n",
    ")"
   ]
  },
  {
   "cell_type": "code",
   "execution_count": 55,
   "metadata": {},
   "outputs": [],
   "source": [
    "# sliding window\n",
    "def sliding_window(df, period=300):\n",
    "    \"\"\"\n",
    "    Apply sliding window aggregation on a DataFrame.\n",
    "\n",
    "    Args:\n",
    "        df (polars.DataFrame): The input DataFrame.\n",
    "        period (int): The window size in number of rows. Default is 300.\n",
    "\n",
    "    Returns:\n",
    "        polars.DataFrame: The aggregated DataFrame with rolling window statistics.\n",
    "\n",
    "    \"\"\"\n",
    "    # List of columns to exclude from aggregation\n",
    "    exclude_columns = [\"TIME\", \"TRIAL\", \"ACTIVITY\"]\n",
    "\n",
    "    # Get the list of columns to aggregate\n",
    "    columns_to_aggregate = [col for col in df.columns if col not in exclude_columns]\n",
    "\n",
    "    # Define the rolling window\n",
    "    rolling = df.rolling(index_column=\"TIME\", period=f\"{period}i\", group_by=\"TRIAL\")\n",
    "\n",
    "    # Define the aggregation operations\n",
    "    aggregations = []\n",
    "    for col in columns_to_aggregate:\n",
    "        aggregations.extend([\n",
    "            pl.first(col).alias(f\"first_{col}\"),\n",
    "            pl.last(col).alias(f\"last_{col}\"),\n",
    "            pl.max(col).alias(f\"max_{col}\"),\n",
    "            pl.min(col).alias(f\"min_{col}\"),\n",
    "            pl.mean(col).alias(f\"mean_{col}\"),\n",
    "            pl.std(col).alias(f\"std_{col}\"),\n",
    "        ])\n",
    "\n",
    "    # Perform the aggregation\n",
    "    result = rolling.agg(aggregations)\n",
    "\n",
    "    # Check if TIME resets to 0 when TRIAL increases by 1\n",
    "    trial_check = result.with_columns((pl.col(\"TRIAL\") - pl.col(\"TRIAL\").shift(1)).alias(\"TRIAL_INCREASE\"))\n",
    "    time_resets_correctly = trial_check.filter(pl.col(\"TRIAL_INCREASE\") == 1)[\"TIME\"].to_list() == [0] * len(trial_check.filter(pl.col(\"TRIAL_INCREASE\") == 1))\n",
    "\n",
    "    # Remove rows before first 'full' window\n",
    "    if time_resets_correctly:\n",
    "        result = result.filter(pl.col(\"TIME\") > period-2)\n",
    "    else:\n",
    "        raise ValueError(\"Time does not reset to 0 when TRIAL increases by 1. Unable to remove rows before first full window.\")\n",
    "\n",
    "\n",
    "    # Add the ACTIVITY column back in by matching TRIAL\n",
    "    # Assumes every trial has one activity type\n",
    "    activity_map = dict(zip(df[\"TRIAL\"], df[\"ACTIVITY\"]))\n",
    "    result = result.with_columns(ACTIVITY=pl.col(\"TRIAL\").replace_strict(activity_map))\n",
    "    \n",
    "    return result\n"
   ]
  },
  {
   "cell_type": "code",
   "execution_count": 54,
   "metadata": {},
   "outputs": [
    {
     "name": "stdout",
     "output_type": "stream",
     "text": [
      "shape: (8, 9)\n",
      "┌───────┬──────┬─────────────┬────────────┬───┬───────────┬────────────┬───────────┬──────────┐\n",
      "│ TRIAL ┆ TIME ┆ first_Value ┆ last_Value ┆ … ┆ min_Value ┆ mean_Value ┆ std_Value ┆ ACTIVITY │\n",
      "│ ---   ┆ ---  ┆ ---         ┆ ---        ┆   ┆ ---       ┆ ---        ┆ ---       ┆ ---      │\n",
      "│ i64   ┆ i64  ┆ i64         ┆ i64        ┆   ┆ i64       ┆ f64        ┆ f64       ┆ str      │\n",
      "╞═══════╪══════╪═════════════╪════════════╪═══╪═══════════╪════════════╪═══════════╪══════════╡\n",
      "│ 0     ┆ 2    ┆ 10          ┆ 30         ┆ … ┆ 10        ┆ 20.0       ┆ 10.0      ┆ A        │\n",
      "│ 0     ┆ 3    ┆ 20          ┆ 40         ┆ … ┆ 20        ┆ 30.0       ┆ 10.0      ┆ A        │\n",
      "│ 0     ┆ 4    ┆ 30          ┆ 50         ┆ … ┆ 30        ┆ 40.0       ┆ 10.0      ┆ A        │\n",
      "│ 0     ┆ 5    ┆ 40          ┆ 60         ┆ … ┆ 40        ┆ 50.0       ┆ 10.0      ┆ A        │\n",
      "│ 0     ┆ 6    ┆ 50          ┆ 70         ┆ … ┆ 50        ┆ 60.0       ┆ 10.0      ┆ A        │\n",
      "│ 0     ┆ 7    ┆ 60          ┆ 80         ┆ … ┆ 60        ┆ 70.0       ┆ 10.0      ┆ A        │\n",
      "│ 0     ┆ 8    ┆ 70          ┆ 90         ┆ … ┆ 70        ┆ 80.0       ┆ 10.0      ┆ A        │\n",
      "│ 0     ┆ 9    ┆ 80          ┆ 100        ┆ … ┆ 80        ┆ 90.0       ┆ 10.0      ┆ A        │\n",
      "└───────┴──────┴─────────────┴────────────┴───┴───────────┴────────────┴───────────┴──────────┘\n"
     ]
    }
   ],
   "source": [
    "import numpy as np\n",
    "import pytest\n",
    "from polars.testing import assert_frame_equal\n",
    "\n",
    "def test_sliding_window():\n",
    "    # Create a sample DataFrame\n",
    "    df = pl.DataFrame({\n",
    "        \"TRIAL\": [0, 0, 0, 0, 0, 0, 0, 0, 0, 0],\n",
    "        \"TIME\": [0, 1, 2, 3, 4, 5, 6, 7, 8, 9],\n",
    "        \"ACTIVITY\": [\"A\", \"A\", \"A\", \"A\", \"A\", \"A\", \"A\", \"A\", \"A\", \"A\"],\n",
    "        \"Value\": [10, 20, 30, 40, 50, 60, 70, 80, 90, 100],\n",
    "    }, strict=False)\n",
    "\n",
    "    # Call the sliding_window function\n",
    "    result= sliding_window(df, period=3)\n",
    "\n",
    "    # Check the result\n",
    "    expected_result = pl.DataFrame({\n",
    "        \"TRIAL\": [0, 0, 0, 0, 0, 0, 0, 0],\n",
    "        \"TIME\": [2, 3, 4, 5, 6, 7, 8, 9],\n",
    "        \"ACTIVITY\": [\"A\", \"A\", \"A\", \"A\", \"A\", \"A\", \"A\", \"A\"],\n",
    "        \"first_Value\": [10, 20, 30, 40, 50, 60, 70, 80],\n",
    "        \"last_Value\": [30, 40, 50, 60, 70, 80, 90, 100],\n",
    "        \"max_Value\": [30, 40, 50, 60, 70, 80, 90, 100],\n",
    "        \"min_Value\": [10, 20, 30, 40, 50, 60, 70, 80],\n",
    "        \"mean_Value\": [20, 30, 40, 50, 60, 70, 80, 90],\n",
    "        \"std_Value\": [10, 10, 10, 10, 10, 10, 10, 10],\n",
    "    }, strict=False)\n",
    "    print(result)\n",
    "    assert_frame_equal(result, expected_result, check_column_order=False, check_dtypes=False)\n",
    "\n",
    "    # # Check the dropped rows\n",
    "    # expected_dropped_rows = pd.DataFrame({\n",
    "    #     \"TIME\": [6, 7, 8, 9, 10],\n",
    "    #     \"TRIAL\": [1, 1, 1, 1, 1],\n",
    "    #     \"ACTIVITY\": [\"B\", \"B\", \"B\", \"B\", \"B\"],\n",
    "    #     \"Value1\": [60, 70, 80, 90, 100],\n",
    "    #     \"Value2\": [6, 7, 8, 9, 10]\n",
    "    # })\n",
    "\n",
    "    # assert dropped_rows.equals(expected_dropped_rows)\n",
    "\n",
    "test_sliding_window()"
   ]
  },
  {
   "cell_type": "code",
   "execution_count": 26,
   "metadata": {},
   "outputs": [
    {
     "name": "stdout",
     "output_type": "stream",
     "text": [
      "shape: (5, 2)\n",
      "┌───────┬──────────┐\n",
      "│ TRIAL ┆ ACTIVITY │\n",
      "│ ---   ┆ ---      │\n",
      "│ bool  ┆ bool     │\n",
      "╞═══════╪══════════╡\n",
      "│ true  ┆ true     │\n",
      "│ true  ┆ true     │\n",
      "│ true  ┆ true     │\n",
      "│ true  ┆ true     │\n",
      "│ true  ┆ true     │\n",
      "└───────┴──────────┘\n"
     ]
    }
   ],
   "source": [
    "# Create the first DataFrame (df1) with 'trial' and 'activity' columns\n",
    "df1 = pl.DataFrame({\n",
    "    \"TRIAL\": [0, 0, 1, 1, 2],\n",
    "    \"ACTIVITY\": [\"a\", \"a\", \"b\", \"b\", \"a\"]\n",
    "})\n",
    "\n",
    "# Create the second DataFrame (df2) with only the 'trial' column\n",
    "df2 = pl.DataFrame({\n",
    "    \"TRIAL\": [1,1, 2, 0,2]\n",
    "})\n",
    "\n",
    "df1_dict = dict(zip(df1[\"TRIAL\"], df1[\"ACTIVITY\"]))\n",
    "\n",
    "expected_result = pl.DataFrame({\n",
    "    \"TRIAL\": [1,1, 2, 0,2],\n",
    "    \"ACTIVITY\": [\"b\",\"b\", \"a\", \"a\", \"a\"]\n",
    "})\n",
    "\n",
    "# Perform the join operation\n",
    "# result = df2.with_columns(pl.Series(\"activity\", df2[\"trial\"].apply(lambda x: df1_dict.get(x))))\n",
    "# result = df2.with_columns(df1_dict[pl.col(\"TRIAL\")])\n",
    "# Display the result\n",
    "\n",
    "result = df2.with_columns(ACTIVITY=pl.col(\"TRIAL\").replace_strict(df1_dict))\n",
    "print(result==expected_result)"
   ]
  },
  {
   "cell_type": "code",
   "execution_count": 60,
   "metadata": {},
   "outputs": [
    {
     "ename": "AttributeError",
     "evalue": "'DataFrame' object has no attribute 'groupby'",
     "output_type": "error",
     "traceback": [
      "\u001b[0;31m---------------------------------------------------------------------------\u001b[0m",
      "\u001b[0;31mAttributeError\u001b[0m                            Traceback (most recent call last)",
      "Cell \u001b[0;32mIn[60], line 1\u001b[0m\n\u001b[0;32m----> 1\u001b[0m rdf\u001b[38;5;241m=\u001b[39m\u001b[43msliding_window_pf\u001b[49m\u001b[43m(\u001b[49m\u001b[43mdf\u001b[49m\u001b[43m)\u001b[49m\n",
      "Cell \u001b[0;32mIn[59], line 21\u001b[0m, in \u001b[0;36msliding_window_pf\u001b[0;34m(df, period)\u001b[0m\n\u001b[1;32m     18\u001b[0m columns_to_aggregate \u001b[38;5;241m=\u001b[39m [col \u001b[38;5;28;01mfor\u001b[39;00m col \u001b[38;5;129;01min\u001b[39;00m df\u001b[38;5;241m.\u001b[39mcolumns \u001b[38;5;28;01mif\u001b[39;00m col \u001b[38;5;129;01mnot\u001b[39;00m \u001b[38;5;129;01min\u001b[39;00m exclude_columns]\n\u001b[1;32m     20\u001b[0m \u001b[38;5;66;03m# Define the rolling window\u001b[39;00m\n\u001b[0;32m---> 21\u001b[0m rolling \u001b[38;5;241m=\u001b[39m \u001b[43mdf\u001b[49m\u001b[38;5;241;43m.\u001b[39;49m\u001b[43mgroupby\u001b[49m(\u001b[38;5;124m\"\u001b[39m\u001b[38;5;124mTRIAL\u001b[39m\u001b[38;5;124m\"\u001b[39m)\u001b[38;5;241m.\u001b[39mrolling(window\u001b[38;5;241m=\u001b[39mperiod, on\u001b[38;5;241m=\u001b[39m\u001b[38;5;124m\"\u001b[39m\u001b[38;5;124mTIME\u001b[39m\u001b[38;5;124m\"\u001b[39m)\n\u001b[1;32m     23\u001b[0m \u001b[38;5;66;03m# Define the aggregation operations\u001b[39;00m\n\u001b[1;32m     24\u001b[0m aggregations \u001b[38;5;241m=\u001b[39m {}\n",
      "\u001b[0;31mAttributeError\u001b[0m: 'DataFrame' object has no attribute 'groupby'"
     ]
    }
   ],
   "source": [
    "rdf=sliding_window(df)"
   ]
  },
  {
   "cell_type": "code",
   "execution_count": 57,
   "metadata": {},
   "outputs": [
    {
     "data": {
      "text/html": [
       "<div><style>\n",
       ".dataframe > thead > tr,\n",
       ".dataframe > tbody > tr {\n",
       "  text-align: right;\n",
       "  white-space: pre-wrap;\n",
       "}\n",
       "</style>\n",
       "<small>shape: (617_520, 639)</small><table border=\"1\" class=\"dataframe\"><thead><tr><th>TRIAL</th><th>TIME</th><th>first_Electric Potential.1</th><th>last_Electric Potential.1</th><th>max_Electric Potential.1</th><th>min_Electric Potential.1</th><th>mean_Electric Potential.1</th><th>std_Electric Potential.1</th><th>first_D1_Global Angle.x</th><th>last_D1_Global Angle.x</th><th>max_D1_Global Angle.x</th><th>min_D1_Global Angle.x</th><th>mean_D1_Global Angle.x</th><th>std_D1_Global Angle.x</th><th>first_D1_Global Angle.y</th><th>last_D1_Global Angle.y</th><th>max_D1_Global Angle.y</th><th>min_D1_Global Angle.y</th><th>mean_D1_Global Angle.y</th><th>std_D1_Global Angle.y</th><th>first_D1_Global Angle.z</th><th>last_D1_Global Angle.z</th><th>max_D1_Global Angle.z</th><th>min_D1_Global Angle.z</th><th>mean_D1_Global Angle.z</th><th>std_D1_Global Angle.z</th><th>first_D1_HighG.x</th><th>last_D1_HighG.x</th><th>max_D1_HighG.x</th><th>min_D1_HighG.x</th><th>mean_D1_HighG.x</th><th>std_D1_HighG.x</th><th>first_D1_HighG.y</th><th>last_D1_HighG.y</th><th>max_D1_HighG.y</th><th>min_D1_HighG.y</th><th>mean_D1_HighG.y</th><th>&hellip;</th><th>first_D7_gyro.x</th><th>last_D7_gyro.x</th><th>max_D7_gyro.x</th><th>min_D7_gyro.x</th><th>mean_D7_gyro.x</th><th>std_D7_gyro.x</th><th>first_D7_gyro.y</th><th>last_D7_gyro.y</th><th>max_D7_gyro.y</th><th>min_D7_gyro.y</th><th>mean_D7_gyro.y</th><th>std_D7_gyro.y</th><th>first_D7_gyro.z</th><th>last_D7_gyro.z</th><th>max_D7_gyro.z</th><th>min_D7_gyro.z</th><th>mean_D7_gyro.z</th><th>std_D7_gyro.z</th><th>first_D7_mag.x</th><th>last_D7_mag.x</th><th>max_D7_mag.x</th><th>min_D7_mag.x</th><th>mean_D7_mag.x</th><th>std_D7_mag.x</th><th>first_D7_mag.y</th><th>last_D7_mag.y</th><th>max_D7_mag.y</th><th>min_D7_mag.y</th><th>mean_D7_mag.y</th><th>std_D7_mag.y</th><th>first_D7_mag.z</th><th>last_D7_mag.z</th><th>max_D7_mag.z</th><th>min_D7_mag.z</th><th>mean_D7_mag.z</th><th>std_D7_mag.z</th><th>ACTIVITY</th></tr><tr><td>i64</td><td>i64</td><td>f64</td><td>f64</td><td>f64</td><td>f64</td><td>f64</td><td>f64</td><td>f64</td><td>f64</td><td>f64</td><td>f64</td><td>f64</td><td>f64</td><td>f64</td><td>f64</td><td>f64</td><td>f64</td><td>f64</td><td>f64</td><td>f64</td><td>f64</td><td>f64</td><td>f64</td><td>f64</td><td>f64</td><td>f64</td><td>f64</td><td>f64</td><td>f64</td><td>f64</td><td>f64</td><td>f64</td><td>f64</td><td>f64</td><td>f64</td><td>f64</td><td>&hellip;</td><td>f64</td><td>f64</td><td>f64</td><td>f64</td><td>f64</td><td>f64</td><td>f64</td><td>f64</td><td>f64</td><td>f64</td><td>f64</td><td>f64</td><td>f64</td><td>f64</td><td>f64</td><td>f64</td><td>f64</td><td>f64</td><td>f64</td><td>f64</td><td>f64</td><td>f64</td><td>f64</td><td>f64</td><td>f64</td><td>f64</td><td>f64</td><td>f64</td><td>f64</td><td>f64</td><td>f64</td><td>f64</td><td>f64</td><td>f64</td><td>f64</td><td>f64</td><td>str</td></tr></thead><tbody><tr><td>0</td><td>299</td><td>3.131464</td><td>0.297907</td><td>3.785151</td><td>0.27746</td><td>2.581347</td><td>1.445571</td><td>2.257107</td><td>2.133543</td><td>2.257107</td><td>2.133543</td><td>2.186005</td><td>0.025971</td><td>0.021965</td><td>-0.530777</td><td>0.097351</td><td>-0.530777</td><td>-0.021068</td><td>0.160638</td><td>1.961349</td><td>2.23842</td><td>2.23842</td><td>1.873504</td><td>2.017557</td><td>0.135867</td><td>12.916076</td><td>13.346611</td><td>25.353779</td><td>11.95933</td><td>16.821993</td><td>3.303436</td><td>4.066172</td><td>1.937411</td><td>11.002583</td><td>-3.826985</td><td>1.741278</td><td>&hellip;</td><td>0.141645</td><td>0.276847</td><td>4.011855</td><td>-6.30054</td><td>-0.359595</td><td>2.039678</td><td>1.775887</td><td>-0.308317</td><td>1.775887</td><td>-1.49526</td><td>-0.183394</td><td>0.780013</td><td>-6.670628</td><td>1.059515</td><td>3.692355</td><td>-6.67116</td><td>-0.020432</td><td>3.480854</td><td>-0.000041</td><td>-0.000044</td><td>-0.000041</td><td>-0.000046</td><td>-0.000044</td><td>0.000001</td><td>-0.000028</td><td>-0.000021</td><td>-0.000007</td><td>-0.000028</td><td>-0.000015</td><td>0.000006</td><td>-0.000018</td><td>-0.000018</td><td>-0.000012</td><td>-0.000018</td><td>-0.000015</td><td>0.000002</td><td>&quot;walk&quot;</td></tr><tr><td>0</td><td>300</td><td>3.130854</td><td>0.290278</td><td>3.785151</td><td>0.27746</td><td>2.571877</td><td>1.45125</td><td>2.255623</td><td>2.133151</td><td>2.255623</td><td>2.133151</td><td>2.185592</td><td>0.025822</td><td>0.022602</td><td>-0.537833</td><td>0.097351</td><td>-0.537833</td><td>-0.022934</td><td>0.163365</td><td>1.959735</td><td>2.238629</td><td>2.238629</td><td>1.873504</td><td>2.018482</td><td>0.136425</td><td>12.868238</td><td>13.394449</td><td>25.353779</td><td>11.95933</td><td>16.823587</td><td>3.30166</td><td>3.994416</td><td>2.152679</td><td>11.002583</td><td>-3.826985</td><td>1.7349</td><td>&hellip;</td><td>0.233022</td><td>0.124072</td><td>4.011855</td><td>-6.30054</td><td>-0.359653</td><td>2.039663</td><td>1.775089</td><td>-0.305655</td><td>1.775089</td><td>-1.49526</td><td>-0.190332</td><td>0.77174</td><td>-6.670681</td><td>1.062337</td><td>3.692355</td><td>-6.67116</td><td>0.005344</td><td>3.460013</td><td>-0.000041</td><td>-0.000044</td><td>-0.000041</td><td>-0.000046</td><td>-0.000044</td><td>0.000001</td><td>-0.000028</td><td>-0.000021</td><td>-0.000007</td><td>-0.000028</td><td>-0.000015</td><td>0.000006</td><td>-0.000018</td><td>-0.000018</td><td>-0.000012</td><td>-0.000018</td><td>-0.000015</td><td>0.000002</td><td>&quot;walk&quot;</td></tr><tr><td>0</td><td>301</td><td>3.118952</td><td>0.283259</td><td>3.785151</td><td>0.27746</td><td>2.562385</td><td>1.456884</td><td>2.254139</td><td>2.132746</td><td>2.254139</td><td>2.132746</td><td>2.185183</td><td>0.025682</td><td>0.023239</td><td>-0.544891</td><td>0.097351</td><td>-0.544891</td><td>-0.024826</td><td>0.166098</td><td>1.958121</td><td>2.238827</td><td>2.238827</td><td>1.873504</td><td>2.019412</td><td>0.136974</td><td>12.820401</td><td>13.442286</td><td>25.353779</td><td>11.95933</td><td>16.825501</td><td>3.299525</td><td>3.92266</td><td>2.367947</td><td>11.002583</td><td>-3.826985</td><td>1.729478</td><td>&hellip;</td><td>0.324399</td><td>-0.028702</td><td>4.011855</td><td>-6.30054</td><td>-0.360526</td><td>2.039465</td><td>1.77429</td><td>-0.302992</td><td>1.77429</td><td>-1.49526</td><td>-0.197259</td><td>0.763321</td><td>-6.670734</td><td>1.06516</td><td>3.692355</td><td>-6.67116</td><td>0.031131</td><td>3.438854</td><td>-0.000041</td><td>-0.000044</td><td>-0.000041</td><td>-0.000046</td><td>-0.000044</td><td>0.000001</td><td>-0.000028</td><td>-0.000021</td><td>-0.000007</td><td>-0.000028</td><td>-0.000015</td><td>0.000006</td><td>-0.000018</td><td>-0.000018</td><td>-0.000012</td><td>-0.000018</td><td>-0.000015</td><td>0.000002</td><td>&quot;walk&quot;</td></tr><tr><td>0</td><td>302</td><td>3.168391</td><td>0.284785</td><td>3.785151</td><td>0.27746</td><td>2.552937</td><td>1.462441</td><td>2.252655</td><td>2.132331</td><td>2.252655</td><td>2.132331</td><td>2.184777</td><td>0.02555</td><td>0.023875</td><td>-0.551951</td><td>0.097351</td><td>-0.551951</td><td>-0.026743</td><td>0.168839</td><td>1.956507</td><td>2.239013</td><td>2.239013</td><td>1.873504</td><td>2.020348</td><td>0.137512</td><td>12.772564</td><td>13.490124</td><td>25.353779</td><td>11.95933</td><td>16.827733</td><td>3.297032</td><td>3.850904</td><td>2.583215</td><td>11.002583</td><td>-3.826985</td><td>1.725014</td><td>&hellip;</td><td>0.415776</td><td>-0.181476</td><td>4.011855</td><td>-6.30054</td><td>-0.362212</td><td>2.039106</td><td>1.773491</td><td>-0.30033</td><td>1.773491</td><td>-1.49526</td><td>-0.204175</td><td>0.754749</td><td>-6.670787</td><td>1.067982</td><td>3.692355</td><td>-6.67116</td><td>0.056926</td><td>3.417371</td><td>-0.000041</td><td>-0.000044</td><td>-0.000041</td><td>-0.000046</td><td>-0.000044</td><td>0.000001</td><td>-0.000027</td><td>-0.000021</td><td>-0.000007</td><td>-0.000027</td><td>-0.000015</td><td>0.000005</td><td>-0.000018</td><td>-0.000018</td><td>-0.000012</td><td>-0.000018</td><td>-0.000015</td><td>0.000002</td><td>&quot;walk&quot;</td></tr><tr><td>0</td><td>303</td><td>3.146418</td><td>0.290278</td><td>3.785151</td><td>0.27746</td><td>2.543344</td><td>1.46782</td><td>2.25117</td><td>2.131905</td><td>2.25117</td><td>2.131905</td><td>2.184374</td><td>0.025428</td><td>0.02451</td><td>-0.559013</td><td>0.097351</td><td>-0.559013</td><td>-0.028686</td><td>0.171586</td><td>1.954893</td><td>2.239187</td><td>2.239187</td><td>1.873504</td><td>2.02129</td><td>0.138041</td><td>12.724727</td><td>13.537961</td><td>25.353779</td><td>11.95933</td><td>16.830284</td><td>3.294179</td><td>3.779148</td><td>2.798483</td><td>11.002583</td><td>-3.826985</td><td>1.721506</td><td>&hellip;</td><td>0.507153</td><td>-0.33425</td><td>4.011855</td><td>-6.30054</td><td>-0.364712</td><td>2.038609</td><td>1.772692</td><td>-0.297668</td><td>1.772692</td><td>-1.49526</td><td>-0.211079</td><td>0.74602</td><td>-6.67084</td><td>1.070804</td><td>3.692355</td><td>-6.67116</td><td>0.082732</td><td>3.395559</td><td>-0.000041</td><td>-0.000044</td><td>-0.000041</td><td>-0.000046</td><td>-0.000044</td><td>0.000001</td><td>-0.000027</td><td>-0.000021</td><td>-0.000007</td><td>-0.000027</td><td>-0.000015</td><td>0.000005</td><td>-0.000018</td><td>-0.000018</td><td>-0.000012</td><td>-0.000018</td><td>-0.000015</td><td>0.000002</td><td>&quot;walk&quot;</td></tr><tr><td>&hellip;</td><td>&hellip;</td><td>&hellip;</td><td>&hellip;</td><td>&hellip;</td><td>&hellip;</td><td>&hellip;</td><td>&hellip;</td><td>&hellip;</td><td>&hellip;</td><td>&hellip;</td><td>&hellip;</td><td>&hellip;</td><td>&hellip;</td><td>&hellip;</td><td>&hellip;</td><td>&hellip;</td><td>&hellip;</td><td>&hellip;</td><td>&hellip;</td><td>&hellip;</td><td>&hellip;</td><td>&hellip;</td><td>&hellip;</td><td>&hellip;</td><td>&hellip;</td><td>&hellip;</td><td>&hellip;</td><td>&hellip;</td><td>&hellip;</td><td>&hellip;</td><td>&hellip;</td><td>&hellip;</td><td>&hellip;</td><td>&hellip;</td><td>&hellip;</td><td>&hellip;</td><td>&hellip;</td><td>&hellip;</td><td>&hellip;</td><td>&hellip;</td><td>&hellip;</td><td>&hellip;</td><td>&hellip;</td><td>&hellip;</td><td>&hellip;</td><td>&hellip;</td><td>&hellip;</td><td>&hellip;</td><td>&hellip;</td><td>&hellip;</td><td>&hellip;</td><td>&hellip;</td><td>&hellip;</td><td>&hellip;</td><td>&hellip;</td><td>&hellip;</td><td>&hellip;</td><td>&hellip;</td><td>&hellip;</td><td>&hellip;</td><td>&hellip;</td><td>&hellip;</td><td>&hellip;</td><td>&hellip;</td><td>&hellip;</td><td>&hellip;</td><td>&hellip;</td><td>&hellip;</td><td>&hellip;</td><td>&hellip;</td><td>&hellip;</td><td>&hellip;</td><td>&hellip;</td><td>&hellip;</td></tr><tr><td>24</td><td>19995</td><td>2.775934</td><td>3.378046</td><td>3.657587</td><td>2.748469</td><td>3.367943</td><td>0.215757</td><td>-2.362932</td><td>-2.639098</td><td>-2.362932</td><td>-2.72281</td><td>-2.602539</td><td>0.108154</td><td>0.085878</td><td>-0.30227</td><td>0.085878</td><td>-0.319214</td><td>-0.20852</td><td>0.122191</td><td>-1.955922</td><td>-2.142515</td><td>-1.955922</td><td>-2.142515</td><td>-2.046948</td><td>0.060597</td><td>11.002583</td><td>19.6133</td><td>19.6133</td><td>9.08909</td><td>13.663932</td><td>2.124766</td><td>4.424952</td><td>-1.913493</td><td>7.653971</td><td>-7.175598</td><td>0.579629</td><td>&hellip;</td><td>-1.790425</td><td>-8.612655</td><td>6.52845</td><td>-8.612655</td><td>-0.750497</td><td>1.775381</td><td>-0.071142</td><td>0.71781</td><td>2.895735</td><td>-1.779615</td><td>0.747612</td><td>1.203142</td><td>-4.22331</td><td>2.733855</td><td>3.455925</td><td>-6.88416</td><td>-3.400043</td><td>3.641736</td><td>-0.00002</td><td>-0.000042</td><td>-0.00002</td><td>-0.000044</td><td>-0.000036</td><td>0.000008</td><td>-0.000043</td><td>-0.000017</td><td>-0.000011</td><td>-0.000043</td><td>-0.000026</td><td>0.000011</td><td>-0.000013</td><td>-0.000012</td><td>-0.000011</td><td>-0.000018</td><td>-0.000015</td><td>0.000002</td><td>&quot;walk&quot;</td></tr><tr><td>24</td><td>19996</td><td>2.788447</td><td>3.365534</td><td>3.657587</td><td>2.748469</td><td>3.369908</td><td>0.213014</td><td>-2.365109</td><td>-2.750089</td><td>-2.365109</td><td>-2.750089</td><td>-2.60383</td><td>0.107594</td><td>0.082788</td><td>-0.314983</td><td>0.082788</td><td>-0.319214</td><td>-0.209856</td><td>0.121148</td><td>-1.956745</td><td>-2.232622</td><td>-1.956745</td><td>-2.232622</td><td>-2.047871</td><td>0.061308</td><td>11.002583</td><td>18.632635</td><td>19.6133</td><td>9.08909</td><td>13.689366</td><td>2.138425</td><td>4.544545</td><td>-1.817818</td><td>7.653971</td><td>-7.175598</td><td>0.55882</td><td>&hellip;</td><td>-1.778869</td><td>-8.182022</td><td>6.52845</td><td>-8.612655</td><td>-0.771802</td><td>1.825545</td><td>-0.061344</td><td>0.681919</td><td>2.895735</td><td>-1.779615</td><td>0.750122</td><td>1.202213</td><td>-4.254781</td><td>2.597162</td><td>3.455925</td><td>-6.88416</td><td>-3.377308</td><td>3.657833</td><td>-0.00002</td><td>-0.00004</td><td>-0.00002</td><td>-0.000044</td><td>-0.000036</td><td>0.000008</td><td>-0.000042</td><td>-0.000016</td><td>-0.000011</td><td>-0.000042</td><td>-0.000026</td><td>0.000011</td><td>-0.000013</td><td>-0.000012</td><td>-0.000011</td><td>-0.000018</td><td>-0.000015</td><td>0.000002</td><td>&quot;walk&quot;</td></tr><tr><td>24</td><td>19997</td><td>2.77685</td><td>3.373469</td><td>3.657587</td><td>2.748469</td><td>3.371858</td><td>0.210334</td><td>-2.367287</td><td>-2.861077</td><td>-2.367287</td><td>-2.861077</td><td>-2.605483</td><td>0.107724</td><td>0.079694</td><td>-0.327695</td><td>0.079694</td><td>-0.327695</td><td>-0.211224</td><td>0.120146</td><td>-1.957568</td><td>-2.322726</td><td>-1.957568</td><td>-2.322726</td><td>-2.049091</td><td>0.063104</td><td>11.002583</td><td>17.65197</td><td>19.6133</td><td>9.08909</td><td>13.711531</td><td>2.144934</td><td>4.664138</td><td>-1.722143</td><td>7.653971</td><td>-7.175598</td><td>0.537931</td><td>&hellip;</td><td>-1.767314</td><td>-7.751389</td><td>6.52845</td><td>-8.612655</td><td>-0.79171</td><td>1.868622</td><td>-0.051546</td><td>0.646029</td><td>2.895735</td><td>-1.779615</td><td>0.75248</td><td>1.20131</td><td>-4.286252</td><td>2.460469</td><td>3.455925</td><td>-6.88416</td><td>-3.354923</td><td>3.672961</td><td>-0.00002</td><td>-0.000038</td><td>-0.00002</td><td>-0.000044</td><td>-0.000036</td><td>0.000008</td><td>-0.000042</td><td>-0.000015</td><td>-0.000011</td><td>-0.000042</td><td>-0.000026</td><td>0.000011</td><td>-0.000013</td><td>-0.000011</td><td>-0.000011</td><td>-0.000018</td><td>-0.000015</td><td>0.000002</td><td>&quot;walk&quot;</td></tr><tr><td>24</td><td>19998</td><td>2.748469</td><td>3.359736</td><td>3.657587</td><td>2.748469</td><td>3.373801</td><td>0.207492</td><td>-2.369461</td><td>-2.972065</td><td>-2.369461</td><td>-2.972065</td><td>-2.607499</td><td>0.108904</td><td>0.076595</td><td>-0.340407</td><td>0.076595</td><td>-0.340407</td><td>-0.212625</td><td>0.119188</td><td>-1.958386</td><td>-2.41283</td><td>-1.958386</td><td>-2.41283</td><td>-2.050608</td><td>0.066289</td><td>11.002583</td><td>16.671305</td><td>19.6133</td><td>9.08909</td><td>13.730426</td><td>2.145959</td><td>4.783731</td><td>-1.626469</td><td>7.653971</td><td>-7.175598</td><td>0.516962</td><td>&hellip;</td><td>-1.755759</td><td>-7.320756</td><td>6.52845</td><td>-8.612655</td><td>-0.810222</td><td>1.905464</td><td>-0.041748</td><td>0.610138</td><td>2.895735</td><td>-1.779615</td><td>0.754686</td><td>1.200436</td><td>-4.317723</td><td>2.323777</td><td>3.455925</td><td>-6.88416</td><td>-3.33289</td><td>3.687155</td><td>-0.00002</td><td>-0.000036</td><td>-0.00002</td><td>-0.000044</td><td>-0.000036</td><td>0.000008</td><td>-0.000042</td><td>-0.000015</td><td>-0.000011</td><td>-0.000042</td><td>-0.000026</td><td>0.000011</td><td>-0.000014</td><td>-0.00001</td><td>-0.00001</td><td>-0.000018</td><td>-0.000015</td><td>0.000002</td><td>&quot;walk&quot;</td></tr><tr><td>24</td><td>19999</td><td>2.801874</td><td>3.363703</td><td>3.657587</td><td>2.800654</td><td>3.375852</td><td>0.204307</td><td>-2.371634</td><td>1.775825</td><td>1.775825</td><td>-2.972065</td><td>-2.593681</td><td>0.275206</td><td>0.073492</td><td>0.203395</td><td>0.203395</td><td>-0.340407</td><td>-0.212202</td><td>0.120436</td><td>-1.959202</td><td>1.441679</td><td>1.441679</td><td>-2.41283</td><td>-2.039275</td><td>0.212194</td><td>11.002583</td><td>15.69064</td><td>19.6133</td><td>9.08909</td><td>13.746053</td><td>2.143095</td><td>4.903325</td><td>-1.530794</td><td>7.653971</td><td>-7.175598</td><td>0.495914</td><td>&hellip;</td><td>-1.744204</td><td>-6.890124</td><td>6.52845</td><td>-8.612655</td><td>-0.827336</td><td>1.936785</td><td>-0.03195</td><td>0.574248</td><td>2.895735</td><td>-1.779615</td><td>0.756739</td><td>1.199595</td><td>-4.349194</td><td>2.187084</td><td>3.455925</td><td>-6.88416</td><td>-3.311207</td><td>3.700446</td><td>-0.00002</td><td>-0.000033</td><td>-0.00002</td><td>-0.000044</td><td>-0.000036</td><td>0.000008</td><td>-0.000042</td><td>-0.000014</td><td>-0.000011</td><td>-0.000042</td><td>-0.000025</td><td>0.000011</td><td>-0.000014</td><td>-0.00001</td><td>-0.00001</td><td>-0.000018</td><td>-0.000015</td><td>0.000002</td><td>&quot;walk&quot;</td></tr></tbody></table></div>"
      ],
      "text/plain": [
       "shape: (617_520, 639)\n",
       "┌───────┬───────┬─────────────┬─────────────┬───┬─────────────┬────────────┬────────────┬──────────┐\n",
       "│ TRIAL ┆ TIME  ┆ first_Elect ┆ last_Electr ┆ … ┆ min_D7_mag. ┆ mean_D7_ma ┆ std_D7_mag ┆ ACTIVITY │\n",
       "│ ---   ┆ ---   ┆ ric         ┆ ic          ┆   ┆ z           ┆ g.z        ┆ .z         ┆ ---      │\n",
       "│ i64   ┆ i64   ┆ Potential.1 ┆ Potential.1 ┆   ┆ ---         ┆ ---        ┆ ---        ┆ str      │\n",
       "│       ┆       ┆ ---         ┆ ---         ┆   ┆ f64         ┆ f64        ┆ f64        ┆          │\n",
       "│       ┆       ┆ f64         ┆ f64         ┆   ┆             ┆            ┆            ┆          │\n",
       "╞═══════╪═══════╪═════════════╪═════════════╪═══╪═════════════╪════════════╪════════════╪══════════╡\n",
       "│ 0     ┆ 299   ┆ 3.131464    ┆ 0.297907    ┆ … ┆ -0.000018   ┆ -0.000015  ┆ 0.000002   ┆ walk     │\n",
       "│ 0     ┆ 300   ┆ 3.130854    ┆ 0.290278    ┆ … ┆ -0.000018   ┆ -0.000015  ┆ 0.000002   ┆ walk     │\n",
       "│ 0     ┆ 301   ┆ 3.118952    ┆ 0.283259    ┆ … ┆ -0.000018   ┆ -0.000015  ┆ 0.000002   ┆ walk     │\n",
       "│ 0     ┆ 302   ┆ 3.168391    ┆ 0.284785    ┆ … ┆ -0.000018   ┆ -0.000015  ┆ 0.000002   ┆ walk     │\n",
       "│ 0     ┆ 303   ┆ 3.146418    ┆ 0.290278    ┆ … ┆ -0.000018   ┆ -0.000015  ┆ 0.000002   ┆ walk     │\n",
       "│ …     ┆ …     ┆ …           ┆ …           ┆ … ┆ …           ┆ …          ┆ …          ┆ …        │\n",
       "│ 24    ┆ 19995 ┆ 2.775934    ┆ 3.378046    ┆ … ┆ -0.000018   ┆ -0.000015  ┆ 0.000002   ┆ walk     │\n",
       "│ 24    ┆ 19996 ┆ 2.788447    ┆ 3.365534    ┆ … ┆ -0.000018   ┆ -0.000015  ┆ 0.000002   ┆ walk     │\n",
       "│ 24    ┆ 19997 ┆ 2.77685     ┆ 3.373469    ┆ … ┆ -0.000018   ┆ -0.000015  ┆ 0.000002   ┆ walk     │\n",
       "│ 24    ┆ 19998 ┆ 2.748469    ┆ 3.359736    ┆ … ┆ -0.000018   ┆ -0.000015  ┆ 0.000002   ┆ walk     │\n",
       "│ 24    ┆ 19999 ┆ 2.801874    ┆ 3.363703    ┆ … ┆ -0.000018   ┆ -0.000015  ┆ 0.000002   ┆ walk     │\n",
       "└───────┴───────┴─────────────┴─────────────┴───┴─────────────┴────────────┴────────────┴──────────┘"
      ]
     },
     "execution_count": 57,
     "metadata": {},
     "output_type": "execute_result"
    }
   ],
   "source": [
    "rdf"
   ]
  },
  {
   "cell_type": "code",
   "execution_count": null,
   "metadata": {},
   "outputs": [
    {
     "data": {
      "text/plain": [
       "7475"
      ]
     },
     "execution_count": 46,
     "metadata": {},
     "output_type": "execute_result"
    }
   ],
   "source": [
    "(624995-617520)"
   ]
  },
  {
   "cell_type": "code",
   "execution_count": null,
   "metadata": {},
   "outputs": [],
   "source": [
    "shape: (625_852, 639)"
   ]
  },
  {
   "cell_type": "code",
   "execution_count": null,
   "metadata": {},
   "outputs": [
    {
     "data": {
      "text/plain": [
       "7475"
      ]
     },
     "execution_count": 48,
     "metadata": {},
     "output_type": "execute_result"
    }
   ],
   "source": [
    "299*25"
   ]
  },
  {
   "cell_type": "code",
   "execution_count": null,
   "metadata": {},
   "outputs": [],
   "source": [
    "# null rows in trial 0\n",
    "474"
   ]
  },
  {
   "cell_type": "code",
   "execution_count": null,
   "metadata": {},
   "outputs": [
    {
     "ename": "ColumnNotFoundError",
     "evalue": "mean_a",
     "output_type": "error",
     "traceback": [
      "\u001b[0;31m---------------------------------------------------------------------------\u001b[0m",
      "\u001b[0;31mColumnNotFoundError\u001b[0m                       Traceback (most recent call last)",
      "\u001b[0;32m/var/folders/xl/g4455wnj0w5f31hprr7rvdwm0000gp/T/ipykernel_63912/3823662388.py\u001b[0m in \u001b[0;36m?\u001b[0;34m()\u001b[0m\n\u001b[0;32m----> 1\u001b[0;31m \u001b[0mrdf\u001b[0m\u001b[0;34m[\u001b[0m\u001b[0;34m'mean_a'\u001b[0m\u001b[0;34m]\u001b[0m\u001b[0;34m.\u001b[0m\u001b[0mis_null\u001b[0m\u001b[0;34m(\u001b[0m\u001b[0;34m)\u001b[0m\u001b[0;34m.\u001b[0m\u001b[0msum\u001b[0m\u001b[0;34m(\u001b[0m\u001b[0;34m)\u001b[0m\u001b[0;34m\u001b[0m\u001b[0;34m\u001b[0m\u001b[0m\n\u001b[0m",
      "\u001b[0;32m~/micromamba/envs/LISA/lib/python3.10/site-packages/polars/dataframe/frame.py\u001b[0m in \u001b[0;36m?\u001b[0;34m(self, key)\u001b[0m\n\u001b[1;32m   1179\u001b[0m             \u001b[0;34m|\u001b[0m \u001b[0mtuple\u001b[0m\u001b[0;34m[\u001b[0m\u001b[0mMultiIndexSelector\u001b[0m\u001b[0;34m,\u001b[0m \u001b[0mMultiColSelector\u001b[0m\u001b[0;34m]\u001b[0m\u001b[0;34m\u001b[0m\u001b[0;34m\u001b[0m\u001b[0m\n\u001b[1;32m   1180\u001b[0m         ),\n\u001b[1;32m   1181\u001b[0m     ) -> DataFrame | Series | Any:\n\u001b[1;32m   1182\u001b[0m         \u001b[0;34m\"\"\"Get part of the DataFrame as a new DataFrame, Series, or scalar.\"\"\"\u001b[0m\u001b[0;34m\u001b[0m\u001b[0;34m\u001b[0m\u001b[0m\n\u001b[0;32m-> 1183\u001b[0;31m         \u001b[0;32mreturn\u001b[0m \u001b[0mget_df_item_by_key\u001b[0m\u001b[0;34m(\u001b[0m\u001b[0mself\u001b[0m\u001b[0;34m,\u001b[0m \u001b[0mkey\u001b[0m\u001b[0;34m)\u001b[0m\u001b[0;34m\u001b[0m\u001b[0;34m\u001b[0m\u001b[0m\n\u001b[0m",
      "\u001b[0;32m~/micromamba/envs/LISA/lib/python3.10/site-packages/polars/_utils/getitem.py\u001b[0m in \u001b[0;36m?\u001b[0;34m(df, key)\u001b[0m\n\u001b[1;32m    156\u001b[0m     \u001b[0;31m# Single string input, e.g. df[\"a\"]\u001b[0m\u001b[0;34m\u001b[0m\u001b[0;34m\u001b[0m\u001b[0m\n\u001b[1;32m    157\u001b[0m     \u001b[0;32mif\u001b[0m \u001b[0misinstance\u001b[0m\u001b[0;34m(\u001b[0m\u001b[0mkey\u001b[0m\u001b[0;34m,\u001b[0m \u001b[0mstr\u001b[0m\u001b[0;34m)\u001b[0m\u001b[0;34m:\u001b[0m\u001b[0;34m\u001b[0m\u001b[0;34m\u001b[0m\u001b[0m\n\u001b[1;32m    158\u001b[0m         \u001b[0;31m# This case is required because empty strings are otherwise treated\u001b[0m\u001b[0;34m\u001b[0m\u001b[0;34m\u001b[0m\u001b[0m\n\u001b[1;32m    159\u001b[0m         \u001b[0;31m# as an empty Sequence in `_select_rows`\u001b[0m\u001b[0;34m\u001b[0m\u001b[0;34m\u001b[0m\u001b[0m\n\u001b[0;32m--> 160\u001b[0;31m         \u001b[0;32mreturn\u001b[0m \u001b[0mdf\u001b[0m\u001b[0;34m.\u001b[0m\u001b[0mget_column\u001b[0m\u001b[0;34m(\u001b[0m\u001b[0mkey\u001b[0m\u001b[0;34m)\u001b[0m\u001b[0;34m\u001b[0m\u001b[0;34m\u001b[0m\u001b[0m\n\u001b[0m\u001b[1;32m    161\u001b[0m \u001b[0;34m\u001b[0m\u001b[0m\n\u001b[1;32m    162\u001b[0m     \u001b[0;31m# Single input - df[1] - or multiple inputs - df[\"a\", \"b\", \"c\"]\u001b[0m\u001b[0;34m\u001b[0m\u001b[0;34m\u001b[0m\u001b[0m\n\u001b[1;32m    163\u001b[0m     \u001b[0;32mtry\u001b[0m\u001b[0;34m:\u001b[0m\u001b[0;34m\u001b[0m\u001b[0;34m\u001b[0m\u001b[0m\n",
      "\u001b[0;32m~/micromamba/envs/LISA/lib/python3.10/site-packages/polars/dataframe/frame.py\u001b[0m in \u001b[0;36m?\u001b[0;34m(self, name, default)\u001b[0m\n\u001b[1;32m   7502\u001b[0m         \u001b[0;32mtry\u001b[0m\u001b[0;34m:\u001b[0m\u001b[0;34m\u001b[0m\u001b[0;34m\u001b[0m\u001b[0m\n\u001b[1;32m   7503\u001b[0m             \u001b[0;32mreturn\u001b[0m \u001b[0mwrap_s\u001b[0m\u001b[0;34m(\u001b[0m\u001b[0mself\u001b[0m\u001b[0;34m.\u001b[0m\u001b[0m_df\u001b[0m\u001b[0;34m.\u001b[0m\u001b[0mget_column\u001b[0m\u001b[0;34m(\u001b[0m\u001b[0mname\u001b[0m\u001b[0;34m)\u001b[0m\u001b[0;34m)\u001b[0m\u001b[0;34m\u001b[0m\u001b[0;34m\u001b[0m\u001b[0m\n\u001b[1;32m   7504\u001b[0m         \u001b[0;32mexcept\u001b[0m \u001b[0mColumnNotFoundError\u001b[0m\u001b[0;34m:\u001b[0m\u001b[0;34m\u001b[0m\u001b[0;34m\u001b[0m\u001b[0m\n\u001b[1;32m   7505\u001b[0m             \u001b[0;32mif\u001b[0m \u001b[0mdefault\u001b[0m \u001b[0;32mis\u001b[0m \u001b[0mno_default\u001b[0m\u001b[0;34m:\u001b[0m\u001b[0;34m\u001b[0m\u001b[0;34m\u001b[0m\u001b[0m\n\u001b[0;32m-> 7506\u001b[0;31m                 \u001b[0;32mraise\u001b[0m\u001b[0;34m\u001b[0m\u001b[0;34m\u001b[0m\u001b[0m\n\u001b[0m\u001b[1;32m   7507\u001b[0m             \u001b[0;32mreturn\u001b[0m \u001b[0mdefault\u001b[0m\u001b[0;34m\u001b[0m\u001b[0;34m\u001b[0m\u001b[0m\n",
      "\u001b[0;31mColumnNotFoundError\u001b[0m: mean_a"
     ]
    }
   ],
   "source": [
    "rdf['mean_a'].is_null().sum()"
   ]
  },
  {
   "cell_type": "code",
   "execution_count": null,
   "metadata": {},
   "outputs": [
    {
     "data": {
      "text/plain": [
       "24999.8"
      ]
     },
     "execution_count": 27,
     "metadata": {},
     "output_type": "execute_result"
    }
   ],
   "source": [
    "rdf.shape[0] /(rdf.shape[0] - rdf['mean_a'].is_null().sum())"
   ]
  }
 ],
 "metadata": {
  "kernelspec": {
   "display_name": "Python 3",
   "language": "python",
   "name": "python3"
  },
  "language_info": {
   "codemirror_mode": {
    "name": "ipython",
    "version": 3
   },
   "file_extension": ".py",
   "mimetype": "text/x-python",
   "name": "python",
   "nbconvert_exporter": "python",
   "pygments_lexer": "ipython3",
   "version": "3.10.14"
  }
 },
 "nbformat": 4,
 "nbformat_minor": 2
}
